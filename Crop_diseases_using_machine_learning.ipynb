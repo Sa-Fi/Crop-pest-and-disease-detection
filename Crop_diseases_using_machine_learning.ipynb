{
  "nbformat": 4,
  "nbformat_minor": 0,
  "metadata": {
    "colab": {
      "provenance": [],
      "gpuType": "T4",
      "machine_shape": "hm",
      "include_colab_link": true
    },
    "kernelspec": {
      "name": "python3",
      "display_name": "Python 3"
    },
    "language_info": {
      "name": "python"
    },
    "accelerator": "GPU"
  },
  "cells": [
    {
      "cell_type": "markdown",
      "metadata": {
        "id": "view-in-github",
        "colab_type": "text"
      },
      "source": [
        "<a href=\"https://colab.research.google.com/github/Sa-Fi/Crop-pest-and-disease-detection/blob/main/Crop_diseases_using_machine_learning.ipynb\" target=\"_parent\"><img src=\"https://colab.research.google.com/assets/colab-badge.svg\" alt=\"Open In Colab\"/></a>"
      ]
    },
    {
      "cell_type": "code",
      "execution_count": null,
      "metadata": {
        "colab": {
          "base_uri": "https://localhost:8080/"
        },
        "id": "lRqoChQZaAJ4",
        "outputId": "8d139fa6-87bf-4bcc-d7bc-e3635b77be20"
      },
      "outputs": [
        {
          "output_type": "stream",
          "name": "stdout",
          "text": [
            "Warning: Your Kaggle API key is readable by other users on this system! To fix this, you can run 'chmod 600 /root/.kaggle/kaggle.json'\n",
            "Downloading leaf-disease.zip to /content\n",
            "100% 2.01G/2.01G [01:23<00:00, 27.7MB/s]\n",
            "100% 2.01G/2.01G [01:23<00:00, 25.8MB/s]\n"
          ]
        }
      ],
      "source": [
        "#upload the kaggle json\n",
        "!mkdir -p ~/.kaggle\n",
        "!cp kaggle.json ~/.kaggle/\n",
        "!kaggle datasets download -d safiullah007/leaf-disease\n",
        "\n"
      ]
    },
    {
      "cell_type": "code",
      "source": [
        "# unzip the file\n",
        "import zipfile\n",
        "zip_ref = zipfile.ZipFile('/content/leaf-disease.zip', 'r')\n",
        "zip_ref.extractall('/content')\n",
        "zip_ref.close()"
      ],
      "metadata": {
        "id": "FhjeyIcMbiq2"
      },
      "execution_count": null,
      "outputs": []
    },
    {
      "cell_type": "code",
      "source": [
        "import keras\n",
        "from keras.models import Sequential\n",
        "from keras.layers import Conv2D,Flatten,Dense,MaxPooling2D,Dropout\n",
        "from sklearn.metrics import accuracy_score\n",
        "import ipywidgets as widgets\n",
        "import io\n",
        "from PIL import Image\n",
        "from tqdm import tqdm\n",
        "from sklearn.model_selection import train_test_split\n",
        "import cv2\n",
        "from sklearn.utils import shuffle\n",
        "import tensorflow as tf\n",
        "import os\n",
        "import numpy as np\n",
        "from sklearn.preprocessing import LabelEncoder\n",
        "from google.colab.patches import cv2_imshow\n",
        "import matplotlib.pyplot as plt\n",
        "from tensorflow.keras.models import Model\n",
        "from tensorflow.keras.utils import to_categorical\n",
        "from tensorflow.keras import layers, models\n",
        "import seaborn as sns\n",
        "from sklearn.metrics import accuracy_score, precision_score, recall_score, f1_score\n",
        "from sklearn.metrics import confusion_matrix"
      ],
      "metadata": {
        "id": "v3-HBdBMbnon"
      },
      "execution_count": 2,
      "outputs": []
    },
    {
      "cell_type": "code",
      "source": [
        "from google.colab import drive\n",
        "drive.mount('/content/drive')"
      ],
      "metadata": {
        "colab": {
          "base_uri": "https://localhost:8080/"
        },
        "id": "a3c8tsVKFcFR",
        "outputId": "31429236-e142-448c-e3b4-9c1fee4ced11"
      },
      "execution_count": 1,
      "outputs": [
        {
          "output_type": "stream",
          "name": "stdout",
          "text": [
            "Mounted at /content/drive\n"
          ]
        }
      ]
    },
    {
      "cell_type": "code",
      "source": [
        "# Define classes and subclasses\n",
        "classes = ['Cashew', 'Cassava', 'Maize', 'Tomato']\n",
        "subclasses = {\n",
        "    'Cashew': ['anthracnose', 'gumosis', 'healthy', 'leaf miner', 'red rust'],\n",
        "    'Cassava': ['bacterial blight', 'brown spot', 'green mite', 'healthy', 'mosaic'],\n",
        "    'Maize': ['fall armyworm', 'grasshoper', 'healthy', 'leaf beetle', 'leaf blight', 'leaf spot', 'streak virus'],\n",
        "    'Tomato': ['healthy', 'leaf blight', 'leaf curl', 'septoria leaf spot', 'verticulium wilt']\n",
        "}\n",
        "\n",
        "data = []  # To store images as arrays\n",
        "labels = []  # To store labels\n",
        "progress_bar = tqdm(total=len(classes) * len(subclasses))\n",
        "main_folder = '/content/CCMT Dataset/CCMT Dataset'\n",
        "\n",
        "# Read images and assign labels\n",
        "for class_name in classes:\n",
        "    for subclass_name in subclasses[class_name]:\n",
        "        folder_path = os.path.join(main_folder, class_name, subclass_name)\n",
        "        for filename in os.listdir(folder_path):\n",
        "           # if filename.endswith('.jpg') or filename.endswith('.png'):\n",
        "                image_path = os.path.join(folder_path, filename)\n",
        "                # image = Image.open(image_path)\n",
        "                image = cv2.imread(image_path)\n",
        "                if image is not None:\n",
        "                  image = cv2.resize(image,(150,150))\n",
        "                  image_array = np.array(image)\n",
        "                  # image_array = normalize_image(image)\n",
        "                  data.append(image_array)\n",
        "                  labels.append(class_name + '_' + subclass_name)\n",
        "                  progress_bar.update(1)\n",
        "                else:\n",
        "                  print(f\"Skipping file: {image_path}\")\n",
        "progress_bar.close()\n",
        "\n",
        "# Convert 'data' and 'labels' lists to NumPy arrays\n",
        "data = np.array(data)\n",
        "labels = np.array(labels)\n"
      ],
      "metadata": {
        "colab": {
          "base_uri": "https://localhost:8080/"
        },
        "id": "pGs0ZdUYbqpB",
        "outputId": "629d97b3-22d2-4d27-c1e7-9da64e296212"
      },
      "execution_count": null,
      "outputs": [
        {
          "output_type": "stream",
          "name": "stderr",
          "text": [
            "15075it [00:52, 321.82it/s]"
          ]
        },
        {
          "output_type": "stream",
          "name": "stdout",
          "text": [
            "Skipping file: /content/CCMT Dataset/CCMT Dataset/Maize/healthy/healthy88_.jpg\n"
          ]
        },
        {
          "output_type": "stream",
          "name": "stderr",
          "text": [
            "15258it [00:52, 330.61it/s]"
          ]
        },
        {
          "output_type": "stream",
          "name": "stdout",
          "text": [
            "Skipping file: /content/CCMT Dataset/CCMT Dataset/Maize/healthy/healthy18_.jpg\n"
          ]
        },
        {
          "output_type": "stream",
          "name": "stderr",
          "text": [
            "15559it [00:53, 336.33it/s]"
          ]
        },
        {
          "output_type": "stream",
          "name": "stdout",
          "text": [
            "Skipping file: /content/CCMT Dataset/CCMT Dataset/Maize/leaf beetle/leaf beetle573_.jpg\n",
            "Skipping file: /content/CCMT Dataset/CCMT Dataset/Maize/leaf beetle/leaf beetle207_.jpg\n"
          ]
        },
        {
          "output_type": "stream",
          "name": "stderr",
          "text": [
            "15894it [00:54, 296.50it/s]"
          ]
        },
        {
          "output_type": "stream",
          "name": "stdout",
          "text": [
            "Skipping file: /content/CCMT Dataset/CCMT Dataset/Maize/leaf beetle/leaf beetle208_.jpg\n",
            "Skipping file: /content/CCMT Dataset/CCMT Dataset/Maize/leaf beetle/leaf beetle458_.jpg\n"
          ]
        },
        {
          "output_type": "stream",
          "name": "stderr",
          "text": [
            "16010it [00:55, 268.68it/s]"
          ]
        },
        {
          "output_type": "stream",
          "name": "stdout",
          "text": [
            "Skipping file: /content/CCMT Dataset/CCMT Dataset/Maize/leaf beetle/leaf beetle910_.jpg\n",
            "Skipping file: /content/CCMT Dataset/CCMT Dataset/Maize/leaf beetle/leaf beetle690_.jpg\n",
            "Skipping file: /content/CCMT Dataset/CCMT Dataset/Maize/leaf beetle/leaf beetle691_.jpg\n"
          ]
        },
        {
          "output_type": "stream",
          "name": "stderr",
          "text": [
            "16092it [00:55, 267.45it/s]"
          ]
        },
        {
          "output_type": "stream",
          "name": "stdout",
          "text": [
            "Skipping file: /content/CCMT Dataset/CCMT Dataset/Maize/leaf beetle/leaf beetle798_.jpg\n",
            "Skipping file: /content/CCMT Dataset/CCMT Dataset/Maize/leaf beetle/leaf beetle326_.jpg\n"
          ]
        },
        {
          "output_type": "stream",
          "name": "stderr",
          "text": [
            "16147it [00:55, 267.07it/s]"
          ]
        },
        {
          "output_type": "stream",
          "name": "stdout",
          "text": [
            "Skipping file: /content/CCMT Dataset/CCMT Dataset/Maize/leaf beetle/leaf beetle90_.jpg\n"
          ]
        },
        {
          "output_type": "stream",
          "name": "stderr",
          "text": [
            "16373it [00:56, 216.77it/s]"
          ]
        },
        {
          "output_type": "stream",
          "name": "stdout",
          "text": [
            "Skipping file: /content/CCMT Dataset/CCMT Dataset/Maize/leaf blight/leaf blight37_.jpg\n"
          ]
        },
        {
          "output_type": "stream",
          "name": "stderr",
          "text": [
            "16545it [00:57, 285.17it/s]"
          ]
        },
        {
          "output_type": "stream",
          "name": "stdout",
          "text": [
            "Skipping file: /content/CCMT Dataset/CCMT Dataset/Maize/leaf blight/leaf blight830_.jpg\n",
            "Skipping file: /content/CCMT Dataset/CCMT Dataset/Maize/leaf blight/leaf blight667_.jpg\n"
          ]
        },
        {
          "output_type": "stream",
          "name": "stderr",
          "text": [
            "16837it [00:58, 324.66it/s]"
          ]
        },
        {
          "output_type": "stream",
          "name": "stdout",
          "text": [
            "Skipping file: /content/CCMT Dataset/CCMT Dataset/Maize/leaf blight/leaf blight746_.jpg\n",
            "Skipping file: /content/CCMT Dataset/CCMT Dataset/Maize/leaf blight/leaf blight590_.jpg\n"
          ]
        },
        {
          "output_type": "stream",
          "name": "stderr",
          "text": [
            "16948it [00:58, 349.95it/s]"
          ]
        },
        {
          "output_type": "stream",
          "name": "stdout",
          "text": [
            "Skipping file: /content/CCMT Dataset/CCMT Dataset/Maize/leaf blight/leaf blight913_.jpg\n",
            "Skipping file: /content/CCMT Dataset/CCMT Dataset/Maize/leaf blight/leaf blight98_.jpg\n",
            "Skipping file: /content/CCMT Dataset/CCMT Dataset/Maize/leaf blight/leaf blight453_.jpg\n"
          ]
        },
        {
          "output_type": "stream",
          "name": "stderr",
          "text": [
            "17208it [00:59, 302.61it/s]"
          ]
        },
        {
          "output_type": "stream",
          "name": "stdout",
          "text": [
            "Skipping file: /content/CCMT Dataset/CCMT Dataset/Maize/leaf spot/leaf spot497_.jpg\n"
          ]
        },
        {
          "output_type": "stream",
          "name": "stderr",
          "text": [
            "17324it [01:00, 258.50it/s]"
          ]
        },
        {
          "output_type": "stream",
          "name": "stdout",
          "text": [
            "Skipping file: /content/CCMT Dataset/CCMT Dataset/Maize/leaf spot/leaf spot958_.jpg\n",
            "Skipping file: /content/CCMT Dataset/CCMT Dataset/Maize/leaf spot/leaf spot353_.jpg\n"
          ]
        },
        {
          "output_type": "stream",
          "name": "stderr",
          "text": [
            "17404it [01:00, 254.35it/s]"
          ]
        },
        {
          "output_type": "stream",
          "name": "stdout",
          "text": [
            "Skipping file: /content/CCMT Dataset/CCMT Dataset/Maize/leaf spot/leaf spot724_.jpg\n",
            "Skipping file: /content/CCMT Dataset/CCMT Dataset/Maize/leaf spot/leaf spot272_.jpg\n"
          ]
        },
        {
          "output_type": "stream",
          "name": "stderr",
          "text": [
            "17637it [01:01, 281.66it/s]"
          ]
        },
        {
          "output_type": "stream",
          "name": "stdout",
          "text": [
            "Skipping file: /content/CCMT Dataset/CCMT Dataset/Maize/leaf spot/leaf spot882_.jpg\n"
          ]
        },
        {
          "output_type": "stream",
          "name": "stderr",
          "text": [
            "17902it [01:01, 328.84it/s]"
          ]
        },
        {
          "output_type": "stream",
          "name": "stdout",
          "text": [
            "Skipping file: /content/CCMT Dataset/CCMT Dataset/Maize/leaf spot/leaf spot799_.jpg\n",
            "Skipping file: /content/CCMT Dataset/CCMT Dataset/Maize/leaf spot/leaf spot64_.jpg\n"
          ]
        },
        {
          "output_type": "stream",
          "name": "stderr",
          "text": [
            "18312it [01:03, 373.25it/s]"
          ]
        },
        {
          "output_type": "stream",
          "name": "stdout",
          "text": [
            "Skipping file: /content/CCMT Dataset/CCMT Dataset/Maize/leaf spot/leaf spot187_.jpg\n",
            "Skipping file: /content/CCMT Dataset/CCMT Dataset/Maize/leaf spot/leaf spot425_.jpg\n"
          ]
        },
        {
          "output_type": "stream",
          "name": "stderr",
          "text": [
            "18460it [01:03, 307.63it/s]"
          ]
        },
        {
          "output_type": "stream",
          "name": "stdout",
          "text": [
            "Skipping file: /content/CCMT Dataset/CCMT Dataset/Maize/streak virus/streak virus627_.jpg\n"
          ]
        },
        {
          "output_type": "stream",
          "name": "stderr",
          "text": [
            "18876it [01:05, 300.57it/s]"
          ]
        },
        {
          "output_type": "stream",
          "name": "stdout",
          "text": [
            "Skipping file: /content/CCMT Dataset/CCMT Dataset/Maize/streak virus/streak virus998_.jpg\n"
          ]
        },
        {
          "output_type": "stream",
          "name": "stderr",
          "text": [
            "19049it [01:05, 337.73it/s]"
          ]
        },
        {
          "output_type": "stream",
          "name": "stdout",
          "text": [
            "Skipping file: /content/CCMT Dataset/CCMT Dataset/Maize/streak virus/streak virus422_.jpg\n",
            "Skipping file: /content/CCMT Dataset/CCMT Dataset/Maize/streak virus/streak virus774_.jpg\n"
          ]
        },
        {
          "output_type": "stream",
          "name": "stderr",
          "text": [
            "19154it [01:05, 336.88it/s]"
          ]
        },
        {
          "output_type": "stream",
          "name": "stdout",
          "text": [
            "Skipping file: /content/CCMT Dataset/CCMT Dataset/Maize/streak virus/streak virus701_.jpg\n",
            "Skipping file: /content/CCMT Dataset/CCMT Dataset/Maize/streak virus/streak virus119_.jpg\n"
          ]
        },
        {
          "output_type": "stream",
          "name": "stderr",
          "text": [
            "19374it [01:06, 359.04it/s]"
          ]
        },
        {
          "output_type": "stream",
          "name": "stdout",
          "text": [
            "Skipping file: /content/CCMT Dataset/CCMT Dataset/Maize/streak virus/streak virus486_.jpg\n"
          ]
        },
        {
          "output_type": "stream",
          "name": "stderr",
          "text": [
            "19443it [01:06, 283.22it/s]"
          ]
        },
        {
          "output_type": "stream",
          "name": "stdout",
          "text": [
            "Skipping file: /content/CCMT Dataset/CCMT Dataset/Tomato/healthy/healthy443_.jpg\n"
          ]
        },
        {
          "output_type": "stream",
          "name": "stderr",
          "text": [
            "19617it [01:07, 220.37it/s]"
          ]
        },
        {
          "output_type": "stream",
          "name": "stdout",
          "text": [
            "Skipping file: /content/CCMT Dataset/CCMT Dataset/Tomato/healthy/healthy77_.jpg\n"
          ]
        },
        {
          "output_type": "stream",
          "name": "stderr",
          "text": [
            "20059it [01:09, 248.04it/s]"
          ]
        },
        {
          "output_type": "stream",
          "name": "stdout",
          "text": [
            "Skipping file: /content/CCMT Dataset/CCMT Dataset/Tomato/leaf blight/leaf blight72_.jpg\n",
            "Skipping file: /content/CCMT Dataset/CCMT Dataset/Tomato/leaf blight/leaf blight645_.jpg\n"
          ]
        },
        {
          "output_type": "stream",
          "name": "stderr",
          "text": [
            "20397it [01:10, 312.10it/s]"
          ]
        },
        {
          "output_type": "stream",
          "name": "stdout",
          "text": [
            "Skipping file: /content/CCMT Dataset/CCMT Dataset/Tomato/leaf blight/leaf blight558_.jpg\n",
            "Skipping file: /content/CCMT Dataset/CCMT Dataset/Tomato/leaf blight/leaf blight998_.jpg\n"
          ]
        },
        {
          "output_type": "stream",
          "name": "stderr",
          "text": [
            "20638it [01:11, 338.57it/s]"
          ]
        },
        {
          "output_type": "stream",
          "name": "stdout",
          "text": [
            "Skipping file: /content/CCMT Dataset/CCMT Dataset/Tomato/leaf blight/leaf blight1232_.jpg\n"
          ]
        },
        {
          "output_type": "stream",
          "name": "stderr",
          "text": [
            "20936it [01:12, 368.56it/s]"
          ]
        },
        {
          "output_type": "stream",
          "name": "stdout",
          "text": [
            "Skipping file: /content/CCMT Dataset/CCMT Dataset/Tomato/leaf blight/leaf blight471_.jpg\n",
            "Skipping file: /content/CCMT Dataset/CCMT Dataset/Tomato/leaf blight/leaf blight814_.jpg\n"
          ]
        },
        {
          "output_type": "stream",
          "name": "stderr",
          "text": [
            "21268it [01:13, 307.18it/s]"
          ]
        },
        {
          "output_type": "stream",
          "name": "stdout",
          "text": [
            "Skipping file: /content/CCMT Dataset/CCMT Dataset/Tomato/leaf curl/leaf curl354_.jpg\n"
          ]
        },
        {
          "output_type": "stream",
          "name": "stderr",
          "text": [
            "21331it [01:13, 300.13it/s]"
          ]
        },
        {
          "output_type": "stream",
          "name": "stdout",
          "text": [
            "Skipping file: /content/CCMT Dataset/CCMT Dataset/Tomato/leaf curl/leaf curl43_.jpg\n",
            "Skipping file: /content/CCMT Dataset/CCMT Dataset/Tomato/leaf curl/leaf curl186_.jpg\n"
          ]
        },
        {
          "output_type": "stream",
          "name": "stderr",
          "text": [
            "21677it [01:14, 334.37it/s]"
          ]
        },
        {
          "output_type": "stream",
          "name": "stdout",
          "text": [
            "Skipping file: /content/CCMT Dataset/CCMT Dataset/Tomato/leaf curl/leaf curl271_.jpg\n"
          ]
        },
        {
          "output_type": "stream",
          "name": "stderr",
          "text": [
            "25170it [01:26, 292.23it/s]\n"
          ]
        }
      ]
    },
    {
      "cell_type": "code",
      "source": [
        "label_encoder = LabelEncoder()\n",
        "labels = label_encoder.fit_transform(labels)"
      ],
      "metadata": {
        "id": "fB98donUb4iw"
      },
      "execution_count": null,
      "outputs": []
    },
    {
      "cell_type": "code",
      "source": [],
      "metadata": {
        "id": "CI31U62s6Zld"
      },
      "execution_count": null,
      "outputs": []
    },
    {
      "cell_type": "code",
      "source": [
        "x = (data)\n",
        "y = (labels)\n",
        "print(\"type of x independent varible which contain images :\",type(x))\n",
        "print(\"type of y dependent variable which contain the image label (with mask/without mask)\",type(y))"
      ],
      "metadata": {
        "id": "rOIro62tb5Au",
        "colab": {
          "base_uri": "https://localhost:8080/"
        },
        "outputId": "c174b7ea-479a-49e5-a2da-4ea652af6ad5"
      },
      "execution_count": null,
      "outputs": [
        {
          "output_type": "stream",
          "name": "stdout",
          "text": [
            "type of x independent varible which contain images : <class 'numpy.ndarray'>\n",
            "type of y dependent variable which contain the image label (with mask/without mask) <class 'numpy.ndarray'>\n"
          ]
        }
      ]
    },
    {
      "cell_type": "code",
      "source": [
        "loaded_data = np.load('/content/drive/MyDrive/data store/data.npy')\n",
        "loaded_labels = np.load('/content/drive/MyDrive/data store/labels.npy')"
      ],
      "metadata": {
        "id": "IjC_xTmD6eIi"
      },
      "execution_count": 3,
      "outputs": []
    },
    {
      "cell_type": "code",
      "source": [
        "x = (loaded_data)\n",
        "y = (loaded_labels)\n",
        "print(\"type of x independent varible which contain images :\",type(x))\n",
        "print(\"type of y dependent variable which contain the image label (with mask/without mask)\",type(y))"
      ],
      "metadata": {
        "colab": {
          "base_uri": "https://localhost:8080/"
        },
        "id": "nWetDRVD6qSC",
        "outputId": "cc132ca6-035c-4773-a0df-fd7c7e6c302d"
      },
      "execution_count": 4,
      "outputs": [
        {
          "output_type": "stream",
          "name": "stdout",
          "text": [
            "type of x independent varible which contain images : <class 'numpy.ndarray'>\n",
            "type of y dependent variable which contain the image label (with mask/without mask) <class 'numpy.ndarray'>\n"
          ]
        }
      ]
    },
    {
      "cell_type": "code",
      "source": [
        "x_train,x_test,y_train,y_test = train_test_split(x,y,test_size = 0.1,random_state=2)"
      ],
      "metadata": {
        "id": "5gv1wTtKb7K4"
      },
      "execution_count": 5,
      "outputs": []
    },
    {
      "cell_type": "code",
      "source": [
        "from sklearn.preprocessing import OneHotEncoder\n",
        "encoder = OneHotEncoder()\n",
        "y_train_encoded = encoder.fit_transform(y_train.reshape(-1, 1)).toarray()\n",
        "y_test_encoded = encoder.fit_transform(y_test.reshape(-1, 1)).toarray()"
      ],
      "metadata": {
        "id": "UAr7vdPFb-Bc"
      },
      "execution_count": 6,
      "outputs": []
    },
    {
      "cell_type": "code",
      "source": [
        "from sklearn.metrics import confusion_matrix, accuracy_score, precision_score, recall_score, f1_score\n",
        "def performace_measure(y_pred,y_test):\n",
        "  conf_matrix = confusion_matrix(y_test, y_pred)\n",
        "\n",
        "  # Calculate accuracy\n",
        "  accuracy = accuracy_score(y_test, y_pred)\n",
        "\n",
        "  # Calculate precision\n",
        "  precision = precision_score(y_test, y_pred,average='micro')\n",
        "\n",
        "  # Calculate recall\n",
        "  recall = recall_score(y_test, y_pred,average='micro')\n",
        "\n",
        "  # Calculate F1 score\n",
        "  f1 = f1_score(y_test, y_pred,average='micro')\n",
        "\n",
        "  # Print the results\n",
        "  # print(\"Confusion Matrix:\")\n",
        "  # print(conf_matrix)\n",
        "  print(\"\\nAccuracy:\", accuracy)\n",
        "  print(\"Precision:\", precision)\n",
        "  print(\"Recall:\", recall)\n",
        "  print(\"F1 Score:\", f1)\n"
      ],
      "metadata": {
        "id": "MUpSHB_7QQOw"
      },
      "execution_count": 37,
      "outputs": []
    },
    {
      "cell_type": "code",
      "source": [
        "# machine learning algorithm function\n",
        "from sklearn.metrics import accuracy_score,confusion_matrix\n",
        "\n",
        "from sklearn.naive_bayes import GaussianNB\n",
        "def GaussianNB_Custom(x_train,x_test,y_train,y_test):\n",
        "  gnb = GaussianNB()\n",
        "  gnb.fit(x_train,y_train)\n",
        "  y_pred = gnb.predict(x_test)\n",
        "  print(\"\\n\\n\")\n",
        "  print('performance measure : GaussianNB')\n",
        "  performace_measure(y_test,y_pred)\n",
        "  print(\"Accuracy for Gausssian NB\",accuracy_score(y_test,y_pred))\n",
        "\n",
        "\n",
        "# random forest Classifier\n",
        "from sklearn.ensemble import RandomForestClassifier\n",
        "def Random_Forest_Classifier_Custom(x_train,x_test,y_train,y_test):\n",
        "  rf=RandomForestClassifier()\n",
        "  rf.fit(x_train,y_train)\n",
        "  y_pred = rf.predict(x_test)\n",
        "  print(\"\\n\\n\")\n",
        "  print('performance measure : RandomForestClassifier')\n",
        "  performace_measure(y_test,y_pred)\n",
        "  print(\"Accuracy for Random forest \",accuracy_score(y_test,y_pred))\n",
        "\n",
        "# K-Nearest Neighbors Clasifier Algorithm\n",
        "from sklearn.neighbors import KNeighborsClassifier\n",
        "def K_Nearest_Neighbors_Clasifier_Custom(x_train,x_test,y_train,y_test):\n",
        "  KNC = KNeighborsClassifier(n_neighbors=77)\n",
        "  KNC.fit(x_train,y_train)\n",
        "  y_pred = KNC.predict(x_test)\n",
        "  print(\"\\n\\n\")\n",
        "  print('performance measure : KNeighborsClassifier')\n",
        "  performace_measure(y_test,y_pred)\n",
        "  print(\"Accuracy for K-Nearest Neighbors Clasifier \",accuracy_score(y_test,y_pred))\n",
        "\n",
        "# Support vector machine Classifier\n",
        "from sklearn.svm import SVC\n",
        "def Support_Vector_Machine_Classifier(x_train,x_test,y_train,y_test):\n",
        "  svmc = SVC()\n",
        "  svmc.fit(x_train,y_train)\n",
        "  y_pred = svmc.predict(x_test)\n",
        "  print(\"\\n\\n\")\n",
        "  print('performance measure : Support_Vector_Machine')\n",
        "  performace_measure(y_test,y_pred)\n",
        "  print(\"Accuracy for Support vector machine Classifier  \",accuracy_score(y_test,y_pred))\n",
        "\n",
        "# BernoulliNB\n",
        "from sklearn.naive_bayes import BernoulliNB\n",
        "def BernoulliNB_Custom(x_train,x_test,y_train,y_test):\n",
        "  BNB = BernoulliNB()\n",
        "  BNB.fit(x_train,y_train)\n",
        "  y_pred = BNB.predict(x_test)\n",
        "  print(\"\\n\\n\")\n",
        "  print('performance measure : BernoulliNB')\n",
        "  performace_measure(y_test,y_pred)\n",
        "  print(\"Accuracy for BernoulliNB \",accuracy_score(y_test,y_pred))\n",
        "\n",
        "# MultinomialNB\n",
        "from sklearn.naive_bayes import  MultinomialNB\n",
        "def MultinomialNB_Custom(x_train,x_test,y_train,y_test):\n",
        "  MNB = MultinomialNB()\n",
        "  MNB.fit(x_train,y_train)\n",
        "  y_pred = MNB.predict(x_test)\n",
        "  print(\"\\n\\n\")\n",
        "  print('performance measure : MultinomialNB')\n",
        "  performace_measure(y_test,y_pred)\n",
        "  print(\"Accuracy for MultinomialNB \",accuracy_score(y_test,y_pred))\n",
        "\n",
        "# LogisticRegression\n",
        "from sklearn.linear_model import LogisticRegression\n",
        "def LogisticRegression_Custom(x_train,x_test,y_train,y_test):\n",
        "  LR = LogisticRegression()\n",
        "  LR.fit(x_train,y_train)\n",
        "  y_pred = LR.predict(x_test)\n",
        "  print(\"\\n\\n\")\n",
        "  print('performance measure : LogisticRegression')\n",
        "  performace_measure(y_test,y_pred)\n",
        "  print(\"Accuracy for LogisticRegression  \",accuracy_score(y_test,y_pred))\n"
      ],
      "metadata": {
        "id": "D892zXd0cPto"
      },
      "execution_count": 33,
      "outputs": []
    },
    {
      "cell_type": "code",
      "source": [
        "import numpy as np\n",
        "\n",
        "# Save data and labels to disk\n",
        "np.save('/content/drive/MyDrive/data store/data.npy', data)\n",
        "np.save('/content/drive/MyDrive/data store/labels.npy', labels)"
      ],
      "metadata": {
        "id": "nUgcte2R3qIx"
      },
      "execution_count": null,
      "outputs": []
    },
    {
      "cell_type": "code",
      "source": [
        "loaded_data = np.load('/content/drive/MyDrive/data store/data.npy')\n",
        "loaded_labels = np.load('/content/drive/MyDrive/data store/labels.npy')"
      ],
      "metadata": {
        "id": "6kDi0KIW5NED"
      },
      "execution_count": null,
      "outputs": []
    },
    {
      "cell_type": "code",
      "source": [
        "type(loaded_data[0])"
      ],
      "metadata": {
        "colab": {
          "base_uri": "https://localhost:8080/"
        },
        "id": "AC74x84X5TkR",
        "outputId": "f5cedb90-2565-4864-d01d-69be8e338348"
      },
      "execution_count": null,
      "outputs": [
        {
          "output_type": "execute_result",
          "data": {
            "text/plain": [
              "numpy.ndarray"
            ]
          },
          "metadata": {},
          "execution_count": 9
        }
      ]
    },
    {
      "cell_type": "code",
      "source": [
        "import cv2\n",
        "\n",
        "# Resize images to a smaller size\n",
        "resized_x_train = [cv2.resize(image, (64, 64)) for image in x_train]\n",
        "resized_x_test = [cv2.resize(image, (64, 64)) for image in x_test]\n",
        "\n",
        "# Flatten the resized images\n",
        "x_train_flat = np.array([image.flatten() for image in resized_x_train])\n",
        "x_test_flat = np.array([image.flatten() for image in resized_x_test])\n",
        "\n",
        "# Continue with your Random Forest Classifier code\n",
        "\n"
      ],
      "metadata": {
        "id": "IRlEh0lvecTF"
      },
      "execution_count": null,
      "outputs": []
    },
    {
      "cell_type": "code",
      "source": [
        "\n",
        "Random_Forest_Classifier_Custom(x_train_flat, x_test_flat, y_train, y_test)\n",
        "\n",
        "K_Nearest_Neighbors_Clasifier_Custom(x_train_flat, x_test_flat, y_train, y_test)\n",
        "\n",
        "Support_Vector_Machine_Classifier(x_train_flat,x_test_flat,y_train,y_test)\n",
        "BernoulliNB_Custom(x_train_flat,x_test_flat,y_train,y_test)\n",
        "\n",
        "MultinomialNB_Custom(x_train_flat,x_test_flat,y_train,y_test)\n",
        "\n",
        "\n",
        "GaussianNB_Custom(x_train_flat,x_test_flat,y_train,y_test)\n"
      ],
      "metadata": {
        "colab": {
          "base_uri": "https://localhost:8080/"
        },
        "id": "6bgA5yuy8yZg",
        "outputId": "e01a3e7b-c29f-482d-a387-30df9b5e4b78"
      },
      "execution_count": null,
      "outputs": [
        {
          "output_type": "stream",
          "name": "stdout",
          "text": [
            "Accuracy for Random forest  0.4692093762415574\n",
            "Accuracy for K-Nearest Neighbors Clasifier  0.3170441001191895\n",
            "Accuracy for Support vector machine Classifier   0.4858959078267779\n",
            "Accuracy for BernoulliNB  0.11164084227254668\n",
            "Accuracy for MultinomialNB  0.19189511323003575\n",
            "Accuracy for Gausssian NB 0.20659515295987285\n"
          ]
        }
      ]
    },
    {
      "cell_type": "code",
      "source": [
        "from tensorflow.keras.applications import VGG16\n",
        "from tensorflow.keras.applications.vgg16 import preprocess_input\n",
        "from tensorflow.keras.models import Model\n",
        "\n",
        "# Load the VGG16 model without the top (fully connected) layers\n",
        "base_model = VGG16(weights='imagenet', include_top=False, input_shape=(150, 150, 3))\n",
        "\n",
        "# Create a new model using the VGG16 layers as the feature extractor\n",
        "feature_extractor = Model(inputs=base_model.input, outputs=base_model.layers[-1].output)\n",
        "import numpy as np\n",
        "\n",
        "def extract_features(data):\n",
        "    # Preprocess the data\n",
        "    # data = preprocess_input(data)\n",
        "\n",
        "    # Extract features using the feature extractor\n",
        "    features = feature_extractor.predict(data)\n",
        "\n",
        "    return features\n",
        "from sklearn.model_selection import train_test_split\n",
        "\n",
        "# Split your dataset into training and testing sets\n",
        "x_train, x_test, y_train, y_test = train_test_split(x, y, test_size=0.2, random_state=42)\n",
        "\n",
        "# Extract features from the training and testing data\n",
        "# x_train_features = extract_features(x_train)\n",
        "# x_test_features = extract_features(x_test)\n"
      ],
      "metadata": {
        "id": "hk5O37oq82UQ"
      },
      "execution_count": 9,
      "outputs": []
    },
    {
      "cell_type": "code",
      "source": [
        "x_train_features = extract_features(x_train)\n",
        "x_test_features = extract_features(x_test)\n",
        "x_train_vgg16 = np.array([image.flatten() for image in x_train_features])\n",
        "x_test_vgg16 = np.array([image.flatten() for image in x_test_features])"
      ],
      "metadata": {
        "id": "vHEk6qtxmElr",
        "colab": {
          "base_uri": "https://localhost:8080/"
        },
        "outputId": "3699a162-7e61-44b8-f6f5-5a84c2d7ae76"
      },
      "execution_count": 10,
      "outputs": [
        {
          "output_type": "stream",
          "name": "stdout",
          "text": [
            "630/630 [==============================] - 48s 60ms/step\n",
            "158/158 [==============================] - 11s 67ms/step\n"
          ]
        }
      ]
    },
    {
      "cell_type": "code",
      "source": [
        "\n"
      ],
      "metadata": {
        "id": "wDy4kFOCGUQ4"
      },
      "execution_count": 12,
      "outputs": []
    },
    {
      "cell_type": "code",
      "source": [
        "\n",
        "Random_Forest_Classifier_Custom(x_train_vgg16, x_test_vgg16, y_train, y_test)\n",
        "\n",
        "K_Nearest_Neighbors_Clasifier_Custom(x_train_vgg16, x_test_vgg16, y_train, y_test)\n",
        "\n",
        "Support_Vector_Machine_Classifier(x_train_vgg16,x_test_vgg16,y_train,y_test)\n",
        "BernoulliNB_Custom(x_train_vgg16,x_test_flat,y_train,y_test)\n",
        "\n",
        "MultinomialNB_Custom(x_train_vgg16,x_test_vgg16,y_train,y_test)\n",
        "\n",
        "\n",
        "GaussianNB_Custom(x_train_vgg16,x_test_vgg16,y_train,y_test)\n"
      ],
      "metadata": {
        "id": "wDdvC_PpmFbS",
        "colab": {
          "base_uri": "https://localhost:8080/"
        },
        "outputId": "60bd6c03-4f23-4627-d6f0-c779d9efc02f"
      },
      "execution_count": 14,
      "outputs": [
        {
          "output_type": "stream",
          "name": "stdout",
          "text": [
            "Accuracy for Random forest  0.6750099324592769\n",
            "Accuracy for K-Nearest Neighbors Clasifier  0.45152959872864523\n",
            "Accuracy for Support vector machine Classifier   0.7850615812475169\n",
            "Accuracy for BernoulliNB  0.5834326579261025\n",
            "Accuracy for MultinomialNB  0.624751688518077\n",
            "Accuracy for Gausssian NB 0.46146205800556217\n"
          ]
        }
      ]
    },
    {
      "cell_type": "code",
      "source": [
        "model = Sequential()\n",
        "\n",
        "# Add Convolutional layers\n",
        "model.add(Conv2D(32, (3, 3), activation='relu', input_shape=(150, 150, 3)))\n",
        "model.add(MaxPooling2D(2, 2))\n",
        "model.add(Conv2D(96, (3, 3), activation='relu'))\n",
        "model.add(MaxPooling2D(2, 2))\n",
        "model.add(Conv2D(128, (3, 3), activation='relu'))\n",
        "model.add(MaxPooling2D(2, 2))\n",
        "model.add(Conv2D(96, (3, 3), activation='relu'))\n",
        "model.add(MaxPooling2D(2, 2))\n",
        "model.add(Conv2D(96, (3, 3), activation='relu'))\n",
        "model.add(MaxPooling2D(2, 2))\n",
        "\n",
        "# Flatten the output for feeding into fully connected layers\n",
        "model.add(Flatten())\n",
        "\n",
        "# Add fully connected layers\n",
        "model.add(Dense(96, activation='relu'))\n",
        "model.add(Dense(22, activation='softmax'))\n",
        "\n",
        "# Compile the model\n",
        "model.compile(optimizer='adam', loss='categorical_crossentropy', metrics=['accuracy'])\n",
        "\n",
        "# Assuming you have a dataset 'x_train' and 'y_train'\n",
        "# Train the model\n",
        "model.fit(x_train, y_train_encoded, epochs=5, batch_size=32, validation_split = 0.1)\n",
        "\n",
        "# Extract features using the modified CNN architecture\n",
        "def extract_features(data):\n",
        "    features = model.predict(data)\n",
        "    return features\n"
      ],
      "metadata": {
        "colab": {
          "base_uri": "https://localhost:8080/"
        },
        "id": "m98NA0opPgS4",
        "outputId": "ea3044e9-b10a-48dc-c386-fc5cc3cb6523"
      },
      "execution_count": 19,
      "outputs": [
        {
          "output_type": "stream",
          "name": "stdout",
          "text": [
            "Epoch 1/5\n",
            "567/567 [==============================] - 21s 26ms/step - loss: 3.1217 - accuracy: 0.1039 - val_loss: 2.9349 - val_accuracy: 0.1097\n",
            "Epoch 2/5\n",
            "567/567 [==============================] - 14s 25ms/step - loss: 2.9475 - accuracy: 0.1056 - val_loss: 2.9357 - val_accuracy: 0.1072\n",
            "Epoch 3/5\n",
            "567/567 [==============================] - 14s 25ms/step - loss: 2.9448 - accuracy: 0.1050 - val_loss: 2.9339 - val_accuracy: 0.1172\n",
            "Epoch 4/5\n",
            "567/567 [==============================] - 14s 25ms/step - loss: 2.9422 - accuracy: 0.1055 - val_loss: 2.9318 - val_accuracy: 0.1187\n",
            "Epoch 5/5\n",
            "567/567 [==============================] - 14s 25ms/step - loss: 2.9404 - accuracy: 0.1064 - val_loss: 2.9331 - val_accuracy: 0.1187\n"
          ]
        }
      ]
    },
    {
      "cell_type": "code",
      "source": [
        "model = Sequential()\n",
        "\n",
        "model.add(Conv2D(32,(3,3),activation = 'relu',input_shape=(150,150,3)))\n",
        "model.add(MaxPooling2D(2,2))\n",
        "model.add(Conv2D(64,(3,3),activation = 'relu'))\n",
        "model.add(MaxPooling2D(2,2))\n",
        "layers.Conv2D(64, (3, 3), activation='relu')\n",
        "model.add(MaxPooling2D(2,2))\n",
        "layers.Conv2D(64, (3, 3), activation='relu')\n",
        "model.add(MaxPooling2D(2,2))\n",
        "layers.Conv2D(64, (3, 3), activation='relu')\n",
        "model.add(MaxPooling2D(2,2))\n",
        "\n",
        "model.add(Flatten())\n",
        "\n",
        "model.add(Dense(64,activation = 'relu'))\n",
        "model.add(Dense(22,activation='softmax'))\n",
        "model.compile(optimizer='adam',\n",
        "              loss='sparse_categorical_crossentropy',\n",
        "              metrics=['accuracy'])\n",
        "\n",
        "history = model.fit(x_train,\n",
        "                    y_train,\n",
        "                    validation_split = 0.1,\n",
        "                    epochs = 10)"
      ],
      "metadata": {
        "colab": {
          "base_uri": "https://localhost:8080/"
        },
        "id": "SS1BIEuXWDwX",
        "outputId": "797d6dd6-ba29-4d42-a220-1bf44d56e39d"
      },
      "execution_count": 27,
      "outputs": [
        {
          "output_type": "stream",
          "name": "stdout",
          "text": [
            "Epoch 1/10\n",
            "567/567 [==============================] - 10s 16ms/step - loss: 3.6381 - accuracy: 0.1068 - val_loss: 2.9955 - val_accuracy: 0.1216\n",
            "Epoch 2/10\n",
            "567/567 [==============================] - 9s 15ms/step - loss: 2.9781 - accuracy: 0.1086 - val_loss: 2.9510 - val_accuracy: 0.1216\n",
            "Epoch 3/10\n",
            "567/567 [==============================] - 9s 15ms/step - loss: 2.9524 - accuracy: 0.1087 - val_loss: 2.9345 - val_accuracy: 0.1216\n",
            "Epoch 4/10\n",
            "567/567 [==============================] - 9s 15ms/step - loss: 2.9434 - accuracy: 0.1087 - val_loss: 2.9285 - val_accuracy: 0.1216\n",
            "Epoch 5/10\n",
            "567/567 [==============================] - 9s 15ms/step - loss: 2.9401 - accuracy: 0.1087 - val_loss: 2.9263 - val_accuracy: 0.1216\n",
            "Epoch 6/10\n",
            "567/567 [==============================] - 9s 15ms/step - loss: 2.9388 - accuracy: 0.1087 - val_loss: 2.9258 - val_accuracy: 0.1216\n",
            "Epoch 7/10\n",
            "567/567 [==============================] - 9s 15ms/step - loss: 2.9382 - accuracy: 0.1087 - val_loss: 2.9253 - val_accuracy: 0.1216\n",
            "Epoch 8/10\n",
            "567/567 [==============================] - 9s 15ms/step - loss: 2.9380 - accuracy: 0.1087 - val_loss: 2.9253 - val_accuracy: 0.1216\n",
            "Epoch 9/10\n",
            "567/567 [==============================] - 9s 16ms/step - loss: 2.9379 - accuracy: 0.1087 - val_loss: 2.9255 - val_accuracy: 0.1216\n",
            "Epoch 10/10\n",
            "567/567 [==============================] - 9s 15ms/step - loss: 2.9378 - accuracy: 0.1087 - val_loss: 2.9254 - val_accuracy: 0.1216\n"
          ]
        }
      ]
    },
    {
      "cell_type": "code",
      "source": [
        "def extract_features(data):\n",
        "    features = model.predict(data)\n",
        "    return features\n",
        "x_train_features = extract_features(x_train)\n",
        "x_test_features = extract_features(x_test)\n",
        "x_train_cnn = np.array([image.flatten() for image in x_train_features])\n",
        "x_test_cnn = np.array([image.flatten() for image in x_test_features])"
      ],
      "metadata": {
        "colab": {
          "base_uri": "https://localhost:8080/"
        },
        "id": "csvpUbo4WbB8",
        "outputId": "76b02456-dbea-4e6d-86f3-28a6763efa87"
      },
      "execution_count": 28,
      "outputs": [
        {
          "output_type": "stream",
          "name": "stdout",
          "text": [
            "630/630 [==============================] - 3s 5ms/step\n",
            "158/158 [==============================] - 1s 5ms/step\n"
          ]
        }
      ]
    },
    {
      "cell_type": "code",
      "source": [
        "\n",
        "Random_Forest_Classifier_Custom(x_train_cnn, x_test_cnn, y_train, y_test)\n",
        "\n",
        "K_Nearest_Neighbors_Clasifier_Custom(x_train_cnn, x_test_cnn, y_train, y_test)\n",
        "\n",
        "Support_Vector_Machine_Classifier(x_train_cnn,x_test_cnn,y_train,y_test)\n",
        "BernoulliNB_Custom(x_train_cnn,x_test_cnn,y_train,y_test)\n",
        "\n",
        "MultinomialNB_Custom(x_train_cnn,x_test_cnn,y_train,y_test)\n",
        "\n",
        "\n",
        "GaussianNB_Custom(x_train_cnn,x_test_cnn,y_train,y_test)"
      ],
      "metadata": {
        "colab": {
          "base_uri": "https://localhost:8080/"
        },
        "id": "r8ct8R1rXQR6",
        "outputId": "d5584cbd-ca2d-4e49-f3e4-af6bb2ee21d1"
      },
      "execution_count": 38,
      "outputs": [
        {
          "output_type": "stream",
          "name": "stdout",
          "text": [
            "\n",
            "\n",
            "\n",
            "performance measure : RandomForestClassifier\n",
            "Confusion Matrix:\n",
            "[[  0   0   0   0   0   0   0   0   0   0   0   0   0   0   0   0   0   0\n",
            "    0   0   0   0]\n",
            " [  0   0   0   0   0   0   0   0   0   0   0   0   0   0   0   0   0   0\n",
            "    0   0   0   0]\n",
            " [  0   0   0   0   0   0   0   0   0   0   0   0   0   0   0   0   0   0\n",
            "    0   0   0   0]\n",
            " [  0   0   0   0   0   0   0   0   0   0   0   0   0   0   0   0   0   0\n",
            "    0   0   0   0]\n",
            " [  0   0   0   0   0   0   0   0   0   0   0   0   0   0   0   0   0   0\n",
            "    0   0   0   0]\n",
            " [  0   0   0   0   0   0   0   0   0   0   0   0   0   0   0   0   0   0\n",
            "    0   0   0   0]\n",
            " [  0   0   0   0   0   0   0   0   0   0   0   0   0   0   0   0   0   0\n",
            "    0   0   0   0]\n",
            " [  0   0   0   0   0   0   0   0   0   0   0   0   0   0   0   0   0   0\n",
            "    0   0   0   0]\n",
            " [  0   0   0   0   0   0   0   0   0   0   0   0   0   0   0   0   0   0\n",
            "    0   0   0   0]\n",
            " [  0   0   0   0   0   0   0   0   0   0   0   0   0   0   0   0   0   0\n",
            "    0   0   0   0]\n",
            " [  0   0   0   0   0   0   0   0   0   0   0   0   0   0   0   0   0   0\n",
            "    0   0   0   0]\n",
            " [  0   0   0   0   0   0   0   0   0   0   0   0   0   0   0   0   0   0\n",
            "    0   0   0   0]\n",
            " [  0   0   0   0   0   0   0   0   0   0   0   0   0   0   0   0   0   0\n",
            "    0   0   0   0]\n",
            " [  0   0   0   0   0   0   0   0   0   0   0   0   0   0   0   0   0   0\n",
            "    0   0   0   0]\n",
            " [  0   0   0   0   0   0   0   0   0   0   0   0   0   0   0   0   0   0\n",
            "    0   0   0   0]\n",
            " [  0   0   0   0   0   0   0   0   0   0   0   0   0   0   0   0   0   0\n",
            "    0   0   0   0]\n",
            " [  0   0   0   0   0   0   0   0   0   0   0   0   0   0   0   0   0   0\n",
            "    0   0   0   0]\n",
            " [  0   0   0   0   0   0   0   0   0   0   0   0   0   0   0   0   0   0\n",
            "    0   0   0   0]\n",
            " [  0   0   0   0   0   0   0   0   0   0   0   0   0   0   0   0   0   0\n",
            "    0   0   0   0]\n",
            " [  0   0   0   0   0   0   0   0   0   0   0   0   0   0   0   0   0   0\n",
            "    0   0   0   0]\n",
            " [335  64 305 292 340 542 322 209 246 214  59 138  37 166 184 248 194 104\n",
            "  245  99 529 162]\n",
            " [  0   0   0   0   0   0   0   0   0   0   0   0   0   0   0   0   0   0\n",
            "    0   0   0   0]]\n",
            "\n",
            "Accuracy: 0.10508541914978149\n",
            "Precision: 0.10508541914978149\n",
            "Recall: 0.10508541914978149\n",
            "F1 Score: 0.10508541914978149\n",
            "Accuracy for Random forest  0.10508541914978149\n",
            "\n",
            "\n",
            "\n",
            "performance measure : KNeighborsClassifier\n",
            "Confusion Matrix:\n",
            "[[  0   0   0   0   0   0   0   0   0   0   0   0   0   0   0   0   0   0\n",
            "    0   0   0   0]\n",
            " [  0   0   0   0   0   0   0   0   0   0   0   0   0   0   0   0   0   0\n",
            "    0   0   0   0]\n",
            " [  0   0   0   0   0   0   0   0   0   0   0   0   0   0   0   0   0   0\n",
            "    0   0   0   0]\n",
            " [  0   0   0   0   0   0   0   0   0   0   0   0   0   0   0   0   0   0\n",
            "    0   0   0   0]\n",
            " [  0   0   0   0   0   0   0   0   0   0   0   0   0   0   0   0   0   0\n",
            "    0   0   0   0]\n",
            " [  0   0   0   0   0   0   0   0   0   0   0   0   0   0   0   0   0   0\n",
            "    0   0   0   0]\n",
            " [  0   0   0   0   0   0   0   0   0   0   0   0   0   0   0   0   0   0\n",
            "    0   0   0   0]\n",
            " [  0   0   0   0   0   0   0   0   0   0   0   0   0   0   0   0   0   0\n",
            "    0   0   0   0]\n",
            " [  0   0   0   0   0   0   0   0   0   0   0   0   0   0   0   0   0   0\n",
            "    0   0   0   0]\n",
            " [  0   0   0   0   0   0   0   0   0   0   0   0   0   0   0   0   0   0\n",
            "    0   0   0   0]\n",
            " [  0   0   0   0   0   0   0   0   0   0   0   0   0   0   0   0   0   0\n",
            "    0   0   0   0]\n",
            " [  0   0   0   0   0   0   0   0   0   0   0   0   0   0   0   0   0   0\n",
            "    0   0   0   0]\n",
            " [  0   0   0   0   0   0   0   0   0   0   0   0   0   0   0   0   0   0\n",
            "    0   0   0   0]\n",
            " [335  64 305 292 340 542 322 209 246 214  59 138  37 166 184 248 194 104\n",
            "  245  99 529 162]\n",
            " [  0   0   0   0   0   0   0   0   0   0   0   0   0   0   0   0   0   0\n",
            "    0   0   0   0]\n",
            " [  0   0   0   0   0   0   0   0   0   0   0   0   0   0   0   0   0   0\n",
            "    0   0   0   0]\n",
            " [  0   0   0   0   0   0   0   0   0   0   0   0   0   0   0   0   0   0\n",
            "    0   0   0   0]\n",
            " [  0   0   0   0   0   0   0   0   0   0   0   0   0   0   0   0   0   0\n",
            "    0   0   0   0]\n",
            " [  0   0   0   0   0   0   0   0   0   0   0   0   0   0   0   0   0   0\n",
            "    0   0   0   0]\n",
            " [  0   0   0   0   0   0   0   0   0   0   0   0   0   0   0   0   0   0\n",
            "    0   0   0   0]\n",
            " [  0   0   0   0   0   0   0   0   0   0   0   0   0   0   0   0   0   0\n",
            "    0   0   0   0]\n",
            " [  0   0   0   0   0   0   0   0   0   0   0   0   0   0   0   0   0   0\n",
            "    0   0   0   0]]\n",
            "\n",
            "Accuracy: 0.03297576479936432\n",
            "Precision: 0.03297576479936432\n",
            "Recall: 0.03297576479936432\n",
            "F1 Score: 0.03297576479936432\n",
            "Accuracy for K-Nearest Neighbors Clasifier  0.03297576479936432\n",
            "\n",
            "\n",
            "\n",
            "performance measure : Support_Vector_Machine\n",
            "Confusion Matrix:\n",
            "[[  0   0   0   0   0   0   0   0   0   0   0   0   0   0   0   0   0   0\n",
            "    0   0   0   0]\n",
            " [  0   0   0   0   0   0   0   0   0   0   0   0   0   0   0   0   0   0\n",
            "    0   0   0   0]\n",
            " [  0   0   0   0   0   0   0   0   0   0   0   0   0   0   0   0   0   0\n",
            "    0   0   0   0]\n",
            " [  0   0   0   0   0   0   0   0   0   0   0   0   0   0   0   0   0   0\n",
            "    0   0   0   0]\n",
            " [  0   0   0   0   0   0   0   0   0   0   0   0   0   0   0   0   0   0\n",
            "    0   0   0   0]\n",
            " [  0   0   0   0   0   0   0   0   0   0   0   0   0   0   0   0   0   0\n",
            "    0   0   0   0]\n",
            " [  0   0   0   0   0   0   0   0   0   0   0   0   0   0   0   0   0   0\n",
            "    0   0   0   0]\n",
            " [  0   0   0   0   0   0   0   0   0   0   0   0   0   0   0   0   0   0\n",
            "    0   0   0   0]\n",
            " [  0   0   0   0   0   0   0   0   0   0   0   0   0   0   0   0   0   0\n",
            "    0   0   0   0]\n",
            " [  0   0   0   0   0   0   0   0   0   0   0   0   0   0   0   0   0   0\n",
            "    0   0   0   0]\n",
            " [  0   0   0   0   0   0   0   0   0   0   0   0   0   0   0   0   0   0\n",
            "    0   0   0   0]\n",
            " [  0   0   0   0   0   0   0   0   0   0   0   0   0   0   0   0   0   0\n",
            "    0   0   0   0]\n",
            " [  0   0   0   0   0   0   0   0   0   0   0   0   0   0   0   0   0   0\n",
            "    0   0   0   0]\n",
            " [  0   0   0   0   0   0   0   0   0   0   0   0   0   0   0   0   0   0\n",
            "    0   0   0   0]\n",
            " [  0   0   0   0   0   0   0   0   0   0   0   0   0   0   0   0   0   0\n",
            "    0   0   0   0]\n",
            " [  0   0   0   0   0   0   0   0   0   0   0   0   0   0   0   0   0   0\n",
            "    0   0   0   0]\n",
            " [  0   0   0   0   0   0   0   0   0   0   0   0   0   0   0   0   0   0\n",
            "    0   0   0   0]\n",
            " [  0   0   0   0   0   0   0   0   0   0   0   0   0   0   0   0   0   0\n",
            "    0   0   0   0]\n",
            " [  0   0   0   0   0   0   0   0   0   0   0   0   0   0   0   0   0   0\n",
            "    0   0   0   0]\n",
            " [  0   0   0   0   0   0   0   0   0   0   0   0   0   0   0   0   0   0\n",
            "    0   0   0   0]\n",
            " [335  64 305 292 340 542 322 209 246 214  59 138  37 166 184 248 194 104\n",
            "  245  99 529 162]\n",
            " [  0   0   0   0   0   0   0   0   0   0   0   0   0   0   0   0   0   0\n",
            "    0   0   0   0]]\n",
            "\n",
            "Accuracy: 0.10508541914978149\n",
            "Precision: 0.10508541914978149\n",
            "Recall: 0.10508541914978149\n",
            "F1 Score: 0.10508541914978149\n",
            "Accuracy for Support vector machine Classifier   0.10508541914978149\n",
            "\n",
            "\n",
            "\n",
            "performance measure : BernoulliNB\n",
            "Confusion Matrix:\n",
            "[[  0   0   0   0   0   0   0   0   0   0   0   0   0   0   0   0   0   0\n",
            "    0   0   0   0]\n",
            " [  0   0   0   0   0   0   0   0   0   0   0   0   0   0   0   0   0   0\n",
            "    0   0   0   0]\n",
            " [  0   0   0   0   0   0   0   0   0   0   0   0   0   0   0   0   0   0\n",
            "    0   0   0   0]\n",
            " [  0   0   0   0   0   0   0   0   0   0   0   0   0   0   0   0   0   0\n",
            "    0   0   0   0]\n",
            " [  0   0   0   0   0   0   0   0   0   0   0   0   0   0   0   0   0   0\n",
            "    0   0   0   0]\n",
            " [  0   0   0   0   0   0   0   0   0   0   0   0   0   0   0   0   0   0\n",
            "    0   0   0   0]\n",
            " [  0   0   0   0   0   0   0   0   0   0   0   0   0   0   0   0   0   0\n",
            "    0   0   0   0]\n",
            " [  0   0   0   0   0   0   0   0   0   0   0   0   0   0   0   0   0   0\n",
            "    0   0   0   0]\n",
            " [  0   0   0   0   0   0   0   0   0   0   0   0   0   0   0   0   0   0\n",
            "    0   0   0   0]\n",
            " [  0   0   0   0   0   0   0   0   0   0   0   0   0   0   0   0   0   0\n",
            "    0   0   0   0]\n",
            " [  0   0   0   0   0   0   0   0   0   0   0   0   0   0   0   0   0   0\n",
            "    0   0   0   0]\n",
            " [  0   0   0   0   0   0   0   0   0   0   0   0   0   0   0   0   0   0\n",
            "    0   0   0   0]\n",
            " [  0   0   0   0   0   0   0   0   0   0   0   0   0   0   0   0   0   0\n",
            "    0   0   0   0]\n",
            " [  0   0   0   0   0   0   0   0   0   0   0   0   0   0   0   0   0   0\n",
            "    0   0   0   0]\n",
            " [  0   0   0   0   0   0   0   0   0   0   0   0   0   0   0   0   0   0\n",
            "    0   0   0   0]\n",
            " [  0   0   0   0   0   0   0   0   0   0   0   0   0   0   0   0   0   0\n",
            "    0   0   0   0]\n",
            " [  0   0   0   0   0   0   0   0   0   0   0   0   0   0   0   0   0   0\n",
            "    0   0   0   0]\n",
            " [  0   0   0   0   0   0   0   0   0   0   0   0   0   0   0   0   0   0\n",
            "    0   0   0   0]\n",
            " [  0   0   0   0   0   0   0   0   0   0   0   0   0   0   0   0   0   0\n",
            "    0   0   0   0]\n",
            " [  0   0   0   0   0   0   0   0   0   0   0   0   0   0   0   0   0   0\n",
            "    0   0   0   0]\n",
            " [335  64 305 292 340 542 322 209 246 214  59 138  37 166 184 248 194 104\n",
            "  245  99 529 162]\n",
            " [  0   0   0   0   0   0   0   0   0   0   0   0   0   0   0   0   0   0\n",
            "    0   0   0   0]]\n",
            "\n",
            "Accuracy: 0.10508541914978149\n",
            "Precision: 0.10508541914978149\n",
            "Recall: 0.10508541914978149\n",
            "F1 Score: 0.10508541914978149\n",
            "Accuracy for BernoulliNB  0.10508541914978149\n",
            "\n",
            "\n",
            "\n",
            "performance measure : MultinomialNB\n",
            "Confusion Matrix:\n",
            "[[  0   0   0   0   0   0   0   0   0   0   0   0   0   0   0   0   0   0\n",
            "    0   0   0   0]\n",
            " [  0   0   0   0   0   0   0   0   0   0   0   0   0   0   0   0   0   0\n",
            "    0   0   0   0]\n",
            " [  0   0   0   0   0   0   0   0   0   0   0   0   0   0   0   0   0   0\n",
            "    0   0   0   0]\n",
            " [  0   0   0   0   0   0   0   0   0   0   0   0   0   0   0   0   0   0\n",
            "    0   0   0   0]\n",
            " [  0   0   0   0   0   0   0   0   0   0   0   0   0   0   0   0   0   0\n",
            "    0   0   0   0]\n",
            " [  0   0   0   0   0   0   0   0   0   0   0   0   0   0   0   0   0   0\n",
            "    0   0   0   0]\n",
            " [  0   0   0   0   0   0   0   0   0   0   0   0   0   0   0   0   0   0\n",
            "    0   0   0   0]\n",
            " [  0   0   0   0   0   0   0   0   0   0   0   0   0   0   0   0   0   0\n",
            "    0   0   0   0]\n",
            " [  0   0   0   0   0   0   0   0   0   0   0   0   0   0   0   0   0   0\n",
            "    0   0   0   0]\n",
            " [  0   0   0   0   0   0   0   0   0   0   0   0   0   0   0   0   0   0\n",
            "    0   0   0   0]\n",
            " [  0   0   0   0   0   0   0   0   0   0   0   0   0   0   0   0   0   0\n",
            "    0   0   0   0]\n",
            " [  0   0   0   0   0   0   0   0   0   0   0   0   0   0   0   0   0   0\n",
            "    0   0   0   0]\n",
            " [  0   0   0   0   0   0   0   0   0   0   0   0   0   0   0   0   0   0\n",
            "    0   0   0   0]\n",
            " [  0   0   0   0   0   0   0   0   0   0   0   0   0   0   0   0   0   0\n",
            "    0   0   0   0]\n",
            " [  0   0   0   0   0   0   0   0   0   0   0   0   0   0   0   0   0   0\n",
            "    0   0   0   0]\n",
            " [  0   0   0   0   0   0   0   0   0   0   0   0   0   0   0   0   0   0\n",
            "    0   0   0   0]\n",
            " [  0   0   0   0   0   0   0   0   0   0   0   0   0   0   0   0   0   0\n",
            "    0   0   0   0]\n",
            " [  0   0   0   0   0   0   0   0   0   0   0   0   0   0   0   0   0   0\n",
            "    0   0   0   0]\n",
            " [  0   0   0   0   0   0   0   0   0   0   0   0   0   0   0   0   0   0\n",
            "    0   0   0   0]\n",
            " [  0   0   0   0   0   0   0   0   0   0   0   0   0   0   0   0   0   0\n",
            "    0   0   0   0]\n",
            " [335  64 305 292 340 542 322 209 246 214  59 138  37 166 184 248 194 104\n",
            "  245  99 529 162]\n",
            " [  0   0   0   0   0   0   0   0   0   0   0   0   0   0   0   0   0   0\n",
            "    0   0   0   0]]\n",
            "\n",
            "Accuracy: 0.10508541914978149\n",
            "Precision: 0.10508541914978149\n",
            "Recall: 0.10508541914978149\n",
            "F1 Score: 0.10508541914978149\n",
            "Accuracy for MultinomialNB  0.10508541914978149\n",
            "\n",
            "\n",
            "\n",
            "performance measure : GaussianNB\n",
            "Confusion Matrix:\n",
            "[[  0   0   0   0   0   0   0   0   0   0   0   0   0   0   0   0   0   0\n",
            "    0   0   0   0]\n",
            " [  0   0   0   0   0   0   0   0   0   0   0   0   0   0   0   0   0   0\n",
            "    0   0   0   0]\n",
            " [  0   0   0   0   0   0   0   0   0   0   0   0   0   0   0   0   0   0\n",
            "    0   0   0   0]\n",
            " [  0   0   0   0   0   0   0   0   0   0   0   0   0   0   0   0   0   0\n",
            "    0   0   0   0]\n",
            " [  0   0   0   0   0   0   0   0   0   0   0   0   0   0   0   0   0   0\n",
            "    0   0   0   0]\n",
            " [  0   0   0   0   0   0   0   0   0   0   0   0   0   0   0   0   0   0\n",
            "    0   0   0   0]\n",
            " [  0   0   0   0   0   0   0   0   0   0   0   0   0   0   0   0   0   0\n",
            "    0   0   0   0]\n",
            " [  0   0   0   0   0   0   0   0   0   0   0   0   0   0   0   0   0   0\n",
            "    0   0   0   0]\n",
            " [  0   0   0   0   0   0   0   0   0   0   0   0   0   0   0   0   0   0\n",
            "    0   0   0   0]\n",
            " [  0   0   0   0   0   0   0   0   0   0   0   0   0   0   0   0   0   0\n",
            "    0   0   0   0]\n",
            " [  0   0   0   0   0   0   0   0   0   0   0   0   0   0   0   0   0   0\n",
            "    0   0   0   0]\n",
            " [  0   0   0   0   0   0   0   0   0   0   0   0   0   0   0   0   0   0\n",
            "    0   0   0   0]\n",
            " [335  64 305 292 340 542 322 209 246 214  59 138  37 166 184 248 194 104\n",
            "  245  99 529 162]\n",
            " [  0   0   0   0   0   0   0   0   0   0   0   0   0   0   0   0   0   0\n",
            "    0   0   0   0]\n",
            " [  0   0   0   0   0   0   0   0   0   0   0   0   0   0   0   0   0   0\n",
            "    0   0   0   0]\n",
            " [  0   0   0   0   0   0   0   0   0   0   0   0   0   0   0   0   0   0\n",
            "    0   0   0   0]\n",
            " [  0   0   0   0   0   0   0   0   0   0   0   0   0   0   0   0   0   0\n",
            "    0   0   0   0]\n",
            " [  0   0   0   0   0   0   0   0   0   0   0   0   0   0   0   0   0   0\n",
            "    0   0   0   0]\n",
            " [  0   0   0   0   0   0   0   0   0   0   0   0   0   0   0   0   0   0\n",
            "    0   0   0   0]\n",
            " [  0   0   0   0   0   0   0   0   0   0   0   0   0   0   0   0   0   0\n",
            "    0   0   0   0]\n",
            " [  0   0   0   0   0   0   0   0   0   0   0   0   0   0   0   0   0   0\n",
            "    0   0   0   0]\n",
            " [  0   0   0   0   0   0   0   0   0   0   0   0   0   0   0   0   0   0\n",
            "    0   0   0   0]]\n",
            "\n",
            "Accuracy: 0.007350019864918554\n",
            "Precision: 0.007350019864918554\n",
            "Recall: 0.007350019864918554\n",
            "F1 Score: 0.007350019864918554\n",
            "Accuracy for Gausssian NB 0.007350019864918554\n"
          ]
        }
      ]
    },
    {
      "cell_type": "code",
      "source": [
        "from tensorflow.keras.applications import InceptionV3\n",
        "from tensorflow.keras.applications.inception_v3 import preprocess_input\n",
        "from tensorflow.keras.models import Model\n",
        "import numpy as np\n",
        "\n",
        "# Load the InceptionV3 model without the top (fully connected) layers\n",
        "base_model = InceptionV3(weights='imagenet', include_top=False, input_shape=(150, 150, 3))\n",
        "\n",
        "# Create a new model using the InceptionV3 layers as the feature extractor\n",
        "feature_extractor = Model(inputs=base_model.input, outputs=base_model.layers[-1].output)\n",
        "\n",
        "def extract_features(data):\n",
        "    # Preprocess the data\n",
        "    data = preprocess_input(data)\n",
        "\n",
        "    # Extract features using the feature extractor\n",
        "    features = feature_extractor.predict(data)\n",
        "\n",
        "    return features\n"
      ],
      "metadata": {
        "colab": {
          "base_uri": "https://localhost:8080/"
        },
        "id": "93W0NegUaQds",
        "outputId": "ab1ff12d-90b9-4ac5-e1a1-f4ceeda4bc26"
      },
      "execution_count": 39,
      "outputs": [
        {
          "output_type": "stream",
          "name": "stdout",
          "text": [
            "Downloading data from https://storage.googleapis.com/tensorflow/keras-applications/inception_v3/inception_v3_weights_tf_dim_ordering_tf_kernels_notop.h5\n",
            "87910968/87910968 [==============================] - 0s 0us/step\n"
          ]
        }
      ]
    },
    {
      "cell_type": "code",
      "source": [
        "def extract_features(data):\n",
        "    features = model.predict(data)\n",
        "    return features\n",
        "x_train_features = extract_features(x_train)\n",
        "x_test_features = extract_features(x_test)\n",
        "x_train_inception = np.array([image.flatten() for image in x_train_features])\n",
        "x_test_inception = np.array([image.flatten() for image in x_test_features])"
      ],
      "metadata": {
        "colab": {
          "base_uri": "https://localhost:8080/"
        },
        "id": "GPJizrBQaZPU",
        "outputId": "4ef10bfc-0e2f-4788-d714-eca3caee5e3f"
      },
      "execution_count": 40,
      "outputs": [
        {
          "output_type": "stream",
          "name": "stdout",
          "text": [
            "630/630 [==============================] - 3s 5ms/step\n",
            "158/158 [==============================] - 1s 4ms/step\n"
          ]
        }
      ]
    },
    {
      "cell_type": "code",
      "source": [
        "\n",
        "Random_Forest_Classifier_Custom(x_train_inception, x_test_inception, y_train, y_test)\n",
        "\n",
        "K_Nearest_Neighbors_Clasifier_Custom(x_train_inception, x_test_inception, y_train, y_test)\n",
        "\n",
        "Support_Vector_Machine_Classifier(x_train_inception,x_test_inception,y_train,y_test)\n",
        "BernoulliNB_Custom(x_train_inception,x_test_inception,y_train,y_test)\n",
        "\n",
        "MultinomialNB_Custom(x_train_inception,x_test_inception,y_train,y_test)\n",
        "\n",
        "\n",
        "GaussianNB_Custom(x_train_inception,x_test_inception,y_train,y_test)\n"
      ],
      "metadata": {
        "colab": {
          "base_uri": "https://localhost:8080/"
        },
        "id": "UIYn8GyEaeXf",
        "outputId": "5178f7d5-57bb-4ccf-f2f9-7767adfbe31c"
      },
      "execution_count": 41,
      "outputs": [
        {
          "output_type": "stream",
          "name": "stdout",
          "text": [
            "\n",
            "\n",
            "\n",
            "performance measure : RandomForestClassifier\n",
            "Confusion Matrix:\n",
            "[[  0   0   0   0   0   0   0   0   0   0   0   0   0   0   0   0   0   0\n",
            "    0   0   0   0]\n",
            " [  0   0   0   0   0   0   0   0   0   0   0   0   0   0   0   0   0   0\n",
            "    0   0   0   0]\n",
            " [  0   0   0   0   0   0   0   0   0   0   0   0   0   0   0   0   0   0\n",
            "    0   0   0   0]\n",
            " [  0   0   0   0   0   0   0   0   0   0   0   0   0   0   0   0   0   0\n",
            "    0   0   0   0]\n",
            " [  0   0   0   0   0   0   0   0   0   0   0   0   0   0   0   0   0   0\n",
            "    0   0   0   0]\n",
            " [  0   0   0   0   0   0   0   0   0   0   0   0   0   0   0   0   0   0\n",
            "    0   0   0   0]\n",
            " [  0   0   0   0   0   0   0   0   0   0   0   0   0   0   0   0   0   0\n",
            "    0   0   0   0]\n",
            " [  0   0   0   0   0   0   0   0   0   0   0   0   0   0   0   0   0   0\n",
            "    0   0   0   0]\n",
            " [  0   0   0   0   0   0   0   0   0   0   0   0   0   0   0   0   0   0\n",
            "    0   0   0   0]\n",
            " [  0   0   0   0   0   0   0   0   0   0   0   0   0   0   0   0   0   0\n",
            "    0   0   0   0]\n",
            " [  0   0   0   0   0   0   0   0   0   0   0   0   0   0   0   0   0   0\n",
            "    0   0   0   0]\n",
            " [  0   0   0   0   0   0   0   0   0   0   0   0   0   0   0   0   0   0\n",
            "    0   0   0   0]\n",
            " [  0   0   0   0   0   0   0   0   0   0   0   0   0   0   0   0   0   0\n",
            "    0   0   0   0]\n",
            " [  0   0   0   0   0   0   0   0   0   0   0   0   0   0   0   0   0   0\n",
            "    0   0   0   0]\n",
            " [  0   0   0   0   0   0   0   0   0   0   0   0   0   0   0   0   0   0\n",
            "    0   0   0   0]\n",
            " [  0   0   0   0   0   0   0   0   0   0   0   0   0   0   0   0   0   0\n",
            "    0   0   0   0]\n",
            " [  0   0   0   0   0   0   0   0   0   0   0   0   0   0   0   0   0   0\n",
            "    0   0   0   0]\n",
            " [  0   0   0   0   0   0   0   0   0   0   0   0   0   0   0   0   0   0\n",
            "    0   0   0   0]\n",
            " [  0   0   0   0   0   0   0   0   0   0   0   0   0   0   0   0   0   0\n",
            "    0   0   0   0]\n",
            " [  0   0   0   0   0   0   0   0   0   0   0   0   0   0   0   0   0   0\n",
            "    0   0   0   0]\n",
            " [335  64 305 292 340 542 322 209 246 214  59 138  37 166 184 248 194 104\n",
            "  245  99 529 162]\n",
            " [  0   0   0   0   0   0   0   0   0   0   0   0   0   0   0   0   0   0\n",
            "    0   0   0   0]]\n",
            "\n",
            "Accuracy: 0.10508541914978149\n",
            "Precision: 0.10508541914978149\n",
            "Recall: 0.10508541914978149\n",
            "F1 Score: 0.10508541914978149\n",
            "Accuracy for Random forest  0.10508541914978149\n",
            "\n",
            "\n",
            "\n",
            "performance measure : KNeighborsClassifier\n",
            "Confusion Matrix:\n",
            "[[  0   0   0   0   0   0   0   0   0   0   0   0   0   0   0   0   0   0\n",
            "    0   0   0   0]\n",
            " [  0   0   0   0   0   0   0   0   0   0   0   0   0   0   0   0   0   0\n",
            "    0   0   0   0]\n",
            " [  0   0   0   0   0   0   0   0   0   0   0   0   0   0   0   0   0   0\n",
            "    0   0   0   0]\n",
            " [  0   0   0   0   0   0   0   0   0   0   0   0   0   0   0   0   0   0\n",
            "    0   0   0   0]\n",
            " [  0   0   0   0   0   0   0   0   0   0   0   0   0   0   0   0   0   0\n",
            "    0   0   0   0]\n",
            " [  0   0   0   0   0   0   0   0   0   0   0   0   0   0   0   0   0   0\n",
            "    0   0   0   0]\n",
            " [  0   0   0   0   0   0   0   0   0   0   0   0   0   0   0   0   0   0\n",
            "    0   0   0   0]\n",
            " [  0   0   0   0   0   0   0   0   0   0   0   0   0   0   0   0   0   0\n",
            "    0   0   0   0]\n",
            " [  0   0   0   0   0   0   0   0   0   0   0   0   0   0   0   0   0   0\n",
            "    0   0   0   0]\n",
            " [  0   0   0   0   0   0   0   0   0   0   0   0   0   0   0   0   0   0\n",
            "    0   0   0   0]\n",
            " [  0   0   0   0   0   0   0   0   0   0   0   0   0   0   0   0   0   0\n",
            "    0   0   0   0]\n",
            " [  0   0   0   0   0   0   0   0   0   0   0   0   0   0   0   0   0   0\n",
            "    0   0   0   0]\n",
            " [  0   0   0   0   0   0   0   0   0   0   0   0   0   0   0   0   0   0\n",
            "    0   0   0   0]\n",
            " [335  64 305 292 340 542 322 209 246 214  59 138  37 166 184 248 194 104\n",
            "  245  99 529 162]\n",
            " [  0   0   0   0   0   0   0   0   0   0   0   0   0   0   0   0   0   0\n",
            "    0   0   0   0]\n",
            " [  0   0   0   0   0   0   0   0   0   0   0   0   0   0   0   0   0   0\n",
            "    0   0   0   0]\n",
            " [  0   0   0   0   0   0   0   0   0   0   0   0   0   0   0   0   0   0\n",
            "    0   0   0   0]\n",
            " [  0   0   0   0   0   0   0   0   0   0   0   0   0   0   0   0   0   0\n",
            "    0   0   0   0]\n",
            " [  0   0   0   0   0   0   0   0   0   0   0   0   0   0   0   0   0   0\n",
            "    0   0   0   0]\n",
            " [  0   0   0   0   0   0   0   0   0   0   0   0   0   0   0   0   0   0\n",
            "    0   0   0   0]\n",
            " [  0   0   0   0   0   0   0   0   0   0   0   0   0   0   0   0   0   0\n",
            "    0   0   0   0]\n",
            " [  0   0   0   0   0   0   0   0   0   0   0   0   0   0   0   0   0   0\n",
            "    0   0   0   0]]\n",
            "\n",
            "Accuracy: 0.03297576479936432\n",
            "Precision: 0.03297576479936432\n",
            "Recall: 0.03297576479936432\n",
            "F1 Score: 0.03297576479936432\n",
            "Accuracy for K-Nearest Neighbors Clasifier  0.03297576479936432\n",
            "\n",
            "\n",
            "\n",
            "performance measure : Support_Vector_Machine\n",
            "Confusion Matrix:\n",
            "[[  0   0   0   0   0   0   0   0   0   0   0   0   0   0   0   0   0   0\n",
            "    0   0   0   0]\n",
            " [  0   0   0   0   0   0   0   0   0   0   0   0   0   0   0   0   0   0\n",
            "    0   0   0   0]\n",
            " [  0   0   0   0   0   0   0   0   0   0   0   0   0   0   0   0   0   0\n",
            "    0   0   0   0]\n",
            " [  0   0   0   0   0   0   0   0   0   0   0   0   0   0   0   0   0   0\n",
            "    0   0   0   0]\n",
            " [  0   0   0   0   0   0   0   0   0   0   0   0   0   0   0   0   0   0\n",
            "    0   0   0   0]\n",
            " [  0   0   0   0   0   0   0   0   0   0   0   0   0   0   0   0   0   0\n",
            "    0   0   0   0]\n",
            " [  0   0   0   0   0   0   0   0   0   0   0   0   0   0   0   0   0   0\n",
            "    0   0   0   0]\n",
            " [  0   0   0   0   0   0   0   0   0   0   0   0   0   0   0   0   0   0\n",
            "    0   0   0   0]\n",
            " [  0   0   0   0   0   0   0   0   0   0   0   0   0   0   0   0   0   0\n",
            "    0   0   0   0]\n",
            " [  0   0   0   0   0   0   0   0   0   0   0   0   0   0   0   0   0   0\n",
            "    0   0   0   0]\n",
            " [  0   0   0   0   0   0   0   0   0   0   0   0   0   0   0   0   0   0\n",
            "    0   0   0   0]\n",
            " [  0   0   0   0   0   0   0   0   0   0   0   0   0   0   0   0   0   0\n",
            "    0   0   0   0]\n",
            " [  0   0   0   0   0   0   0   0   0   0   0   0   0   0   0   0   0   0\n",
            "    0   0   0   0]\n",
            " [  0   0   0   0   0   0   0   0   0   0   0   0   0   0   0   0   0   0\n",
            "    0   0   0   0]\n",
            " [  0   0   0   0   0   0   0   0   0   0   0   0   0   0   0   0   0   0\n",
            "    0   0   0   0]\n",
            " [  0   0   0   0   0   0   0   0   0   0   0   0   0   0   0   0   0   0\n",
            "    0   0   0   0]\n",
            " [  0   0   0   0   0   0   0   0   0   0   0   0   0   0   0   0   0   0\n",
            "    0   0   0   0]\n",
            " [  0   0   0   0   0   0   0   0   0   0   0   0   0   0   0   0   0   0\n",
            "    0   0   0   0]\n",
            " [  0   0   0   0   0   0   0   0   0   0   0   0   0   0   0   0   0   0\n",
            "    0   0   0   0]\n",
            " [  0   0   0   0   0   0   0   0   0   0   0   0   0   0   0   0   0   0\n",
            "    0   0   0   0]\n",
            " [335  64 305 292 340 542 322 209 246 214  59 138  37 166 184 248 194 104\n",
            "  245  99 529 162]\n",
            " [  0   0   0   0   0   0   0   0   0   0   0   0   0   0   0   0   0   0\n",
            "    0   0   0   0]]\n",
            "\n",
            "Accuracy: 0.10508541914978149\n",
            "Precision: 0.10508541914978149\n",
            "Recall: 0.10508541914978149\n",
            "F1 Score: 0.10508541914978149\n",
            "Accuracy for Support vector machine Classifier   0.10508541914978149\n",
            "\n",
            "\n",
            "\n",
            "performance measure : BernoulliNB\n",
            "Confusion Matrix:\n",
            "[[  0   0   0   0   0   0   0   0   0   0   0   0   0   0   0   0   0   0\n",
            "    0   0   0   0]\n",
            " [  0   0   0   0   0   0   0   0   0   0   0   0   0   0   0   0   0   0\n",
            "    0   0   0   0]\n",
            " [  0   0   0   0   0   0   0   0   0   0   0   0   0   0   0   0   0   0\n",
            "    0   0   0   0]\n",
            " [  0   0   0   0   0   0   0   0   0   0   0   0   0   0   0   0   0   0\n",
            "    0   0   0   0]\n",
            " [  0   0   0   0   0   0   0   0   0   0   0   0   0   0   0   0   0   0\n",
            "    0   0   0   0]\n",
            " [  0   0   0   0   0   0   0   0   0   0   0   0   0   0   0   0   0   0\n",
            "    0   0   0   0]\n",
            " [  0   0   0   0   0   0   0   0   0   0   0   0   0   0   0   0   0   0\n",
            "    0   0   0   0]\n",
            " [  0   0   0   0   0   0   0   0   0   0   0   0   0   0   0   0   0   0\n",
            "    0   0   0   0]\n",
            " [  0   0   0   0   0   0   0   0   0   0   0   0   0   0   0   0   0   0\n",
            "    0   0   0   0]\n",
            " [  0   0   0   0   0   0   0   0   0   0   0   0   0   0   0   0   0   0\n",
            "    0   0   0   0]\n",
            " [  0   0   0   0   0   0   0   0   0   0   0   0   0   0   0   0   0   0\n",
            "    0   0   0   0]\n",
            " [  0   0   0   0   0   0   0   0   0   0   0   0   0   0   0   0   0   0\n",
            "    0   0   0   0]\n",
            " [  0   0   0   0   0   0   0   0   0   0   0   0   0   0   0   0   0   0\n",
            "    0   0   0   0]\n",
            " [  0   0   0   0   0   0   0   0   0   0   0   0   0   0   0   0   0   0\n",
            "    0   0   0   0]\n",
            " [  0   0   0   0   0   0   0   0   0   0   0   0   0   0   0   0   0   0\n",
            "    0   0   0   0]\n",
            " [  0   0   0   0   0   0   0   0   0   0   0   0   0   0   0   0   0   0\n",
            "    0   0   0   0]\n",
            " [  0   0   0   0   0   0   0   0   0   0   0   0   0   0   0   0   0   0\n",
            "    0   0   0   0]\n",
            " [  0   0   0   0   0   0   0   0   0   0   0   0   0   0   0   0   0   0\n",
            "    0   0   0   0]\n",
            " [  0   0   0   0   0   0   0   0   0   0   0   0   0   0   0   0   0   0\n",
            "    0   0   0   0]\n",
            " [  0   0   0   0   0   0   0   0   0   0   0   0   0   0   0   0   0   0\n",
            "    0   0   0   0]\n",
            " [335  64 305 292 340 542 322 209 246 214  59 138  37 166 184 248 194 104\n",
            "  245  99 529 162]\n",
            " [  0   0   0   0   0   0   0   0   0   0   0   0   0   0   0   0   0   0\n",
            "    0   0   0   0]]\n",
            "\n",
            "Accuracy: 0.10508541914978149\n",
            "Precision: 0.10508541914978149\n",
            "Recall: 0.10508541914978149\n",
            "F1 Score: 0.10508541914978149\n",
            "Accuracy for BernoulliNB  0.10508541914978149\n",
            "\n",
            "\n",
            "\n",
            "performance measure : MultinomialNB\n",
            "Confusion Matrix:\n",
            "[[  0   0   0   0   0   0   0   0   0   0   0   0   0   0   0   0   0   0\n",
            "    0   0   0   0]\n",
            " [  0   0   0   0   0   0   0   0   0   0   0   0   0   0   0   0   0   0\n",
            "    0   0   0   0]\n",
            " [  0   0   0   0   0   0   0   0   0   0   0   0   0   0   0   0   0   0\n",
            "    0   0   0   0]\n",
            " [  0   0   0   0   0   0   0   0   0   0   0   0   0   0   0   0   0   0\n",
            "    0   0   0   0]\n",
            " [  0   0   0   0   0   0   0   0   0   0   0   0   0   0   0   0   0   0\n",
            "    0   0   0   0]\n",
            " [  0   0   0   0   0   0   0   0   0   0   0   0   0   0   0   0   0   0\n",
            "    0   0   0   0]\n",
            " [  0   0   0   0   0   0   0   0   0   0   0   0   0   0   0   0   0   0\n",
            "    0   0   0   0]\n",
            " [  0   0   0   0   0   0   0   0   0   0   0   0   0   0   0   0   0   0\n",
            "    0   0   0   0]\n",
            " [  0   0   0   0   0   0   0   0   0   0   0   0   0   0   0   0   0   0\n",
            "    0   0   0   0]\n",
            " [  0   0   0   0   0   0   0   0   0   0   0   0   0   0   0   0   0   0\n",
            "    0   0   0   0]\n",
            " [  0   0   0   0   0   0   0   0   0   0   0   0   0   0   0   0   0   0\n",
            "    0   0   0   0]\n",
            " [  0   0   0   0   0   0   0   0   0   0   0   0   0   0   0   0   0   0\n",
            "    0   0   0   0]\n",
            " [  0   0   0   0   0   0   0   0   0   0   0   0   0   0   0   0   0   0\n",
            "    0   0   0   0]\n",
            " [  0   0   0   0   0   0   0   0   0   0   0   0   0   0   0   0   0   0\n",
            "    0   0   0   0]\n",
            " [  0   0   0   0   0   0   0   0   0   0   0   0   0   0   0   0   0   0\n",
            "    0   0   0   0]\n",
            " [  0   0   0   0   0   0   0   0   0   0   0   0   0   0   0   0   0   0\n",
            "    0   0   0   0]\n",
            " [  0   0   0   0   0   0   0   0   0   0   0   0   0   0   0   0   0   0\n",
            "    0   0   0   0]\n",
            " [  0   0   0   0   0   0   0   0   0   0   0   0   0   0   0   0   0   0\n",
            "    0   0   0   0]\n",
            " [  0   0   0   0   0   0   0   0   0   0   0   0   0   0   0   0   0   0\n",
            "    0   0   0   0]\n",
            " [  0   0   0   0   0   0   0   0   0   0   0   0   0   0   0   0   0   0\n",
            "    0   0   0   0]\n",
            " [335  64 305 292 340 542 322 209 246 214  59 138  37 166 184 248 194 104\n",
            "  245  99 529 162]\n",
            " [  0   0   0   0   0   0   0   0   0   0   0   0   0   0   0   0   0   0\n",
            "    0   0   0   0]]\n",
            "\n",
            "Accuracy: 0.10508541914978149\n",
            "Precision: 0.10508541914978149\n",
            "Recall: 0.10508541914978149\n",
            "F1 Score: 0.10508541914978149\n",
            "Accuracy for MultinomialNB  0.10508541914978149\n",
            "\n",
            "\n",
            "\n",
            "performance measure : GaussianNB\n",
            "Confusion Matrix:\n",
            "[[  0   0   0   0   0   0   0   0   0   0   0   0   0   0   0   0   0   0\n",
            "    0   0   0   0]\n",
            " [  0   0   0   0   0   0   0   0   0   0   0   0   0   0   0   0   0   0\n",
            "    0   0   0   0]\n",
            " [  0   0   0   0   0   0   0   0   0   0   0   0   0   0   0   0   0   0\n",
            "    0   0   0   0]\n",
            " [  0   0   0   0   0   0   0   0   0   0   0   0   0   0   0   0   0   0\n",
            "    0   0   0   0]\n",
            " [  0   0   0   0   0   0   0   0   0   0   0   0   0   0   0   0   0   0\n",
            "    0   0   0   0]\n",
            " [  0   0   0   0   0   0   0   0   0   0   0   0   0   0   0   0   0   0\n",
            "    0   0   0   0]\n",
            " [  0   0   0   0   0   0   0   0   0   0   0   0   0   0   0   0   0   0\n",
            "    0   0   0   0]\n",
            " [  0   0   0   0   0   0   0   0   0   0   0   0   0   0   0   0   0   0\n",
            "    0   0   0   0]\n",
            " [  0   0   0   0   0   0   0   0   0   0   0   0   0   0   0   0   0   0\n",
            "    0   0   0   0]\n",
            " [  0   0   0   0   0   0   0   0   0   0   0   0   0   0   0   0   0   0\n",
            "    0   0   0   0]\n",
            " [  0   0   0   0   0   0   0   0   0   0   0   0   0   0   0   0   0   0\n",
            "    0   0   0   0]\n",
            " [  0   0   0   0   0   0   0   0   0   0   0   0   0   0   0   0   0   0\n",
            "    0   0   0   0]\n",
            " [335  64 305 292 340 542 322 209 246 214  59 138  37 166 184 248 194 104\n",
            "  245  99 529 162]\n",
            " [  0   0   0   0   0   0   0   0   0   0   0   0   0   0   0   0   0   0\n",
            "    0   0   0   0]\n",
            " [  0   0   0   0   0   0   0   0   0   0   0   0   0   0   0   0   0   0\n",
            "    0   0   0   0]\n",
            " [  0   0   0   0   0   0   0   0   0   0   0   0   0   0   0   0   0   0\n",
            "    0   0   0   0]\n",
            " [  0   0   0   0   0   0   0   0   0   0   0   0   0   0   0   0   0   0\n",
            "    0   0   0   0]\n",
            " [  0   0   0   0   0   0   0   0   0   0   0   0   0   0   0   0   0   0\n",
            "    0   0   0   0]\n",
            " [  0   0   0   0   0   0   0   0   0   0   0   0   0   0   0   0   0   0\n",
            "    0   0   0   0]\n",
            " [  0   0   0   0   0   0   0   0   0   0   0   0   0   0   0   0   0   0\n",
            "    0   0   0   0]\n",
            " [  0   0   0   0   0   0   0   0   0   0   0   0   0   0   0   0   0   0\n",
            "    0   0   0   0]\n",
            " [  0   0   0   0   0   0   0   0   0   0   0   0   0   0   0   0   0   0\n",
            "    0   0   0   0]]\n",
            "\n",
            "Accuracy: 0.007350019864918554\n",
            "Precision: 0.007350019864918554\n",
            "Recall: 0.007350019864918554\n",
            "F1 Score: 0.007350019864918554\n",
            "Accuracy for Gausssian NB 0.007350019864918554\n"
          ]
        }
      ]
    }
  ]
}