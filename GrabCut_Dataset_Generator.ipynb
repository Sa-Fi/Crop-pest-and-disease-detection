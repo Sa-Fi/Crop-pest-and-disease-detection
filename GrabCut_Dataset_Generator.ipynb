{
  "cells": [
    {
      "cell_type": "markdown",
      "metadata": {
        "id": "view-in-github",
        "colab_type": "text"
      },
      "source": [
        "<a href=\"https://colab.research.google.com/github/Sa-Fi/Crop-pest-and-disease-detection/blob/main/GrabCut_Dataset_Generator.ipynb\" target=\"_parent\"><img src=\"https://colab.research.google.com/assets/colab-badge.svg\" alt=\"Open In Colab\"/></a>"
      ]
    },
    {
      "cell_type": "code",
      "execution_count": null,
      "metadata": {
        "colab": {
          "base_uri": "https://localhost:8080/"
        },
        "id": "bIcdu4erCqtR",
        "outputId": "026d3d95-fc50-4c46-aa2c-b432d52f8f77"
      },
      "outputs": [
        {
          "name": "stdout",
          "output_type": "stream",
          "text": [
            "Warning: Your Kaggle API key is readable by other users on this system! To fix this, you can run 'chmod 600 /root/.kaggle/kaggle.json'\n",
            "Downloading leaf-disease.zip to /content\n",
            "100% 1.24G/1.25G [00:15<00:00, 87.4MB/s]\n",
            "100% 1.25G/1.25G [00:15<00:00, 85.8MB/s]\n"
          ]
        }
      ],
      "source": [
        "\n",
        "#upload the kaggle json\n",
        "!mkdir -p ~/.kaggle\n",
        "!cp kaggle.json ~/.kaggle/\n",
        "!kaggle datasets download -d safiullah007/leaf-disease\n"
      ]
    },
    {
      "cell_type": "code",
      "execution_count": null,
      "metadata": {
        "id": "E6Rvy4NVGjxC"
      },
      "outputs": [],
      "source": [
        "\n",
        "# unzip the file\n",
        "import zipfile\n",
        "zip_ref = zipfile.ZipFile('/content/leaf-disease.zip', 'r')\n",
        "zip_ref.extractall('/content')\n",
        "zip_ref.close()"
      ]
    },
    {
      "cell_type": "code",
      "execution_count": null,
      "metadata": {
        "id": "ys85k4ibGl5J"
      },
      "outputs": [],
      "source": [
        "\n",
        "import cv2\n",
        "import matplotlib.pyplot as plt\n",
        "import numpy as np\n",
        "from google.colab.patches import cv2_imshow\n",
        "import os\n",
        "from tqdm import tqdm"
      ]
    },
    {
      "cell_type": "markdown",
      "source": [
        "**Cahsew full ,tomato full**"
      ],
      "metadata": {
        "id": "pq7iDOdzykFA"
      }
    },
    {
      "cell_type": "code",
      "execution_count": null,
      "metadata": {
        "id": "GmGfc10YGmN3"
      },
      "outputs": [],
      "source": [
        "def grabcut_segmentation(image, rect):\n",
        "    \"\"\"\n",
        "    Perform GrabCut segmentation on an input image.\n",
        "\n",
        "    Args:\n",
        "        image (numpy.ndarray): The input image.\n",
        "        rect (tuple): A rectangle (x, y, width, height) specifying the region of interest (ROI).\n",
        "\n",
        "    Returns:\n",
        "        numpy.ndarray: The segmented image.\n",
        "    \"\"\"\n",
        "    # Create a mask for initialization (0 for background, 1 for foreground)\n",
        "    mask = np.zeros(image.shape[:2], np.uint8)\n",
        "\n",
        "    # Initialize the background and foreground models\n",
        "    bgdModel = np.zeros((1, 65), np.float64)\n",
        "    fgdModel = np.zeros((1, 65), np.float64)\n",
        "\n",
        "    # Apply GrabCut\n",
        "    cv2.grabCut(image, mask, rect, bgdModel, fgdModel, 5, cv2.GC_INIT_WITH_RECT)\n",
        "\n",
        "    # Modify the mask to obtain the final result\n",
        "    mask2 = np.where((mask == 2) | (mask == 0), 0, 1).astype('uint8')\n",
        "\n",
        "    # Multiply the image with the mask to get the segmented result\n",
        "    segmented_image = image * mask2[:, :, np.newaxis]\n",
        "\n",
        "    return segmented_image\n"
      ]
    },
    {
      "cell_type": "markdown",
      "metadata": {
        "id": "kfLvaAY5tzOG"
      },
      "source": [
        "Cashew"
      ]
    },
    {
      "cell_type": "code",
      "execution_count": null,
      "metadata": {
        "colab": {
          "base_uri": "https://localhost:8080/"
        },
        "id": "rBxS5vlJIWFb",
        "outputId": "ad48abca-8eab-4786-f80d-48d6ea119284"
      },
      "outputs": [
        {
          "name": "stdout",
          "output_type": "stream",
          "text": [
            "Segmented and saved: /content/drive/MyDrive/CCMT dataset(grab_cut)/Cashew/anthracnose/anthracnose963_.jpg\n",
            "Segmented and saved: /content/drive/MyDrive/CCMT dataset(grab_cut)/Cashew/anthracnose/anthracnose948_.jpg\n",
            "Segmented and saved: /content/drive/MyDrive/CCMT dataset(grab_cut)/Cashew/anthracnose/anthracnose614_.jpg\n",
            "Segmented and saved: /content/drive/MyDrive/CCMT dataset(grab_cut)/Cashew/anthracnose/anthracnose741_.jpg\n",
            "Segmented and saved: /content/drive/MyDrive/CCMT dataset(grab_cut)/Cashew/anthracnose/anthracnose1573_.jpg\n",
            "Segmented and saved: /content/drive/MyDrive/CCMT dataset(grab_cut)/Cashew/anthracnose/anthracnose240_.jpg\n",
            "Segmented and saved: /content/drive/MyDrive/CCMT dataset(grab_cut)/Cashew/anthracnose/anthracnose620_.jpg\n",
            "Segmented and saved: /content/drive/MyDrive/CCMT dataset(grab_cut)/Cashew/anthracnose/anthracnose564_.jpg\n",
            "Segmented and saved: /content/drive/MyDrive/CCMT dataset(grab_cut)/Cashew/anthracnose/anthracnose1116_.jpg\n",
            "Segmented and saved: /content/drive/MyDrive/CCMT dataset(grab_cut)/Cashew/anthracnose/anthracnose1671_.jpg\n",
            "Segmented and saved: /content/drive/MyDrive/CCMT dataset(grab_cut)/Cashew/anthracnose/anthracnose1005_.jpg\n",
            "Segmented and saved: /content/drive/MyDrive/CCMT dataset(grab_cut)/Cashew/anthracnose/anthracnose1460_.jpg\n",
            "Segmented and saved: /content/drive/MyDrive/CCMT dataset(grab_cut)/Cashew/anthracnose/anthracnose1613_.jpg\n",
            "Segmented and saved: /content/drive/MyDrive/CCMT dataset(grab_cut)/Cashew/anthracnose/anthracnose1240_.jpg\n",
            "Segmented and saved: /content/drive/MyDrive/CCMT dataset(grab_cut)/Cashew/anthracnose/anthracnose1548_.jpg\n",
            "Segmented and saved: /content/drive/MyDrive/CCMT dataset(grab_cut)/Cashew/anthracnose/anthracnose272_.jpg\n",
            "Segmented and saved: /content/drive/MyDrive/CCMT dataset(grab_cut)/Cashew/anthracnose/anthracnose1649_.jpg\n",
            "Segmented and saved: /content/drive/MyDrive/CCMT dataset(grab_cut)/Cashew/anthracnose/anthracnose278_.jpg\n",
            "Segmented and saved: /content/drive/MyDrive/CCMT dataset(grab_cut)/Cashew/anthracnose/anthracnose81_.jpg\n",
            "Segmented and saved: /content/drive/MyDrive/CCMT dataset(grab_cut)/Cashew/anthracnose/anthracnose1414_.jpg\n",
            "Segmented and saved: /content/drive/MyDrive/CCMT dataset(grab_cut)/Cashew/anthracnose/anthracnose235_.jpg\n",
            "Segmented and saved: /content/drive/MyDrive/CCMT dataset(grab_cut)/Cashew/anthracnose/anthracnose1215_.jpg\n",
            "Segmented and saved: /content/drive/MyDrive/CCMT dataset(grab_cut)/Cashew/anthracnose/anthracnose735_.jpg\n",
            "Segmented and saved: /content/drive/MyDrive/CCMT dataset(grab_cut)/Cashew/anthracnose/anthracnose895_.jpg\n",
            "Segmented and saved: /content/drive/MyDrive/CCMT dataset(grab_cut)/Cashew/anthracnose/anthracnose1419_.jpg\n",
            "Segmented and saved: /content/drive/MyDrive/CCMT dataset(grab_cut)/Cashew/anthracnose/anthracnose1456_.jpg\n",
            "Segmented and saved: /content/drive/MyDrive/CCMT dataset(grab_cut)/Cashew/anthracnose/anthracnose167_.jpg\n",
            "Segmented and saved: /content/drive/MyDrive/CCMT dataset(grab_cut)/Cashew/anthracnose/anthracnose930_.jpg\n",
            "Segmented and saved: /content/drive/MyDrive/CCMT dataset(grab_cut)/Cashew/anthracnose/anthracnose1495_.jpg\n",
            "Segmented and saved: /content/drive/MyDrive/CCMT dataset(grab_cut)/Cashew/anthracnose/anthracnose491_.jpg\n",
            "Segmented and saved: /content/drive/MyDrive/CCMT dataset(grab_cut)/Cashew/anthracnose/anthracnose176_.jpg\n",
            "Segmented and saved: /content/drive/MyDrive/CCMT dataset(grab_cut)/Cashew/anthracnose/anthracnose801_.jpg\n",
            "Segmented and saved: /content/drive/MyDrive/CCMT dataset(grab_cut)/Cashew/anthracnose/anthracnose1354_.jpg\n",
            "Segmented and saved: /content/drive/MyDrive/CCMT dataset(grab_cut)/Cashew/anthracnose/anthracnose252_.jpg\n",
            "Segmented and saved: /content/drive/MyDrive/CCMT dataset(grab_cut)/Cashew/anthracnose/anthracnose379_.jpg\n",
            "Segmented and saved: /content/drive/MyDrive/CCMT dataset(grab_cut)/Cashew/anthracnose/anthracnose30_.jpg\n",
            "Segmented and saved: /content/drive/MyDrive/CCMT dataset(grab_cut)/Cashew/anthracnose/anthracnose1247_.jpg\n",
            "Segmented and saved: /content/drive/MyDrive/CCMT dataset(grab_cut)/Cashew/anthracnose/anthracnose1678_.jpg\n",
            "Segmented and saved: /content/drive/MyDrive/CCMT dataset(grab_cut)/Cashew/anthracnose/anthracnose219_.jpg\n",
            "Segmented and saved: /content/drive/MyDrive/CCMT dataset(grab_cut)/Cashew/anthracnose/anthracnose1614_.jpg\n",
            "Segmented and saved: /content/drive/MyDrive/CCMT dataset(grab_cut)/Cashew/anthracnose/anthracnose123_.jpg\n",
            "Segmented and saved: /content/drive/MyDrive/CCMT dataset(grab_cut)/Cashew/anthracnose/anthracnose854_.jpg\n",
            "Segmented and saved: /content/drive/MyDrive/CCMT dataset(grab_cut)/Cashew/anthracnose/anthracnose987_.jpg\n",
            "Segmented and saved: /content/drive/MyDrive/CCMT dataset(grab_cut)/Cashew/anthracnose/anthracnose775_.jpg\n",
            "Segmented and saved: /content/drive/MyDrive/CCMT dataset(grab_cut)/Cashew/anthracnose/anthracnose940_.jpg\n",
            "Segmented and saved: /content/drive/MyDrive/CCMT dataset(grab_cut)/Cashew/anthracnose/anthracnose1638_.jpg\n",
            "Segmented and saved: /content/drive/MyDrive/CCMT dataset(grab_cut)/Cashew/anthracnose/anthracnose519_.jpg\n",
            "Segmented and saved: /content/drive/MyDrive/CCMT dataset(grab_cut)/Cashew/anthracnose/anthracnose779_.jpg\n",
            "Segmented and saved: /content/drive/MyDrive/CCMT dataset(grab_cut)/Cashew/anthracnose/anthracnose1681_.jpg\n",
            "Segmented and saved: /content/drive/MyDrive/CCMT dataset(grab_cut)/Cashew/anthracnose/anthracnose1492_.jpg\n",
            "Segmented and saved: /content/drive/MyDrive/CCMT dataset(grab_cut)/Cashew/anthracnose/anthracnose836_.jpg\n",
            "Segmented and saved: /content/drive/MyDrive/CCMT dataset(grab_cut)/Cashew/anthracnose/anthracnose149_.jpg\n",
            "Segmented and saved: /content/drive/MyDrive/CCMT dataset(grab_cut)/Cashew/anthracnose/anthracnose323_.jpg\n",
            "Segmented and saved: /content/drive/MyDrive/CCMT dataset(grab_cut)/Cashew/anthracnose/anthracnose1640_.jpg\n",
            "Segmented and saved: /content/drive/MyDrive/CCMT dataset(grab_cut)/Cashew/anthracnose/anthracnose1718_.jpg\n",
            "Segmented and saved: /content/drive/MyDrive/CCMT dataset(grab_cut)/Cashew/anthracnose/anthracnose102_.jpg\n",
            "Segmented and saved: /content/drive/MyDrive/CCMT dataset(grab_cut)/Cashew/anthracnose/anthracnose456_.jpg\n",
            "Segmented and saved: /content/drive/MyDrive/CCMT dataset(grab_cut)/Cashew/anthracnose/anthracnose666_.jpg\n",
            "Segmented and saved: /content/drive/MyDrive/CCMT dataset(grab_cut)/Cashew/anthracnose/anthracnose1195_.jpg\n",
            "Segmented and saved: /content/drive/MyDrive/CCMT dataset(grab_cut)/Cashew/anthracnose/anthracnose971_.jpg\n",
            "Segmented and saved: /content/drive/MyDrive/CCMT dataset(grab_cut)/Cashew/anthracnose/anthracnose1235_.jpg\n",
            "Segmented and saved: /content/drive/MyDrive/CCMT dataset(grab_cut)/Cashew/anthracnose/anthracnose1137_.jpg\n",
            "Segmented and saved: /content/drive/MyDrive/CCMT dataset(grab_cut)/Cashew/anthracnose/anthracnose1430_.jpg\n",
            "Segmented and saved: /content/drive/MyDrive/CCMT dataset(grab_cut)/Cashew/anthracnose/anthracnose1635_.jpg\n",
            "Segmented and saved: /content/drive/MyDrive/CCMT dataset(grab_cut)/Cashew/anthracnose/anthracnose799_.jpg\n",
            "Segmented and saved: /content/drive/MyDrive/CCMT dataset(grab_cut)/Cashew/anthracnose/anthracnose715_.jpg\n",
            "Segmented and saved: /content/drive/MyDrive/CCMT dataset(grab_cut)/Cashew/anthracnose/anthracnose1407_.jpg\n",
            "Segmented and saved: /content/drive/MyDrive/CCMT dataset(grab_cut)/Cashew/anthracnose/anthracnose1347_.jpg\n",
            "Segmented and saved: /content/drive/MyDrive/CCMT dataset(grab_cut)/Cashew/anthracnose/anthracnose1319_.jpg\n",
            "Segmented and saved: /content/drive/MyDrive/CCMT dataset(grab_cut)/Cashew/anthracnose/anthracnose981_.jpg\n",
            "Segmented and saved: /content/drive/MyDrive/CCMT dataset(grab_cut)/Cashew/anthracnose/anthracnose1418_.jpg\n",
            "Segmented and saved: /content/drive/MyDrive/CCMT dataset(grab_cut)/Cashew/anthracnose/anthracnose132_.jpg\n",
            "Segmented and saved: /content/drive/MyDrive/CCMT dataset(grab_cut)/Cashew/anthracnose/anthracnose1135_.jpg\n",
            "Segmented and saved: /content/drive/MyDrive/CCMT dataset(grab_cut)/Cashew/anthracnose/anthracnose704_.jpg\n",
            "Segmented and saved: /content/drive/MyDrive/CCMT dataset(grab_cut)/Cashew/anthracnose/anthracnose1372_.jpg\n",
            "Segmented and saved: /content/drive/MyDrive/CCMT dataset(grab_cut)/Cashew/anthracnose/anthracnose218_.jpg\n",
            "Segmented and saved: /content/drive/MyDrive/CCMT dataset(grab_cut)/Cashew/anthracnose/anthracnose1680_.jpg\n",
            "Segmented and saved: /content/drive/MyDrive/CCMT dataset(grab_cut)/Cashew/anthracnose/anthracnose85_.jpg\n",
            "Segmented and saved: /content/drive/MyDrive/CCMT dataset(grab_cut)/Cashew/anthracnose/anthracnose1623_.jpg\n",
            "Segmented and saved: /content/drive/MyDrive/CCMT dataset(grab_cut)/Cashew/anthracnose/anthracnose823_.jpg\n",
            "Segmented and saved: /content/drive/MyDrive/CCMT dataset(grab_cut)/Cashew/anthracnose/anthracnose1234_.jpg\n",
            "Segmented and saved: /content/drive/MyDrive/CCMT dataset(grab_cut)/Cashew/anthracnose/anthracnose1480_.jpg\n",
            "Segmented and saved: /content/drive/MyDrive/CCMT dataset(grab_cut)/Cashew/anthracnose/anthracnose331_.jpg\n",
            "Segmented and saved: /content/drive/MyDrive/CCMT dataset(grab_cut)/Cashew/anthracnose/anthracnose468_.jpg\n",
            "Segmented and saved: /content/drive/MyDrive/CCMT dataset(grab_cut)/Cashew/anthracnose/anthracnose1490_.jpg\n",
            "Segmented and saved: /content/drive/MyDrive/CCMT dataset(grab_cut)/Cashew/anthracnose/anthracnose880_.jpg\n",
            "Segmented and saved: /content/drive/MyDrive/CCMT dataset(grab_cut)/Cashew/anthracnose/anthracnose416_.jpg\n",
            "Segmented and saved: /content/drive/MyDrive/CCMT dataset(grab_cut)/Cashew/anthracnose/anthracnose29_.jpg\n",
            "Segmented and saved: /content/drive/MyDrive/CCMT dataset(grab_cut)/Cashew/anthracnose/anthracnose294_.jpg\n",
            "Segmented and saved: /content/drive/MyDrive/CCMT dataset(grab_cut)/Cashew/anthracnose/anthracnose1258_.jpg\n",
            "Segmented and saved: /content/drive/MyDrive/CCMT dataset(grab_cut)/Cashew/anthracnose/anthracnose567_.jpg\n",
            "Segmented and saved: /content/drive/MyDrive/CCMT dataset(grab_cut)/Cashew/anthracnose/anthracnose523_.jpg\n",
            "Segmented and saved: /content/drive/MyDrive/CCMT dataset(grab_cut)/Cashew/anthracnose/anthracnose269_.jpg\n",
            "Segmented and saved: /content/drive/MyDrive/CCMT dataset(grab_cut)/Cashew/anthracnose/anthracnose806_.jpg\n",
            "Segmented and saved: /content/drive/MyDrive/CCMT dataset(grab_cut)/Cashew/anthracnose/anthracnose1348_.jpg\n",
            "Segmented and saved: /content/drive/MyDrive/CCMT dataset(grab_cut)/Cashew/anthracnose/anthracnose834_.jpg\n",
            "Segmented and saved: /content/drive/MyDrive/CCMT dataset(grab_cut)/Cashew/anthracnose/anthracnose164_.jpg\n",
            "Segmented and saved: /content/drive/MyDrive/CCMT dataset(grab_cut)/Cashew/anthracnose/anthracnose215_.jpg\n",
            "Segmented and saved: /content/drive/MyDrive/CCMT dataset(grab_cut)/Cashew/anthracnose/anthracnose919_.jpg\n",
            "Segmented and saved: /content/drive/MyDrive/CCMT dataset(grab_cut)/Cashew/anthracnose/anthracnose1090_.jpg\n",
            "Segmented and saved: /content/drive/MyDrive/CCMT dataset(grab_cut)/Cashew/anthracnose/anthracnose1427_.jpg\n",
            "Segmented and saved: /content/drive/MyDrive/CCMT dataset(grab_cut)/Cashew/anthracnose/anthracnose1308_.jpg\n",
            "Segmented and saved: /content/drive/MyDrive/CCMT dataset(grab_cut)/Cashew/anthracnose/anthracnose1587_.jpg\n",
            "Segmented and saved: /content/drive/MyDrive/CCMT dataset(grab_cut)/Cashew/anthracnose/anthracnose580_.jpg\n",
            "Segmented and saved: /content/drive/MyDrive/CCMT dataset(grab_cut)/Cashew/anthracnose/anthracnose514_.jpg\n",
            "Segmented and saved: /content/drive/MyDrive/CCMT dataset(grab_cut)/Cashew/anthracnose/anthracnose709_.jpg\n",
            "Segmented and saved: /content/drive/MyDrive/CCMT dataset(grab_cut)/Cashew/anthracnose/anthracnose501_.jpg\n",
            "Segmented and saved: /content/drive/MyDrive/CCMT dataset(grab_cut)/Cashew/anthracnose/anthracnose334_.jpg\n",
            "Segmented and saved: /content/drive/MyDrive/CCMT dataset(grab_cut)/Cashew/anthracnose/anthracnose425_.jpg\n",
            "Segmented and saved: /content/drive/MyDrive/CCMT dataset(grab_cut)/Cashew/anthracnose/anthracnose180_.jpg\n",
            "Segmented and saved: /content/drive/MyDrive/CCMT dataset(grab_cut)/Cashew/anthracnose/anthracnose5_.jpg\n",
            "Segmented and saved: /content/drive/MyDrive/CCMT dataset(grab_cut)/Cashew/anthracnose/anthracnose470_.jpg\n",
            "Segmented and saved: /content/drive/MyDrive/CCMT dataset(grab_cut)/Cashew/anthracnose/anthracnose619_.jpg\n",
            "Segmented and saved: /content/drive/MyDrive/CCMT dataset(grab_cut)/Cashew/anthracnose/anthracnose1639_.jpg\n",
            "Segmented and saved: /content/drive/MyDrive/CCMT dataset(grab_cut)/Cashew/anthracnose/anthracnose321_.jpg\n",
            "Segmented and saved: /content/drive/MyDrive/CCMT dataset(grab_cut)/Cashew/anthracnose/anthracnose369_.jpg\n",
            "Segmented and saved: /content/drive/MyDrive/CCMT dataset(grab_cut)/Cashew/anthracnose/anthracnose1663_.jpg\n",
            "Segmented and saved: /content/drive/MyDrive/CCMT dataset(grab_cut)/Cashew/anthracnose/anthracnose44_.jpg\n",
            "Segmented and saved: /content/drive/MyDrive/CCMT dataset(grab_cut)/Cashew/anthracnose/anthracnose1179_.jpg\n",
            "Segmented and saved: /content/drive/MyDrive/CCMT dataset(grab_cut)/Cashew/anthracnose/anthracnose75_.jpg\n",
            "Segmented and saved: /content/drive/MyDrive/CCMT dataset(grab_cut)/Cashew/anthracnose/anthracnose11_.jpg\n",
            "Segmented and saved: /content/drive/MyDrive/CCMT dataset(grab_cut)/Cashew/anthracnose/anthracnose946_.jpg\n",
            "Segmented and saved: /content/drive/MyDrive/CCMT dataset(grab_cut)/Cashew/anthracnose/anthracnose591_.jpg\n",
            "Segmented and saved: /content/drive/MyDrive/CCMT dataset(grab_cut)/Cashew/anthracnose/anthracnose1615_.jpg\n",
            "Segmented and saved: /content/drive/MyDrive/CCMT dataset(grab_cut)/Cashew/anthracnose/anthracnose55_.jpg\n",
            "Segmented and saved: /content/drive/MyDrive/CCMT dataset(grab_cut)/Cashew/anthracnose/anthracnose1302_.jpg\n",
            "Segmented and saved: /content/drive/MyDrive/CCMT dataset(grab_cut)/Cashew/anthracnose/anthracnose52_.jpg\n",
            "Segmented and saved: /content/drive/MyDrive/CCMT dataset(grab_cut)/Cashew/anthracnose/anthracnose1648_.jpg\n",
            "Segmented and saved: /content/drive/MyDrive/CCMT dataset(grab_cut)/Cashew/anthracnose/anthracnose1175_.jpg\n",
            "Segmented and saved: /content/drive/MyDrive/CCMT dataset(grab_cut)/Cashew/anthracnose/anthracnose662_.jpg\n",
            "Segmented and saved: /content/drive/MyDrive/CCMT dataset(grab_cut)/Cashew/anthracnose/anthracnose853_.jpg\n",
            "Segmented and saved: /content/drive/MyDrive/CCMT dataset(grab_cut)/Cashew/anthracnose/anthracnose1529_.jpg\n",
            "Segmented and saved: /content/drive/MyDrive/CCMT dataset(grab_cut)/Cashew/anthracnose/anthracnose1403_.jpg\n",
            "Segmented and saved: /content/drive/MyDrive/CCMT dataset(grab_cut)/Cashew/anthracnose/anthracnose1626_.jpg\n",
            "Segmented and saved: /content/drive/MyDrive/CCMT dataset(grab_cut)/Cashew/anthracnose/anthracnose372_.jpg\n",
            "Segmented and saved: /content/drive/MyDrive/CCMT dataset(grab_cut)/Cashew/anthracnose/anthracnose1178_.jpg\n",
            "Segmented and saved: /content/drive/MyDrive/CCMT dataset(grab_cut)/Cashew/anthracnose/anthracnose393_.jpg\n",
            "Segmented and saved: /content/drive/MyDrive/CCMT dataset(grab_cut)/Cashew/anthracnose/anthracnose1665_.jpg\n",
            "Segmented and saved: /content/drive/MyDrive/CCMT dataset(grab_cut)/Cashew/anthracnose/anthracnose608_.jpg\n",
            "Segmented and saved: /content/drive/MyDrive/CCMT dataset(grab_cut)/Cashew/anthracnose/anthracnose1289_.jpg\n",
            "Segmented and saved: /content/drive/MyDrive/CCMT dataset(grab_cut)/Cashew/anthracnose/anthracnose604_.jpg\n",
            "Segmented and saved: /content/drive/MyDrive/CCMT dataset(grab_cut)/Cashew/anthracnose/anthracnose1729_.jpg\n",
            "Segmented and saved: /content/drive/MyDrive/CCMT dataset(grab_cut)/Cashew/anthracnose/anthracnose166_.jpg\n",
            "Segmented and saved: /content/drive/MyDrive/CCMT dataset(grab_cut)/Cashew/anthracnose/anthracnose1188_.jpg\n",
            "Segmented and saved: /content/drive/MyDrive/CCMT dataset(grab_cut)/Cashew/anthracnose/anthracnose910_.jpg\n",
            "Segmented and saved: /content/drive/MyDrive/CCMT dataset(grab_cut)/Cashew/anthracnose/anthracnose640_.jpg\n",
            "Segmented and saved: /content/drive/MyDrive/CCMT dataset(grab_cut)/Cashew/anthracnose/anthracnose1320_.jpg\n",
            "Segmented and saved: /content/drive/MyDrive/CCMT dataset(grab_cut)/Cashew/anthracnose/anthracnose646_.jpg\n",
            "Segmented and saved: /content/drive/MyDrive/CCMT dataset(grab_cut)/Cashew/anthracnose/anthracnose936_.jpg\n",
            "Segmented and saved: /content/drive/MyDrive/CCMT dataset(grab_cut)/Cashew/anthracnose/anthracnose57_.jpg\n",
            "Segmented and saved: /content/drive/MyDrive/CCMT dataset(grab_cut)/Cashew/anthracnose/anthracnose389_.jpg\n",
            "Segmented and saved: /content/drive/MyDrive/CCMT dataset(grab_cut)/Cashew/anthracnose/anthracnose1567_.jpg\n",
            "Segmented and saved: /content/drive/MyDrive/CCMT dataset(grab_cut)/Cashew/anthracnose/anthracnose1096_.jpg\n",
            "Segmented and saved: /content/drive/MyDrive/CCMT dataset(grab_cut)/Cashew/anthracnose/anthracnose515_.jpg\n",
            "Segmented and saved: /content/drive/MyDrive/CCMT dataset(grab_cut)/Cashew/anthracnose/anthracnose810_.jpg\n",
            "Segmented and saved: /content/drive/MyDrive/CCMT dataset(grab_cut)/Cashew/anthracnose/anthracnose1720_.jpg\n",
            "Segmented and saved: /content/drive/MyDrive/CCMT dataset(grab_cut)/Cashew/anthracnose/anthracnose404_.jpg\n",
            "Segmented and saved: /content/drive/MyDrive/CCMT dataset(grab_cut)/Cashew/anthracnose/anthracnose1424_.jpg\n",
            "Segmented and saved: /content/drive/MyDrive/CCMT dataset(grab_cut)/Cashew/anthracnose/anthracnose95_.jpg\n",
            "Segmented and saved: /content/drive/MyDrive/CCMT dataset(grab_cut)/Cashew/anthracnose/anthracnose37_.jpg\n",
            "Segmented and saved: /content/drive/MyDrive/CCMT dataset(grab_cut)/Cashew/anthracnose/anthracnose818_.jpg\n",
            "Segmented and saved: /content/drive/MyDrive/CCMT dataset(grab_cut)/Cashew/anthracnose/anthracnose1366_.jpg\n",
            "Segmented and saved: /content/drive/MyDrive/CCMT dataset(grab_cut)/Cashew/anthracnose/anthracnose1668_.jpg\n",
            "Segmented and saved: /content/drive/MyDrive/CCMT dataset(grab_cut)/Cashew/anthracnose/anthracnose417_.jpg\n",
            "Segmented and saved: /content/drive/MyDrive/CCMT dataset(grab_cut)/Cashew/anthracnose/anthracnose140_.jpg\n",
            "Segmented and saved: /content/drive/MyDrive/CCMT dataset(grab_cut)/Cashew/anthracnose/anthracnose1142_.jpg\n",
            "Segmented and saved: /content/drive/MyDrive/CCMT dataset(grab_cut)/Cashew/anthracnose/anthracnose338_.jpg\n",
            "Segmented and saved: /content/drive/MyDrive/CCMT dataset(grab_cut)/Cashew/anthracnose/anthracnose645_.jpg\n",
            "Segmented and saved: /content/drive/MyDrive/CCMT dataset(grab_cut)/Cashew/anthracnose/anthracnose1067_.jpg\n",
            "Segmented and saved: /content/drive/MyDrive/CCMT dataset(grab_cut)/Cashew/anthracnose/anthracnose466_.jpg\n",
            "Segmented and saved: /content/drive/MyDrive/CCMT dataset(grab_cut)/Cashew/anthracnose/anthracnose595_.jpg\n",
            "Segmented and saved: /content/drive/MyDrive/CCMT dataset(grab_cut)/Cashew/anthracnose/anthracnose292_.jpg\n",
            "Segmented and saved: /content/drive/MyDrive/CCMT dataset(grab_cut)/Cashew/anthracnose/anthracnose1542_.jpg\n",
            "Segmented and saved: /content/drive/MyDrive/CCMT dataset(grab_cut)/Cashew/anthracnose/anthracnose1074_.jpg\n",
            "Segmented and saved: /content/drive/MyDrive/CCMT dataset(grab_cut)/Cashew/anthracnose/anthracnose1676_.jpg\n",
            "Segmented and saved: /content/drive/MyDrive/CCMT dataset(grab_cut)/Cashew/anthracnose/anthracnose110_.jpg\n",
            "Segmented and saved: /content/drive/MyDrive/CCMT dataset(grab_cut)/Cashew/anthracnose/anthracnose1537_.jpg\n",
            "Segmented and saved: /content/drive/MyDrive/CCMT dataset(grab_cut)/Cashew/anthracnose/anthracnose985_.jpg\n",
            "Segmented and saved: /content/drive/MyDrive/CCMT dataset(grab_cut)/Cashew/anthracnose/anthracnose1133_.jpg\n",
            "Segmented and saved: /content/drive/MyDrive/CCMT dataset(grab_cut)/Cashew/anthracnose/anthracnose649_.jpg\n",
            "Segmented and saved: /content/drive/MyDrive/CCMT dataset(grab_cut)/Cashew/anthracnose/anthracnose1508_.jpg\n",
            "Segmented and saved: /content/drive/MyDrive/CCMT dataset(grab_cut)/Cashew/anthracnose/anthracnose867_.jpg\n",
            "Segmented and saved: /content/drive/MyDrive/CCMT dataset(grab_cut)/Cashew/anthracnose/anthracnose285_.jpg\n",
            "Segmented and saved: /content/drive/MyDrive/CCMT dataset(grab_cut)/Cashew/anthracnose/anthracnose26_.jpg\n",
            "Segmented and saved: /content/drive/MyDrive/CCMT dataset(grab_cut)/Cashew/anthracnose/anthracnose824_.jpg\n",
            "Segmented and saved: /content/drive/MyDrive/CCMT dataset(grab_cut)/Cashew/anthracnose/anthracnose702_.jpg\n",
            "Segmented and saved: /content/drive/MyDrive/CCMT dataset(grab_cut)/Cashew/anthracnose/anthracnose24_.jpg\n",
            "Segmented and saved: /content/drive/MyDrive/CCMT dataset(grab_cut)/Cashew/anthracnose/anthracnose550_.jpg\n",
            "Segmented and saved: /content/drive/MyDrive/CCMT dataset(grab_cut)/Cashew/anthracnose/anthracnose1070_.jpg\n",
            "Segmented and saved: /content/drive/MyDrive/CCMT dataset(grab_cut)/Cashew/anthracnose/anthracnose1368_.jpg\n",
            "Segmented and saved: /content/drive/MyDrive/CCMT dataset(grab_cut)/Cashew/anthracnose/anthracnose728_.jpg\n",
            "Segmented and saved: /content/drive/MyDrive/CCMT dataset(grab_cut)/Cashew/anthracnose/anthracnose1632_.jpg\n",
            "Segmented and saved: /content/drive/MyDrive/CCMT dataset(grab_cut)/Cashew/anthracnose/anthracnose607_.jpg\n",
            "Segmented and saved: /content/drive/MyDrive/CCMT dataset(grab_cut)/Cashew/anthracnose/anthracnose720_.jpg\n",
            "Segmented and saved: /content/drive/MyDrive/CCMT dataset(grab_cut)/Cashew/anthracnose/anthracnose1357_.jpg\n",
            "Segmented and saved: /content/drive/MyDrive/CCMT dataset(grab_cut)/Cashew/anthracnose/anthracnose1475_.jpg\n",
            "Segmented and saved: /content/drive/MyDrive/CCMT dataset(grab_cut)/Cashew/anthracnose/anthracnose772_.jpg\n",
            "Segmented and saved: /content/drive/MyDrive/CCMT dataset(grab_cut)/Cashew/anthracnose/anthracnose237_.jpg\n",
            "Segmented and saved: /content/drive/MyDrive/CCMT dataset(grab_cut)/Cashew/anthracnose/anthracnose1043_.jpg\n",
            "Segmented and saved: /content/drive/MyDrive/CCMT dataset(grab_cut)/Cashew/anthracnose/anthracnose332_.jpg\n",
            "Segmented and saved: /content/drive/MyDrive/CCMT dataset(grab_cut)/Cashew/anthracnose/anthracnose23_.jpg\n",
            "Segmented and saved: /content/drive/MyDrive/CCMT dataset(grab_cut)/Cashew/anthracnose/anthracnose1564_.jpg\n",
            "Segmented and saved: /content/drive/MyDrive/CCMT dataset(grab_cut)/Cashew/anthracnose/anthracnose25_.jpg\n",
            "Segmented and saved: /content/drive/MyDrive/CCMT dataset(grab_cut)/Cashew/anthracnose/anthracnose223_.jpg\n",
            "Segmented and saved: /content/drive/MyDrive/CCMT dataset(grab_cut)/Cashew/anthracnose/anthracnose658_.jpg\n",
            "Segmented and saved: /content/drive/MyDrive/CCMT dataset(grab_cut)/Cashew/anthracnose/anthracnose221_.jpg\n",
            "Segmented and saved: /content/drive/MyDrive/CCMT dataset(grab_cut)/Cashew/anthracnose/anthracnose429_.jpg\n",
            "Segmented and saved: /content/drive/MyDrive/CCMT dataset(grab_cut)/Cashew/anthracnose/anthracnose1594_.jpg\n",
            "Segmented and saved: /content/drive/MyDrive/CCMT dataset(grab_cut)/Cashew/anthracnose/anthracnose146_.jpg\n",
            "Segmented and saved: /content/drive/MyDrive/CCMT dataset(grab_cut)/Cashew/anthracnose/anthracnose1316_.jpg\n",
            "Segmented and saved: /content/drive/MyDrive/CCMT dataset(grab_cut)/Cashew/anthracnose/anthracnose1008_.jpg\n",
            "Segmented and saved: /content/drive/MyDrive/CCMT dataset(grab_cut)/Cashew/anthracnose/anthracnose300_.jpg\n",
            "Segmented and saved: /content/drive/MyDrive/CCMT dataset(grab_cut)/Cashew/anthracnose/anthracnose1503_.jpg\n",
            "Segmented and saved: /content/drive/MyDrive/CCMT dataset(grab_cut)/Cashew/anthracnose/anthracnose399_.jpg\n",
            "Segmented and saved: /content/drive/MyDrive/CCMT dataset(grab_cut)/Cashew/anthracnose/anthracnose753_.jpg\n",
            "Segmented and saved: /content/drive/MyDrive/CCMT dataset(grab_cut)/Cashew/anthracnose/anthracnose1516_.jpg\n",
            "Segmented and saved: /content/drive/MyDrive/CCMT dataset(grab_cut)/Cashew/anthracnose/anthracnose412_.jpg\n",
            "Segmented and saved: /content/drive/MyDrive/CCMT dataset(grab_cut)/Cashew/anthracnose/anthracnose689_.jpg\n",
            "Segmented and saved: /content/drive/MyDrive/CCMT dataset(grab_cut)/Cashew/anthracnose/anthracnose1004_.jpg\n",
            "Segmented and saved: /content/drive/MyDrive/CCMT dataset(grab_cut)/Cashew/anthracnose/anthracnose1433_.jpg\n",
            "Segmented and saved: /content/drive/MyDrive/CCMT dataset(grab_cut)/Cashew/anthracnose/anthracnose1715_.jpg\n",
            "Segmented and saved: /content/drive/MyDrive/CCMT dataset(grab_cut)/Cashew/anthracnose/anthracnose1198_.jpg\n",
            "Segmented and saved: /content/drive/MyDrive/CCMT dataset(grab_cut)/Cashew/anthracnose/anthracnose534_.jpg\n",
            "Segmented and saved: /content/drive/MyDrive/CCMT dataset(grab_cut)/Cashew/anthracnose/anthracnose274_.jpg\n",
            "Segmented and saved: /content/drive/MyDrive/CCMT dataset(grab_cut)/Cashew/anthracnose/anthracnose830_.jpg\n",
            "Segmented and saved: /content/drive/MyDrive/CCMT dataset(grab_cut)/Cashew/anthracnose/anthracnose1624_.jpg\n",
            "Segmented and saved: /content/drive/MyDrive/CCMT dataset(grab_cut)/Cashew/anthracnose/anthracnose751_.jpg\n",
            "Segmented and saved: /content/drive/MyDrive/CCMT dataset(grab_cut)/Cashew/anthracnose/anthracnose671_.jpg\n",
            "Segmented and saved: /content/drive/MyDrive/CCMT dataset(grab_cut)/Cashew/anthracnose/anthracnose576_.jpg\n",
            "Segmented and saved: /content/drive/MyDrive/CCMT dataset(grab_cut)/Cashew/anthracnose/anthracnose256_.jpg\n",
            "Segmented and saved: /content/drive/MyDrive/CCMT dataset(grab_cut)/Cashew/anthracnose/anthracnose1199_.jpg\n",
            "Segmented and saved: /content/drive/MyDrive/CCMT dataset(grab_cut)/Cashew/anthracnose/anthracnose1158_.jpg\n",
            "Segmented and saved: /content/drive/MyDrive/CCMT dataset(grab_cut)/Cashew/anthracnose/anthracnose1041_.jpg\n",
            "Segmented and saved: /content/drive/MyDrive/CCMT dataset(grab_cut)/Cashew/anthracnose/anthracnose1058_.jpg\n",
            "Segmented and saved: /content/drive/MyDrive/CCMT dataset(grab_cut)/Cashew/anthracnose/anthracnose1119_.jpg\n",
            "Segmented and saved: /content/drive/MyDrive/CCMT dataset(grab_cut)/Cashew/anthracnose/anthracnose1152_.jpg\n",
            "Segmented and saved: /content/drive/MyDrive/CCMT dataset(grab_cut)/Cashew/anthracnose/anthracnose825_.jpg\n",
            "Segmented and saved: /content/drive/MyDrive/CCMT dataset(grab_cut)/Cashew/anthracnose/anthracnose1223_.jpg\n",
            "Segmented and saved: /content/drive/MyDrive/CCMT dataset(grab_cut)/Cashew/anthracnose/anthracnose1576_.jpg\n",
            "Segmented and saved: /content/drive/MyDrive/CCMT dataset(grab_cut)/Cashew/anthracnose/anthracnose1273_.jpg\n",
            "Segmented and saved: /content/drive/MyDrive/CCMT dataset(grab_cut)/Cashew/anthracnose/anthracnose1318_.jpg\n",
            "Segmented and saved: /content/drive/MyDrive/CCMT dataset(grab_cut)/Cashew/anthracnose/anthracnose1050_.jpg\n",
            "Segmented and saved: /content/drive/MyDrive/CCMT dataset(grab_cut)/Cashew/anthracnose/anthracnose1580_.jpg\n",
            "Segmented and saved: /content/drive/MyDrive/CCMT dataset(grab_cut)/Cashew/anthracnose/anthracnose552_.jpg\n",
            "Segmented and saved: /content/drive/MyDrive/CCMT dataset(grab_cut)/Cashew/anthracnose/anthracnose793_.jpg\n",
            "Segmented and saved: /content/drive/MyDrive/CCMT dataset(grab_cut)/Cashew/anthracnose/anthracnose83_.jpg\n",
            "Segmented and saved: /content/drive/MyDrive/CCMT dataset(grab_cut)/Cashew/anthracnose/anthracnose1605_.jpg\n",
            "Segmented and saved: /content/drive/MyDrive/CCMT dataset(grab_cut)/Cashew/anthracnose/anthracnose1389_.jpg\n",
            "Segmented and saved: /content/drive/MyDrive/CCMT dataset(grab_cut)/Cashew/anthracnose/anthracnose633_.jpg\n",
            "Segmented and saved: /content/drive/MyDrive/CCMT dataset(grab_cut)/Cashew/anthracnose/anthracnose1669_.jpg\n",
            "Segmented and saved: /content/drive/MyDrive/CCMT dataset(grab_cut)/Cashew/anthracnose/anthracnose1268_.jpg\n",
            "Segmented and saved: /content/drive/MyDrive/CCMT dataset(grab_cut)/Cashew/anthracnose/anthracnose570_.jpg\n",
            "Segmented and saved: /content/drive/MyDrive/CCMT dataset(grab_cut)/Cashew/anthracnose/anthracnose397_.jpg\n",
            "Segmented and saved: /content/drive/MyDrive/CCMT dataset(grab_cut)/Cashew/anthracnose/anthracnose1482_.jpg\n",
            "Segmented and saved: /content/drive/MyDrive/CCMT dataset(grab_cut)/Cashew/anthracnose/anthracnose1550_.jpg\n",
            "Segmented and saved: /content/drive/MyDrive/CCMT dataset(grab_cut)/Cashew/anthracnose/anthracnose1326_.jpg\n",
            "Segmented and saved: /content/drive/MyDrive/CCMT dataset(grab_cut)/Cashew/anthracnose/anthracnose558_.jpg\n",
            "Segmented and saved: /content/drive/MyDrive/CCMT dataset(grab_cut)/Cashew/anthracnose/anthracnose1431_.jpg\n",
            "Segmented and saved: /content/drive/MyDrive/CCMT dataset(grab_cut)/Cashew/anthracnose/anthracnose122_.jpg\n",
            "Segmented and saved: /content/drive/MyDrive/CCMT dataset(grab_cut)/Cashew/anthracnose/anthracnose1059_.jpg\n",
            "Segmented and saved: /content/drive/MyDrive/CCMT dataset(grab_cut)/Cashew/anthracnose/anthracnose422_.jpg\n",
            "Segmented and saved: /content/drive/MyDrive/CCMT dataset(grab_cut)/Cashew/anthracnose/anthracnose1146_.jpg\n",
            "Segmented and saved: /content/drive/MyDrive/CCMT dataset(grab_cut)/Cashew/anthracnose/anthracnose712_.jpg\n",
            "Segmented and saved: /content/drive/MyDrive/CCMT dataset(grab_cut)/Cashew/anthracnose/anthracnose615_.jpg\n",
            "Segmented and saved: /content/drive/MyDrive/CCMT dataset(grab_cut)/Cashew/anthracnose/anthracnose690_.jpg\n",
            "Segmented and saved: /content/drive/MyDrive/CCMT dataset(grab_cut)/Cashew/anthracnose/anthracnose1029_.jpg\n",
            "Segmented and saved: /content/drive/MyDrive/CCMT dataset(grab_cut)/Cashew/anthracnose/anthracnose1267_.jpg\n",
            "Segmented and saved: /content/drive/MyDrive/CCMT dataset(grab_cut)/Cashew/anthracnose/anthracnose862_.jpg\n",
            "Segmented and saved: /content/drive/MyDrive/CCMT dataset(grab_cut)/Cashew/anthracnose/anthracnose485_.jpg\n",
            "Segmented and saved: /content/drive/MyDrive/CCMT dataset(grab_cut)/Cashew/anthracnose/anthracnose561_.jpg\n",
            "Segmented and saved: /content/drive/MyDrive/CCMT dataset(grab_cut)/Cashew/anthracnose/anthracnose1193_.jpg\n",
            "Segmented and saved: /content/drive/MyDrive/CCMT dataset(grab_cut)/Cashew/anthracnose/anthracnose1335_.jpg\n",
            "Segmented and saved: /content/drive/MyDrive/CCMT dataset(grab_cut)/Cashew/anthracnose/anthracnose359_.jpg\n",
            "Segmented and saved: /content/drive/MyDrive/CCMT dataset(grab_cut)/Cashew/anthracnose/anthracnose1229_.jpg\n",
            "Segmented and saved: /content/drive/MyDrive/CCMT dataset(grab_cut)/Cashew/anthracnose/anthracnose1031_.jpg\n",
            "Segmented and saved: /content/drive/MyDrive/CCMT dataset(grab_cut)/Cashew/anthracnose/anthracnose1655_.jpg\n",
            "Segmented and saved: /content/drive/MyDrive/CCMT dataset(grab_cut)/Cashew/anthracnose/anthracnose569_.jpg\n",
            "Segmented and saved: /content/drive/MyDrive/CCMT dataset(grab_cut)/Cashew/anthracnose/anthracnose549_.jpg\n",
            "Segmented and saved: /content/drive/MyDrive/CCMT dataset(grab_cut)/Cashew/anthracnose/anthracnose364_.jpg\n",
            "Segmented and saved: /content/drive/MyDrive/CCMT dataset(grab_cut)/Cashew/anthracnose/anthracnose840_.jpg\n",
            "Segmented and saved: /content/drive/MyDrive/CCMT dataset(grab_cut)/Cashew/anthracnose/anthracnose865_.jpg\n",
            "Segmented and saved: /content/drive/MyDrive/CCMT dataset(grab_cut)/Cashew/anthracnose/anthracnose1155_.jpg\n",
            "Segmented and saved: /content/drive/MyDrive/CCMT dataset(grab_cut)/Cashew/anthracnose/anthracnose871_.jpg\n",
            "Segmented and saved: /content/drive/MyDrive/CCMT dataset(grab_cut)/Cashew/anthracnose/anthracnose482_.jpg\n",
            "Segmented and saved: /content/drive/MyDrive/CCMT dataset(grab_cut)/Cashew/anthracnose/anthracnose1619_.jpg\n",
            "Segmented and saved: /content/drive/MyDrive/CCMT dataset(grab_cut)/Cashew/anthracnose/anthracnose842_.jpg\n",
            "Segmented and saved: /content/drive/MyDrive/CCMT dataset(grab_cut)/Cashew/anthracnose/anthracnose104_.jpg\n",
            "Segmented and saved: /content/drive/MyDrive/CCMT dataset(grab_cut)/Cashew/anthracnose/anthracnose1692_.jpg\n",
            "Segmented and saved: /content/drive/MyDrive/CCMT dataset(grab_cut)/Cashew/anthracnose/anthracnose656_.jpg\n",
            "Segmented and saved: /content/drive/MyDrive/CCMT dataset(grab_cut)/Cashew/anthracnose/anthracnose1279_.jpg\n",
            "Segmented and saved: /content/drive/MyDrive/CCMT dataset(grab_cut)/Cashew/anthracnose/anthracnose1461_.jpg\n",
            "Segmented and saved: /content/drive/MyDrive/CCMT dataset(grab_cut)/Cashew/anthracnose/anthracnose1113_.jpg\n",
            "Segmented and saved: /content/drive/MyDrive/CCMT dataset(grab_cut)/Cashew/anthracnose/anthracnose1310_.jpg\n",
            "Segmented and saved: /content/drive/MyDrive/CCMT dataset(grab_cut)/Cashew/anthracnose/anthracnose1280_.jpg\n",
            "Segmented and saved: /content/drive/MyDrive/CCMT dataset(grab_cut)/Cashew/anthracnose/anthracnose678_.jpg\n",
            "Segmented and saved: /content/drive/MyDrive/CCMT dataset(grab_cut)/Cashew/anthracnose/anthracnose1339_.jpg\n",
            "Segmented and saved: /content/drive/MyDrive/CCMT dataset(grab_cut)/Cashew/anthracnose/anthracnose1206_.jpg\n",
            "Segmented and saved: /content/drive/MyDrive/CCMT dataset(grab_cut)/Cashew/anthracnose/anthracnose1220_.jpg\n",
            "Segmented and saved: /content/drive/MyDrive/CCMT dataset(grab_cut)/Cashew/anthracnose/anthracnose1259_.jpg\n",
            "Segmented and saved: /content/drive/MyDrive/CCMT dataset(grab_cut)/Cashew/anthracnose/anthracnose1017_.jpg\n",
            "Segmented and saved: /content/drive/MyDrive/CCMT dataset(grab_cut)/Cashew/anthracnose/anthracnose242_.jpg\n",
            "Segmented and saved: /content/drive/MyDrive/CCMT dataset(grab_cut)/Cashew/anthracnose/anthracnose977_.jpg\n",
            "Segmented and saved: /content/drive/MyDrive/CCMT dataset(grab_cut)/Cashew/anthracnose/anthracnose1104_.jpg\n",
            "Segmented and saved: /content/drive/MyDrive/CCMT dataset(grab_cut)/Cashew/anthracnose/anthracnose935_.jpg\n",
            "Segmented and saved: /content/drive/MyDrive/CCMT dataset(grab_cut)/Cashew/anthracnose/anthracnose1700_.jpg\n",
            "Segmented and saved: /content/drive/MyDrive/CCMT dataset(grab_cut)/Cashew/anthracnose/anthracnose94_.jpg\n",
            "Segmented and saved: /content/drive/MyDrive/CCMT dataset(grab_cut)/Cashew/anthracnose/anthracnose402_.jpg\n",
            "Segmented and saved: /content/drive/MyDrive/CCMT dataset(grab_cut)/Cashew/anthracnose/anthracnose526_.jpg\n",
            "Segmented and saved: /content/drive/MyDrive/CCMT dataset(grab_cut)/Cashew/anthracnose/anthracnose247_.jpg\n",
            "Segmented and saved: /content/drive/MyDrive/CCMT dataset(grab_cut)/Cashew/anthracnose/anthracnose627_.jpg\n",
            "Segmented and saved: /content/drive/MyDrive/CCMT dataset(grab_cut)/Cashew/anthracnose/anthracnose1057_.jpg\n",
            "Segmented and saved: /content/drive/MyDrive/CCMT dataset(grab_cut)/Cashew/anthracnose/anthracnose1298_.jpg\n",
            "Segmented and saved: /content/drive/MyDrive/CCMT dataset(grab_cut)/Cashew/anthracnose/anthracnose175_.jpg\n",
            "Segmented and saved: /content/drive/MyDrive/CCMT dataset(grab_cut)/Cashew/anthracnose/anthracnose1364_.jpg\n",
            "Segmented and saved: /content/drive/MyDrive/CCMT dataset(grab_cut)/Cashew/anthracnose/anthracnose370_.jpg\n",
            "Segmented and saved: /content/drive/MyDrive/CCMT dataset(grab_cut)/Cashew/anthracnose/anthracnose1245_.jpg\n",
            "Segmented and saved: /content/drive/MyDrive/CCMT dataset(grab_cut)/Cashew/anthracnose/anthracnose1468_.jpg\n",
            "Segmented and saved: /content/drive/MyDrive/CCMT dataset(grab_cut)/Cashew/anthracnose/anthracnose1569_.jpg\n",
            "Segmented and saved: /content/drive/MyDrive/CCMT dataset(grab_cut)/Cashew/anthracnose/anthracnose303_.jpg\n",
            "Segmented and saved: /content/drive/MyDrive/CCMT dataset(grab_cut)/Cashew/anthracnose/anthracnose556_.jpg\n",
            "Segmented and saved: /content/drive/MyDrive/CCMT dataset(grab_cut)/Cashew/anthracnose/anthracnose839_.jpg\n",
            "Segmented and saved: /content/drive/MyDrive/CCMT dataset(grab_cut)/Cashew/anthracnose/anthracnose62_.jpg\n",
            "Segmented and saved: /content/drive/MyDrive/CCMT dataset(grab_cut)/Cashew/anthracnose/anthracnose1399_.jpg\n",
            "Segmented and saved: /content/drive/MyDrive/CCMT dataset(grab_cut)/Cashew/anthracnose/anthracnose472_.jpg\n",
            "Segmented and saved: /content/drive/MyDrive/CCMT dataset(grab_cut)/Cashew/anthracnose/anthracnose1636_.jpg\n",
            "Segmented and saved: /content/drive/MyDrive/CCMT dataset(grab_cut)/Cashew/anthracnose/anthracnose1128_.jpg\n",
            "Segmented and saved: /content/drive/MyDrive/CCMT dataset(grab_cut)/Cashew/anthracnose/anthracnose209_.jpg\n",
            "Segmented and saved: /content/drive/MyDrive/CCMT dataset(grab_cut)/Cashew/anthracnose/anthracnose224_.jpg\n",
            "Segmented and saved: /content/drive/MyDrive/CCMT dataset(grab_cut)/Cashew/anthracnose/anthracnose1713_.jpg\n",
            "Segmented and saved: /content/drive/MyDrive/CCMT dataset(grab_cut)/Cashew/anthracnose/anthracnose1171_.jpg\n",
            "Segmented and saved: /content/drive/MyDrive/CCMT dataset(grab_cut)/Cashew/anthracnose/anthracnose972_.jpg\n",
            "Segmented and saved: /content/drive/MyDrive/CCMT dataset(grab_cut)/Cashew/anthracnose/anthracnose1200_.jpg\n",
            "Segmented and saved: /content/drive/MyDrive/CCMT dataset(grab_cut)/Cashew/anthracnose/anthracnose1105_.jpg\n",
            "Segmented and saved: /content/drive/MyDrive/CCMT dataset(grab_cut)/Cashew/anthracnose/anthracnose582_.jpg\n",
            "Segmented and saved: /content/drive/MyDrive/CCMT dataset(grab_cut)/Cashew/anthracnose/anthracnose61_.jpg\n",
            "Segmented and saved: /content/drive/MyDrive/CCMT dataset(grab_cut)/Cashew/anthracnose/anthracnose265_.jpg\n",
            "Segmented and saved: /content/drive/MyDrive/CCMT dataset(grab_cut)/Cashew/anthracnose/anthracnose1591_.jpg\n",
            "Segmented and saved: /content/drive/MyDrive/CCMT dataset(grab_cut)/Cashew/anthracnose/anthracnose1052_.jpg\n",
            "Segmented and saved: /content/drive/MyDrive/CCMT dataset(grab_cut)/Cashew/anthracnose/anthracnose992_.jpg\n",
            "Segmented and saved: /content/drive/MyDrive/CCMT dataset(grab_cut)/Cashew/anthracnose/anthracnose1652_.jpg\n",
            "Segmented and saved: /content/drive/MyDrive/CCMT dataset(grab_cut)/Cashew/anthracnose/anthracnose421_.jpg\n",
            "Segmented and saved: /content/drive/MyDrive/CCMT dataset(grab_cut)/Cashew/anthracnose/anthracnose1089_.jpg\n",
            "Segmented and saved: /content/drive/MyDrive/CCMT dataset(grab_cut)/Cashew/anthracnose/anthracnose1253_.jpg\n",
            "Segmented and saved: /content/drive/MyDrive/CCMT dataset(grab_cut)/Cashew/anthracnose/anthracnose111_.jpg\n",
            "Segmented and saved: /content/drive/MyDrive/CCMT dataset(grab_cut)/Cashew/anthracnose/anthracnose271_.jpg\n",
            "Segmented and saved: /content/drive/MyDrive/CCMT dataset(grab_cut)/Cashew/anthracnose/anthracnose1719_.jpg\n",
            "Segmented and saved: /content/drive/MyDrive/CCMT dataset(grab_cut)/Cashew/anthracnose/anthracnose1617_.jpg\n",
            "Segmented and saved: /content/drive/MyDrive/CCMT dataset(grab_cut)/Cashew/anthracnose/anthracnose1612_.jpg\n",
            "Segmented and saved: /content/drive/MyDrive/CCMT dataset(grab_cut)/Cashew/anthracnose/anthracnose227_.jpg\n",
            "Segmented and saved: /content/drive/MyDrive/CCMT dataset(grab_cut)/Cashew/anthracnose/anthracnose999_.jpg\n",
            "Segmented and saved: /content/drive/MyDrive/CCMT dataset(grab_cut)/Cashew/anthracnose/anthracnose843_.jpg\n",
            "Segmented and saved: /content/drive/MyDrive/CCMT dataset(grab_cut)/Cashew/anthracnose/anthracnose683_.jpg\n",
            "Segmented and saved: /content/drive/MyDrive/CCMT dataset(grab_cut)/Cashew/anthracnose/anthracnose130_.jpg\n",
            "Segmented and saved: /content/drive/MyDrive/CCMT dataset(grab_cut)/Cashew/anthracnose/anthracnose1561_.jpg\n",
            "Segmented and saved: /content/drive/MyDrive/CCMT dataset(grab_cut)/Cashew/anthracnose/anthracnose1725_.jpg\n",
            "Segmented and saved: /content/drive/MyDrive/CCMT dataset(grab_cut)/Cashew/anthracnose/anthracnose1064_.jpg\n",
            "Segmented and saved: /content/drive/MyDrive/CCMT dataset(grab_cut)/Cashew/anthracnose/anthracnose596_.jpg\n",
            "Segmented and saved: /content/drive/MyDrive/CCMT dataset(grab_cut)/Cashew/anthracnose/anthracnose1274_.jpg\n",
            "Segmented and saved: /content/drive/MyDrive/CCMT dataset(grab_cut)/Cashew/anthracnose/anthracnose838_.jpg\n",
            "Segmented and saved: /content/drive/MyDrive/CCMT dataset(grab_cut)/Cashew/anthracnose/anthracnose455_.jpg\n",
            "Segmented and saved: /content/drive/MyDrive/CCMT dataset(grab_cut)/Cashew/anthracnose/anthracnose1255_.jpg\n",
            "Segmented and saved: /content/drive/MyDrive/CCMT dataset(grab_cut)/Cashew/anthracnose/anthracnose1265_.jpg\n",
            "Segmented and saved: /content/drive/MyDrive/CCMT dataset(grab_cut)/Cashew/anthracnose/anthracnose1110_.jpg\n",
            "Segmented and saved: /content/drive/MyDrive/CCMT dataset(grab_cut)/Cashew/anthracnose/anthracnose657_.jpg\n",
            "Segmented and saved: /content/drive/MyDrive/CCMT dataset(grab_cut)/Cashew/anthracnose/anthracnose789_.jpg\n",
            "Segmented and saved: /content/drive/MyDrive/CCMT dataset(grab_cut)/Cashew/anthracnose/anthracnose355_.jpg\n",
            "Segmented and saved: /content/drive/MyDrive/CCMT dataset(grab_cut)/Cashew/anthracnose/anthracnose1563_.jpg\n",
            "Segmented and saved: /content/drive/MyDrive/CCMT dataset(grab_cut)/Cashew/anthracnose/anthracnose1191_.jpg\n",
            "Segmented and saved: /content/drive/MyDrive/CCMT dataset(grab_cut)/Cashew/anthracnose/anthracnose886_.jpg\n",
            "Segmented and saved: /content/drive/MyDrive/CCMT dataset(grab_cut)/Cashew/anthracnose/anthracnose722_.jpg\n",
            "Segmented and saved: /content/drive/MyDrive/CCMT dataset(grab_cut)/Cashew/anthracnose/anthracnose1024_.jpg\n",
            "Segmented and saved: /content/drive/MyDrive/CCMT dataset(grab_cut)/Cashew/anthracnose/anthracnose342_.jpg\n",
            "Segmented and saved: /content/drive/MyDrive/CCMT dataset(grab_cut)/Cashew/anthracnose/anthracnose1469_.jpg\n",
            "Segmented and saved: /content/drive/MyDrive/CCMT dataset(grab_cut)/Cashew/anthracnose/anthracnose897_.jpg\n",
            "Segmented and saved: /content/drive/MyDrive/CCMT dataset(grab_cut)/Cashew/anthracnose/anthracnose67_.jpg\n",
            "Segmented and saved: /content/drive/MyDrive/CCMT dataset(grab_cut)/Cashew/anthracnose/anthracnose490_.jpg\n",
            "Segmented and saved: /content/drive/MyDrive/CCMT dataset(grab_cut)/Cashew/anthracnose/anthracnose1217_.jpg\n",
            "Segmented and saved: /content/drive/MyDrive/CCMT dataset(grab_cut)/Cashew/anthracnose/anthracnose185_.jpg\n",
            "Segmented and saved: /content/drive/MyDrive/CCMT dataset(grab_cut)/Cashew/anthracnose/anthracnose199_.jpg\n",
            "Segmented and saved: /content/drive/MyDrive/CCMT dataset(grab_cut)/Cashew/anthracnose/anthracnose1584_.jpg\n",
            "Segmented and saved: /content/drive/MyDrive/CCMT dataset(grab_cut)/Cashew/anthracnose/anthracnose1660_.jpg\n",
            "Segmented and saved: /content/drive/MyDrive/CCMT dataset(grab_cut)/Cashew/anthracnose/anthracnose650_.jpg\n",
            "Segmented and saved: /content/drive/MyDrive/CCMT dataset(grab_cut)/Cashew/anthracnose/anthracnose631_.jpg\n",
            "Segmented and saved: /content/drive/MyDrive/CCMT dataset(grab_cut)/Cashew/anthracnose/anthracnose356_.jpg\n",
            "Segmented and saved: /content/drive/MyDrive/CCMT dataset(grab_cut)/Cashew/anthracnose/anthracnose1086_.jpg\n",
            "Segmented and saved: /content/drive/MyDrive/CCMT dataset(grab_cut)/Cashew/anthracnose/anthracnose965_.jpg\n",
            "Segmented and saved: /content/drive/MyDrive/CCMT dataset(grab_cut)/Cashew/anthracnose/anthracnose400_.jpg\n",
            "Segmented and saved: /content/drive/MyDrive/CCMT dataset(grab_cut)/Cashew/anthracnose/anthracnose1284_.jpg\n",
            "Segmented and saved: /content/drive/MyDrive/CCMT dataset(grab_cut)/Cashew/anthracnose/anthracnose1616_.jpg\n",
            "Segmented and saved: /content/drive/MyDrive/CCMT dataset(grab_cut)/Cashew/anthracnose/anthracnose1046_.jpg\n",
            "Segmented and saved: /content/drive/MyDrive/CCMT dataset(grab_cut)/Cashew/anthracnose/anthracnose721_.jpg\n",
            "Segmented and saved: /content/drive/MyDrive/CCMT dataset(grab_cut)/Cashew/anthracnose/anthracnose396_.jpg\n",
            "Segmented and saved: /content/drive/MyDrive/CCMT dataset(grab_cut)/Cashew/anthracnose/anthracnose1589_.jpg\n",
            "Segmented and saved: /content/drive/MyDrive/CCMT dataset(grab_cut)/Cashew/anthracnose/anthracnose65_.jpg\n",
            "Segmented and saved: /content/drive/MyDrive/CCMT dataset(grab_cut)/Cashew/anthracnose/anthracnose48_.jpg\n",
            "Segmented and saved: /content/drive/MyDrive/CCMT dataset(grab_cut)/Cashew/anthracnose/anthracnose1590_.jpg\n",
            "Segmented and saved: /content/drive/MyDrive/CCMT dataset(grab_cut)/Cashew/anthracnose/anthracnose1355_.jpg\n",
            "Segmented and saved: /content/drive/MyDrive/CCMT dataset(grab_cut)/Cashew/anthracnose/anthracnose1115_.jpg\n",
            "Segmented and saved: /content/drive/MyDrive/CCMT dataset(grab_cut)/Cashew/anthracnose/anthracnose200_.jpg\n",
            "Segmented and saved: /content/drive/MyDrive/CCMT dataset(grab_cut)/Cashew/anthracnose/anthracnose1019_.jpg\n",
            "Segmented and saved: /content/drive/MyDrive/CCMT dataset(grab_cut)/Cashew/anthracnose/anthracnose521_.jpg\n",
            "Segmented and saved: /content/drive/MyDrive/CCMT dataset(grab_cut)/Cashew/anthracnose/anthracnose38_.jpg\n",
            "Segmented and saved: /content/drive/MyDrive/CCMT dataset(grab_cut)/Cashew/anthracnose/anthracnose1667_.jpg\n",
            "Segmented and saved: /content/drive/MyDrive/CCMT dataset(grab_cut)/Cashew/anthracnose/anthracnose128_.jpg\n",
            "Segmented and saved: /content/drive/MyDrive/CCMT dataset(grab_cut)/Cashew/anthracnose/anthracnose1311_.jpg\n",
            "Segmented and saved: /content/drive/MyDrive/CCMT dataset(grab_cut)/Cashew/anthracnose/anthracnose849_.jpg\n",
            "Segmented and saved: /content/drive/MyDrive/CCMT dataset(grab_cut)/Cashew/anthracnose/anthracnose1544_.jpg\n",
            "Segmented and saved: /content/drive/MyDrive/CCMT dataset(grab_cut)/Cashew/anthracnose/anthracnose90_.jpg\n",
            "Segmented and saved: /content/drive/MyDrive/CCMT dataset(grab_cut)/Cashew/anthracnose/anthracnose1521_.jpg\n",
            "Segmented and saved: /content/drive/MyDrive/CCMT dataset(grab_cut)/Cashew/anthracnose/anthracnose782_.jpg\n",
            "Segmented and saved: /content/drive/MyDrive/CCMT dataset(grab_cut)/Cashew/anthracnose/anthracnose1483_.jpg\n",
            "Segmented and saved: /content/drive/MyDrive/CCMT dataset(grab_cut)/Cashew/anthracnose/anthracnose672_.jpg\n",
            "Segmented and saved: /content/drive/MyDrive/CCMT dataset(grab_cut)/Cashew/anthracnose/anthracnose1653_.jpg\n",
            "Segmented and saved: /content/drive/MyDrive/CCMT dataset(grab_cut)/Cashew/anthracnose/anthracnose1027_.jpg\n",
            "Segmented and saved: /content/drive/MyDrive/CCMT dataset(grab_cut)/Cashew/anthracnose/anthracnose35_.jpg\n",
            "Segmented and saved: /content/drive/MyDrive/CCMT dataset(grab_cut)/Cashew/anthracnose/anthracnose528_.jpg\n",
            "Segmented and saved: /content/drive/MyDrive/CCMT dataset(grab_cut)/Cashew/anthracnose/anthracnose129_.jpg\n",
            "Segmented and saved: /content/drive/MyDrive/CCMT dataset(grab_cut)/Cashew/anthracnose/anthracnose976_.jpg\n",
            "Segmented and saved: /content/drive/MyDrive/CCMT dataset(grab_cut)/Cashew/anthracnose/anthracnose239_.jpg\n",
            "Segmented and saved: /content/drive/MyDrive/CCMT dataset(grab_cut)/Cashew/anthracnose/anthracnose700_.jpg\n",
            "Segmented and saved: /content/drive/MyDrive/CCMT dataset(grab_cut)/Cashew/anthracnose/anthracnose879_.jpg\n",
            "Segmented and saved: /content/drive/MyDrive/CCMT dataset(grab_cut)/Cashew/anthracnose/anthracnose201_.jpg\n",
            "Segmented and saved: /content/drive/MyDrive/CCMT dataset(grab_cut)/Cashew/anthracnose/anthracnose1286_.jpg\n",
            "Segmented and saved: /content/drive/MyDrive/CCMT dataset(grab_cut)/Cashew/anthracnose/anthracnose808_.jpg\n",
            "Segmented and saved: /content/drive/MyDrive/CCMT dataset(grab_cut)/Cashew/anthracnose/anthracnose173_.jpg\n",
            "Segmented and saved: /content/drive/MyDrive/CCMT dataset(grab_cut)/Cashew/anthracnose/anthracnose748_.jpg\n",
            "Segmented and saved: /content/drive/MyDrive/CCMT dataset(grab_cut)/Cashew/anthracnose/anthracnose548_.jpg\n",
            "Segmented and saved: /content/drive/MyDrive/CCMT dataset(grab_cut)/Cashew/anthracnose/anthracnose22_.jpg\n",
            "Segmented and saved: /content/drive/MyDrive/CCMT dataset(grab_cut)/Cashew/anthracnose/anthracnose1425_.jpg\n",
            "Segmented and saved: /content/drive/MyDrive/CCMT dataset(grab_cut)/Cashew/anthracnose/anthracnose701_.jpg\n",
            "Segmented and saved: /content/drive/MyDrive/CCMT dataset(grab_cut)/Cashew/anthracnose/anthracnose1499_.jpg\n",
            "Segmented and saved: /content/drive/MyDrive/CCMT dataset(grab_cut)/Cashew/anthracnose/anthracnose920_.jpg\n",
            "Segmented and saved: /content/drive/MyDrive/CCMT dataset(grab_cut)/Cashew/anthracnose/anthracnose245_.jpg\n",
            "Segmented and saved: /content/drive/MyDrive/CCMT dataset(grab_cut)/Cashew/anthracnose/anthracnose260_.jpg\n",
            "Segmented and saved: /content/drive/MyDrive/CCMT dataset(grab_cut)/Cashew/anthracnose/anthracnose846_.jpg\n",
            "Segmented and saved: /content/drive/MyDrive/CCMT dataset(grab_cut)/Cashew/anthracnose/anthracnose1513_.jpg\n",
            "Segmented and saved: /content/drive/MyDrive/CCMT dataset(grab_cut)/Cashew/anthracnose/anthracnose1294_.jpg\n",
            "Segmented and saved: /content/drive/MyDrive/CCMT dataset(grab_cut)/Cashew/anthracnose/anthracnose286_.jpg\n",
            "Segmented and saved: /content/drive/MyDrive/CCMT dataset(grab_cut)/Cashew/anthracnose/anthracnose786_.jpg\n",
            "Segmented and saved: /content/drive/MyDrive/CCMT dataset(grab_cut)/Cashew/anthracnose/anthracnose878_.jpg\n",
            "Segmented and saved: /content/drive/MyDrive/CCMT dataset(grab_cut)/Cashew/anthracnose/anthracnose1421_.jpg\n",
            "Segmented and saved: /content/drive/MyDrive/CCMT dataset(grab_cut)/Cashew/anthracnose/anthracnose147_.jpg\n",
            "Segmented and saved: /content/drive/MyDrive/CCMT dataset(grab_cut)/Cashew/anthracnose/anthracnose1647_.jpg\n",
            "Segmented and saved: /content/drive/MyDrive/CCMT dataset(grab_cut)/Cashew/anthracnose/anthracnose1546_.jpg\n",
            "Segmented and saved: /content/drive/MyDrive/CCMT dataset(grab_cut)/Cashew/anthracnose/anthracnose966_.jpg\n",
            "Segmented and saved: /content/drive/MyDrive/CCMT dataset(grab_cut)/Cashew/anthracnose/anthracnose1276_.jpg\n",
            "Segmented and saved: /content/drive/MyDrive/CCMT dataset(grab_cut)/Cashew/anthracnose/anthracnose36_.jpg\n",
            "Segmented and saved: /content/drive/MyDrive/CCMT dataset(grab_cut)/Cashew/anthracnose/anthracnose1088_.jpg\n",
            "Segmented and saved: /content/drive/MyDrive/CCMT dataset(grab_cut)/Cashew/anthracnose/anthracnose509_.jpg\n",
            "Segmented and saved: /content/drive/MyDrive/CCMT dataset(grab_cut)/Cashew/anthracnose/anthracnose1169_.jpg\n",
            "Segmented and saved: /content/drive/MyDrive/CCMT dataset(grab_cut)/Cashew/anthracnose/anthracnose1470_.jpg\n",
            "Segmented and saved: /content/drive/MyDrive/CCMT dataset(grab_cut)/Cashew/anthracnose/anthracnose1485_.jpg\n",
            "Segmented and saved: /content/drive/MyDrive/CCMT dataset(grab_cut)/Cashew/anthracnose/anthracnose1523_.jpg\n",
            "Segmented and saved: /content/drive/MyDrive/CCMT dataset(grab_cut)/Cashew/anthracnose/anthracnose554_.jpg\n",
            "Segmented and saved: /content/drive/MyDrive/CCMT dataset(grab_cut)/Cashew/anthracnose/anthracnose1272_.jpg\n",
            "Segmented and saved: /content/drive/MyDrive/CCMT dataset(grab_cut)/Cashew/anthracnose/anthracnose1629_.jpg\n",
            "Segmented and saved: /content/drive/MyDrive/CCMT dataset(grab_cut)/Cashew/anthracnose/anthracnose783_.jpg\n",
            "Segmented and saved: /content/drive/MyDrive/CCMT dataset(grab_cut)/Cashew/anthracnose/anthracnose442_.jpg\n",
            "Segmented and saved: /content/drive/MyDrive/CCMT dataset(grab_cut)/Cashew/anthracnose/anthracnose1202_.jpg\n",
            "Segmented and saved: /content/drive/MyDrive/CCMT dataset(grab_cut)/Cashew/anthracnose/anthracnose888_.jpg\n",
            "Segmented and saved: /content/drive/MyDrive/CCMT dataset(grab_cut)/Cashew/anthracnose/anthracnose1205_.jpg\n",
            "Segmented and saved: /content/drive/MyDrive/CCMT dataset(grab_cut)/Cashew/anthracnose/anthracnose383_.jpg\n",
            "Segmented and saved: /content/drive/MyDrive/CCMT dataset(grab_cut)/Cashew/anthracnose/anthracnose835_.jpg\n",
            "Segmented and saved: /content/drive/MyDrive/CCMT dataset(grab_cut)/Cashew/anthracnose/anthracnose1506_.jpg\n",
            "Segmented and saved: /content/drive/MyDrive/CCMT dataset(grab_cut)/Cashew/anthracnose/anthracnose257_.jpg\n",
            "Segmented and saved: /content/drive/MyDrive/CCMT dataset(grab_cut)/Cashew/anthracnose/anthracnose1075_.jpg\n",
            "Segmented and saved: /content/drive/MyDrive/CCMT dataset(grab_cut)/Cashew/anthracnose/anthracnose856_.jpg\n",
            "Segmented and saved: /content/drive/MyDrive/CCMT dataset(grab_cut)/Cashew/anthracnose/anthracnose618_.jpg\n",
            "Segmented and saved: /content/drive/MyDrive/CCMT dataset(grab_cut)/Cashew/anthracnose/anthracnose586_.jpg\n",
            "Segmented and saved: /content/drive/MyDrive/CCMT dataset(grab_cut)/Cashew/anthracnose/anthracnose983_.jpg\n",
            "Segmented and saved: /content/drive/MyDrive/CCMT dataset(grab_cut)/Cashew/anthracnose/anthracnose522_.jpg\n",
            "Segmented and saved: /content/drive/MyDrive/CCMT dataset(grab_cut)/Cashew/anthracnose/anthracnose1698_.jpg\n",
            "Segmented and saved: /content/drive/MyDrive/CCMT dataset(grab_cut)/Cashew/anthracnose/anthracnose755_.jpg\n",
            "Segmented and saved: /content/drive/MyDrive/CCMT dataset(grab_cut)/Cashew/anthracnose/anthracnose126_.jpg\n",
            "Segmented and saved: /content/drive/MyDrive/CCMT dataset(grab_cut)/Cashew/anthracnose/anthracnose1141_.jpg\n",
            "Segmented and saved: /content/drive/MyDrive/CCMT dataset(grab_cut)/Cashew/anthracnose/anthracnose984_.jpg\n",
            "Segmented and saved: /content/drive/MyDrive/CCMT dataset(grab_cut)/Cashew/anthracnose/anthracnose91_.jpg\n",
            "Segmented and saved: /content/drive/MyDrive/CCMT dataset(grab_cut)/Cashew/anthracnose/anthracnose762_.jpg\n",
            "Segmented and saved: /content/drive/MyDrive/CCMT dataset(grab_cut)/Cashew/anthracnose/anthracnose670_.jpg\n",
            "Segmented and saved: /content/drive/MyDrive/CCMT dataset(grab_cut)/Cashew/anthracnose/anthracnose1211_.jpg\n",
            "Segmented and saved: /content/drive/MyDrive/CCMT dataset(grab_cut)/Cashew/anthracnose/anthracnose171_.jpg\n",
            "Segmented and saved: /content/drive/MyDrive/CCMT dataset(grab_cut)/Cashew/anthracnose/anthracnose883_.jpg\n",
            "Segmented and saved: /content/drive/MyDrive/CCMT dataset(grab_cut)/Cashew/anthracnose/anthracnose9_.jpg\n",
            "Segmented and saved: /content/drive/MyDrive/CCMT dataset(grab_cut)/Cashew/anthracnose/anthracnose1297_.jpg\n",
            "Segmented and saved: /content/drive/MyDrive/CCMT dataset(grab_cut)/Cashew/anthracnose/anthracnose1656_.jpg\n",
            "Segmented and saved: /content/drive/MyDrive/CCMT dataset(grab_cut)/Cashew/anthracnose/anthracnose53_.jpg\n",
            "Segmented and saved: /content/drive/MyDrive/CCMT dataset(grab_cut)/Cashew/anthracnose/anthracnose1011_.jpg\n",
            "Segmented and saved: /content/drive/MyDrive/CCMT dataset(grab_cut)/Cashew/anthracnose/anthracnose424_.jpg\n",
            "Segmented and saved: /content/drive/MyDrive/CCMT dataset(grab_cut)/Cashew/anthracnose/anthracnose1201_.jpg\n",
            "Segmented and saved: /content/drive/MyDrive/CCMT dataset(grab_cut)/Cashew/anthracnose/anthracnose868_.jpg\n",
            "Segmented and saved: /content/drive/MyDrive/CCMT dataset(grab_cut)/Cashew/anthracnose/anthracnose136_.jpg\n",
            "Segmented and saved: /content/drive/MyDrive/CCMT dataset(grab_cut)/Cashew/anthracnose/anthracnose1134_.jpg\n",
            "Segmented and saved: /content/drive/MyDrive/CCMT dataset(grab_cut)/Cashew/anthracnose/anthracnose230_.jpg\n",
            "Segmented and saved: /content/drive/MyDrive/CCMT dataset(grab_cut)/Cashew/anthracnose/anthracnose813_.jpg\n",
            "Segmented and saved: /content/drive/MyDrive/CCMT dataset(grab_cut)/Cashew/anthracnose/anthracnose1237_.jpg\n",
            "Segmented and saved: /content/drive/MyDrive/CCMT dataset(grab_cut)/Cashew/anthracnose/anthracnose234_.jpg\n",
            "Segmented and saved: /content/drive/MyDrive/CCMT dataset(grab_cut)/Cashew/anthracnose/anthracnose1185_.jpg\n",
            "Segmented and saved: /content/drive/MyDrive/CCMT dataset(grab_cut)/Cashew/anthracnose/anthracnose401_.jpg\n",
            "Segmented and saved: /content/drive/MyDrive/CCMT dataset(grab_cut)/Cashew/anthracnose/anthracnose1120_.jpg\n",
            "Segmented and saved: /content/drive/MyDrive/CCMT dataset(grab_cut)/Cashew/anthracnose/anthracnose464_.jpg\n",
            "Segmented and saved: /content/drive/MyDrive/CCMT dataset(grab_cut)/Cashew/anthracnose/anthracnose716_.jpg\n",
            "Segmented and saved: /content/drive/MyDrive/CCMT dataset(grab_cut)/Cashew/anthracnose/anthracnose1015_.jpg\n",
            "Segmented and saved: /content/drive/MyDrive/CCMT dataset(grab_cut)/Cashew/anthracnose/anthracnose673_.jpg\n",
            "Segmented and saved: /content/drive/MyDrive/CCMT dataset(grab_cut)/Cashew/anthracnose/anthracnose349_.jpg\n",
            "Segmented and saved: /content/drive/MyDrive/CCMT dataset(grab_cut)/Cashew/anthracnose/anthracnose1221_.jpg\n",
            "Segmented and saved: /content/drive/MyDrive/CCMT dataset(grab_cut)/Cashew/anthracnose/anthracnose1305_.jpg\n",
            "Segmented and saved: /content/drive/MyDrive/CCMT dataset(grab_cut)/Cashew/anthracnose/anthracnose774_.jpg\n",
            "Segmented and saved: /content/drive/MyDrive/CCMT dataset(grab_cut)/Cashew/anthracnose/anthracnose578_.jpg\n",
            "Segmented and saved: /content/drive/MyDrive/CCMT dataset(grab_cut)/Cashew/anthracnose/anthracnose581_.jpg\n",
            "Segmented and saved: /content/drive/MyDrive/CCMT dataset(grab_cut)/Cashew/anthracnose/anthracnose1121_.jpg\n",
            "Segmented and saved: /content/drive/MyDrive/CCMT dataset(grab_cut)/Cashew/anthracnose/anthracnose1329_.jpg\n",
            "Segmented and saved: /content/drive/MyDrive/CCMT dataset(grab_cut)/Cashew/anthracnose/anthracnose961_.jpg\n",
            "Segmented and saved: /content/drive/MyDrive/CCMT dataset(grab_cut)/Cashew/anthracnose/anthracnose1156_.jpg\n",
            "Segmented and saved: /content/drive/MyDrive/CCMT dataset(grab_cut)/Cashew/anthracnose/anthracnose1404_.jpg\n",
            "Segmented and saved: /content/drive/MyDrive/CCMT dataset(grab_cut)/Cashew/anthracnose/anthracnose1588_.jpg\n",
            "Segmented and saved: /content/drive/MyDrive/CCMT dataset(grab_cut)/Cashew/anthracnose/anthracnose436_.jpg\n",
            "Segmented and saved: /content/drive/MyDrive/CCMT dataset(grab_cut)/Cashew/anthracnose/anthracnose1275_.jpg\n",
            "Segmented and saved: /content/drive/MyDrive/CCMT dataset(grab_cut)/Cashew/anthracnose/anthracnose12_.jpg\n",
            "Segmented and saved: /content/drive/MyDrive/CCMT dataset(grab_cut)/Cashew/anthracnose/anthracnose693_.jpg\n",
            "Segmented and saved: /content/drive/MyDrive/CCMT dataset(grab_cut)/Cashew/anthracnose/anthracnose447_.jpg\n",
            "Segmented and saved: /content/drive/MyDrive/CCMT dataset(grab_cut)/Cashew/anthracnose/anthracnose1712_.jpg\n",
            "Segmented and saved: /content/drive/MyDrive/CCMT dataset(grab_cut)/Cashew/anthracnose/anthracnose617_.jpg\n",
            "Segmented and saved: /content/drive/MyDrive/CCMT dataset(grab_cut)/Cashew/anthracnose/anthracnose457_.jpg\n",
            "Segmented and saved: /content/drive/MyDrive/CCMT dataset(grab_cut)/Cashew/anthracnose/anthracnose103_.jpg\n",
            "Segmented and saved: /content/drive/MyDrive/CCMT dataset(grab_cut)/Cashew/anthracnose/anthracnose437_.jpg\n",
            "Segmented and saved: /content/drive/MyDrive/CCMT dataset(grab_cut)/Cashew/anthracnose/anthracnose1602_.jpg\n",
            "Segmented and saved: /content/drive/MyDrive/CCMT dataset(grab_cut)/Cashew/anthracnose/anthracnose1362_.jpg\n",
            "Segmented and saved: /content/drive/MyDrive/CCMT dataset(grab_cut)/Cashew/anthracnose/anthracnose1654_.jpg\n",
            "Segmented and saved: /content/drive/MyDrive/CCMT dataset(grab_cut)/Cashew/anthracnose/anthracnose912_.jpg\n",
            "Segmented and saved: /content/drive/MyDrive/CCMT dataset(grab_cut)/Cashew/anthracnose/anthracnose996_.jpg\n",
            "Segmented and saved: /content/drive/MyDrive/CCMT dataset(grab_cut)/Cashew/anthracnose/anthracnose995_.jpg\n",
            "Segmented and saved: /content/drive/MyDrive/CCMT dataset(grab_cut)/Cashew/anthracnose/anthracnose407_.jpg\n",
            "Segmented and saved: /content/drive/MyDrive/CCMT dataset(grab_cut)/Cashew/anthracnose/anthracnose1084_.jpg\n",
            "Segmented and saved: /content/drive/MyDrive/CCMT dataset(grab_cut)/Cashew/anthracnose/anthracnose1149_.jpg\n",
            "Segmented and saved: /content/drive/MyDrive/CCMT dataset(grab_cut)/Cashew/anthracnose/anthracnose1313_.jpg\n",
            "Segmented and saved: /content/drive/MyDrive/CCMT dataset(grab_cut)/Cashew/anthracnose/anthracnose371_.jpg\n",
            "Segmented and saved: /content/drive/MyDrive/CCMT dataset(grab_cut)/Cashew/anthracnose/anthracnose1336_.jpg\n",
            "Segmented and saved: /content/drive/MyDrive/CCMT dataset(grab_cut)/Cashew/anthracnose/anthracnose791_.jpg\n",
            "Segmented and saved: /content/drive/MyDrive/CCMT dataset(grab_cut)/Cashew/anthracnose/anthracnose938_.jpg\n",
            "Segmented and saved: /content/drive/MyDrive/CCMT dataset(grab_cut)/Cashew/anthracnose/anthracnose1181_.jpg\n",
            "Segmented and saved: /content/drive/MyDrive/CCMT dataset(grab_cut)/Cashew/anthracnose/anthracnose1246_.jpg\n",
            "Segmented and saved: /content/drive/MyDrive/CCMT dataset(grab_cut)/Cashew/anthracnose/anthracnose276_.jpg\n",
            "Segmented and saved: /content/drive/MyDrive/CCMT dataset(grab_cut)/Cashew/anthracnose/anthracnose347_.jpg\n",
            "Segmented and saved: /content/drive/MyDrive/CCMT dataset(grab_cut)/Cashew/anthracnose/anthracnose1021_.jpg\n",
            "Segmented and saved: /content/drive/MyDrive/CCMT dataset(grab_cut)/Cashew/anthracnose/anthracnose70_.jpg\n",
            "Segmented and saved: /content/drive/MyDrive/CCMT dataset(grab_cut)/Cashew/anthracnose/anthracnose293_.jpg\n",
            "Segmented and saved: /content/drive/MyDrive/CCMT dataset(grab_cut)/Cashew/anthracnose/anthracnose179_.jpg\n",
            "Segmented and saved: /content/drive/MyDrive/CCMT dataset(grab_cut)/Cashew/anthracnose/anthracnose875_.jpg\n",
            "Segmented and saved: /content/drive/MyDrive/CCMT dataset(grab_cut)/Cashew/anthracnose/anthracnose481_.jpg\n",
            "Segmented and saved: /content/drive/MyDrive/CCMT dataset(grab_cut)/Cashew/anthracnose/anthracnose1703_.jpg\n",
            "Segmented and saved: /content/drive/MyDrive/CCMT dataset(grab_cut)/Cashew/anthracnose/anthracnose77_.jpg\n",
            "Segmented and saved: /content/drive/MyDrive/CCMT dataset(grab_cut)/Cashew/anthracnose/anthracnose279_.jpg\n",
            "Segmented and saved: /content/drive/MyDrive/CCMT dataset(grab_cut)/Cashew/anthracnose/anthracnose1123_.jpg\n",
            "Segmented and saved: /content/drive/MyDrive/CCMT dataset(grab_cut)/Cashew/anthracnose/anthracnose1138_.jpg\n",
            "Segmented and saved: /content/drive/MyDrive/CCMT dataset(grab_cut)/Cashew/anthracnose/anthracnose784_.jpg\n",
            "Segmented and saved: /content/drive/MyDrive/CCMT dataset(grab_cut)/Cashew/anthracnose/anthracnose1303_.jpg\n",
            "Segmented and saved: /content/drive/MyDrive/CCMT dataset(grab_cut)/Cashew/anthracnose/anthracnose585_.jpg\n",
            "Segmented and saved: /content/drive/MyDrive/CCMT dataset(grab_cut)/Cashew/anthracnose/anthracnose1467_.jpg\n",
            "Segmented and saved: /content/drive/MyDrive/CCMT dataset(grab_cut)/Cashew/anthracnose/anthracnose8_.jpg\n",
            "Segmented and saved: /content/drive/MyDrive/CCMT dataset(grab_cut)/Cashew/anthracnose/anthracnose1251_.jpg\n",
            "Segmented and saved: /content/drive/MyDrive/CCMT dataset(grab_cut)/Cashew/anthracnose/anthracnose1006_.jpg\n",
            "Segmented and saved: /content/drive/MyDrive/CCMT dataset(grab_cut)/Cashew/anthracnose/anthracnose795_.jpg\n",
            "Segmented and saved: /content/drive/MyDrive/CCMT dataset(grab_cut)/Cashew/anthracnose/anthracnose525_.jpg\n",
            "Segmented and saved: /content/drive/MyDrive/CCMT dataset(grab_cut)/Cashew/anthracnose/anthracnose733_.jpg\n",
            "Segmented and saved: /content/drive/MyDrive/CCMT dataset(grab_cut)/Cashew/anthracnose/anthracnose1464_.jpg\n",
            "Segmented and saved: /content/drive/MyDrive/CCMT dataset(grab_cut)/Cashew/anthracnose/anthracnose1453_.jpg\n",
            "Segmented and saved: /content/drive/MyDrive/CCMT dataset(grab_cut)/Cashew/anthracnose/anthracnose565_.jpg\n",
            "Segmented and saved: /content/drive/MyDrive/CCMT dataset(grab_cut)/Cashew/anthracnose/anthracnose1501_.jpg\n",
            "Segmented and saved: /content/drive/MyDrive/CCMT dataset(grab_cut)/Cashew/anthracnose/anthracnose827_.jpg\n",
            "Segmented and saved: /content/drive/MyDrive/CCMT dataset(grab_cut)/Cashew/anthracnose/anthracnose1582_.jpg\n",
            "Segmented and saved: /content/drive/MyDrive/CCMT dataset(grab_cut)/Cashew/anthracnose/anthracnose805_.jpg\n",
            "Segmented and saved: /content/drive/MyDrive/CCMT dataset(grab_cut)/Cashew/anthracnose/anthracnose1219_.jpg\n",
            "Segmented and saved: /content/drive/MyDrive/CCMT dataset(grab_cut)/Cashew/anthracnose/anthracnose1609_.jpg\n",
            "Segmented and saved: /content/drive/MyDrive/CCMT dataset(grab_cut)/Cashew/anthracnose/anthracnose551_.jpg\n",
            "Segmented and saved: /content/drive/MyDrive/CCMT dataset(grab_cut)/Cashew/anthracnose/anthracnose1596_.jpg\n",
            "Segmented and saved: /content/drive/MyDrive/CCMT dataset(grab_cut)/Cashew/anthracnose/anthracnose941_.jpg\n",
            "Segmented and saved: /content/drive/MyDrive/CCMT dataset(grab_cut)/Cashew/anthracnose/anthracnose1210_.jpg\n",
            "Segmented and saved: /content/drive/MyDrive/CCMT dataset(grab_cut)/Cashew/anthracnose/anthracnose1129_.jpg\n",
            "Segmented and saved: /content/drive/MyDrive/CCMT dataset(grab_cut)/Cashew/anthracnose/anthracnose17_.jpg\n",
            "Segmented and saved: /content/drive/MyDrive/CCMT dataset(grab_cut)/Cashew/anthracnose/anthracnose873_.jpg\n",
            "Segmented and saved: /content/drive/MyDrive/CCMT dataset(grab_cut)/Cashew/anthracnose/anthracnose499_.jpg\n",
            "Segmented and saved: /content/drive/MyDrive/CCMT dataset(grab_cut)/Cashew/anthracnose/anthracnose750_.jpg\n",
            "Segmented and saved: /content/drive/MyDrive/CCMT dataset(grab_cut)/Cashew/anthracnose/anthracnose1409_.jpg\n",
            "Segmented and saved: /content/drive/MyDrive/CCMT dataset(grab_cut)/Cashew/anthracnose/anthracnose1386_.jpg\n",
            "Segmented and saved: /content/drive/MyDrive/CCMT dataset(grab_cut)/Cashew/anthracnose/anthracnose1218_.jpg\n",
            "Segmented and saved: /content/drive/MyDrive/CCMT dataset(grab_cut)/Cashew/anthracnose/anthracnose685_.jpg\n",
            "Segmented and saved: /content/drive/MyDrive/CCMT dataset(grab_cut)/Cashew/anthracnose/anthracnose367_.jpg\n",
            "Segmented and saved: /content/drive/MyDrive/CCMT dataset(grab_cut)/Cashew/anthracnose/anthracnose922_.jpg\n",
            "Segmented and saved: /content/drive/MyDrive/CCMT dataset(grab_cut)/Cashew/anthracnose/anthracnose624_.jpg\n",
            "Segmented and saved: /content/drive/MyDrive/CCMT dataset(grab_cut)/Cashew/anthracnose/anthracnose1304_.jpg\n",
            "Segmented and saved: /content/drive/MyDrive/CCMT dataset(grab_cut)/Cashew/anthracnose/anthracnose1238_.jpg\n",
            "Segmented and saved: /content/drive/MyDrive/CCMT dataset(grab_cut)/Cashew/anthracnose/anthracnose1526_.jpg\n",
            "Segmented and saved: /content/drive/MyDrive/CCMT dataset(grab_cut)/Cashew/anthracnose/anthracnose1281_.jpg\n",
            "Segmented and saved: /content/drive/MyDrive/CCMT dataset(grab_cut)/Cashew/anthracnose/anthracnose1512_.jpg\n",
            "Segmented and saved: /content/drive/MyDrive/CCMT dataset(grab_cut)/Cashew/anthracnose/anthracnose495_.jpg\n",
            "Segmented and saved: /content/drive/MyDrive/CCMT dataset(grab_cut)/Cashew/anthracnose/anthracnose178_.jpg\n",
            "Segmented and saved: /content/drive/MyDrive/CCMT dataset(grab_cut)/Cashew/anthracnose/anthracnose232_.jpg\n",
            "Segmented and saved: /content/drive/MyDrive/CCMT dataset(grab_cut)/Cashew/anthracnose/anthracnose771_.jpg\n",
            "Segmented and saved: /content/drive/MyDrive/CCMT dataset(grab_cut)/Cashew/anthracnose/anthracnose1471_.jpg\n",
            "Segmented and saved: /content/drive/MyDrive/CCMT dataset(grab_cut)/Cashew/anthracnose/anthracnose787_.jpg\n",
            "Segmented and saved: /content/drive/MyDrive/CCMT dataset(grab_cut)/Cashew/anthracnose/anthracnose1538_.jpg\n",
            "Segmented and saved: /content/drive/MyDrive/CCMT dataset(grab_cut)/Cashew/anthracnose/anthracnose845_.jpg\n",
            "Segmented and saved: /content/drive/MyDrive/CCMT dataset(grab_cut)/Cashew/anthracnose/anthracnose418_.jpg\n",
            "Segmented and saved: /content/drive/MyDrive/CCMT dataset(grab_cut)/Cashew/anthracnose/anthracnose54_.jpg\n",
            "Segmented and saved: /content/drive/MyDrive/CCMT dataset(grab_cut)/Cashew/anthracnose/anthracnose1479_.jpg\n",
            "Segmented and saved: /content/drive/MyDrive/CCMT dataset(grab_cut)/Cashew/anthracnose/anthracnose1534_.jpg\n",
            "Segmented and saved: /content/drive/MyDrive/CCMT dataset(grab_cut)/Cashew/anthracnose/anthracnose142_.jpg\n",
            "Segmented and saved: /content/drive/MyDrive/CCMT dataset(grab_cut)/Cashew/anthracnose/anthracnose749_.jpg\n",
            "Segmented and saved: /content/drive/MyDrive/CCMT dataset(grab_cut)/Cashew/anthracnose/anthracnose1493_.jpg\n",
            "Segmented and saved: /content/drive/MyDrive/CCMT dataset(grab_cut)/Cashew/anthracnose/anthracnose255_.jpg\n",
            "Segmented and saved: /content/drive/MyDrive/CCMT dataset(grab_cut)/Cashew/anthracnose/anthracnose50_.jpg\n",
            "Segmented and saved: /content/drive/MyDrive/CCMT dataset(grab_cut)/Cashew/anthracnose/anthracnose1254_.jpg\n",
            "Segmented and saved: /content/drive/MyDrive/CCMT dataset(grab_cut)/Cashew/anthracnose/anthracnose159_.jpg\n",
            "Segmented and saved: /content/drive/MyDrive/CCMT dataset(grab_cut)/Cashew/anthracnose/anthracnose1252_.jpg\n",
            "Segmented and saved: /content/drive/MyDrive/CCMT dataset(grab_cut)/Cashew/anthracnose/anthracnose1036_.jpg\n",
            "Segmented and saved: /content/drive/MyDrive/CCMT dataset(grab_cut)/Cashew/anthracnose/anthracnose1374_.jpg\n",
            "Segmented and saved: /content/drive/MyDrive/CCMT dataset(grab_cut)/Cashew/anthracnose/anthracnose1163_.jpg\n",
            "Segmented and saved: /content/drive/MyDrive/CCMT dataset(grab_cut)/Cashew/anthracnose/anthracnose1161_.jpg\n",
            "Segmented and saved: /content/drive/MyDrive/CCMT dataset(grab_cut)/Cashew/anthracnose/anthracnose652_.jpg\n",
            "Segmented and saved: /content/drive/MyDrive/CCMT dataset(grab_cut)/Cashew/anthracnose/anthracnose1672_.jpg\n",
            "Segmented and saved: /content/drive/MyDrive/CCMT dataset(grab_cut)/Cashew/anthracnose/anthracnose1114_.jpg\n",
            "Segmented and saved: /content/drive/MyDrive/CCMT dataset(grab_cut)/Cashew/anthracnose/anthracnose504_.jpg\n",
            "Segmented and saved: /content/drive/MyDrive/CCMT dataset(grab_cut)/Cashew/anthracnose/anthracnose956_.jpg\n",
            "Segmented and saved: /content/drive/MyDrive/CCMT dataset(grab_cut)/Cashew/anthracnose/anthracnose444_.jpg\n",
            "Segmented and saved: /content/drive/MyDrive/CCMT dataset(grab_cut)/Cashew/anthracnose/anthracnose34_.jpg\n",
            "Segmented and saved: /content/drive/MyDrive/CCMT dataset(grab_cut)/Cashew/anthracnose/anthracnose1380_.jpg\n",
            "Segmented and saved: /content/drive/MyDrive/CCMT dataset(grab_cut)/Cashew/anthracnose/anthracnose352_.jpg\n",
            "Segmented and saved: /content/drive/MyDrive/CCMT dataset(grab_cut)/Cashew/anthracnose/anthracnose575_.jpg\n",
            "Segmented and saved: /content/drive/MyDrive/CCMT dataset(grab_cut)/Cashew/anthracnose/anthracnose1333_.jpg\n",
            "Segmented and saved: /content/drive/MyDrive/CCMT dataset(grab_cut)/Cashew/anthracnose/anthracnose577_.jpg\n",
            "Segmented and saved: /content/drive/MyDrive/CCMT dataset(grab_cut)/Cashew/anthracnose/anthracnose390_.jpg\n",
            "Segmented and saved: /content/drive/MyDrive/CCMT dataset(grab_cut)/Cashew/anthracnose/anthracnose1511_.jpg\n",
            "Segmented and saved: /content/drive/MyDrive/CCMT dataset(grab_cut)/Cashew/anthracnose/anthracnose1232_.jpg\n",
            "Segmented and saved: /content/drive/MyDrive/CCMT dataset(grab_cut)/Cashew/anthracnose/anthracnose92_.jpg\n",
            "Segmented and saved: /content/drive/MyDrive/CCMT dataset(grab_cut)/Cashew/anthracnose/anthracnose1476_.jpg\n",
            "Segmented and saved: /content/drive/MyDrive/CCMT dataset(grab_cut)/Cashew/anthracnose/anthracnose112_.jpg\n",
            "Segmented and saved: /content/drive/MyDrive/CCMT dataset(grab_cut)/Cashew/anthracnose/anthracnose41_.jpg\n",
            "Segmented and saved: /content/drive/MyDrive/CCMT dataset(grab_cut)/Cashew/anthracnose/anthracnose1572_.jpg\n",
            "Segmented and saved: /content/drive/MyDrive/CCMT dataset(grab_cut)/Cashew/anthracnose/anthracnose982_.jpg\n",
            "Segmented and saved: /content/drive/MyDrive/CCMT dataset(grab_cut)/Cashew/anthracnose/anthracnose758_.jpg\n",
            "Segmented and saved: /content/drive/MyDrive/CCMT dataset(grab_cut)/Cashew/anthracnose/anthracnose529_.jpg\n",
            "Segmented and saved: /content/drive/MyDrive/CCMT dataset(grab_cut)/Cashew/anthracnose/anthracnose1037_.jpg\n",
            "Segmented and saved: /content/drive/MyDrive/CCMT dataset(grab_cut)/Cashew/anthracnose/anthracnose143_.jpg\n",
            "Segmented and saved: /content/drive/MyDrive/CCMT dataset(grab_cut)/Cashew/anthracnose/anthracnose1566_.jpg\n",
            "Segmented and saved: /content/drive/MyDrive/CCMT dataset(grab_cut)/Cashew/anthracnose/anthracnose1666_.jpg\n",
            "Segmented and saved: /content/drive/MyDrive/CCMT dataset(grab_cut)/Cashew/anthracnose/anthracnose207_.jpg\n",
            "Segmented and saved: /content/drive/MyDrive/CCMT dataset(grab_cut)/Cashew/anthracnose/anthracnose832_.jpg\n",
            "Segmented and saved: /content/drive/MyDrive/CCMT dataset(grab_cut)/Cashew/anthracnose/anthracnose584_.jpg\n",
            "Segmented and saved: /content/drive/MyDrive/CCMT dataset(grab_cut)/Cashew/anthracnose/anthracnose800_.jpg\n",
            "Segmented and saved: /content/drive/MyDrive/CCMT dataset(grab_cut)/Cashew/anthracnose/anthracnose1172_.jpg\n",
            "Segmented and saved: /content/drive/MyDrive/CCMT dataset(grab_cut)/Cashew/anthracnose/anthracnose1604_.jpg\n",
            "Segmented and saved: /content/drive/MyDrive/CCMT dataset(grab_cut)/Cashew/anthracnose/anthracnose1519_.jpg\n",
            "Segmented and saved: /content/drive/MyDrive/CCMT dataset(grab_cut)/Cashew/anthracnose/anthracnose439_.jpg\n",
            "Segmented and saved: /content/drive/MyDrive/CCMT dataset(grab_cut)/Cashew/anthracnose/anthracnose280_.jpg\n",
            "Segmented and saved: /content/drive/MyDrive/CCMT dataset(grab_cut)/Cashew/anthracnose/anthracnose1401_.jpg\n",
            "Segmented and saved: /content/drive/MyDrive/CCMT dataset(grab_cut)/Cashew/anthracnose/anthracnose663_.jpg\n",
            "Segmented and saved: /content/drive/MyDrive/CCMT dataset(grab_cut)/Cashew/anthracnose/anthracnose115_.jpg\n",
            "Segmented and saved: /content/drive/MyDrive/CCMT dataset(grab_cut)/Cashew/anthracnose/anthracnose955_.jpg\n",
            "Segmented and saved: /content/drive/MyDrive/CCMT dataset(grab_cut)/Cashew/anthracnose/anthracnose1177_.jpg\n",
            "Segmented and saved: /content/drive/MyDrive/CCMT dataset(grab_cut)/Cashew/anthracnose/anthracnose668_.jpg\n",
            "Segmented and saved: /content/drive/MyDrive/CCMT dataset(grab_cut)/Cashew/anthracnose/anthracnose1662_.jpg\n",
            "Segmented and saved: /content/drive/MyDrive/CCMT dataset(grab_cut)/Cashew/anthracnose/anthracnose893_.jpg\n",
            "Segmented and saved: /content/drive/MyDrive/CCMT dataset(grab_cut)/Cashew/anthracnose/anthracnose125_.jpg\n",
            "Segmented and saved: /content/drive/MyDrive/CCMT dataset(grab_cut)/Cashew/anthracnose/anthracnose71_.jpg\n",
            "Segmented and saved: /content/drive/MyDrive/CCMT dataset(grab_cut)/Cashew/anthracnose/anthracnose1126_.jpg\n",
            "Segmented and saved: /content/drive/MyDrive/CCMT dataset(grab_cut)/Cashew/anthracnose/anthracnose601_.jpg\n",
            "Segmented and saved: /content/drive/MyDrive/CCMT dataset(grab_cut)/Cashew/anthracnose/anthracnose1346_.jpg\n",
            "Segmented and saved: /content/drive/MyDrive/CCMT dataset(grab_cut)/Cashew/anthracnose/anthracnose1705_.jpg\n",
            "Segmented and saved: /content/drive/MyDrive/CCMT dataset(grab_cut)/Cashew/anthracnose/anthracnose573_.jpg\n",
            "Segmented and saved: /content/drive/MyDrive/CCMT dataset(grab_cut)/Cashew/anthracnose/anthracnose1087_.jpg\n",
            "Segmented and saved: /content/drive/MyDrive/CCMT dataset(grab_cut)/Cashew/anthracnose/anthracnose1646_.jpg\n",
            "Segmented and saved: /content/drive/MyDrive/CCMT dataset(grab_cut)/Cashew/anthracnose/anthracnose931_.jpg\n",
            "Segmented and saved: /content/drive/MyDrive/CCMT dataset(grab_cut)/Cashew/anthracnose/anthracnose760_.jpg\n",
            "Segmented and saved: /content/drive/MyDrive/CCMT dataset(grab_cut)/Cashew/anthracnose/anthracnose1337_.jpg\n",
            "Segmented and saved: /content/drive/MyDrive/CCMT dataset(grab_cut)/Cashew/anthracnose/anthracnose744_.jpg\n",
            "Segmented and saved: /content/drive/MyDrive/CCMT dataset(grab_cut)/Cashew/anthracnose/anthracnose1473_.jpg\n",
            "Segmented and saved: /content/drive/MyDrive/CCMT dataset(grab_cut)/Cashew/anthracnose/anthracnose152_.jpg\n",
            "Segmented and saved: /content/drive/MyDrive/CCMT dataset(grab_cut)/Cashew/anthracnose/anthracnose339_.jpg\n",
            "Segmented and saved: /content/drive/MyDrive/CCMT dataset(grab_cut)/Cashew/anthracnose/anthracnose1365_.jpg\n",
            "Segmented and saved: /content/drive/MyDrive/CCMT dataset(grab_cut)/Cashew/anthracnose/anthracnose1674_.jpg\n",
            "Segmented and saved: /content/drive/MyDrive/CCMT dataset(grab_cut)/Cashew/anthracnose/anthracnose305_.jpg\n",
            "Segmented and saved: /content/drive/MyDrive/CCMT dataset(grab_cut)/Cashew/anthracnose/anthracnose170_.jpg\n",
            "Segmented and saved: /content/drive/MyDrive/CCMT dataset(grab_cut)/Cashew/anthracnose/anthracnose837_.jpg\n",
            "Segmented and saved: /content/drive/MyDrive/CCMT dataset(grab_cut)/Cashew/anthracnose/anthracnose296_.jpg\n",
            "Segmented and saved: /content/drive/MyDrive/CCMT dataset(grab_cut)/Cashew/anthracnose/anthracnose335_.jpg\n",
            "Segmented and saved: /content/drive/MyDrive/CCMT dataset(grab_cut)/Cashew/anthracnose/anthracnose708_.jpg\n",
            "Segmented and saved: /content/drive/MyDrive/CCMT dataset(grab_cut)/Cashew/anthracnose/anthracnose366_.jpg\n",
            "Segmented and saved: /content/drive/MyDrive/CCMT dataset(grab_cut)/Cashew/anthracnose/anthracnose1696_.jpg\n",
            "Segmented and saved: /content/drive/MyDrive/CCMT dataset(grab_cut)/Cashew/anthracnose/anthracnose311_.jpg\n",
            "Segmented and saved: /content/drive/MyDrive/CCMT dataset(grab_cut)/Cashew/anthracnose/anthracnose796_.jpg\n",
            "Segmented and saved: /content/drive/MyDrive/CCMT dataset(grab_cut)/Cashew/anthracnose/anthracnose322_.jpg\n",
            "Segmented and saved: /content/drive/MyDrive/CCMT dataset(grab_cut)/Cashew/anthracnose/anthracnose217_.jpg\n",
            "Segmented and saved: /content/drive/MyDrive/CCMT dataset(grab_cut)/Cashew/anthracnose/anthracnose1209_.jpg\n",
            "Segmented and saved: /content/drive/MyDrive/CCMT dataset(grab_cut)/Cashew/anthracnose/anthracnose1140_.jpg\n",
            "Segmented and saved: /content/drive/MyDrive/CCMT dataset(grab_cut)/Cashew/anthracnose/anthracnose388_.jpg\n",
            "Segmented and saved: /content/drive/MyDrive/CCMT dataset(grab_cut)/Cashew/anthracnose/anthracnose857_.jpg\n",
            "Segmented and saved: /content/drive/MyDrive/CCMT dataset(grab_cut)/Cashew/anthracnose/anthracnose410_.jpg\n",
            "Segmented and saved: /content/drive/MyDrive/CCMT dataset(grab_cut)/Cashew/anthracnose/anthracnose1524_.jpg\n",
            "Segmented and saved: /content/drive/MyDrive/CCMT dataset(grab_cut)/Cashew/anthracnose/anthracnose1287_.jpg\n",
            "Segmented and saved: /content/drive/MyDrive/CCMT dataset(grab_cut)/Cashew/anthracnose/anthracnose212_.jpg\n",
            "Segmented and saved: /content/drive/MyDrive/CCMT dataset(grab_cut)/Cashew/anthracnose/anthracnose1285_.jpg\n",
            "Segmented and saved: /content/drive/MyDrive/CCMT dataset(grab_cut)/Cashew/anthracnose/anthracnose949_.jpg\n",
            "Segmented and saved: /content/drive/MyDrive/CCMT dataset(grab_cut)/Cashew/anthracnose/anthracnose681_.jpg\n",
            "Segmented and saved: /content/drive/MyDrive/CCMT dataset(grab_cut)/Cashew/anthracnose/anthracnose1277_.jpg\n",
            "Segmented and saved: /content/drive/MyDrive/CCMT dataset(grab_cut)/Cashew/anthracnose/anthracnose1575_.jpg\n",
            "Segmented and saved: /content/drive/MyDrive/CCMT dataset(grab_cut)/Cashew/anthracnose/anthracnose184_.jpg\n",
            "Segmented and saved: /content/drive/MyDrive/CCMT dataset(grab_cut)/Cashew/anthracnose/anthracnose1344_.jpg\n",
            "Segmented and saved: /content/drive/MyDrive/CCMT dataset(grab_cut)/Cashew/anthracnose/anthracnose699_.jpg\n",
            "Segmented and saved: /content/drive/MyDrive/CCMT dataset(grab_cut)/Cashew/anthracnose/anthracnose1230_.jpg\n",
            "Segmented and saved: /content/drive/MyDrive/CCMT dataset(grab_cut)/Cashew/anthracnose/anthracnose629_.jpg\n",
            "Segmented and saved: /content/drive/MyDrive/CCMT dataset(grab_cut)/Cashew/anthracnose/anthracnose406_.jpg\n",
            "Segmented and saved: /content/drive/MyDrive/CCMT dataset(grab_cut)/Cashew/anthracnose/anthracnose467_.jpg\n",
            "Segmented and saved: /content/drive/MyDrive/CCMT dataset(grab_cut)/Cashew/anthracnose/anthracnose1457_.jpg\n",
            "Segmented and saved: /content/drive/MyDrive/CCMT dataset(grab_cut)/Cashew/anthracnose/anthracnose480_.jpg\n",
            "Segmented and saved: /content/drive/MyDrive/CCMT dataset(grab_cut)/Cashew/anthracnose/anthracnose610_.jpg\n",
            "Segmented and saved: /content/drive/MyDrive/CCMT dataset(grab_cut)/Cashew/anthracnose/anthracnose1420_.jpg\n",
            "Segmented and saved: /content/drive/MyDrive/CCMT dataset(grab_cut)/Cashew/anthracnose/anthracnose1039_.jpg\n",
            "Segmented and saved: /content/drive/MyDrive/CCMT dataset(grab_cut)/Cashew/anthracnose/anthracnose1321_.jpg\n",
            "Segmented and saved: /content/drive/MyDrive/CCMT dataset(grab_cut)/Cashew/anthracnose/anthracnose409_.jpg\n",
            "Segmented and saved: /content/drive/MyDrive/CCMT dataset(grab_cut)/Cashew/anthracnose/anthracnose343_.jpg\n",
            "Segmented and saved: /content/drive/MyDrive/CCMT dataset(grab_cut)/Cashew/anthracnose/anthracnose1608_.jpg\n",
            "Segmented and saved: /content/drive/MyDrive/CCMT dataset(grab_cut)/Cashew/anthracnose/anthracnose1579_.jpg\n",
            "Segmented and saved: /content/drive/MyDrive/CCMT dataset(grab_cut)/Cashew/anthracnose/anthracnose248_.jpg\n",
            "Segmented and saved: /content/drive/MyDrive/CCMT dataset(grab_cut)/Cashew/anthracnose/anthracnose465_.jpg\n",
            "Segmented and saved: /content/drive/MyDrive/CCMT dataset(grab_cut)/Cashew/anthracnose/anthracnose1650_.jpg\n",
            "Segmented and saved: /content/drive/MyDrive/CCMT dataset(grab_cut)/Cashew/anthracnose/anthracnose860_.jpg\n",
            "Segmented and saved: /content/drive/MyDrive/CCMT dataset(grab_cut)/Cashew/anthracnose/anthracnose222_.jpg\n",
            "Segmented and saved: /content/drive/MyDrive/CCMT dataset(grab_cut)/Cashew/anthracnose/anthracnose928_.jpg\n",
            "Segmented and saved: /content/drive/MyDrive/CCMT dataset(grab_cut)/Cashew/anthracnose/anthracnose927_.jpg\n",
            "Segmented and saved: /content/drive/MyDrive/CCMT dataset(grab_cut)/Cashew/anthracnose/anthracnose1000_.jpg\n",
            "Segmented and saved: /content/drive/MyDrive/CCMT dataset(grab_cut)/Cashew/anthracnose/anthracnose1658_.jpg\n",
            "Segmented and saved: /content/drive/MyDrive/CCMT dataset(grab_cut)/Cashew/anthracnose/anthracnose259_.jpg\n",
            "Segmented and saved: /content/drive/MyDrive/CCMT dataset(grab_cut)/Cashew/anthracnose/anthracnose1385_.jpg\n",
            "Segmented and saved: /content/drive/MyDrive/CCMT dataset(grab_cut)/Cashew/anthracnose/anthracnose1092_.jpg\n",
            "Segmented and saved: /content/drive/MyDrive/CCMT dataset(grab_cut)/Cashew/anthracnose/anthracnose687_.jpg\n",
            "Segmented and saved: /content/drive/MyDrive/CCMT dataset(grab_cut)/Cashew/anthracnose/anthracnose1349_.jpg\n",
            "Segmented and saved: /content/drive/MyDrive/CCMT dataset(grab_cut)/Cashew/anthracnose/anthracnose210_.jpg\n",
            "Segmented and saved: /content/drive/MyDrive/CCMT dataset(grab_cut)/Cashew/anthracnose/anthracnose1533_.jpg\n",
            "Segmented and saved: /content/drive/MyDrive/CCMT dataset(grab_cut)/Cashew/anthracnose/anthracnose592_.jpg\n",
            "Segmented and saved: /content/drive/MyDrive/CCMT dataset(grab_cut)/Cashew/anthracnose/anthracnose1168_.jpg\n",
            "Segmented and saved: /content/drive/MyDrive/CCMT dataset(grab_cut)/Cashew/anthracnose/anthracnose820_.jpg\n",
            "Segmented and saved: /content/drive/MyDrive/CCMT dataset(grab_cut)/Cashew/anthracnose/anthracnose87_.jpg\n",
            "Segmented and saved: /content/drive/MyDrive/CCMT dataset(grab_cut)/Cashew/anthracnose/anthracnose268_.jpg\n",
            "Segmented and saved: /content/drive/MyDrive/CCMT dataset(grab_cut)/Cashew/anthracnose/anthracnose1062_.jpg\n",
            "Segmented and saved: /content/drive/MyDrive/CCMT dataset(grab_cut)/Cashew/anthracnose/anthracnose148_.jpg\n",
            "Segmented and saved: /content/drive/MyDrive/CCMT dataset(grab_cut)/Cashew/anthracnose/anthracnose1730_.jpg\n",
            "Segmented and saved: /content/drive/MyDrive/CCMT dataset(grab_cut)/Cashew/anthracnose/anthracnose993_.jpg\n",
            "Segmented and saved: /content/drive/MyDrive/CCMT dataset(grab_cut)/Cashew/anthracnose/anthracnose891_.jpg\n",
            "Segmented and saved: /content/drive/MyDrive/CCMT dataset(grab_cut)/Cashew/anthracnose/anthracnose1045_.jpg\n",
            "Segmented and saved: /content/drive/MyDrive/CCMT dataset(grab_cut)/Cashew/anthracnose/anthracnose1034_.jpg\n",
            "Segmented and saved: /content/drive/MyDrive/CCMT dataset(grab_cut)/Cashew/anthracnose/anthracnose1248_.jpg\n",
            "Segmented and saved: /content/drive/MyDrive/CCMT dataset(grab_cut)/Cashew/anthracnose/anthracnose1117_.jpg\n",
            "Segmented and saved: /content/drive/MyDrive/CCMT dataset(grab_cut)/Cashew/anthracnose/anthracnose794_.jpg\n",
            "Segmented and saved: /content/drive/MyDrive/CCMT dataset(grab_cut)/Cashew/anthracnose/anthracnose1728_.jpg\n",
            "Segmented and saved: /content/drive/MyDrive/CCMT dataset(grab_cut)/Cashew/anthracnose/anthracnose915_.jpg\n",
            "Segmented and saved: /content/drive/MyDrive/CCMT dataset(grab_cut)/Cashew/anthracnose/anthracnose376_.jpg\n",
            "Segmented and saved: /content/drive/MyDrive/CCMT dataset(grab_cut)/Cashew/anthracnose/anthracnose1408_.jpg\n",
            "Segmented and saved: /content/drive/MyDrive/CCMT dataset(grab_cut)/Cashew/anthracnose/anthracnose27_.jpg\n",
            "Segmented and saved: /content/drive/MyDrive/CCMT dataset(grab_cut)/Cashew/anthracnose/anthracnose273_.jpg\n",
            "Segmented and saved: /content/drive/MyDrive/CCMT dataset(grab_cut)/Cashew/anthracnose/anthracnose28_.jpg\n",
            "Segmented and saved: /content/drive/MyDrive/CCMT dataset(grab_cut)/Cashew/anthracnose/anthracnose139_.jpg\n",
            "Segmented and saved: /content/drive/MyDrive/CCMT dataset(grab_cut)/Cashew/anthracnose/anthracnose1448_.jpg\n",
            "Segmented and saved: /content/drive/MyDrive/CCMT dataset(grab_cut)/Cashew/anthracnose/anthracnose229_.jpg\n",
            "Segmented and saved: /content/drive/MyDrive/CCMT dataset(grab_cut)/Cashew/anthracnose/anthracnose1645_.jpg\n",
            "Segmented and saved: /content/drive/MyDrive/CCMT dataset(grab_cut)/Cashew/anthracnose/anthracnose21_.jpg\n",
            "Segmented and saved: /content/drive/MyDrive/CCMT dataset(grab_cut)/Cashew/anthracnose/anthracnose1225_.jpg\n",
            "Segmented and saved: /content/drive/MyDrive/CCMT dataset(grab_cut)/Cashew/anthracnose/anthracnose419_.jpg\n",
            "Segmented and saved: /content/drive/MyDrive/CCMT dataset(grab_cut)/Cashew/anthracnose/anthracnose150_.jpg\n",
            "Segmented and saved: /content/drive/MyDrive/CCMT dataset(grab_cut)/Cashew/anthracnose/anthracnose1599_.jpg\n",
            "Segmented and saved: /content/drive/MyDrive/CCMT dataset(grab_cut)/Cashew/anthracnose/anthracnose1061_.jpg\n",
            "Segmented and saved: /content/drive/MyDrive/CCMT dataset(grab_cut)/Cashew/anthracnose/anthracnose79_.jpg\n",
            "Segmented and saved: /content/drive/MyDrive/CCMT dataset(grab_cut)/Cashew/anthracnose/anthracnose745_.jpg\n",
            "Segmented and saved: /content/drive/MyDrive/CCMT dataset(grab_cut)/Cashew/anthracnose/anthracnose630_.jpg\n",
            "Segmented and saved: /content/drive/MyDrive/CCMT dataset(grab_cut)/Cashew/anthracnose/anthracnose852_.jpg\n",
            "Segmented and saved: /content/drive/MyDrive/CCMT dataset(grab_cut)/Cashew/anthracnose/anthracnose1391_.jpg\n",
            "Segmented and saved: /content/drive/MyDrive/CCMT dataset(grab_cut)/Cashew/anthracnose/anthracnose691_.jpg\n",
            "Segmented and saved: /content/drive/MyDrive/CCMT dataset(grab_cut)/Cashew/anthracnose/anthracnose1532_.jpg\n",
            "Segmented and saved: /content/drive/MyDrive/CCMT dataset(grab_cut)/Cashew/anthracnose/anthracnose97_.jpg\n",
            "Segmented and saved: /content/drive/MyDrive/CCMT dataset(grab_cut)/Cashew/anthracnose/anthracnose360_.jpg\n",
            "Segmented and saved: /content/drive/MyDrive/CCMT dataset(grab_cut)/Cashew/anthracnose/anthracnose665_.jpg\n",
            "Segmented and saved: /content/drive/MyDrive/CCMT dataset(grab_cut)/Cashew/anthracnose/anthracnose926_.jpg\n",
            "Segmented and saved: /content/drive/MyDrive/CCMT dataset(grab_cut)/Cashew/anthracnose/anthracnose477_.jpg\n",
            "Segmented and saved: /content/drive/MyDrive/CCMT dataset(grab_cut)/Cashew/anthracnose/anthracnose1581_.jpg\n",
            "Segmented and saved: /content/drive/MyDrive/CCMT dataset(grab_cut)/Cashew/anthracnose/anthracnose382_.jpg\n",
            "Segmented and saved: /content/drive/MyDrive/CCMT dataset(grab_cut)/Cashew/anthracnose/anthracnose1679_.jpg\n",
            "Segmented and saved: /content/drive/MyDrive/CCMT dataset(grab_cut)/Cashew/anthracnose/anthracnose411_.jpg\n",
            "Segmented and saved: /content/drive/MyDrive/CCMT dataset(grab_cut)/Cashew/anthracnose/anthracnose925_.jpg\n",
            "Segmented and saved: /content/drive/MyDrive/CCMT dataset(grab_cut)/Cashew/anthracnose/anthracnose1190_.jpg\n",
            "Segmented and saved: /content/drive/MyDrive/CCMT dataset(grab_cut)/Cashew/anthracnose/anthracnose1397_.jpg\n",
            "Segmented and saved: /content/drive/MyDrive/CCMT dataset(grab_cut)/Cashew/anthracnose/anthracnose165_.jpg\n",
            "Segmented and saved: /content/drive/MyDrive/CCMT dataset(grab_cut)/Cashew/anthracnose/anthracnose282_.jpg\n",
            "Segmented and saved: /content/drive/MyDrive/CCMT dataset(grab_cut)/Cashew/anthracnose/anthracnose1292_.jpg\n",
            "Segmented and saved: /content/drive/MyDrive/CCMT dataset(grab_cut)/Cashew/anthracnose/anthracnose1444_.jpg\n",
            "Segmented and saved: /content/drive/MyDrive/CCMT dataset(grab_cut)/Cashew/anthracnose/anthracnose228_.jpg\n",
            "Segmented and saved: /content/drive/MyDrive/CCMT dataset(grab_cut)/Cashew/anthracnose/anthracnose69_.jpg\n",
            "Segmented and saved: /content/drive/MyDrive/CCMT dataset(grab_cut)/Cashew/anthracnose/anthracnose899_.jpg\n",
            "Segmented and saved: /content/drive/MyDrive/CCMT dataset(grab_cut)/Cashew/anthracnose/anthracnose155_.jpg\n",
            "Segmented and saved: /content/drive/MyDrive/CCMT dataset(grab_cut)/Cashew/anthracnose/anthracnose1434_.jpg\n",
            "Segmented and saved: /content/drive/MyDrive/CCMT dataset(grab_cut)/Cashew/anthracnose/anthracnose283_.jpg\n",
            "Segmented and saved: /content/drive/MyDrive/CCMT dataset(grab_cut)/Cashew/anthracnose/anthracnose555_.jpg\n",
            "Segmented and saved: /content/drive/MyDrive/CCMT dataset(grab_cut)/Cashew/anthracnose/anthracnose757_.jpg\n",
            "Segmented and saved: /content/drive/MyDrive/CCMT dataset(grab_cut)/Cashew/anthracnose/anthracnose1455_.jpg\n",
            "Segmented and saved: /content/drive/MyDrive/CCMT dataset(grab_cut)/Cashew/anthracnose/anthracnose660_.jpg\n",
            "Segmented and saved: /content/drive/MyDrive/CCMT dataset(grab_cut)/Cashew/anthracnose/anthracnose1010_.jpg\n",
            "Segmented and saved: /content/drive/MyDrive/CCMT dataset(grab_cut)/Cashew/anthracnose/anthracnose231_.jpg\n",
            "Segmented and saved: /content/drive/MyDrive/CCMT dataset(grab_cut)/Cashew/anthracnose/anthracnose612_.jpg\n",
            "Segmented and saved: /content/drive/MyDrive/CCMT dataset(grab_cut)/Cashew/anthracnose/anthracnose736_.jpg\n",
            "Segmented and saved: /content/drive/MyDrive/CCMT dataset(grab_cut)/Cashew/anthracnose/anthracnose1620_.jpg\n",
            "Segmented and saved: /content/drive/MyDrive/CCMT dataset(grab_cut)/Cashew/anthracnose/anthracnose298_.jpg\n",
            "Segmented and saved: /content/drive/MyDrive/CCMT dataset(grab_cut)/Cashew/anthracnose/anthracnose449_.jpg\n",
            "Segmented and saved: /content/drive/MyDrive/CCMT dataset(grab_cut)/Cashew/anthracnose/anthracnose281_.jpg\n",
            "Segmented and saved: /content/drive/MyDrive/CCMT dataset(grab_cut)/Cashew/anthracnose/anthracnose1338_.jpg\n",
            "Segmented and saved: /content/drive/MyDrive/CCMT dataset(grab_cut)/Cashew/anthracnose/anthracnose1038_.jpg\n",
            "Segmented and saved: /content/drive/MyDrive/CCMT dataset(grab_cut)/Cashew/anthracnose/anthracnose785_.jpg\n",
            "Segmented and saved: /content/drive/MyDrive/CCMT dataset(grab_cut)/Cashew/anthracnose/anthracnose1552_.jpg\n",
            "Segmented and saved: /content/drive/MyDrive/CCMT dataset(grab_cut)/Cashew/anthracnose/anthracnose622_.jpg\n",
            "Segmented and saved: /content/drive/MyDrive/CCMT dataset(grab_cut)/Cashew/anthracnose/anthracnose315_.jpg\n",
            "Segmented and saved: /content/drive/MyDrive/CCMT dataset(grab_cut)/Cashew/anthracnose/anthracnose626_.jpg\n",
            "Segmented and saved: /content/drive/MyDrive/CCMT dataset(grab_cut)/Cashew/anthracnose/anthracnose107_.jpg\n",
            "Segmented and saved: /content/drive/MyDrive/CCMT dataset(grab_cut)/Cashew/anthracnose/anthracnose997_.jpg\n",
            "Segmented and saved: /content/drive/MyDrive/CCMT dataset(grab_cut)/Cashew/anthracnose/anthracnose1035_.jpg\n",
            "Segmented and saved: /content/drive/MyDrive/CCMT dataset(grab_cut)/Cashew/anthracnose/anthracnose438_.jpg\n",
            "Segmented and saved: /content/drive/MyDrive/CCMT dataset(grab_cut)/Cashew/anthracnose/anthracnose743_.jpg\n",
            "Segmented and saved: /content/drive/MyDrive/CCMT dataset(grab_cut)/Cashew/anthracnose/anthracnose543_.jpg\n",
            "Segmented and saved: /content/drive/MyDrive/CCMT dataset(grab_cut)/Cashew/anthracnose/anthracnose500_.jpg\n",
            "Segmented and saved: /content/drive/MyDrive/CCMT dataset(grab_cut)/Cashew/anthracnose/anthracnose1643_.jpg\n",
            "Segmented and saved: /content/drive/MyDrive/CCMT dataset(grab_cut)/Cashew/anthracnose/anthracnose524_.jpg\n",
            "Segmented and saved: /content/drive/MyDrive/CCMT dataset(grab_cut)/Cashew/anthracnose/anthracnose1577_.jpg\n",
            "Segmented and saved: /content/drive/MyDrive/CCMT dataset(grab_cut)/Cashew/anthracnose/anthracnose889_.jpg\n",
            "Segmented and saved: /content/drive/MyDrive/CCMT dataset(grab_cut)/Cashew/anthracnose/anthracnose1474_.jpg\n",
            "Segmented and saved: /content/drive/MyDrive/CCMT dataset(grab_cut)/Cashew/anthracnose/anthracnose1466_.jpg\n",
            "Segmented and saved: /content/drive/MyDrive/CCMT dataset(grab_cut)/Cashew/anthracnose/anthracnose1691_.jpg\n",
            "Segmented and saved: /content/drive/MyDrive/CCMT dataset(grab_cut)/Cashew/anthracnose/anthracnose1127_.jpg\n",
            "Segmented and saved: /content/drive/MyDrive/CCMT dataset(grab_cut)/Cashew/anthracnose/anthracnose937_.jpg\n",
            "Segmented and saved: /content/drive/MyDrive/CCMT dataset(grab_cut)/Cashew/anthracnose/anthracnose1072_.jpg\n",
            "Segmented and saved: /content/drive/MyDrive/CCMT dataset(grab_cut)/Cashew/anthracnose/anthracnose947_.jpg\n",
            "Segmented and saved: /content/drive/MyDrive/CCMT dataset(grab_cut)/Cashew/anthracnose/anthracnose267_.jpg\n",
            "Segmented and saved: /content/drive/MyDrive/CCMT dataset(grab_cut)/Cashew/anthracnose/anthracnose1047_.jpg\n",
            "Segmented and saved: /content/drive/MyDrive/CCMT dataset(grab_cut)/Cashew/anthracnose/anthracnose1683_.jpg\n",
            "Segmented and saved: /content/drive/MyDrive/CCMT dataset(grab_cut)/Cashew/anthracnose/anthracnose310_.jpg\n",
            "Segmented and saved: /content/drive/MyDrive/CCMT dataset(grab_cut)/Cashew/anthracnose/anthracnose815_.jpg\n",
            "Segmented and saved: /content/drive/MyDrive/CCMT dataset(grab_cut)/Cashew/anthracnose/anthracnose327_.jpg\n",
            "Segmented and saved: /content/drive/MyDrive/CCMT dataset(grab_cut)/Cashew/anthracnose/anthracnose1145_.jpg\n",
            "Segmented and saved: /content/drive/MyDrive/CCMT dataset(grab_cut)/Cashew/anthracnose/anthracnose777_.jpg\n",
            "Segmented and saved: /content/drive/MyDrive/CCMT dataset(grab_cut)/Cashew/anthracnose/anthracnose1502_.jpg\n",
            "Segmented and saved: /content/drive/MyDrive/CCMT dataset(grab_cut)/Cashew/anthracnose/anthracnose461_.jpg\n",
            "Segmented and saved: /content/drive/MyDrive/CCMT dataset(grab_cut)/Cashew/anthracnose/anthracnose651_.jpg\n",
            "Segmented and saved: /content/drive/MyDrive/CCMT dataset(grab_cut)/Cashew/anthracnose/anthracnose1001_.jpg\n",
            "Segmented and saved: /content/drive/MyDrive/CCMT dataset(grab_cut)/Cashew/anthracnose/anthracnose1442_.jpg\n",
            "Segmented and saved: /content/drive/MyDrive/CCMT dataset(grab_cut)/Cashew/anthracnose/anthracnose1417_.jpg\n",
            "Segmented and saved: /content/drive/MyDrive/CCMT dataset(grab_cut)/Cashew/anthracnose/anthracnose1007_.jpg\n",
            "Segmented and saved: /content/drive/MyDrive/CCMT dataset(grab_cut)/Cashew/anthracnose/anthracnose100_.jpg\n",
            "Segmented and saved: /content/drive/MyDrive/CCMT dataset(grab_cut)/Cashew/anthracnose/anthracnose1487_.jpg\n",
            "Segmented and saved: /content/drive/MyDrive/CCMT dataset(grab_cut)/Cashew/anthracnose/anthracnose1269_.jpg\n",
            "Segmented and saved: /content/drive/MyDrive/CCMT dataset(grab_cut)/Cashew/anthracnose/anthracnose1439_.jpg\n",
            "Segmented and saved: /content/drive/MyDrive/CCMT dataset(grab_cut)/Cashew/anthracnose/anthracnose698_.jpg\n",
            "Segmented and saved: /content/drive/MyDrive/CCMT dataset(grab_cut)/Cashew/anthracnose/anthracnose643_.jpg\n",
            "Segmented and saved: /content/drive/MyDrive/CCMT dataset(grab_cut)/Cashew/anthracnose/anthracnose474_.jpg\n",
            "Segmented and saved: /content/drive/MyDrive/CCMT dataset(grab_cut)/Cashew/anthracnose/anthracnose765_.jpg\n",
            "Segmented and saved: /content/drive/MyDrive/CCMT dataset(grab_cut)/Cashew/anthracnose/anthracnose512_.jpg\n",
            "Segmented and saved: /content/drive/MyDrive/CCMT dataset(grab_cut)/Cashew/anthracnose/anthracnose511_.jpg\n",
            "Segmented and saved: /content/drive/MyDrive/CCMT dataset(grab_cut)/Cashew/anthracnose/anthracnose137_.jpg\n",
            "Segmented and saved: /content/drive/MyDrive/CCMT dataset(grab_cut)/Cashew/anthracnose/anthracnose1288_.jpg\n",
            "Segmented and saved: /content/drive/MyDrive/CCMT dataset(grab_cut)/Cashew/anthracnose/anthracnose1214_.jpg\n",
            "Segmented and saved: /content/drive/MyDrive/CCMT dataset(grab_cut)/Cashew/anthracnose/anthracnose508_.jpg\n",
            "Segmented and saved: /content/drive/MyDrive/CCMT dataset(grab_cut)/Cashew/anthracnose/anthracnose214_.jpg\n",
            "Segmented and saved: /content/drive/MyDrive/CCMT dataset(grab_cut)/Cashew/anthracnose/anthracnose1317_.jpg\n",
            "Segmented and saved: /content/drive/MyDrive/CCMT dataset(grab_cut)/Cashew/anthracnose/anthracnose1478_.jpg\n",
            "Segmented and saved: /content/drive/MyDrive/CCMT dataset(grab_cut)/Cashew/anthracnose/anthracnose307_.jpg\n",
            "Segmented and saved: /content/drive/MyDrive/CCMT dataset(grab_cut)/Cashew/anthracnose/anthracnose20_.jpg\n",
            "Segmented and saved: /content/drive/MyDrive/CCMT dataset(grab_cut)/Cashew/anthracnose/anthracnose1708_.jpg\n",
            "Segmented and saved: /content/drive/MyDrive/CCMT dataset(grab_cut)/Cashew/anthracnose/anthracnose333_.jpg\n",
            "Segmented and saved: /content/drive/MyDrive/CCMT dataset(grab_cut)/Cashew/anthracnose/anthracnose1541_.jpg\n",
            "Segmented and saved: /content/drive/MyDrive/CCMT dataset(grab_cut)/Cashew/anthracnose/anthracnose625_.jpg\n",
            "Segmented and saved: /content/drive/MyDrive/CCMT dataset(grab_cut)/Cashew/anthracnose/anthracnose301_.jpg\n",
            "Segmented and saved: /content/drive/MyDrive/CCMT dataset(grab_cut)/Cashew/anthracnose/anthracnose1382_.jpg\n",
            "Segmented and saved: /content/drive/MyDrive/CCMT dataset(grab_cut)/Cashew/anthracnose/anthracnose374_.jpg\n",
            "Segmented and saved: /content/drive/MyDrive/CCMT dataset(grab_cut)/Cashew/anthracnose/anthracnose203_.jpg\n",
            "Segmented and saved: /content/drive/MyDrive/CCMT dataset(grab_cut)/Cashew/anthracnose/anthracnose1256_.jpg\n",
            "Segmented and saved: /content/drive/MyDrive/CCMT dataset(grab_cut)/Cashew/anthracnose/anthracnose357_.jpg\n",
            "Segmented and saved: /content/drive/MyDrive/CCMT dataset(grab_cut)/Cashew/anthracnose/anthracnose284_.jpg\n",
            "Segmented and saved: /content/drive/MyDrive/CCMT dataset(grab_cut)/Cashew/anthracnose/anthracnose1066_.jpg\n",
            "Segmented and saved: /content/drive/MyDrive/CCMT dataset(grab_cut)/Cashew/anthracnose/anthracnose295_.jpg\n",
            "Segmented and saved: /content/drive/MyDrive/CCMT dataset(grab_cut)/Cashew/anthracnose/anthracnose804_.jpg\n",
            "Segmented and saved: /content/drive/MyDrive/CCMT dataset(grab_cut)/Cashew/anthracnose/anthracnose47_.jpg\n",
            "Segmented and saved: /content/drive/MyDrive/CCMT dataset(grab_cut)/Cashew/anthracnose/anthracnose1392_.jpg\n",
            "Segmented and saved: /content/drive/MyDrive/CCMT dataset(grab_cut)/Cashew/anthracnose/anthracnose606_.jpg\n",
            "Segmented and saved: /content/drive/MyDrive/CCMT dataset(grab_cut)/Cashew/anthracnose/anthracnose1100_.jpg\n",
            "Segmented and saved: /content/drive/MyDrive/CCMT dataset(grab_cut)/Cashew/anthracnose/anthracnose483_.jpg\n",
            "Segmented and saved: /content/drive/MyDrive/CCMT dataset(grab_cut)/Cashew/anthracnose/anthracnose792_.jpg\n",
            "Segmented and saved: /content/drive/MyDrive/CCMT dataset(grab_cut)/Cashew/anthracnose/anthracnose46_.jpg\n",
            "Segmented and saved: /content/drive/MyDrive/CCMT dataset(grab_cut)/Cashew/anthracnose/anthracnose876_.jpg\n",
            "Segmented and saved: /content/drive/MyDrive/CCMT dataset(grab_cut)/Cashew/anthracnose/anthracnose475_.jpg\n",
            "Segmented and saved: /content/drive/MyDrive/CCMT dataset(grab_cut)/Cashew/anthracnose/anthracnose706_.jpg\n",
            "Segmented and saved: /content/drive/MyDrive/CCMT dataset(grab_cut)/Cashew/anthracnose/anthracnose1327_.jpg\n",
            "Segmented and saved: /content/drive/MyDrive/CCMT dataset(grab_cut)/Cashew/anthracnose/anthracnose957_.jpg\n",
            "Segmented and saved: /content/drive/MyDrive/CCMT dataset(grab_cut)/Cashew/anthracnose/anthracnose942_.jpg\n",
            "Segmented and saved: /content/drive/MyDrive/CCMT dataset(grab_cut)/Cashew/anthracnose/anthracnose1020_.jpg\n",
            "Segmented and saved: /content/drive/MyDrive/CCMT dataset(grab_cut)/Cashew/anthracnose/anthracnose1437_.jpg\n",
            "Segmented and saved: /content/drive/MyDrive/CCMT dataset(grab_cut)/Cashew/anthracnose/anthracnose724_.jpg\n",
            "Segmented and saved: /content/drive/MyDrive/CCMT dataset(grab_cut)/Cashew/anthracnose/anthracnose766_.jpg\n",
            "Segmented and saved: /content/drive/MyDrive/CCMT dataset(grab_cut)/Cashew/anthracnose/anthracnose1056_.jpg\n",
            "Segmented and saved: /content/drive/MyDrive/CCMT dataset(grab_cut)/Cashew/anthracnose/anthracnose1233_.jpg\n",
            "Segmented and saved: /content/drive/MyDrive/CCMT dataset(grab_cut)/Cashew/anthracnose/anthracnose1379_.jpg\n",
            "Segmented and saved: /content/drive/MyDrive/CCMT dataset(grab_cut)/Cashew/anthracnose/anthracnose1440_.jpg\n",
            "Segmented and saved: /content/drive/MyDrive/CCMT dataset(grab_cut)/Cashew/anthracnose/anthracnose1312_.jpg\n",
            "Segmented and saved: /content/drive/MyDrive/CCMT dataset(grab_cut)/Cashew/anthracnose/anthracnose131_.jpg\n",
            "Segmented and saved: /content/drive/MyDrive/CCMT dataset(grab_cut)/Cashew/anthracnose/anthracnose1438_.jpg\n",
            "Segmented and saved: /content/drive/MyDrive/CCMT dataset(grab_cut)/Cashew/anthracnose/anthracnose696_.jpg\n",
            "Segmented and saved: /content/drive/MyDrive/CCMT dataset(grab_cut)/Cashew/anthracnose/anthracnose177_.jpg\n",
            "Segmented and saved: /content/drive/MyDrive/CCMT dataset(grab_cut)/Cashew/anthracnose/anthracnose1489_.jpg\n",
            "Segmented and saved: /content/drive/MyDrive/CCMT dataset(grab_cut)/Cashew/anthracnose/anthracnose1373_.jpg\n",
            "Segmented and saved: /content/drive/MyDrive/CCMT dataset(grab_cut)/Cashew/anthracnose/anthracnose394_.jpg\n",
            "Segmented and saved: /content/drive/MyDrive/CCMT dataset(grab_cut)/Cashew/anthracnose/anthracnose1174_.jpg\n",
            "Segmented and saved: /content/drive/MyDrive/CCMT dataset(grab_cut)/Cashew/anthracnose/anthracnose1165_.jpg\n",
            "Segmented and saved: /content/drive/MyDrive/CCMT dataset(grab_cut)/Cashew/anthracnose/anthracnose187_.jpg\n",
            "Segmented and saved: /content/drive/MyDrive/CCMT dataset(grab_cut)/Cashew/anthracnose/anthracnose1657_.jpg\n",
            "Segmented and saved: /content/drive/MyDrive/CCMT dataset(grab_cut)/Cashew/anthracnose/anthracnose208_.jpg\n",
            "Segmented and saved: /content/drive/MyDrive/CCMT dataset(grab_cut)/Cashew/anthracnose/anthracnose602_.jpg\n",
            "Segmented and saved: /content/drive/MyDrive/CCMT dataset(grab_cut)/Cashew/anthracnose/anthracnose531_.jpg\n",
            "Segmented and saved: /content/drive/MyDrive/CCMT dataset(grab_cut)/Cashew/anthracnose/anthracnose1543_.jpg\n",
            "Segmented and saved: /content/drive/MyDrive/CCMT dataset(grab_cut)/Cashew/anthracnose/anthracnose998_.jpg\n",
            "Segmented and saved: /content/drive/MyDrive/CCMT dataset(grab_cut)/Cashew/anthracnose/anthracnose1514_.jpg\n",
            "Segmented and saved: /content/drive/MyDrive/CCMT dataset(grab_cut)/Cashew/anthracnose/anthracnose1459_.jpg\n",
            "Segmented and saved: /content/drive/MyDrive/CCMT dataset(grab_cut)/Cashew/anthracnose/anthracnose1197_.jpg\n",
            "Segmented and saved: /content/drive/MyDrive/CCMT dataset(grab_cut)/Cashew/anthracnose/anthracnose1517_.jpg\n",
            "Segmented and saved: /content/drive/MyDrive/CCMT dataset(grab_cut)/Cashew/anthracnose/anthracnose817_.jpg\n",
            "Segmented and saved: /content/drive/MyDrive/CCMT dataset(grab_cut)/Cashew/anthracnose/anthracnose821_.jpg\n",
            "Segmented and saved: /content/drive/MyDrive/CCMT dataset(grab_cut)/Cashew/anthracnose/anthracnose1622_.jpg\n",
            "Segmented and saved: /content/drive/MyDrive/CCMT dataset(grab_cut)/Cashew/anthracnose/anthracnose443_.jpg\n",
            "Segmented and saved: /content/drive/MyDrive/CCMT dataset(grab_cut)/Cashew/anthracnose/anthracnose1531_.jpg\n",
            "Segmented and saved: /content/drive/MyDrive/CCMT dataset(grab_cut)/Cashew/anthracnose/anthracnose684_.jpg\n",
            "Segmented and saved: /content/drive/MyDrive/CCMT dataset(grab_cut)/Cashew/anthracnose/anthracnose1484_.jpg\n",
            "Segmented and saved: /content/drive/MyDrive/CCMT dataset(grab_cut)/Cashew/anthracnose/anthracnose679_.jpg\n",
            "Segmented and saved: /content/drive/MyDrive/CCMT dataset(grab_cut)/Cashew/anthracnose/anthracnose1726_.jpg\n",
            "Segmented and saved: /content/drive/MyDrive/CCMT dataset(grab_cut)/Cashew/anthracnose/anthracnose517_.jpg\n",
            "Segmented and saved: /content/drive/MyDrive/CCMT dataset(grab_cut)/Cashew/anthracnose/anthracnose882_.jpg\n",
            "Segmented and saved: /content/drive/MyDrive/CCMT dataset(grab_cut)/Cashew/anthracnose/anthracnose1180_.jpg\n",
            "Segmented and saved: /content/drive/MyDrive/CCMT dataset(grab_cut)/Cashew/anthracnose/anthracnose101_.jpg\n",
            "Segmented and saved: /content/drive/MyDrive/CCMT dataset(grab_cut)/Cashew/anthracnose/anthracnose476_.jpg\n",
            "Segmented and saved: /content/drive/MyDrive/CCMT dataset(grab_cut)/Cashew/anthracnose/anthracnose1551_.jpg\n",
            "Segmented and saved: /content/drive/MyDrive/CCMT dataset(grab_cut)/Cashew/anthracnose/anthracnose707_.jpg\n",
            "Segmented and saved: /content/drive/MyDrive/CCMT dataset(grab_cut)/Cashew/anthracnose/anthracnose530_.jpg\n",
            "Segmented and saved: /content/drive/MyDrive/CCMT dataset(grab_cut)/Cashew/anthracnose/anthracnose1724_.jpg\n",
            "Segmented and saved: /content/drive/MyDrive/CCMT dataset(grab_cut)/Cashew/anthracnose/anthracnose1301_.jpg\n",
            "Segmented and saved: /content/drive/MyDrive/CCMT dataset(grab_cut)/Cashew/anthracnose/anthracnose803_.jpg\n",
            "Segmented and saved: /content/drive/MyDrive/CCMT dataset(grab_cut)/Cashew/anthracnose/anthracnose195_.jpg\n",
            "Segmented and saved: /content/drive/MyDrive/CCMT dataset(grab_cut)/Cashew/anthracnose/anthracnose84_.jpg\n",
            "Segmented and saved: /content/drive/MyDrive/CCMT dataset(grab_cut)/Cashew/anthracnose/anthracnose1498_.jpg\n",
            "Segmented and saved: /content/drive/MyDrive/CCMT dataset(grab_cut)/Cashew/anthracnose/anthracnose1111_.jpg\n",
            "Segmented and saved: /content/drive/MyDrive/CCMT dataset(grab_cut)/Cashew/anthracnose/anthracnose598_.jpg\n",
            "Segmented and saved: /content/drive/MyDrive/CCMT dataset(grab_cut)/Cashew/anthracnose/anthracnose93_.jpg\n",
            "Segmented and saved: /content/drive/MyDrive/CCMT dataset(grab_cut)/Cashew/anthracnose/anthracnose1565_.jpg\n",
            "Segmented and saved: /content/drive/MyDrive/CCMT dataset(grab_cut)/Cashew/anthracnose/anthracnose206_.jpg\n",
            "Segmented and saved: /content/drive/MyDrive/CCMT dataset(grab_cut)/Cashew/anthracnose/anthracnose1266_.jpg\n",
            "Segmented and saved: /content/drive/MyDrive/CCMT dataset(grab_cut)/Cashew/anthracnose/anthracnose202_.jpg\n",
            "Segmented and saved: /content/drive/MyDrive/CCMT dataset(grab_cut)/Cashew/anthracnose/anthracnose392_.jpg\n",
            "Segmented and saved: /content/drive/MyDrive/CCMT dataset(grab_cut)/Cashew/anthracnose/anthracnose324_.jpg\n",
            "Segmented and saved: /content/drive/MyDrive/CCMT dataset(grab_cut)/Cashew/anthracnose/anthracnose196_.jpg\n",
            "Segmented and saved: /content/drive/MyDrive/CCMT dataset(grab_cut)/Cashew/anthracnose/anthracnose1241_.jpg\n",
            "Segmented and saved: /content/drive/MyDrive/CCMT dataset(grab_cut)/Cashew/anthracnose/anthracnose1278_.jpg\n",
            "Segmented and saved: /content/drive/MyDrive/CCMT dataset(grab_cut)/Cashew/anthracnose/anthracnose1454_.jpg\n",
            "Segmented and saved: /content/drive/MyDrive/CCMT dataset(grab_cut)/Cashew/anthracnose/anthracnose1203_.jpg\n",
            "Segmented and saved: /content/drive/MyDrive/CCMT dataset(grab_cut)/Cashew/anthracnose/anthracnose1187_.jpg\n",
            "Segmented and saved: /content/drive/MyDrive/CCMT dataset(grab_cut)/Cashew/anthracnose/anthracnose1406_.jpg\n",
            "Segmented and saved: /content/drive/MyDrive/CCMT dataset(grab_cut)/Cashew/anthracnose/anthracnose1405_.jpg\n",
            "Segmented and saved: /content/drive/MyDrive/CCMT dataset(grab_cut)/Cashew/anthracnose/anthracnose1162_.jpg\n",
            "Segmented and saved: /content/drive/MyDrive/CCMT dataset(grab_cut)/Cashew/anthracnose/anthracnose667_.jpg\n",
            "Segmented and saved: /content/drive/MyDrive/CCMT dataset(grab_cut)/Cashew/anthracnose/anthracnose1150_.jpg\n",
            "Segmented and saved: /content/drive/MyDrive/CCMT dataset(grab_cut)/Cashew/anthracnose/anthracnose251_.jpg\n",
            "Segmented and saved: /content/drive/MyDrive/CCMT dataset(grab_cut)/Cashew/anthracnose/anthracnose380_.jpg\n",
            "Segmented and saved: /content/drive/MyDrive/CCMT dataset(grab_cut)/Cashew/anthracnose/anthracnose1557_.jpg\n",
            "Segmented and saved: /content/drive/MyDrive/CCMT dataset(grab_cut)/Cashew/anthracnose/anthracnose108_.jpg\n",
            "Segmented and saved: /content/drive/MyDrive/CCMT dataset(grab_cut)/Cashew/anthracnose/anthracnose953_.jpg\n",
            "Segmented and saved: /content/drive/MyDrive/CCMT dataset(grab_cut)/Cashew/anthracnose/anthracnose1315_.jpg\n",
            "Segmented and saved: /content/drive/MyDrive/CCMT dataset(grab_cut)/Cashew/anthracnose/anthracnose430_.jpg\n",
            "Segmented and saved: /content/drive/MyDrive/CCMT dataset(grab_cut)/Cashew/anthracnose/anthracnose710_.jpg\n",
            "Segmented and saved: /content/drive/MyDrive/CCMT dataset(grab_cut)/Cashew/anthracnose/anthracnose960_.jpg\n",
            "Segmented and saved: /content/drive/MyDrive/CCMT dataset(grab_cut)/Cashew/anthracnose/anthracnose951_.jpg\n",
            "Segmented and saved: /content/drive/MyDrive/CCMT dataset(grab_cut)/Cashew/anthracnose/anthracnose378_.jpg\n",
            "Segmented and saved: /content/drive/MyDrive/CCMT dataset(grab_cut)/Cashew/anthracnose/anthracnose1353_.jpg\n",
            "Segmented and saved: /content/drive/MyDrive/CCMT dataset(grab_cut)/Cashew/anthracnose/anthracnose89_.jpg\n",
            "Segmented and saved: /content/drive/MyDrive/CCMT dataset(grab_cut)/Cashew/anthracnose/anthracnose1505_.jpg\n",
            "Segmented and saved: /content/drive/MyDrive/CCMT dataset(grab_cut)/Cashew/anthracnose/anthracnose502_.jpg\n",
            "Segmented and saved: /content/drive/MyDrive/CCMT dataset(grab_cut)/Cashew/anthracnose/anthracnose1053_.jpg\n",
            "Segmented and saved: /content/drive/MyDrive/CCMT dataset(grab_cut)/Cashew/anthracnose/anthracnose291_.jpg\n",
            "Segmented and saved: /content/drive/MyDrive/CCMT dataset(grab_cut)/Cashew/anthracnose/anthracnose289_.jpg\n",
            "Segmented and saved: /content/drive/MyDrive/CCMT dataset(grab_cut)/Cashew/anthracnose/anthracnose1634_.jpg\n",
            "Segmented and saved: /content/drive/MyDrive/CCMT dataset(grab_cut)/Cashew/anthracnose/anthracnose1293_.jpg\n",
            "Segmented and saved: /content/drive/MyDrive/CCMT dataset(grab_cut)/Cashew/anthracnose/anthracnose1689_.jpg\n",
            "Segmented and saved: /content/drive/MyDrive/CCMT dataset(grab_cut)/Cashew/anthracnose/anthracnose238_.jpg\n",
            "Segmented and saved: /content/drive/MyDrive/CCMT dataset(grab_cut)/Cashew/anthracnose/anthracnose395_.jpg\n",
            "Segmented and saved: /content/drive/MyDrive/CCMT dataset(grab_cut)/Cashew/anthracnose/anthracnose731_.jpg\n",
            "Segmented and saved: /content/drive/MyDrive/CCMT dataset(grab_cut)/Cashew/anthracnose/anthracnose1618_.jpg\n",
            "Segmented and saved: /content/drive/MyDrive/CCMT dataset(grab_cut)/Cashew/anthracnose/anthracnose980_.jpg\n",
            "Segmented and saved: /content/drive/MyDrive/CCMT dataset(grab_cut)/Cashew/anthracnose/anthracnose909_.jpg\n",
            "Segmented and saved: /content/drive/MyDrive/CCMT dataset(grab_cut)/Cashew/anthracnose/anthracnose593_.jpg\n",
            "Segmented and saved: /content/drive/MyDrive/CCMT dataset(grab_cut)/Cashew/anthracnose/anthracnose866_.jpg\n",
            "Segmented and saved: /content/drive/MyDrive/CCMT dataset(grab_cut)/Cashew/anthracnose/anthracnose246_.jpg\n",
            "Segmented and saved: /content/drive/MyDrive/CCMT dataset(grab_cut)/Cashew/anthracnose/anthracnose1112_.jpg\n",
            "Segmented and saved: /content/drive/MyDrive/CCMT dataset(grab_cut)/Cashew/anthracnose/anthracnose1539_.jpg\n",
            "Segmented and saved: /content/drive/MyDrive/CCMT dataset(grab_cut)/Cashew/anthracnose/anthracnose405_.jpg\n",
            "Segmented and saved: /content/drive/MyDrive/CCMT dataset(grab_cut)/Cashew/anthracnose/anthracnose763_.jpg\n",
            "Segmented and saved: /content/drive/MyDrive/CCMT dataset(grab_cut)/Cashew/anthracnose/anthracnose559_.jpg\n",
            "Segmented and saved: /content/drive/MyDrive/CCMT dataset(grab_cut)/Cashew/anthracnose/anthracnose1095_.jpg\n",
            "Segmented and saved: /content/drive/MyDrive/CCMT dataset(grab_cut)/Cashew/anthracnose/anthracnose1682_.jpg\n",
            "Segmented and saved: /content/drive/MyDrive/CCMT dataset(grab_cut)/Cashew/anthracnose/anthracnose1093_.jpg\n",
            "Segmented and saved: /content/drive/MyDrive/CCMT dataset(grab_cut)/Cashew/anthracnose/anthracnose1360_.jpg\n",
            "Segmented and saved: /content/drive/MyDrive/CCMT dataset(grab_cut)/Cashew/anthracnose/anthracnose1496_.jpg\n",
            "Segmented and saved: /content/drive/MyDrive/CCMT dataset(grab_cut)/Cashew/anthracnose/anthracnose498_.jpg\n",
            "Segmented and saved: /content/drive/MyDrive/CCMT dataset(grab_cut)/Cashew/anthracnose/anthracnose453_.jpg\n",
            "Segmented and saved: /content/drive/MyDrive/CCMT dataset(grab_cut)/Cashew/anthracnose/anthracnose776_.jpg\n",
            "Segmented and saved: /content/drive/MyDrive/CCMT dataset(grab_cut)/Cashew/anthracnose/anthracnose446_.jpg\n",
            "Segmented and saved: /content/drive/MyDrive/CCMT dataset(grab_cut)/Cashew/anthracnose/anthracnose118_.jpg\n",
            "Segmented and saved: /content/drive/MyDrive/CCMT dataset(grab_cut)/Cashew/anthracnose/anthracnose900_.jpg\n",
            "Segmented and saved: /content/drive/MyDrive/CCMT dataset(grab_cut)/Cashew/anthracnose/anthracnose1213_.jpg\n",
            "Segmented and saved: /content/drive/MyDrive/CCMT dataset(grab_cut)/Cashew/anthracnose/anthracnose1182_.jpg\n",
            "Segmented and saved: /content/drive/MyDrive/CCMT dataset(grab_cut)/Cashew/anthracnose/anthracnose1600_.jpg\n",
            "Segmented and saved: /content/drive/MyDrive/CCMT dataset(grab_cut)/Cashew/anthracnose/anthracnose258_.jpg\n",
            "Segmented and saved: /content/drive/MyDrive/CCMT dataset(grab_cut)/Cashew/anthracnose/anthracnose1547_.jpg\n",
            "Segmented and saved: /content/drive/MyDrive/CCMT dataset(grab_cut)/Cashew/anthracnose/anthracnose533_.jpg\n",
            "Segmented and saved: /content/drive/MyDrive/CCMT dataset(grab_cut)/Cashew/anthracnose/anthracnose990_.jpg\n",
            "Segmented and saved: /content/drive/MyDrive/CCMT dataset(grab_cut)/Cashew/anthracnose/anthracnose1314_.jpg\n",
            "Segmented and saved: /content/drive/MyDrive/CCMT dataset(grab_cut)/Cashew/anthracnose/anthracnose80_.jpg\n",
            "Segmented and saved: /content/drive/MyDrive/CCMT dataset(grab_cut)/Cashew/anthracnose/anthracnose1196_.jpg\n",
            "Segmented and saved: /content/drive/MyDrive/CCMT dataset(grab_cut)/Cashew/anthracnose/anthracnose688_.jpg\n",
            "Segmented and saved: /content/drive/MyDrive/CCMT dataset(grab_cut)/Cashew/anthracnose/anthracnose566_.jpg\n",
            "Segmented and saved: /content/drive/MyDrive/CCMT dataset(grab_cut)/Cashew/anthracnose/anthracnose1598_.jpg\n",
            "Segmented and saved: /content/drive/MyDrive/CCMT dataset(grab_cut)/Cashew/anthracnose/anthracnose1377_.jpg\n",
            "Segmented and saved: /content/drive/MyDrive/CCMT dataset(grab_cut)/Cashew/anthracnose/anthracnose288_.jpg\n",
            "Segmented and saved: /content/drive/MyDrive/CCMT dataset(grab_cut)/Cashew/anthracnose/anthracnose1042_.jpg\n",
            "Segmented and saved: /content/drive/MyDrive/CCMT dataset(grab_cut)/Cashew/anthracnose/anthracnose385_.jpg\n",
            "Segmented and saved: /content/drive/MyDrive/CCMT dataset(grab_cut)/Cashew/anthracnose/anthracnose1077_.jpg\n",
            "Segmented and saved: /content/drive/MyDrive/CCMT dataset(grab_cut)/Cashew/anthracnose/anthracnose1340_.jpg\n",
            "Segmented and saved: /content/drive/MyDrive/CCMT dataset(grab_cut)/Cashew/anthracnose/anthracnose157_.jpg\n",
            "Segmented and saved: /content/drive/MyDrive/CCMT dataset(grab_cut)/Cashew/anthracnose/anthracnose904_.jpg\n",
            "Segmented and saved: /content/drive/MyDrive/CCMT dataset(grab_cut)/Cashew/anthracnose/anthracnose10_.jpg\n",
            "Segmented and saved: /content/drive/MyDrive/CCMT dataset(grab_cut)/Cashew/anthracnose/anthracnose654_.jpg\n",
            "Segmented and saved: /content/drive/MyDrive/CCMT dataset(grab_cut)/Cashew/anthracnose/anthracnose134_.jpg\n",
            "Segmented and saved: /content/drive/MyDrive/CCMT dataset(grab_cut)/Cashew/anthracnose/anthracnose939_.jpg\n",
            "Segmented and saved: /content/drive/MyDrive/CCMT dataset(grab_cut)/Cashew/anthracnose/anthracnose1125_.jpg\n",
            "Segmented and saved: /content/drive/MyDrive/CCMT dataset(grab_cut)/Cashew/anthracnose/anthracnose1545_.jpg\n",
            "Segmented and saved: /content/drive/MyDrive/CCMT dataset(grab_cut)/Cashew/anthracnose/anthracnose1208_.jpg\n",
            "Segmented and saved: /content/drive/MyDrive/CCMT dataset(grab_cut)/Cashew/anthracnose/anthracnose197_.jpg\n",
            "Segmented and saved: /content/drive/MyDrive/CCMT dataset(grab_cut)/Cashew/anthracnose/anthracnose1023_.jpg\n",
            "Segmented and saved: /content/drive/MyDrive/CCMT dataset(grab_cut)/Cashew/anthracnose/anthracnose1076_.jpg\n",
            "Segmented and saved: /content/drive/MyDrive/CCMT dataset(grab_cut)/Cashew/anthracnose/anthracnose194_.jpg\n",
            "Segmented and saved: /content/drive/MyDrive/CCMT dataset(grab_cut)/Cashew/anthracnose/anthracnose1585_.jpg\n",
            "Segmented and saved: /content/drive/MyDrive/CCMT dataset(grab_cut)/Cashew/anthracnose/anthracnose1450_.jpg\n",
            "Segmented and saved: /content/drive/MyDrive/CCMT dataset(grab_cut)/Cashew/anthracnose/anthracnose156_.jpg\n",
            "Segmented and saved: /content/drive/MyDrive/CCMT dataset(grab_cut)/Cashew/anthracnose/anthracnose952_.jpg\n",
            "Segmented and saved: /content/drive/MyDrive/CCMT dataset(grab_cut)/Cashew/anthracnose/anthracnose1271_.jpg\n",
            "Segmented and saved: /content/drive/MyDrive/CCMT dataset(grab_cut)/Cashew/anthracnose/anthracnose121_.jpg\n",
            "Segmented and saved: /content/drive/MyDrive/CCMT dataset(grab_cut)/Cashew/anthracnose/anthracnose538_.jpg\n",
            "Segmented and saved: /content/drive/MyDrive/CCMT dataset(grab_cut)/Cashew/anthracnose/anthracnose73_.jpg\n",
            "Segmented and saved: /content/drive/MyDrive/CCMT dataset(grab_cut)/Cashew/anthracnose/anthracnose639_.jpg\n",
            "Segmented and saved: /content/drive/MyDrive/CCMT dataset(grab_cut)/Cashew/anthracnose/anthracnose1130_.jpg\n",
            "Segmented and saved: /content/drive/MyDrive/CCMT dataset(grab_cut)/Cashew/anthracnose/anthracnose469_.jpg\n",
            "Segmented and saved: /content/drive/MyDrive/CCMT dataset(grab_cut)/Cashew/anthracnose/anthracnose1673_.jpg\n",
            "Segmented and saved: /content/drive/MyDrive/CCMT dataset(grab_cut)/Cashew/anthracnose/anthracnose1693_.jpg\n",
            "Segmented and saved: /content/drive/MyDrive/CCMT dataset(grab_cut)/Cashew/anthracnose/anthracnose541_.jpg\n",
            "Segmented and saved: /content/drive/MyDrive/CCMT dataset(grab_cut)/Cashew/anthracnose/anthracnose717_.jpg\n",
            "Segmented and saved: /content/drive/MyDrive/CCMT dataset(grab_cut)/Cashew/anthracnose/anthracnose1432_.jpg\n",
            "Segmented and saved: /content/drive/MyDrive/CCMT dataset(grab_cut)/Cashew/anthracnose/anthracnose1607_.jpg\n",
            "Segmented and saved: /content/drive/MyDrive/CCMT dataset(grab_cut)/Cashew/anthracnose/anthracnose790_.jpg\n",
            "Segmented and saved: /content/drive/MyDrive/CCMT dataset(grab_cut)/Cashew/anthracnose/anthracnose478_.jpg\n",
            "Segmented and saved: /content/drive/MyDrive/CCMT dataset(grab_cut)/Cashew/anthracnose/anthracnose124_.jpg\n",
            "Segmented and saved: /content/drive/MyDrive/CCMT dataset(grab_cut)/Cashew/anthracnose/anthracnose445_.jpg\n",
            "Segmented and saved: /content/drive/MyDrive/CCMT dataset(grab_cut)/Cashew/anthracnose/anthracnose1309_.jpg\n",
            "Segmented and saved: /content/drive/MyDrive/CCMT dataset(grab_cut)/Cashew/anthracnose/anthracnose892_.jpg\n",
            "Segmented and saved: /content/drive/MyDrive/CCMT dataset(grab_cut)/Cashew/anthracnose/anthracnose144_.jpg\n",
            "Segmented and saved: /content/drive/MyDrive/CCMT dataset(grab_cut)/Cashew/anthracnose/anthracnose913_.jpg\n",
            "Segmented and saved: /content/drive/MyDrive/CCMT dataset(grab_cut)/Cashew/anthracnose/anthracnose1559_.jpg\n",
            "Segmented and saved: /content/drive/MyDrive/CCMT dataset(grab_cut)/Cashew/anthracnose/anthracnose1651_.jpg\n",
            "Segmented and saved: /content/drive/MyDrive/CCMT dataset(grab_cut)/Cashew/anthracnose/anthracnose1014_.jpg\n",
            "Segmented and saved: /content/drive/MyDrive/CCMT dataset(grab_cut)/Cashew/anthracnose/anthracnose254_.jpg\n",
            "Segmented and saved: /content/drive/MyDrive/CCMT dataset(grab_cut)/Cashew/anthracnose/anthracnose1697_.jpg\n",
            "Segmented and saved: /content/drive/MyDrive/CCMT dataset(grab_cut)/Cashew/anthracnose/anthracnose659_.jpg\n",
            "Segmented and saved: /content/drive/MyDrive/CCMT dataset(grab_cut)/Cashew/anthracnose/anthracnose141_.jpg\n",
            "Segmented and saved: /content/drive/MyDrive/CCMT dataset(grab_cut)/Cashew/anthracnose/anthracnose2_.jpg\n",
            "Segmented and saved: /content/drive/MyDrive/CCMT dataset(grab_cut)/Cashew/anthracnose/anthracnose450_.jpg\n",
            "Segmented and saved: /content/drive/MyDrive/CCMT dataset(grab_cut)/Cashew/anthracnose/anthracnose761_.jpg\n",
            "Segmented and saved: /content/drive/MyDrive/CCMT dataset(grab_cut)/Cashew/anthracnose/anthracnose1356_.jpg\n",
            "Segmented and saved: /content/drive/MyDrive/CCMT dataset(grab_cut)/Cashew/anthracnose/anthracnose391_.jpg\n",
            "Segmented and saved: /content/drive/MyDrive/CCMT dataset(grab_cut)/Cashew/anthracnose/anthracnose1694_.jpg\n",
            "Segmented and saved: /content/drive/MyDrive/CCMT dataset(grab_cut)/Cashew/anthracnose/anthracnose1701_.jpg\n",
            "Segmented and saved: /content/drive/MyDrive/CCMT dataset(grab_cut)/Cashew/anthracnose/anthracnose1383_.jpg\n",
            "Segmented and saved: /content/drive/MyDrive/CCMT dataset(grab_cut)/Cashew/anthracnose/anthracnose770_.jpg\n",
            "Segmented and saved: /content/drive/MyDrive/CCMT dataset(grab_cut)/Cashew/anthracnose/anthracnose506_.jpg\n",
            "Segmented and saved: /content/drive/MyDrive/CCMT dataset(grab_cut)/Cashew/anthracnose/anthracnose1361_.jpg\n",
            "Segmented and saved: /content/drive/MyDrive/CCMT dataset(grab_cut)/Cashew/anthracnose/anthracnose964_.jpg\n",
            "Segmented and saved: /content/drive/MyDrive/CCMT dataset(grab_cut)/Cashew/anthracnose/anthracnose1429_.jpg\n",
            "Segmented and saved: /content/drive/MyDrive/CCMT dataset(grab_cut)/Cashew/anthracnose/anthracnose664_.jpg\n",
            "Segmented and saved: /content/drive/MyDrive/CCMT dataset(grab_cut)/Cashew/anthracnose/anthracnose486_.jpg\n",
            "Segmented and saved: /content/drive/MyDrive/CCMT dataset(grab_cut)/Cashew/anthracnose/anthracnose375_.jpg\n",
            "Segmented and saved: /content/drive/MyDrive/CCMT dataset(grab_cut)/Cashew/anthracnose/anthracnose1257_.jpg\n",
            "Segmented and saved: /content/drive/MyDrive/CCMT dataset(grab_cut)/Cashew/anthracnose/anthracnose270_.jpg\n",
            "Segmented and saved: /content/drive/MyDrive/CCMT dataset(grab_cut)/Cashew/anthracnose/anthracnose1239_.jpg\n",
            "Segmented and saved: /content/drive/MyDrive/CCMT dataset(grab_cut)/Cashew/anthracnose/anthracnose655_.jpg\n",
            "Segmented and saved: /content/drive/MyDrive/CCMT dataset(grab_cut)/Cashew/anthracnose/anthracnose1026_.jpg\n",
            "Segmented and saved: /content/drive/MyDrive/CCMT dataset(grab_cut)/Cashew/anthracnose/anthracnose1677_.jpg\n",
            "Segmented and saved: /content/drive/MyDrive/CCMT dataset(grab_cut)/Cashew/anthracnose/anthracnose277_.jpg\n",
            "Segmented and saved: /content/drive/MyDrive/CCMT dataset(grab_cut)/Cashew/anthracnose/anthracnose1684_.jpg\n",
            "Segmented and saved: /content/drive/MyDrive/CCMT dataset(grab_cut)/Cashew/anthracnose/anthracnose544_.jpg\n",
            "Segmented and saved: /content/drive/MyDrive/CCMT dataset(grab_cut)/Cashew/anthracnose/anthracnose496_.jpg\n",
            "Segmented and saved: /content/drive/MyDrive/CCMT dataset(grab_cut)/Cashew/anthracnose/anthracnose1194_.jpg\n",
            "Segmented and saved: /content/drive/MyDrive/CCMT dataset(grab_cut)/Cashew/anthracnose/anthracnose1447_.jpg\n",
            "Segmented and saved: /content/drive/MyDrive/CCMT dataset(grab_cut)/Cashew/anthracnose/anthracnose863_.jpg\n",
            "Segmented and saved: /content/drive/MyDrive/CCMT dataset(grab_cut)/Cashew/anthracnose/anthracnose1189_.jpg\n",
            "Segmented and saved: /content/drive/MyDrive/CCMT dataset(grab_cut)/Cashew/anthracnose/anthracnose520_.jpg\n",
            "Segmented and saved: /content/drive/MyDrive/CCMT dataset(grab_cut)/Cashew/anthracnose/anthracnose1530_.jpg\n",
            "Segmented and saved: /content/drive/MyDrive/CCMT dataset(grab_cut)/Cashew/anthracnose/anthracnose572_.jpg\n",
            "Segmented and saved: /content/drive/MyDrive/CCMT dataset(grab_cut)/Cashew/anthracnose/anthracnose1334_.jpg\n",
            "Segmented and saved: /content/drive/MyDrive/CCMT dataset(grab_cut)/Cashew/anthracnose/anthracnose119_.jpg\n",
            "Segmented and saved: /content/drive/MyDrive/CCMT dataset(grab_cut)/Cashew/anthracnose/anthracnose1078_.jpg\n",
            "Segmented and saved: /content/drive/MyDrive/CCMT dataset(grab_cut)/Cashew/anthracnose/anthracnose944_.jpg\n",
            "Segmented and saved: /content/drive/MyDrive/CCMT dataset(grab_cut)/Cashew/anthracnose/anthracnose1083_.jpg\n",
            "Segmented and saved: /content/drive/MyDrive/CCMT dataset(grab_cut)/Cashew/anthracnose/anthracnose1013_.jpg\n",
            "Segmented and saved: /content/drive/MyDrive/CCMT dataset(grab_cut)/Cashew/anthracnose/anthracnose244_.jpg\n",
            "Segmented and saved: /content/drive/MyDrive/CCMT dataset(grab_cut)/Cashew/anthracnose/anthracnose1702_.jpg\n",
            "Segmented and saved: /content/drive/MyDrive/CCMT dataset(grab_cut)/Cashew/anthracnose/anthracnose1122_.jpg\n",
            "Segmented and saved: /content/drive/MyDrive/CCMT dataset(grab_cut)/Cashew/anthracnose/anthracnose1670_.jpg\n",
            "Segmented and saved: /content/drive/MyDrive/CCMT dataset(grab_cut)/Cashew/anthracnose/anthracnose1611_.jpg\n",
            "Segmented and saved: /content/drive/MyDrive/CCMT dataset(grab_cut)/Cashew/anthracnose/anthracnose967_.jpg\n",
            "Segmented and saved: /content/drive/MyDrive/CCMT dataset(grab_cut)/Cashew/anthracnose/anthracnose1370_.jpg\n",
            "Segmented and saved: /content/drive/MyDrive/CCMT dataset(grab_cut)/Cashew/anthracnose/anthracnose1325_.jpg\n",
            "Segmented and saved: /content/drive/MyDrive/CCMT dataset(grab_cut)/Cashew/anthracnose/anthracnose168_.jpg\n",
            "Segmented and saved: /content/drive/MyDrive/CCMT dataset(grab_cut)/Cashew/anthracnose/anthracnose441_.jpg\n",
            "Segmented and saved: /content/drive/MyDrive/CCMT dataset(grab_cut)/Cashew/anthracnose/anthracnose319_.jpg\n",
            "Segmented and saved: /content/drive/MyDrive/CCMT dataset(grab_cut)/Cashew/anthracnose/anthracnose113_.jpg\n",
            "Segmented and saved: /content/drive/MyDrive/CCMT dataset(grab_cut)/Cashew/anthracnose/anthracnose1555_.jpg\n",
            "Segmented and saved: /content/drive/MyDrive/CCMT dataset(grab_cut)/Cashew/anthracnose/anthracnose427_.jpg\n",
            "Segmented and saved: /content/drive/MyDrive/CCMT dataset(grab_cut)/Cashew/anthracnose/anthracnose413_.jpg\n",
            "Segmented and saved: /content/drive/MyDrive/CCMT dataset(grab_cut)/Cashew/anthracnose/anthracnose275_.jpg\n",
            "Segmented and saved: /content/drive/MyDrive/CCMT dataset(grab_cut)/Cashew/anthracnose/anthracnose479_.jpg\n",
            "Segmented and saved: /content/drive/MyDrive/CCMT dataset(grab_cut)/Cashew/anthracnose/anthracnose205_.jpg\n",
            "Segmented and saved: /content/drive/MyDrive/CCMT dataset(grab_cut)/Cashew/anthracnose/anthracnose732_.jpg\n",
            "Segmented and saved: /content/drive/MyDrive/CCMT dataset(grab_cut)/Cashew/anthracnose/anthracnose452_.jpg\n",
            "Segmented and saved: /content/drive/MyDrive/CCMT dataset(grab_cut)/Cashew/anthracnose/anthracnose1721_.jpg\n",
            "Segmented and saved: /content/drive/MyDrive/CCMT dataset(grab_cut)/Cashew/anthracnose/anthracnose1108_.jpg\n",
            "Segmented and saved: /content/drive/MyDrive/CCMT dataset(grab_cut)/Cashew/anthracnose/anthracnose562_.jpg\n",
            "Segmented and saved: /content/drive/MyDrive/CCMT dataset(grab_cut)/Cashew/anthracnose/anthracnose874_.jpg\n",
            "Segmented and saved: /content/drive/MyDrive/CCMT dataset(grab_cut)/Cashew/anthracnose/anthracnose31_.jpg\n",
            "Segmented and saved: /content/drive/MyDrive/CCMT dataset(grab_cut)/Cashew/anthracnose/anthracnose191_.jpg\n",
            "Segmented and saved: /content/drive/MyDrive/CCMT dataset(grab_cut)/Cashew/anthracnose/anthracnose916_.jpg\n",
            "Segmented and saved: /content/drive/MyDrive/CCMT dataset(grab_cut)/Cashew/anthracnose/anthracnose1435_.jpg\n",
            "Segmented and saved: /content/drive/MyDrive/CCMT dataset(grab_cut)/Cashew/anthracnose/anthracnose1080_.jpg\n",
            "Segmented and saved: /content/drive/MyDrive/CCMT dataset(grab_cut)/Cashew/anthracnose/anthracnose1016_.jpg\n",
            "Segmented and saved: /content/drive/MyDrive/CCMT dataset(grab_cut)/Cashew/anthracnose/anthracnose1627_.jpg\n",
            "Segmented and saved: /content/drive/MyDrive/CCMT dataset(grab_cut)/Cashew/anthracnose/anthracnose1642_.jpg\n",
            "Segmented and saved: /content/drive/MyDrive/CCMT dataset(grab_cut)/Cashew/anthracnose/anthracnose1497_.jpg\n",
            "Segmented and saved: /content/drive/MyDrive/CCMT dataset(grab_cut)/Cashew/anthracnose/anthracnose1136_.jpg\n",
            "Segmented and saved: /content/drive/MyDrive/CCMT dataset(grab_cut)/Cashew/anthracnose/anthracnose1488_.jpg\n",
            "Segmented and saved: /content/drive/MyDrive/CCMT dataset(grab_cut)/Cashew/anthracnose/anthracnose387_.jpg\n",
            "Segmented and saved: /content/drive/MyDrive/CCMT dataset(grab_cut)/Cashew/anthracnose/anthracnose33_.jpg\n",
            "Segmented and saved: /content/drive/MyDrive/CCMT dataset(grab_cut)/Cashew/anthracnose/anthracnose1445_.jpg\n",
            "Segmented and saved: /content/drive/MyDrive/CCMT dataset(grab_cut)/Cashew/anthracnose/anthracnose537_.jpg\n",
            "Segmented and saved: /content/drive/MyDrive/CCMT dataset(grab_cut)/Cashew/anthracnose/anthracnose1515_.jpg\n",
            "Segmented and saved: /content/drive/MyDrive/CCMT dataset(grab_cut)/Cashew/anthracnose/anthracnose1714_.jpg\n",
            "Segmented and saved: /content/drive/MyDrive/CCMT dataset(grab_cut)/Cashew/anthracnose/anthracnose560_.jpg\n",
            "Segmented and saved: /content/drive/MyDrive/CCMT dataset(grab_cut)/Cashew/anthracnose/anthracnose1387_.jpg\n",
            "Segmented and saved: /content/drive/MyDrive/CCMT dataset(grab_cut)/Cashew/anthracnose/anthracnose398_.jpg\n",
            "Segmented and saved: /content/drive/MyDrive/CCMT dataset(grab_cut)/Cashew/anthracnose/anthracnose1630_.jpg\n",
            "Segmented and saved: /content/drive/MyDrive/CCMT dataset(grab_cut)/Cashew/anthracnose/anthracnose718_.jpg\n",
            "Segmented and saved: /content/drive/MyDrive/CCMT dataset(grab_cut)/Cashew/anthracnose/anthracnose754_.jpg\n",
            "Segmented and saved: /content/drive/MyDrive/CCMT dataset(grab_cut)/Cashew/anthracnose/anthracnose968_.jpg\n",
            "Segmented and saved: /content/drive/MyDrive/CCMT dataset(grab_cut)/Cashew/anthracnose/anthracnose18_.jpg\n",
            "Segmented and saved: /content/drive/MyDrive/CCMT dataset(grab_cut)/Cashew/anthracnose/anthracnose682_.jpg\n",
            "Segmented and saved: /content/drive/MyDrive/CCMT dataset(grab_cut)/Cashew/anthracnose/anthracnose1449_.jpg\n",
            "Segmented and saved: /content/drive/MyDrive/CCMT dataset(grab_cut)/Cashew/anthracnose/anthracnose1170_.jpg\n",
            "Segmented and saved: /content/drive/MyDrive/CCMT dataset(grab_cut)/Cashew/anthracnose/anthracnose116_.jpg\n",
            "Segmented and saved: /content/drive/MyDrive/CCMT dataset(grab_cut)/Cashew/anthracnose/anthracnose894_.jpg\n",
            "Segmented and saved: /content/drive/MyDrive/CCMT dataset(grab_cut)/Cashew/anthracnose/anthracnose737_.jpg\n",
            "Segmented and saved: /content/drive/MyDrive/CCMT dataset(grab_cut)/Cashew/anthracnose/anthracnose169_.jpg\n",
            "Segmented and saved: /content/drive/MyDrive/CCMT dataset(grab_cut)/Cashew/anthracnose/anthracnose676_.jpg\n",
            "Segmented and saved: /content/drive/MyDrive/CCMT dataset(grab_cut)/Cashew/anthracnose/anthracnose611_.jpg\n",
            "Segmented and saved: /content/drive/MyDrive/CCMT dataset(grab_cut)/Cashew/anthracnose/anthracnose932_.jpg\n",
            "Segmented and saved: /content/drive/MyDrive/CCMT dataset(grab_cut)/Cashew/anthracnose/anthracnose1522_.jpg\n",
            "Segmented and saved: /content/drive/MyDrive/CCMT dataset(grab_cut)/Cashew/anthracnose/anthracnose1458_.jpg\n",
            "Segmented and saved: /content/drive/MyDrive/CCMT dataset(grab_cut)/Cashew/anthracnose/anthracnose1412_.jpg\n",
            "Segmented and saved: /content/drive/MyDrive/CCMT dataset(grab_cut)/Cashew/anthracnose/anthracnose13_.jpg\n",
            "Segmented and saved: /content/drive/MyDrive/CCMT dataset(grab_cut)/Cashew/anthracnose/anthracnose1306_.jpg\n",
            "Segmented and saved: /content/drive/MyDrive/CCMT dataset(grab_cut)/Cashew/anthracnose/anthracnose609_.jpg\n",
            "Segmented and saved: /content/drive/MyDrive/CCMT dataset(grab_cut)/Cashew/anthracnose/anthracnose82_.jpg\n",
            "Segmented and saved: /content/drive/MyDrive/CCMT dataset(grab_cut)/Cashew/anthracnose/anthracnose1055_.jpg\n",
            "Segmented and saved: /content/drive/MyDrive/CCMT dataset(grab_cut)/Cashew/anthracnose/anthracnose1597_.jpg\n",
            "Segmented and saved: /content/drive/MyDrive/CCMT dataset(grab_cut)/Cashew/anthracnose/anthracnose1028_.jpg\n",
            "Segmented and saved: /content/drive/MyDrive/CCMT dataset(grab_cut)/Cashew/anthracnose/anthracnose1402_.jpg\n",
            "Segmented and saved: /content/drive/MyDrive/CCMT dataset(grab_cut)/Cashew/anthracnose/anthracnose1109_.jpg\n",
            "Segmented and saved: /content/drive/MyDrive/CCMT dataset(grab_cut)/Cashew/anthracnose/anthracnose540_.jpg\n",
            "Segmented and saved: /content/drive/MyDrive/CCMT dataset(grab_cut)/Cashew/anthracnose/anthracnose767_.jpg\n",
            "Segmented and saved: /content/drive/MyDrive/CCMT dataset(grab_cut)/Cashew/anthracnose/anthracnose1568_.jpg\n",
            "Segmented and saved: /content/drive/MyDrive/CCMT dataset(grab_cut)/Cashew/anthracnose/anthracnose503_.jpg\n",
            "Segmented and saved: /content/drive/MyDrive/CCMT dataset(grab_cut)/Cashew/anthracnose/anthracnose497_.jpg\n",
            "Segmented and saved: /content/drive/MyDrive/CCMT dataset(grab_cut)/Cashew/anthracnose/anthracnose1574_.jpg\n",
            "Segmented and saved: /content/drive/MyDrive/CCMT dataset(grab_cut)/Cashew/anthracnose/anthracnose162_.jpg\n",
            "Segmented and saved: /content/drive/MyDrive/CCMT dataset(grab_cut)/Cashew/anthracnose/anthracnose644_.jpg\n",
            "Segmented and saved: /content/drive/MyDrive/CCMT dataset(grab_cut)/Cashew/anthracnose/anthracnose1068_.jpg\n",
            "Segmented and saved: /content/drive/MyDrive/CCMT dataset(grab_cut)/Cashew/anthracnose/anthracnose635_.jpg\n",
            "Segmented and saved: /content/drive/MyDrive/CCMT dataset(grab_cut)/Cashew/anthracnose/anthracnose117_.jpg\n",
            "Segmented and saved: /content/drive/MyDrive/CCMT dataset(grab_cut)/Cashew/anthracnose/anthracnose59_.jpg\n",
            "Segmented and saved: /content/drive/MyDrive/CCMT dataset(grab_cut)/Cashew/anthracnose/anthracnose747_.jpg\n",
            "Segmented and saved: /content/drive/MyDrive/CCMT dataset(grab_cut)/Cashew/anthracnose/anthracnose943_.jpg\n",
            "Segmented and saved: /content/drive/MyDrive/CCMT dataset(grab_cut)/Cashew/anthracnose/anthracnose213_.jpg\n",
            "Segmented and saved: /content/drive/MyDrive/CCMT dataset(grab_cut)/Cashew/anthracnose/anthracnose574_.jpg\n",
            "Segmented and saved: /content/drive/MyDrive/CCMT dataset(grab_cut)/Cashew/anthracnose/anthracnose1249_.jpg\n",
            "Segmented and saved: /content/drive/MyDrive/CCMT dataset(grab_cut)/Cashew/anthracnose/anthracnose346_.jpg\n",
            "Segmented and saved: /content/drive/MyDrive/CCMT dataset(grab_cut)/Cashew/anthracnose/anthracnose711_.jpg\n",
            "Segmented and saved: /content/drive/MyDrive/CCMT dataset(grab_cut)/Cashew/anthracnose/anthracnose884_.jpg\n",
            "Segmented and saved: /content/drive/MyDrive/CCMT dataset(grab_cut)/Cashew/anthracnose/anthracnose1184_.jpg\n",
            "Segmented and saved: /content/drive/MyDrive/CCMT dataset(grab_cut)/Cashew/anthracnose/anthracnose1159_.jpg\n",
            "Segmented and saved: /content/drive/MyDrive/CCMT dataset(grab_cut)/Cashew/anthracnose/anthracnose431_.jpg\n",
            "Segmented and saved: /content/drive/MyDrive/CCMT dataset(grab_cut)/Cashew/anthracnose/anthracnose384_.jpg\n",
            "Segmented and saved: /content/drive/MyDrive/CCMT dataset(grab_cut)/Cashew/anthracnose/anthracnose621_.jpg\n",
            "Segmented and saved: /content/drive/MyDrive/CCMT dataset(grab_cut)/Cashew/anthracnose/anthracnose752_.jpg\n",
            "Segmented and saved: /content/drive/MyDrive/CCMT dataset(grab_cut)/Cashew/anthracnose/anthracnose1192_.jpg\n",
            "Segmented and saved: /content/drive/MyDrive/CCMT dataset(grab_cut)/Cashew/anthracnose/anthracnose692_.jpg\n",
            "Segmented and saved: /content/drive/MyDrive/CCMT dataset(grab_cut)/Cashew/anthracnose/anthracnose1107_.jpg\n",
            "Segmented and saved: /content/drive/MyDrive/CCMT dataset(grab_cut)/Cashew/anthracnose/anthracnose1637_.jpg\n",
            "Segmented and saved: /content/drive/MyDrive/CCMT dataset(grab_cut)/Cashew/anthracnose/anthracnose1415_.jpg\n",
            "Segmented and saved: /content/drive/MyDrive/CCMT dataset(grab_cut)/Cashew/anthracnose/anthracnose1071_.jpg\n",
            "Segmented and saved: /content/drive/MyDrive/CCMT dataset(grab_cut)/Cashew/anthracnose/anthracnose1166_.jpg\n",
            "Segmented and saved: /content/drive/MyDrive/CCMT dataset(grab_cut)/Cashew/anthracnose/anthracnose911_.jpg\n",
            "Segmented and saved: /content/drive/MyDrive/CCMT dataset(grab_cut)/Cashew/anthracnose/anthracnose1242_.jpg\n",
            "Segmented and saved: /content/drive/MyDrive/CCMT dataset(grab_cut)/Cashew/anthracnose/anthracnose988_.jpg\n",
            "Segmented and saved: /content/drive/MyDrive/CCMT dataset(grab_cut)/Cashew/anthracnose/anthracnose1359_.jpg\n",
            "Segmented and saved: /content/drive/MyDrive/CCMT dataset(grab_cut)/Cashew/anthracnose/anthracnose1351_.jpg\n",
            "Segmented and saved: /content/drive/MyDrive/CCMT dataset(grab_cut)/Cashew/anthracnose/anthracnose1222_.jpg\n",
            "Segmented and saved: /content/drive/MyDrive/CCMT dataset(grab_cut)/Cashew/anthracnose/anthracnose253_.jpg\n",
            "Segmented and saved: /content/drive/MyDrive/CCMT dataset(grab_cut)/Cashew/anthracnose/anthracnose63_.jpg\n",
            "Segmented and saved: /content/drive/MyDrive/CCMT dataset(grab_cut)/Cashew/anthracnose/anthracnose1044_.jpg\n",
            "Segmented and saved: /content/drive/MyDrive/CCMT dataset(grab_cut)/Cashew/anthracnose/anthracnose1143_.jpg\n",
            "Segmented and saved: /content/drive/MyDrive/CCMT dataset(grab_cut)/Cashew/anthracnose/anthracnose535_.jpg\n",
            "Segmented and saved: /content/drive/MyDrive/CCMT dataset(grab_cut)/Cashew/anthracnose/anthracnose1659_.jpg\n",
            "Segmented and saved: /content/drive/MyDrive/CCMT dataset(grab_cut)/Cashew/anthracnose/anthracnose1571_.jpg\n",
            "Segmented and saved: /content/drive/MyDrive/CCMT dataset(grab_cut)/Cashew/anthracnose/anthracnose348_.jpg\n",
            "Segmented and saved: /content/drive/MyDrive/CCMT dataset(grab_cut)/Cashew/anthracnose/anthracnose1394_.jpg\n",
            "Segmented and saved: /content/drive/MyDrive/CCMT dataset(grab_cut)/Cashew/anthracnose/anthracnose1378_.jpg\n",
            "Segmented and saved: /content/drive/MyDrive/CCMT dataset(grab_cut)/Cashew/anthracnose/anthracnose1363_.jpg\n",
            "Segmented and saved: /content/drive/MyDrive/CCMT dataset(grab_cut)/Cashew/anthracnose/anthracnose1054_.jpg\n",
            "Segmented and saved: /content/drive/MyDrive/CCMT dataset(grab_cut)/Cashew/anthracnose/anthracnose39_.jpg\n",
            "Segmented and saved: /content/drive/MyDrive/CCMT dataset(grab_cut)/Cashew/anthracnose/anthracnose318_.jpg\n",
            "Segmented and saved: /content/drive/MyDrive/CCMT dataset(grab_cut)/Cashew/anthracnose/anthracnose1260_.jpg\n",
            "Segmented and saved: /content/drive/MyDrive/CCMT dataset(grab_cut)/Cashew/anthracnose/anthracnose316_.jpg\n",
            "Segmented and saved: /content/drive/MyDrive/CCMT dataset(grab_cut)/Cashew/anthracnose/anthracnose905_.jpg\n",
            "Segmented and saved: /content/drive/MyDrive/CCMT dataset(grab_cut)/Cashew/anthracnose/anthracnose527_.jpg\n",
            "Segmented and saved: /content/drive/MyDrive/CCMT dataset(grab_cut)/Cashew/anthracnose/anthracnose1688_.jpg\n",
            "Segmented and saved: /content/drive/MyDrive/CCMT dataset(grab_cut)/Cashew/anthracnose/anthracnose714_.jpg\n",
            "Segmented and saved: /content/drive/MyDrive/CCMT dataset(grab_cut)/Cashew/anthracnose/anthracnose76_.jpg\n",
            "Segmented and saved: /content/drive/MyDrive/CCMT dataset(grab_cut)/Cashew/anthracnose/anthracnose902_.jpg\n",
            "Segmented and saved: /content/drive/MyDrive/CCMT dataset(grab_cut)/Cashew/anthracnose/anthracnose547_.jpg\n",
            "Segmented and saved: /content/drive/MyDrive/CCMT dataset(grab_cut)/Cashew/anthracnose/anthracnose19_.jpg\n",
            "Segmented and saved: /content/drive/MyDrive/CCMT dataset(grab_cut)/Cashew/anthracnose/anthracnose675_.jpg\n",
            "Segmented and saved: /content/drive/MyDrive/CCMT dataset(grab_cut)/Cashew/anthracnose/anthracnose1262_.jpg\n",
            "Segmented and saved: /content/drive/MyDrive/CCMT dataset(grab_cut)/Cashew/anthracnose/anthracnose328_.jpg\n",
            "Segmented and saved: /content/drive/MyDrive/CCMT dataset(grab_cut)/Cashew/anthracnose/anthracnose1491_.jpg\n",
            "Segmented and saved: /content/drive/MyDrive/CCMT dataset(grab_cut)/Cashew/anthracnose/anthracnose907_.jpg\n",
            "Segmented and saved: /content/drive/MyDrive/CCMT dataset(grab_cut)/Cashew/anthracnose/anthracnose1069_.jpg\n",
            "Segmented and saved: /content/drive/MyDrive/CCMT dataset(grab_cut)/Cashew/anthracnose/anthracnose705_.jpg\n",
            "Segmented and saved: /content/drive/MyDrive/CCMT dataset(grab_cut)/Cashew/anthracnose/anthracnose553_.jpg\n",
            "Segmented and saved: /content/drive/MyDrive/CCMT dataset(grab_cut)/Cashew/anthracnose/anthracnose161_.jpg\n",
            "Segmented and saved: /content/drive/MyDrive/CCMT dataset(grab_cut)/Cashew/anthracnose/anthracnose174_.jpg\n",
            "Segmented and saved: /content/drive/MyDrive/CCMT dataset(grab_cut)/Cashew/anthracnose/anthracnose1510_.jpg\n",
            "Segmented and saved: /content/drive/MyDrive/CCMT dataset(grab_cut)/Cashew/anthracnose/anthracnose637_.jpg\n",
            "Segmented and saved: /content/drive/MyDrive/CCMT dataset(grab_cut)/Cashew/anthracnose/anthracnose204_.jpg\n",
            "Segmented and saved: /content/drive/MyDrive/CCMT dataset(grab_cut)/Cashew/anthracnose/anthracnose183_.jpg\n",
            "Segmented and saved: /content/drive/MyDrive/CCMT dataset(grab_cut)/Cashew/anthracnose/anthracnose780_.jpg\n",
            "Segmented and saved: /content/drive/MyDrive/CCMT dataset(grab_cut)/Cashew/anthracnose/anthracnose908_.jpg\n",
            "Segmented and saved: /content/drive/MyDrive/CCMT dataset(grab_cut)/Cashew/anthracnose/anthracnose1446_.jpg\n",
            "Segmented and saved: /content/drive/MyDrive/CCMT dataset(grab_cut)/Cashew/anthracnose/anthracnose1422_.jpg\n",
            "Segmented and saved: /content/drive/MyDrive/CCMT dataset(grab_cut)/Cashew/anthracnose/anthracnose1099_.jpg\n",
            "Segmented and saved: /content/drive/MyDrive/CCMT dataset(grab_cut)/Cashew/anthracnose/anthracnose769_.jpg\n",
            "Segmented and saved: /content/drive/MyDrive/CCMT dataset(grab_cut)/Cashew/anthracnose/anthracnose642_.jpg\n",
            "Segmented and saved: /content/drive/MyDrive/CCMT dataset(grab_cut)/Cashew/anthracnose/anthracnose340_.jpg\n",
            "Segmented and saved: /content/drive/MyDrive/CCMT dataset(grab_cut)/Cashew/anthracnose/anthracnose158_.jpg\n",
            "Segmented and saved: /content/drive/MyDrive/CCMT dataset(grab_cut)/Cashew/anthracnose/anthracnose822_.jpg\n",
            "Segmented and saved: /content/drive/MyDrive/CCMT dataset(grab_cut)/Cashew/anthracnose/anthracnose858_.jpg\n",
            "Segmented and saved: /content/drive/MyDrive/CCMT dataset(grab_cut)/Cashew/anthracnose/anthracnose1549_.jpg\n",
            "Segmented and saved: /content/drive/MyDrive/CCMT dataset(grab_cut)/Cashew/anthracnose/anthracnose1212_.jpg\n",
            "Segmented and saved: /content/drive/MyDrive/CCMT dataset(grab_cut)/Cashew/anthracnose/anthracnose877_.jpg\n",
            "Segmented and saved: /content/drive/MyDrive/CCMT dataset(grab_cut)/Cashew/anthracnose/anthracnose1558_.jpg\n",
            "Segmented and saved: /content/drive/MyDrive/CCMT dataset(grab_cut)/Cashew/anthracnose/anthracnose492_.jpg\n",
            "Segmented and saved: /content/drive/MyDrive/CCMT dataset(grab_cut)/Cashew/anthracnose/anthracnose306_.jpg\n",
            "Segmented and saved: /content/drive/MyDrive/CCMT dataset(grab_cut)/Cashew/anthracnose/anthracnose991_.jpg\n",
            "Segmented and saved: /content/drive/MyDrive/CCMT dataset(grab_cut)/Cashew/anthracnose/anthracnose638_.jpg\n",
            "Segmented and saved: /content/drive/MyDrive/CCMT dataset(grab_cut)/Cashew/anthracnose/anthracnose264_.jpg\n",
            "Segmented and saved: /content/drive/MyDrive/CCMT dataset(grab_cut)/Cashew/anthracnose/anthracnose746_.jpg\n",
            "Segmented and saved: /content/drive/MyDrive/CCMT dataset(grab_cut)/Cashew/anthracnose/anthracnose153_.jpg\n",
            "Segmented and saved: /content/drive/MyDrive/CCMT dataset(grab_cut)/Cashew/anthracnose/anthracnose613_.jpg\n",
            "Segmented and saved: /content/drive/MyDrive/CCMT dataset(grab_cut)/Cashew/anthracnose/anthracnose802_.jpg\n",
            "Segmented and saved: /content/drive/MyDrive/CCMT dataset(grab_cut)/Cashew/anthracnose/anthracnose1101_.jpg\n",
            "Segmented and saved: /content/drive/MyDrive/CCMT dataset(grab_cut)/Cashew/anthracnose/anthracnose518_.jpg\n",
            "Segmented and saved: /content/drive/MyDrive/CCMT dataset(grab_cut)/Cashew/anthracnose/anthracnose368_.jpg\n",
            "Segmented and saved: /content/drive/MyDrive/CCMT dataset(grab_cut)/Cashew/anthracnose/anthracnose1553_.jpg\n",
            "Segmented and saved: /content/drive/MyDrive/CCMT dataset(grab_cut)/Cashew/anthracnose/anthracnose133_.jpg\n",
            "Segmented and saved: /content/drive/MyDrive/CCMT dataset(grab_cut)/Cashew/anthracnose/anthracnose969_.jpg\n",
            "Segmented and saved: /content/drive/MyDrive/CCMT dataset(grab_cut)/Cashew/anthracnose/anthracnose68_.jpg\n",
            "Segmented and saved: /content/drive/MyDrive/CCMT dataset(grab_cut)/Cashew/anthracnose/anthracnose1606_.jpg\n",
            "Segmented and saved: /content/drive/MyDrive/CCMT dataset(grab_cut)/Cashew/anthracnose/anthracnose829_.jpg\n",
            "Segmented and saved: /content/drive/MyDrive/CCMT dataset(grab_cut)/Cashew/anthracnose/anthracnose190_.jpg\n",
            "Segmented and saved: /content/drive/MyDrive/CCMT dataset(grab_cut)/Cashew/anthracnose/anthracnose1148_.jpg\n",
            "Segmented and saved: /content/drive/MyDrive/CCMT dataset(grab_cut)/Cashew/anthracnose/anthracnose1451_.jpg\n",
            "Segmented and saved: /content/drive/MyDrive/CCMT dataset(grab_cut)/Cashew/anthracnose/anthracnose1296_.jpg\n",
            "Segmented and saved: /content/drive/MyDrive/CCMT dataset(grab_cut)/Cashew/anthracnose/anthracnose99_.jpg\n",
            "Segmented and saved: /content/drive/MyDrive/CCMT dataset(grab_cut)/Cashew/anthracnose/anthracnose1147_.jpg\n",
            "Segmented and saved: /content/drive/MyDrive/CCMT dataset(grab_cut)/Cashew/anthracnose/anthracnose680_.jpg\n",
            "Segmented and saved: /content/drive/MyDrive/CCMT dataset(grab_cut)/Cashew/anthracnose/anthracnose448_.jpg\n",
            "Segmented and saved: /content/drive/MyDrive/CCMT dataset(grab_cut)/Cashew/anthracnose/anthracnose1592_.jpg\n",
            "Segmented and saved: /content/drive/MyDrive/CCMT dataset(grab_cut)/Cashew/anthracnose/anthracnose98_.jpg\n",
            "Segmented and saved: /content/drive/MyDrive/CCMT dataset(grab_cut)/Cashew/anthracnose/anthracnose1352_.jpg\n",
            "Segmented and saved: /content/drive/MyDrive/CCMT dataset(grab_cut)/Cashew/anthracnose/anthracnose870_.jpg\n",
            "Segmented and saved: /content/drive/MyDrive/CCMT dataset(grab_cut)/Cashew/anthracnose/anthracnose460_.jpg\n",
            "Segmented and saved: /content/drive/MyDrive/CCMT dataset(grab_cut)/Cashew/anthracnose/anthracnose653_.jpg\n",
            "Segmented and saved: /content/drive/MyDrive/CCMT dataset(grab_cut)/Cashew/anthracnose/anthracnose933_.jpg\n",
            "Segmented and saved: /content/drive/MyDrive/CCMT dataset(grab_cut)/Cashew/anthracnose/anthracnose377_.jpg\n",
            "Segmented and saved: /content/drive/MyDrive/CCMT dataset(grab_cut)/Cashew/anthracnose/anthracnose1704_.jpg\n",
            "Segmented and saved: /content/drive/MyDrive/CCMT dataset(grab_cut)/Cashew/anthracnose/anthracnose1583_.jpg\n",
            "Segmented and saved: /content/drive/MyDrive/CCMT dataset(grab_cut)/Cashew/anthracnose/anthracnose896_.jpg\n",
            "Segmented and saved: /content/drive/MyDrive/CCMT dataset(grab_cut)/Cashew/anthracnose/anthracnose1073_.jpg\n",
            "Segmented and saved: /content/drive/MyDrive/CCMT dataset(grab_cut)/Cashew/anthracnose/anthracnose1376_.jpg\n",
            "Segmented and saved: /content/drive/MyDrive/CCMT dataset(grab_cut)/Cashew/anthracnose/anthracnose962_.jpg\n",
            "Segmented and saved: /content/drive/MyDrive/CCMT dataset(grab_cut)/Cashew/anthracnose/anthracnose568_.jpg\n",
            "Segmented and saved: /content/drive/MyDrive/CCMT dataset(grab_cut)/Cashew/anthracnose/anthracnose361_.jpg\n",
            "Segmented and saved: /content/drive/MyDrive/CCMT dataset(grab_cut)/Cashew/anthracnose/anthracnose850_.jpg\n",
            "Segmented and saved: /content/drive/MyDrive/CCMT dataset(grab_cut)/Cashew/anthracnose/anthracnose1167_.jpg\n",
            "Segmented and saved: /content/drive/MyDrive/CCMT dataset(grab_cut)/Cashew/anthracnose/anthracnose78_.jpg\n",
            "Segmented and saved: /content/drive/MyDrive/CCMT dataset(grab_cut)/Cashew/anthracnose/anthracnose43_.jpg\n",
            "Segmented and saved: /content/drive/MyDrive/CCMT dataset(grab_cut)/Cashew/anthracnose/anthracnose1065_.jpg\n",
            "Segmented and saved: /content/drive/MyDrive/CCMT dataset(grab_cut)/Cashew/anthracnose/anthracnose459_.jpg\n",
            "Segmented and saved: /content/drive/MyDrive/CCMT dataset(grab_cut)/Cashew/anthracnose/anthracnose903_.jpg\n",
            "Segmented and saved: /content/drive/MyDrive/CCMT dataset(grab_cut)/Cashew/anthracnose/anthracnose386_.jpg\n",
            "Segmented and saved: /content/drive/MyDrive/CCMT dataset(grab_cut)/Cashew/anthracnose/anthracnose193_.jpg\n",
            "Segmented and saved: /content/drive/MyDrive/CCMT dataset(grab_cut)/Cashew/anthracnose/anthracnose819_.jpg\n",
            "Segmented and saved: /content/drive/MyDrive/CCMT dataset(grab_cut)/Cashew/anthracnose/anthracnose1695_.jpg\n",
            "Segmented and saved: /content/drive/MyDrive/CCMT dataset(grab_cut)/Cashew/anthracnose/anthracnose1164_.jpg\n",
            "Segmented and saved: /content/drive/MyDrive/CCMT dataset(grab_cut)/Cashew/anthracnose/anthracnose1151_.jpg\n",
            "Segmented and saved: /content/drive/MyDrive/CCMT dataset(grab_cut)/Cashew/anthracnose/anthracnose881_.jpg\n",
            "Segmented and saved: /content/drive/MyDrive/CCMT dataset(grab_cut)/Cashew/anthracnose/anthracnose844_.jpg\n",
            "Segmented and saved: /content/drive/MyDrive/CCMT dataset(grab_cut)/Cashew/anthracnose/anthracnose1504_.jpg\n",
            "Segmented and saved: /content/drive/MyDrive/CCMT dataset(grab_cut)/Cashew/anthracnose/anthracnose636_.jpg\n",
            "Segmented and saved: /content/drive/MyDrive/CCMT dataset(grab_cut)/Cashew/anthracnose/anthracnose1593_.jpg\n",
            "Segmented and saved: /content/drive/MyDrive/CCMT dataset(grab_cut)/Cashew/anthracnose/anthracnose811_.jpg\n",
            "Segmented and saved: /content/drive/MyDrive/CCMT dataset(grab_cut)/Cashew/anthracnose/anthracnose917_.jpg\n",
            "Segmented and saved: /content/drive/MyDrive/CCMT dataset(grab_cut)/Cashew/anthracnose/anthracnose1018_.jpg\n",
            "Segmented and saved: /content/drive/MyDrive/CCMT dataset(grab_cut)/Cashew/anthracnose/anthracnose435_.jpg\n",
            "Segmented and saved: /content/drive/MyDrive/CCMT dataset(grab_cut)/Cashew/anthracnose/anthracnose408_.jpg\n",
            "Segmented and saved: /content/drive/MyDrive/CCMT dataset(grab_cut)/Cashew/anthracnose/anthracnose106_.jpg\n",
            "Segmented and saved: /content/drive/MyDrive/CCMT dataset(grab_cut)/Cashew/anthracnose/anthracnose1244_.jpg\n",
            "Segmented and saved: /content/drive/MyDrive/CCMT dataset(grab_cut)/Cashew/anthracnose/anthracnose1481_.jpg\n",
            "Segmented and saved: /content/drive/MyDrive/CCMT dataset(grab_cut)/Cashew/anthracnose/anthracnose1328_.jpg\n",
            "Segmented and saved: /content/drive/MyDrive/CCMT dataset(grab_cut)/Cashew/anthracnose/anthracnose493_.jpg\n",
            "Segmented and saved: /content/drive/MyDrive/CCMT dataset(grab_cut)/Cashew/anthracnose/anthracnose96_.jpg\n",
            "Segmented and saved: /content/drive/MyDrive/CCMT dataset(grab_cut)/Cashew/anthracnose/anthracnose261_.jpg\n",
            "Segmented and saved: /content/drive/MyDrive/CCMT dataset(grab_cut)/Cashew/anthracnose/anthracnose726_.jpg\n",
            "Segmented and saved: /content/drive/MyDrive/CCMT dataset(grab_cut)/Cashew/anthracnose/anthracnose1345_.jpg\n",
            "Segmented and saved: /content/drive/MyDrive/CCMT dataset(grab_cut)/Cashew/anthracnose/anthracnose345_.jpg\n",
            "Segmented and saved: /content/drive/MyDrive/CCMT dataset(grab_cut)/Cashew/anthracnose/anthracnose647_.jpg\n",
            "Segmented and saved: /content/drive/MyDrive/CCMT dataset(grab_cut)/Cashew/anthracnose/anthracnose1030_.jpg\n",
            "Segmented and saved: /content/drive/MyDrive/CCMT dataset(grab_cut)/Cashew/anthracnose/anthracnose1131_.jpg\n",
            "Segmented and saved: /content/drive/MyDrive/CCMT dataset(grab_cut)/Cashew/anthracnose/anthracnose1398_.jpg\n",
            "Segmented and saved: /content/drive/MyDrive/CCMT dataset(grab_cut)/Cashew/anthracnose/anthracnose1527_.jpg\n",
            "Segmented and saved: /content/drive/MyDrive/CCMT dataset(grab_cut)/Cashew/anthracnose/anthracnose114_.jpg\n",
            "Segmented and saved: /content/drive/MyDrive/CCMT dataset(grab_cut)/Cashew/anthracnose/anthracnose373_.jpg\n",
            "Segmented and saved: /content/drive/MyDrive/CCMT dataset(grab_cut)/Cashew/anthracnose/anthracnose1060_.jpg\n",
            "Segmented and saved: /content/drive/MyDrive/CCMT dataset(grab_cut)/Cashew/anthracnose/anthracnose616_.jpg\n",
            "Segmented and saved: /content/drive/MyDrive/CCMT dataset(grab_cut)/Cashew/anthracnose/anthracnose590_.jpg\n",
            "Segmented and saved: /content/drive/MyDrive/CCMT dataset(grab_cut)/Cashew/anthracnose/anthracnose186_.jpg\n",
            "Segmented and saved: /content/drive/MyDrive/CCMT dataset(grab_cut)/Cashew/anthracnose/anthracnose723_.jpg\n",
            "Segmented and saved: /content/drive/MyDrive/CCMT dataset(grab_cut)/Cashew/anthracnose/anthracnose727_.jpg\n",
            "Segmented and saved: /content/drive/MyDrive/CCMT dataset(grab_cut)/Cashew/anthracnose/anthracnose243_.jpg\n",
            "Segmented and saved: /content/drive/MyDrive/CCMT dataset(grab_cut)/Cashew/anthracnose/anthracnose74_.jpg\n",
            "Segmented and saved: /content/drive/MyDrive/CCMT dataset(grab_cut)/Cashew/anthracnose/anthracnose929_.jpg\n",
            "Segmented and saved: /content/drive/MyDrive/CCMT dataset(grab_cut)/Cashew/anthracnose/anthracnose320_.jpg\n",
            "Segmented and saved: /content/drive/MyDrive/CCMT dataset(grab_cut)/Cashew/anthracnose/anthracnose211_.jpg\n",
            "Segmented and saved: /content/drive/MyDrive/CCMT dataset(grab_cut)/Cashew/anthracnose/anthracnose1204_.jpg\n",
            "Segmented and saved: /content/drive/MyDrive/CCMT dataset(grab_cut)/Cashew/anthracnose/anthracnose816_.jpg\n",
            "Segmented and saved: /content/drive/MyDrive/CCMT dataset(grab_cut)/Cashew/anthracnose/anthracnose859_.jpg\n",
            "Segmented and saved: /content/drive/MyDrive/CCMT dataset(grab_cut)/Cashew/anthracnose/anthracnose1644_.jpg\n",
            "Segmented and saved: /content/drive/MyDrive/CCMT dataset(grab_cut)/Cashew/anthracnose/anthracnose812_.jpg\n",
            "Segmented and saved: /content/drive/MyDrive/CCMT dataset(grab_cut)/Cashew/anthracnose/anthracnose354_.jpg\n",
            "Segmented and saved: /content/drive/MyDrive/CCMT dataset(grab_cut)/Cashew/anthracnose/anthracnose16_.jpg\n",
            "Segmented and saved: /content/drive/MyDrive/CCMT dataset(grab_cut)/Cashew/anthracnose/anthracnose1641_.jpg\n",
            "Segmented and saved: /content/drive/MyDrive/CCMT dataset(grab_cut)/Cashew/anthracnose/anthracnose489_.jpg\n",
            "Segmented and saved: /content/drive/MyDrive/CCMT dataset(grab_cut)/Cashew/anthracnose/anthracnose510_.jpg\n",
            "Segmented and saved: /content/drive/MyDrive/CCMT dataset(grab_cut)/Cashew/anthracnose/anthracnose1295_.jpg\n",
            "Segmented and saved: /content/drive/MyDrive/CCMT dataset(grab_cut)/Cashew/anthracnose/anthracnose145_.jpg\n",
            "Segmented and saved: /content/drive/MyDrive/CCMT dataset(grab_cut)/Cashew/anthracnose/anthracnose1687_.jpg\n",
            "Segmented and saved: /content/drive/MyDrive/CCMT dataset(grab_cut)/Cashew/anthracnose/anthracnose959_.jpg\n",
            "Segmented and saved: /content/drive/MyDrive/CCMT dataset(grab_cut)/Cashew/anthracnose/anthracnose1228_.jpg\n",
            "Segmented and saved: /content/drive/MyDrive/CCMT dataset(grab_cut)/Cashew/anthracnose/anthracnose923_.jpg\n",
            "Segmented and saved: /content/drive/MyDrive/CCMT dataset(grab_cut)/Cashew/anthracnose/anthracnose768_.jpg\n",
            "Segmented and saved: /content/drive/MyDrive/CCMT dataset(grab_cut)/Cashew/anthracnose/anthracnose563_.jpg\n",
            "Segmented and saved: /content/drive/MyDrive/CCMT dataset(grab_cut)/Cashew/anthracnose/anthracnose326_.jpg\n",
            "Segmented and saved: /content/drive/MyDrive/CCMT dataset(grab_cut)/Cashew/anthracnose/anthracnose542_.jpg\n",
            "Segmented and saved: /content/drive/MyDrive/CCMT dataset(grab_cut)/Cashew/anthracnose/anthracnose1270_.jpg\n",
            "Segmented and saved: /content/drive/MyDrive/CCMT dataset(grab_cut)/Cashew/anthracnose/anthracnose317_.jpg\n",
            "Segmented and saved: /content/drive/MyDrive/CCMT dataset(grab_cut)/Cashew/anthracnose/anthracnose151_.jpg\n",
            "Segmented and saved: /content/drive/MyDrive/CCMT dataset(grab_cut)/Cashew/anthracnose/anthracnose1216_.jpg\n",
            "Segmented and saved: /content/drive/MyDrive/CCMT dataset(grab_cut)/Cashew/anthracnose/anthracnose299_.jpg\n",
            "Segmented and saved: /content/drive/MyDrive/CCMT dataset(grab_cut)/Cashew/anthracnose/anthracnose381_.jpg\n",
            "Segmented and saved: /content/drive/MyDrive/CCMT dataset(grab_cut)/Cashew/anthracnose/anthracnose287_.jpg\n",
            "Segmented and saved: /content/drive/MyDrive/CCMT dataset(grab_cut)/Cashew/anthracnose/anthracnose216_.jpg\n",
            "Segmented and saved: /content/drive/MyDrive/CCMT dataset(grab_cut)/Cashew/anthracnose/anthracnose1371_.jpg\n",
            "Segmented and saved: /content/drive/MyDrive/CCMT dataset(grab_cut)/Cashew/anthracnose/anthracnose648_.jpg\n",
            "Segmented and saved: /content/drive/MyDrive/CCMT dataset(grab_cut)/Cashew/anthracnose/anthracnose914_.jpg\n",
            "Segmented and saved: /content/drive/MyDrive/CCMT dataset(grab_cut)/Cashew/anthracnose/anthracnose807_.jpg\n",
            "Segmented and saved: /content/drive/MyDrive/CCMT dataset(grab_cut)/Cashew/anthracnose/anthracnose1601_.jpg\n",
            "Segmented and saved: /content/drive/MyDrive/CCMT dataset(grab_cut)/Cashew/anthracnose/anthracnose1396_.jpg\n",
            "Segmented and saved: /content/drive/MyDrive/CCMT dataset(grab_cut)/Cashew/anthracnose/anthracnose773_.jpg\n",
            "Segmented and saved: /content/drive/MyDrive/CCMT dataset(grab_cut)/Cashew/anthracnose/anthracnose945_.jpg\n",
            "Segmented and saved: /content/drive/MyDrive/CCMT dataset(grab_cut)/Cashew/anthracnose/anthracnose1727_.jpg\n",
            "Segmented and saved: /content/drive/MyDrive/CCMT dataset(grab_cut)/Cashew/anthracnose/anthracnose7_.jpg\n",
            "Segmented and saved: /content/drive/MyDrive/CCMT dataset(grab_cut)/Cashew/anthracnose/anthracnose975_.jpg\n",
            "Segmented and saved: /content/drive/MyDrive/CCMT dataset(grab_cut)/Cashew/anthracnose/anthracnose1621_.jpg\n",
            "Segmented and saved: /content/drive/MyDrive/CCMT dataset(grab_cut)/Cashew/anthracnose/anthracnose1153_.jpg\n",
            "Segmented and saved: /content/drive/MyDrive/CCMT dataset(grab_cut)/Cashew/anthracnose/anthracnose66_.jpg\n",
            "Segmented and saved: /content/drive/MyDrive/CCMT dataset(grab_cut)/Cashew/anthracnose/anthracnose986_.jpg\n",
            "Segmented and saved: /content/drive/MyDrive/CCMT dataset(grab_cut)/Cashew/anthracnose/anthracnose1540_.jpg\n",
            "Segmented and saved: /content/drive/MyDrive/CCMT dataset(grab_cut)/Cashew/anthracnose/anthracnose32_.jpg\n",
            "Segmented and saved: /content/drive/MyDrive/CCMT dataset(grab_cut)/Cashew/anthracnose/anthracnose1610_.jpg\n",
            "Segmented and saved: /content/drive/MyDrive/CCMT dataset(grab_cut)/Cashew/anthracnose/anthracnose1413_.jpg\n",
            "Segmented and saved: /content/drive/MyDrive/CCMT dataset(grab_cut)/Cashew/anthracnose/anthracnose1384_.jpg\n",
            "Segmented and saved: /content/drive/MyDrive/CCMT dataset(grab_cut)/Cashew/anthracnose/anthracnose1261_.jpg\n",
            "Segmented and saved: /content/drive/MyDrive/CCMT dataset(grab_cut)/Cashew/anthracnose/anthracnose1525_.jpg\n",
            "Segmented and saved: /content/drive/MyDrive/CCMT dataset(grab_cut)/Cashew/anthracnose/anthracnose350_.jpg\n",
            "Segmented and saved: /content/drive/MyDrive/CCMT dataset(grab_cut)/Cashew/anthracnose/anthracnose420_.jpg\n",
            "Segmented and saved: /content/drive/MyDrive/CCMT dataset(grab_cut)/Cashew/anthracnose/anthracnose1369_.jpg\n",
            "Segmented and saved: /content/drive/MyDrive/CCMT dataset(grab_cut)/Cashew/anthracnose/anthracnose539_.jpg\n",
            "Segmented and saved: /content/drive/MyDrive/CCMT dataset(grab_cut)/Cashew/anthracnose/anthracnose734_.jpg\n",
            "Segmented and saved: /content/drive/MyDrive/CCMT dataset(grab_cut)/Cashew/anthracnose/anthracnose677_.jpg\n",
            "Segmented and saved: /content/drive/MyDrive/CCMT dataset(grab_cut)/Cashew/anthracnose/anthracnose1411_.jpg\n",
            "Segmented and saved: /content/drive/MyDrive/CCMT dataset(grab_cut)/Cashew/anthracnose/anthracnose1032_.jpg\n",
            "Segmented and saved: /content/drive/MyDrive/CCMT dataset(grab_cut)/Cashew/anthracnose/anthracnose599_.jpg\n",
            "Segmented and saved: /content/drive/MyDrive/CCMT dataset(grab_cut)/Cashew/anthracnose/anthracnose40_.jpg\n",
            "Segmented and saved: /content/drive/MyDrive/CCMT dataset(grab_cut)/Cashew/anthracnose/anthracnose600_.jpg\n",
            "Segmented and saved: /content/drive/MyDrive/CCMT dataset(grab_cut)/Cashew/anthracnose/anthracnose105_.jpg\n",
            "Segmented and saved: /content/drive/MyDrive/CCMT dataset(grab_cut)/Cashew/anthracnose/anthracnose1283_.jpg\n",
            "Segmented and saved: /content/drive/MyDrive/CCMT dataset(grab_cut)/Cashew/anthracnose/anthracnose583_.jpg\n",
            "Segmented and saved: /content/drive/MyDrive/CCMT dataset(grab_cut)/Cashew/anthracnose/anthracnose890_.jpg\n",
            "Segmented and saved: /content/drive/MyDrive/CCMT dataset(grab_cut)/Cashew/anthracnose/anthracnose6_.jpg\n",
            "Segmented and saved: /content/drive/MyDrive/CCMT dataset(grab_cut)/Cashew/anthracnose/anthracnose1132_.jpg\n",
            "Segmented and saved: /content/drive/MyDrive/CCMT dataset(grab_cut)/Cashew/anthracnose/anthracnose1664_.jpg\n",
            "Segmented and saved: /content/drive/MyDrive/CCMT dataset(grab_cut)/Cashew/anthracnose/anthracnose463_.jpg\n",
            "Segmented and saved: /content/drive/MyDrive/CCMT dataset(grab_cut)/Cashew/anthracnose/anthracnose308_.jpg\n",
            "Segmented and saved: /content/drive/MyDrive/CCMT dataset(grab_cut)/Cashew/anthracnose/anthracnose571_.jpg\n",
            "Segmented and saved: /content/drive/MyDrive/CCMT dataset(grab_cut)/Cashew/anthracnose/anthracnose225_.jpg\n",
            "Segmented and saved: /content/drive/MyDrive/CCMT dataset(grab_cut)/Cashew/anthracnose/anthracnose1441_.jpg\n",
            "Segmented and saved: /content/drive/MyDrive/CCMT dataset(grab_cut)/Cashew/anthracnose/anthracnose1560_.jpg\n",
            "Segmented and saved: /content/drive/MyDrive/CCMT dataset(grab_cut)/Cashew/anthracnose/anthracnose973_.jpg\n",
            "Segmented and saved: /content/drive/MyDrive/CCMT dataset(grab_cut)/Cashew/anthracnose/anthracnose1628_.jpg\n",
            "Segmented and saved: /content/drive/MyDrive/CCMT dataset(grab_cut)/Cashew/anthracnose/anthracnose1176_.jpg\n",
            "Segmented and saved: /content/drive/MyDrive/CCMT dataset(grab_cut)/Cashew/anthracnose/anthracnose516_.jpg\n",
            "Segmented and saved: /content/drive/MyDrive/CCMT dataset(grab_cut)/Cashew/anthracnose/anthracnose1243_.jpg\n",
            "Segmented and saved: /content/drive/MyDrive/CCMT dataset(grab_cut)/Cashew/anthracnose/anthracnose546_.jpg\n",
            "Segmented and saved: /content/drive/MyDrive/CCMT dataset(grab_cut)/Cashew/anthracnose/anthracnose135_.jpg\n",
            "Segmented and saved: /content/drive/MyDrive/CCMT dataset(grab_cut)/Cashew/anthracnose/anthracnose851_.jpg\n",
            "Segmented and saved: /content/drive/MyDrive/CCMT dataset(grab_cut)/Cashew/anthracnose/anthracnose1723_.jpg\n",
            "Segmented and saved: /content/drive/MyDrive/CCMT dataset(grab_cut)/Cashew/anthracnose/anthracnose250_.jpg\n",
            "Segmented and saved: /content/drive/MyDrive/CCMT dataset(grab_cut)/Cashew/anthracnose/anthracnose1063_.jpg\n",
            "Segmented and saved: /content/drive/MyDrive/CCMT dataset(grab_cut)/Cashew/anthracnose/anthracnose1342_.jpg\n",
            "Segmented and saved: /content/drive/MyDrive/CCMT dataset(grab_cut)/Cashew/anthracnose/anthracnose788_.jpg\n",
            "Segmented and saved: /content/drive/MyDrive/CCMT dataset(grab_cut)/Cashew/anthracnose/anthracnose1603_.jpg\n",
            "Segmented and saved: /content/drive/MyDrive/CCMT dataset(grab_cut)/Cashew/anthracnose/anthracnose1091_.jpg\n",
            "Segmented and saved: /content/drive/MyDrive/CCMT dataset(grab_cut)/Cashew/anthracnose/anthracnose713_.jpg\n",
            "Segmented and saved: /content/drive/MyDrive/CCMT dataset(grab_cut)/Cashew/anthracnose/anthracnose1426_.jpg\n",
            "Segmented and saved: /content/drive/MyDrive/CCMT dataset(grab_cut)/Cashew/anthracnose/anthracnose1154_.jpg\n",
            "Segmented and saved: /content/drive/MyDrive/CCMT dataset(grab_cut)/Cashew/anthracnose/anthracnose1477_.jpg\n",
            "Segmented and saved: /content/drive/MyDrive/CCMT dataset(grab_cut)/Cashew/anthracnose/anthracnose730_.jpg\n",
            "Segmented and saved: /content/drive/MyDrive/CCMT dataset(grab_cut)/Cashew/anthracnose/anthracnose1595_.jpg\n",
            "Segmented and saved: /content/drive/MyDrive/CCMT dataset(grab_cut)/Cashew/anthracnose/anthracnose1586_.jpg\n",
            "Segmented and saved: /content/drive/MyDrive/CCMT dataset(grab_cut)/Cashew/anthracnose/anthracnose1139_.jpg\n",
            "Segmented and saved: /content/drive/MyDrive/CCMT dataset(grab_cut)/Cashew/anthracnose/anthracnose163_.jpg\n",
            "Segmented and saved: /content/drive/MyDrive/CCMT dataset(grab_cut)/Cashew/anthracnose/anthracnose428_.jpg\n",
            "Segmented and saved: /content/drive/MyDrive/CCMT dataset(grab_cut)/Cashew/anthracnose/anthracnose797_.jpg\n",
            "Segmented and saved: /content/drive/MyDrive/CCMT dataset(grab_cut)/Cashew/anthracnose/anthracnose1002_.jpg\n",
            "Segmented and saved: /content/drive/MyDrive/CCMT dataset(grab_cut)/Cashew/anthracnose/anthracnose1381_.jpg\n",
            "Segmented and saved: /content/drive/MyDrive/CCMT dataset(grab_cut)/Cashew/anthracnose/anthracnose236_.jpg\n",
            "Segmented and saved: /content/drive/MyDrive/CCMT dataset(grab_cut)/Cashew/anthracnose/anthracnose432_.jpg\n",
            "Segmented and saved: /content/drive/MyDrive/CCMT dataset(grab_cut)/Cashew/anthracnose/anthracnose487_.jpg\n",
            "Segmented and saved: /content/drive/MyDrive/CCMT dataset(grab_cut)/Cashew/anthracnose/anthracnose1717_.jpg\n",
            "Segmented and saved: /content/drive/MyDrive/CCMT dataset(grab_cut)/Cashew/anthracnose/anthracnose1343_.jpg\n",
            "Segmented and saved: /content/drive/MyDrive/CCMT dataset(grab_cut)/Cashew/anthracnose/anthracnose924_.jpg\n",
            "Segmented and saved: /content/drive/MyDrive/CCMT dataset(grab_cut)/Cashew/anthracnose/anthracnose263_.jpg\n",
            "Segmented and saved: /content/drive/MyDrive/CCMT dataset(grab_cut)/Cashew/anthracnose/anthracnose623_.jpg\n",
            "Segmented and saved: /content/drive/MyDrive/CCMT dataset(grab_cut)/Cashew/anthracnose/anthracnose1250_.jpg\n",
            "Segmented and saved: /content/drive/MyDrive/CCMT dataset(grab_cut)/Cashew/anthracnose/anthracnose1124_.jpg\n",
            "Segmented and saved: /content/drive/MyDrive/CCMT dataset(grab_cut)/Cashew/anthracnose/anthracnose266_.jpg\n",
            "Segmented and saved: /content/drive/MyDrive/CCMT dataset(grab_cut)/Cashew/anthracnose/anthracnose587_.jpg\n",
            "Segmented and saved: /content/drive/MyDrive/CCMT dataset(grab_cut)/Cashew/anthracnose/anthracnose1367_.jpg\n",
            "Segmented and saved: /content/drive/MyDrive/CCMT dataset(grab_cut)/Cashew/anthracnose/anthracnose1528_.jpg\n",
            "Segmented and saved: /content/drive/MyDrive/CCMT dataset(grab_cut)/Cashew/anthracnose/anthracnose978_.jpg\n",
            "Segmented and saved: /content/drive/MyDrive/CCMT dataset(grab_cut)/Cashew/anthracnose/anthracnose56_.jpg\n",
            "Segmented and saved: /content/drive/MyDrive/CCMT dataset(grab_cut)/Cashew/anthracnose/anthracnose1291_.jpg\n",
            "Segmented and saved: /content/drive/MyDrive/CCMT dataset(grab_cut)/Cashew/anthracnose/anthracnose88_.jpg\n",
            "Segmented and saved: /content/drive/MyDrive/CCMT dataset(grab_cut)/Cashew/anthracnose/anthracnose738_.jpg\n",
            "Segmented and saved: /content/drive/MyDrive/CCMT dataset(grab_cut)/Cashew/anthracnose/anthracnose1500_.jpg\n",
            "Segmented and saved: /content/drive/MyDrive/CCMT dataset(grab_cut)/Cashew/anthracnose/anthracnose337_.jpg\n",
            "Segmented and saved: /content/drive/MyDrive/CCMT dataset(grab_cut)/Cashew/anthracnose/anthracnose1707_.jpg\n",
            "Segmented and saved: /content/drive/MyDrive/CCMT dataset(grab_cut)/Cashew/anthracnose/anthracnose507_.jpg\n",
            "Segmented and saved: /content/drive/MyDrive/CCMT dataset(grab_cut)/Cashew/anthracnose/anthracnose1263_.jpg\n",
            "Segmented and saved: /content/drive/MyDrive/CCMT dataset(grab_cut)/Cashew/anthracnose/anthracnose189_.jpg\n",
            "Segmented and saved: /content/drive/MyDrive/CCMT dataset(grab_cut)/Cashew/anthracnose/anthracnose1003_.jpg\n",
            "Segmented and saved: /content/drive/MyDrive/CCMT dataset(grab_cut)/Cashew/anthracnose/anthracnose831_.jpg\n",
            "Segmented and saved: /content/drive/MyDrive/CCMT dataset(grab_cut)/Cashew/anthracnose/anthracnose826_.jpg\n",
            "Segmented and saved: /content/drive/MyDrive/CCMT dataset(grab_cut)/Cashew/anthracnose/anthracnose864_.jpg\n",
            "Segmented and saved: /content/drive/MyDrive/CCMT dataset(grab_cut)/Cashew/anthracnose/anthracnose241_.jpg\n",
            "Segmented and saved: /content/drive/MyDrive/CCMT dataset(grab_cut)/Cashew/anthracnose/anthracnose458_.jpg\n",
            "Segmented and saved: /content/drive/MyDrive/CCMT dataset(grab_cut)/Cashew/anthracnose/anthracnose1631_.jpg\n",
            "Segmented and saved: /content/drive/MyDrive/CCMT dataset(grab_cut)/Cashew/anthracnose/anthracnose1716_.jpg\n",
            "Segmented and saved: /content/drive/MyDrive/CCMT dataset(grab_cut)/Cashew/anthracnose/anthracnose1157_.jpg\n",
            "Segmented and saved: /content/drive/MyDrive/CCMT dataset(grab_cut)/Cashew/anthracnose/anthracnose869_.jpg\n",
            "Segmented and saved: /content/drive/MyDrive/CCMT dataset(grab_cut)/Cashew/anthracnose/anthracnose1224_.jpg\n",
            "Segmented and saved: /content/drive/MyDrive/CCMT dataset(grab_cut)/Cashew/anthracnose/anthracnose1690_.jpg\n",
            "Segmented and saved: /content/drive/MyDrive/CCMT dataset(grab_cut)/Cashew/anthracnose/anthracnose1173_.jpg\n",
            "Segmented and saved: /content/drive/MyDrive/CCMT dataset(grab_cut)/Cashew/anthracnose/anthracnose1556_.jpg\n",
            "Segmented and saved: /content/drive/MyDrive/CCMT dataset(grab_cut)/Cashew/anthracnose/anthracnose1226_.jpg\n",
            "Segmented and saved: /content/drive/MyDrive/CCMT dataset(grab_cut)/Cashew/anthracnose/anthracnose433_.jpg\n",
            "Segmented and saved: /content/drive/MyDrive/CCMT dataset(grab_cut)/Cashew/anthracnose/anthracnose494_.jpg\n",
            "Segmented and saved: /content/drive/MyDrive/CCMT dataset(grab_cut)/Cashew/anthracnose/anthracnose798_.jpg\n",
            "Segmented and saved: /content/drive/MyDrive/CCMT dataset(grab_cut)/Cashew/anthracnose/anthracnose1661_.jpg\n",
            "Segmented and saved: /content/drive/MyDrive/CCMT dataset(grab_cut)/Cashew/anthracnose/anthracnose290_.jpg\n",
            "Segmented and saved: /content/drive/MyDrive/CCMT dataset(grab_cut)/Cashew/anthracnose/anthracnose1324_.jpg\n",
            "Segmented and saved: /content/drive/MyDrive/CCMT dataset(grab_cut)/Cashew/anthracnose/anthracnose1423_.jpg\n",
            "Segmented and saved: /content/drive/MyDrive/CCMT dataset(grab_cut)/Cashew/anthracnose/anthracnose661_.jpg\n",
            "Segmented and saved: /content/drive/MyDrive/CCMT dataset(grab_cut)/Cashew/anthracnose/anthracnose1048_.jpg\n",
            "Segmented and saved: /content/drive/MyDrive/CCMT dataset(grab_cut)/Cashew/anthracnose/anthracnose814_.jpg\n",
            "Segmented and saved: /content/drive/MyDrive/CCMT dataset(grab_cut)/Cashew/anthracnose/anthracnose58_.jpg\n",
            "Segmented and saved: /content/drive/MyDrive/CCMT dataset(grab_cut)/Cashew/anthracnose/anthracnose1428_.jpg\n",
            "Segmented and saved: /content/drive/MyDrive/CCMT dataset(grab_cut)/Cashew/anthracnose/anthracnose628_.jpg\n",
            "Segmented and saved: /content/drive/MyDrive/CCMT dataset(grab_cut)/Cashew/anthracnose/anthracnose181_.jpg\n",
            "Segmented and saved: /content/drive/MyDrive/CCMT dataset(grab_cut)/Cashew/anthracnose/anthracnose336_.jpg\n",
            "Segmented and saved: /content/drive/MyDrive/CCMT dataset(grab_cut)/Cashew/anthracnose/anthracnose313_.jpg\n",
            "Segmented and saved: /content/drive/MyDrive/CCMT dataset(grab_cut)/Cashew/anthracnose/anthracnose426_.jpg\n",
            "Segmented and saved: /content/drive/MyDrive/CCMT dataset(grab_cut)/Cashew/anthracnose/anthracnose1570_.jpg\n",
            "Segmented and saved: /content/drive/MyDrive/CCMT dataset(grab_cut)/Cashew/anthracnose/anthracnose262_.jpg\n",
            "Segmented and saved: /content/drive/MyDrive/CCMT dataset(grab_cut)/Cashew/anthracnose/anthracnose64_.jpg\n",
            "Segmented and saved: /content/drive/MyDrive/CCMT dataset(grab_cut)/Cashew/anthracnose/anthracnose532_.jpg\n",
            "Segmented and saved: /content/drive/MyDrive/CCMT dataset(grab_cut)/Cashew/anthracnose/anthracnose1022_.jpg\n",
            "Segmented and saved: /content/drive/MyDrive/CCMT dataset(grab_cut)/Cashew/anthracnose/anthracnose1375_.jpg\n",
            "Segmented and saved: /content/drive/MyDrive/CCMT dataset(grab_cut)/Cashew/anthracnose/anthracnose160_.jpg\n",
            "Segmented and saved: /content/drive/MyDrive/CCMT dataset(grab_cut)/Cashew/anthracnose/anthracnose1236_.jpg\n",
            "Segmented and saved: /content/drive/MyDrive/CCMT dataset(grab_cut)/Cashew/anthracnose/anthracnose833_.jpg\n",
            "Segmented and saved: /content/drive/MyDrive/CCMT dataset(grab_cut)/Cashew/anthracnose/anthracnose887_.jpg\n",
            "Segmented and saved: /content/drive/MyDrive/CCMT dataset(grab_cut)/Cashew/anthracnose/anthracnose934_.jpg\n",
            "Segmented and saved: /content/drive/MyDrive/CCMT dataset(grab_cut)/Cashew/anthracnose/anthracnose1118_.jpg\n",
            "Segmented and saved: /content/drive/MyDrive/CCMT dataset(grab_cut)/Cashew/anthracnose/anthracnose1685_.jpg\n",
            "Segmented and saved: /content/drive/MyDrive/CCMT dataset(grab_cut)/Cashew/anthracnose/anthracnose1699_.jpg\n",
            "Segmented and saved: /content/drive/MyDrive/CCMT dataset(grab_cut)/Cashew/anthracnose/anthracnose1332_.jpg\n",
            "Segmented and saved: /content/drive/MyDrive/CCMT dataset(grab_cut)/Cashew/anthracnose/anthracnose192_.jpg\n",
            "Segmented and saved: /content/drive/MyDrive/CCMT dataset(grab_cut)/Cashew/anthracnose/anthracnose603_.jpg\n",
            "Segmented and saved: /content/drive/MyDrive/CCMT dataset(grab_cut)/Cashew/anthracnose/anthracnose403_.jpg\n",
            "Segmented and saved: /content/drive/MyDrive/CCMT dataset(grab_cut)/Cashew/anthracnose/anthracnose1040_.jpg\n",
            "Segmented and saved: /content/drive/MyDrive/CCMT dataset(grab_cut)/Cashew/anthracnose/anthracnose1025_.jpg\n",
            "Segmented and saved: /content/drive/MyDrive/CCMT dataset(grab_cut)/Cashew/anthracnose/anthracnose901_.jpg\n",
            "Segmented and saved: /content/drive/MyDrive/CCMT dataset(grab_cut)/Cashew/anthracnose/anthracnose759_.jpg\n",
            "Segmented and saved: /content/drive/MyDrive/CCMT dataset(grab_cut)/Cashew/anthracnose/anthracnose1536_.jpg\n",
            "Segmented and saved: /content/drive/MyDrive/CCMT dataset(grab_cut)/Cashew/anthracnose/anthracnose1507_.jpg\n",
            "Segmented and saved: /content/drive/MyDrive/CCMT dataset(grab_cut)/Cashew/anthracnose/anthracnose1625_.jpg\n",
            "Segmented and saved: /content/drive/MyDrive/CCMT dataset(grab_cut)/Cashew/anthracnose/anthracnose1554_.jpg\n",
            "Segmented and saved: /content/drive/MyDrive/CCMT dataset(grab_cut)/Cashew/anthracnose/anthracnose1097_.jpg\n",
            "Segmented and saved: /content/drive/MyDrive/CCMT dataset(grab_cut)/Cashew/anthracnose/anthracnose1231_.jpg\n",
            "Segmented and saved: /content/drive/MyDrive/CCMT dataset(grab_cut)/Cashew/anthracnose/anthracnose138_.jpg\n",
            "Segmented and saved: /content/drive/MyDrive/CCMT dataset(grab_cut)/Cashew/anthracnose/anthracnose304_.jpg\n",
            "Segmented and saved: /content/drive/MyDrive/CCMT dataset(grab_cut)/Cashew/anthracnose/anthracnose1706_.jpg\n",
            "Segmented and saved: /content/drive/MyDrive/CCMT dataset(grab_cut)/Cashew/anthracnose/anthracnose488_.jpg\n",
            "Segmented and saved: /content/drive/MyDrive/CCMT dataset(grab_cut)/Cashew/anthracnose/anthracnose226_.jpg\n",
            "Segmented and saved: /content/drive/MyDrive/CCMT dataset(grab_cut)/Cashew/anthracnose/anthracnose1085_.jpg\n",
            "Segmented and saved: /content/drive/MyDrive/CCMT dataset(grab_cut)/Cashew/anthracnose/anthracnose674_.jpg\n",
            "Segmented and saved: /content/drive/MyDrive/CCMT dataset(grab_cut)/Cashew/anthracnose/anthracnose1051_.jpg\n",
            "Segmented and saved: /content/drive/MyDrive/CCMT dataset(grab_cut)/Cashew/anthracnose/anthracnose1400_.jpg\n",
            "Segmented and saved: /content/drive/MyDrive/CCMT dataset(grab_cut)/Cashew/anthracnose/anthracnose589_.jpg\n",
            "Segmented and saved: /content/drive/MyDrive/CCMT dataset(grab_cut)/Cashew/anthracnose/anthracnose1049_.jpg\n",
            "Segmented and saved: /content/drive/MyDrive/CCMT dataset(grab_cut)/Cashew/anthracnose/anthracnose325_.jpg\n",
            "Segmented and saved: /content/drive/MyDrive/CCMT dataset(grab_cut)/Cashew/anthracnose/anthracnose974_.jpg\n",
            "Segmented and saved: /content/drive/MyDrive/CCMT dataset(grab_cut)/Cashew/anthracnose/anthracnose312_.jpg\n",
            "Segmented and saved: /content/drive/MyDrive/CCMT dataset(grab_cut)/Cashew/anthracnose/anthracnose198_.jpg\n",
            "Segmented and saved: /content/drive/MyDrive/CCMT dataset(grab_cut)/Cashew/anthracnose/anthracnose1463_.jpg\n",
            "Segmented and saved: /content/drive/MyDrive/CCMT dataset(grab_cut)/Cashew/anthracnose/anthracnose4_.jpg\n",
            "Segmented and saved: /content/drive/MyDrive/CCMT dataset(grab_cut)/Cashew/anthracnose/anthracnose579_.jpg\n",
            "Segmented and saved: /content/drive/MyDrive/CCMT dataset(grab_cut)/Cashew/anthracnose/anthracnose330_.jpg\n",
            "Segmented and saved: /content/drive/MyDrive/CCMT dataset(grab_cut)/Cashew/anthracnose/anthracnose742_.jpg\n",
            "Segmented and saved: /content/drive/MyDrive/CCMT dataset(grab_cut)/Cashew/anthracnose/anthracnose473_.jpg\n",
            "Segmented and saved: /content/drive/MyDrive/CCMT dataset(grab_cut)/Cashew/anthracnose/anthracnose1416_.jpg\n",
            "Segmented and saved: /content/drive/MyDrive/CCMT dataset(grab_cut)/Cashew/anthracnose/anthracnose1518_.jpg\n",
            "Segmented and saved: /content/drive/MyDrive/CCMT dataset(grab_cut)/Cashew/anthracnose/anthracnose314_.jpg\n",
            "Segmented and saved: /content/drive/MyDrive/CCMT dataset(grab_cut)/Cashew/anthracnose/anthracnose471_.jpg\n",
            "Segmented and saved: /content/drive/MyDrive/CCMT dataset(grab_cut)/Cashew/anthracnose/anthracnose249_.jpg\n",
            "Segmented and saved: /content/drive/MyDrive/CCMT dataset(grab_cut)/Cashew/anthracnose/anthracnose756_.jpg\n",
            "Segmented and saved: /content/drive/MyDrive/CCMT dataset(grab_cut)/Cashew/anthracnose/anthracnose1094_.jpg\n",
            "Segmented and saved: /content/drive/MyDrive/CCMT dataset(grab_cut)/Cashew/anthracnose/anthracnose954_.jpg\n",
            "Segmented and saved: /content/drive/MyDrive/CCMT dataset(grab_cut)/Cashew/anthracnose/anthracnose1710_.jpg\n",
            "Segmented and saved: /content/drive/MyDrive/CCMT dataset(grab_cut)/Cashew/anthracnose/anthracnose365_.jpg\n",
            "Segmented and saved: /content/drive/MyDrive/CCMT dataset(grab_cut)/Cashew/anthracnose/anthracnose861_.jpg\n",
            "Segmented and saved: /content/drive/MyDrive/CCMT dataset(grab_cut)/Cashew/anthracnose/anthracnose1186_.jpg\n",
            "Segmented and saved: /content/drive/MyDrive/CCMT dataset(grab_cut)/Cashew/anthracnose/anthracnose362_.jpg\n",
            "Segmented and saved: /content/drive/MyDrive/CCMT dataset(grab_cut)/Cashew/anthracnose/anthracnose1098_.jpg\n",
            "Segmented and saved: /content/drive/MyDrive/CCMT dataset(grab_cut)/Cashew/anthracnose/anthracnose719_.jpg\n",
            "Segmented and saved: /content/drive/MyDrive/CCMT dataset(grab_cut)/Cashew/anthracnose/anthracnose14_.jpg\n",
            "Segmented and saved: /content/drive/MyDrive/CCMT dataset(grab_cut)/Cashew/anthracnose/anthracnose109_.jpg\n",
            "Segmented and saved: /content/drive/MyDrive/CCMT dataset(grab_cut)/Cashew/anthracnose/anthracnose828_.jpg\n",
            "Segmented and saved: /content/drive/MyDrive/CCMT dataset(grab_cut)/Cashew/anthracnose/anthracnose1395_.jpg\n",
            "Segmented and saved: /content/drive/MyDrive/CCMT dataset(grab_cut)/Cashew/anthracnose/anthracnose594_.jpg\n",
            "Segmented and saved: /content/drive/MyDrive/CCMT dataset(grab_cut)/Cashew/anthracnose/anthracnose597_.jpg\n",
            "Segmented and saved: /content/drive/MyDrive/CCMT dataset(grab_cut)/Cashew/anthracnose/anthracnose1358_.jpg\n",
            "Segmented and saved: /content/drive/MyDrive/CCMT dataset(grab_cut)/Cashew/anthracnose/anthracnose970_.jpg\n",
            "Segmented and saved: /content/drive/MyDrive/CCMT dataset(grab_cut)/Cashew/anthracnose/anthracnose1009_.jpg\n",
            "Segmented and saved: /content/drive/MyDrive/CCMT dataset(grab_cut)/Cashew/anthracnose/anthracnose1509_.jpg\n",
            "Segmented and saved: /content/drive/MyDrive/CCMT dataset(grab_cut)/Cashew/anthracnose/anthracnose1102_.jpg\n",
            "Segmented and saved: /content/drive/MyDrive/CCMT dataset(grab_cut)/Cashew/anthracnose/anthracnose1330_.jpg\n",
            "Segmented and saved: /content/drive/MyDrive/CCMT dataset(grab_cut)/Cashew/anthracnose/anthracnose513_.jpg\n",
            "Segmented and saved: /content/drive/MyDrive/CCMT dataset(grab_cut)/Cashew/anthracnose/anthracnose1106_.jpg\n",
            "Segmented and saved: /content/drive/MyDrive/CCMT dataset(grab_cut)/Cashew/anthracnose/anthracnose1388_.jpg\n",
            "Segmented and saved: /content/drive/MyDrive/CCMT dataset(grab_cut)/Cashew/anthracnose/anthracnose781_.jpg\n",
            "Segmented and saved: /content/drive/MyDrive/CCMT dataset(grab_cut)/Cashew/anthracnose/anthracnose848_.jpg\n",
            "Segmented and saved: /content/drive/MyDrive/CCMT dataset(grab_cut)/Cashew/anthracnose/anthracnose1562_.jpg\n",
            "Segmented and saved: /content/drive/MyDrive/CCMT dataset(grab_cut)/Cashew/anthracnose/anthracnose605_.jpg\n",
            "Segmented and saved: /content/drive/MyDrive/CCMT dataset(grab_cut)/Cashew/anthracnose/anthracnose1012_.jpg\n",
            "Segmented and saved: /content/drive/MyDrive/CCMT dataset(grab_cut)/Cashew/anthracnose/anthracnose740_.jpg\n",
            "Segmented and saved: /content/drive/MyDrive/CCMT dataset(grab_cut)/Cashew/anthracnose/anthracnose809_.jpg\n",
            "Segmented and saved: /content/drive/MyDrive/CCMT dataset(grab_cut)/Cashew/anthracnose/anthracnose233_.jpg\n",
            "Segmented and saved: /content/drive/MyDrive/CCMT dataset(grab_cut)/Cashew/anthracnose/anthracnose414_.jpg\n",
            "Segmented and saved: /content/drive/MyDrive/CCMT dataset(grab_cut)/Cashew/anthracnose/anthracnose120_.jpg\n",
            "Segmented and saved: /content/drive/MyDrive/CCMT dataset(grab_cut)/Cashew/anthracnose/anthracnose1410_.jpg\n",
            "Segmented and saved: /content/drive/MyDrive/CCMT dataset(grab_cut)/Cashew/anthracnose/anthracnose703_.jpg\n",
            "Segmented and saved: /content/drive/MyDrive/CCMT dataset(grab_cut)/Cashew/anthracnose/anthracnose1578_.jpg\n",
            "Segmented and saved: /content/drive/MyDrive/CCMT dataset(grab_cut)/Cashew/anthracnose/anthracnose1081_.jpg\n",
            "Segmented and saved: /content/drive/MyDrive/CCMT dataset(grab_cut)/Cashew/anthracnose/anthracnose536_.jpg\n",
            "Segmented and saved: /content/drive/MyDrive/CCMT dataset(grab_cut)/Cashew/anthracnose/anthracnose1711_.jpg\n",
            "Segmented and saved: /content/drive/MyDrive/CCMT dataset(grab_cut)/Cashew/anthracnose/anthracnose1144_.jpg\n",
            "Segmented and saved: /content/drive/MyDrive/CCMT dataset(grab_cut)/Cashew/anthracnose/anthracnose1079_.jpg\n",
            "Segmented and saved: /content/drive/MyDrive/CCMT dataset(grab_cut)/Cashew/anthracnose/anthracnose1227_.jpg\n",
            "Segmented and saved: /content/drive/MyDrive/CCMT dataset(grab_cut)/Cashew/anthracnose/anthracnose739_.jpg\n",
            "Segmented and saved: /content/drive/MyDrive/CCMT dataset(grab_cut)/Cashew/anthracnose/anthracnose1299_.jpg\n",
            "Segmented and saved: /content/drive/MyDrive/CCMT dataset(grab_cut)/Cashew/anthracnose/anthracnose855_.jpg\n",
            "Segmented and saved: /content/drive/MyDrive/CCMT dataset(grab_cut)/Cashew/anthracnose/anthracnose1322_.jpg\n",
            "Segmented and saved: /content/drive/MyDrive/CCMT dataset(grab_cut)/Cashew/anthracnose/anthracnose1300_.jpg\n",
            "Segmented and saved: /content/drive/MyDrive/CCMT dataset(grab_cut)/Cashew/anthracnose/anthracnose1462_.jpg\n",
            "Segmented and saved: /content/drive/MyDrive/CCMT dataset(grab_cut)/Cashew/anthracnose/anthracnose154_.jpg\n",
            "Segmented and saved: /content/drive/MyDrive/CCMT dataset(grab_cut)/Cashew/anthracnose/anthracnose434_.jpg\n",
            "Segmented and saved: /content/drive/MyDrive/CCMT dataset(grab_cut)/Cashew/anthracnose/anthracnose172_.jpg\n",
            "Segmented and saved: /content/drive/MyDrive/CCMT dataset(grab_cut)/Cashew/anthracnose/anthracnose297_.jpg\n",
            "Segmented and saved: /content/drive/MyDrive/CCMT dataset(grab_cut)/Cashew/anthracnose/anthracnose545_.jpg\n",
            "Segmented and saved: /content/drive/MyDrive/CCMT dataset(grab_cut)/Cashew/anthracnose/anthracnose1103_.jpg\n",
            "Segmented and saved: /content/drive/MyDrive/CCMT dataset(grab_cut)/Cashew/anthracnose/anthracnose454_.jpg\n",
            "Segmented and saved: /content/drive/MyDrive/CCMT dataset(grab_cut)/Cashew/anthracnose/anthracnose1183_.jpg\n",
            "Segmented and saved: /content/drive/MyDrive/CCMT dataset(grab_cut)/Cashew/anthracnose/anthracnose1341_.jpg\n",
            "Segmented and saved: /content/drive/MyDrive/CCMT dataset(grab_cut)/Cashew/anthracnose/anthracnose847_.jpg\n",
            "Segmented and saved: /content/drive/MyDrive/CCMT dataset(grab_cut)/Cashew/anthracnose/anthracnose697_.jpg\n",
            "Segmented and saved: /content/drive/MyDrive/CCMT dataset(grab_cut)/Cashew/anthracnose/anthracnose505_.jpg\n",
            "Segmented and saved: /content/drive/MyDrive/CCMT dataset(grab_cut)/Cashew/anthracnose/anthracnose1535_.jpg\n",
            "Segmented and saved: /content/drive/MyDrive/CCMT dataset(grab_cut)/Cashew/anthracnose/anthracnose358_.jpg\n",
            "Segmented and saved: /content/drive/MyDrive/CCMT dataset(grab_cut)/Cashew/anthracnose/anthracnose1452_.jpg\n",
            "Segmented and saved: /content/drive/MyDrive/CCMT dataset(grab_cut)/Cashew/anthracnose/anthracnose950_.jpg\n",
            "Segmented and saved: /content/drive/MyDrive/CCMT dataset(grab_cut)/Cashew/anthracnose/anthracnose1393_.jpg\n",
            "Segmented and saved: /content/drive/MyDrive/CCMT dataset(grab_cut)/Cashew/anthracnose/anthracnose182_.jpg\n",
            "Segmented and saved: /content/drive/MyDrive/CCMT dataset(grab_cut)/Cashew/anthracnose/anthracnose989_.jpg\n",
            "Segmented and saved: /content/drive/MyDrive/CCMT dataset(grab_cut)/Cashew/anthracnose/anthracnose341_.jpg\n",
            "Segmented and saved: /content/drive/MyDrive/CCMT dataset(grab_cut)/Cashew/anthracnose/anthracnose1486_.jpg\n",
            "Segmented and saved: /content/drive/MyDrive/CCMT dataset(grab_cut)/Cashew/anthracnose/anthracnose1082_.jpg\n",
            "Segmented and saved: /content/drive/MyDrive/CCMT dataset(grab_cut)/Cashew/anthracnose/anthracnose694_.jpg\n",
            "Segmented and saved: /content/drive/MyDrive/CCMT dataset(grab_cut)/Cashew/anthracnose/anthracnose1443_.jpg\n",
            "Segmented and saved: /content/drive/MyDrive/CCMT dataset(grab_cut)/Cashew/anthracnose/anthracnose1350_.jpg\n",
            "Segmented and saved: /content/drive/MyDrive/CCMT dataset(grab_cut)/Cashew/anthracnose/anthracnose188_.jpg\n",
            "Segmented and saved: /content/drive/MyDrive/CCMT dataset(grab_cut)/Cashew/anthracnose/anthracnose3_.jpg\n",
            "Segmented and saved: /content/drive/MyDrive/CCMT dataset(grab_cut)/Cashew/anthracnose/anthracnose45_.jpg\n",
            "Segmented and saved: /content/drive/MyDrive/CCMT dataset(grab_cut)/Cashew/anthracnose/anthracnose86_.jpg\n",
            "Segmented and saved: /content/drive/MyDrive/CCMT dataset(grab_cut)/Cashew/anthracnose/anthracnose778_.jpg\n",
            "Segmented and saved: /content/drive/MyDrive/CCMT dataset(grab_cut)/Cashew/anthracnose/anthracnose1722_.jpg\n",
            "Segmented and saved: /content/drive/MyDrive/CCMT dataset(grab_cut)/Cashew/anthracnose/anthracnose1331_.jpg\n",
            "Segmented and saved: /content/drive/MyDrive/CCMT dataset(grab_cut)/Cashew/anthracnose/anthracnose440_.jpg\n",
            "Segmented and saved: /content/drive/MyDrive/CCMT dataset(grab_cut)/Cashew/anthracnose/anthracnose329_.jpg\n",
            "Segmented and saved: /content/drive/MyDrive/CCMT dataset(grab_cut)/Cashew/anthracnose/anthracnose1264_.jpg\n",
            "Segmented and saved: /content/drive/MyDrive/CCMT dataset(grab_cut)/Cashew/anthracnose/anthracnose1686_.jpg\n",
            "Segmented and saved: /content/drive/MyDrive/CCMT dataset(grab_cut)/Cashew/anthracnose/anthracnose841_.jpg\n",
            "Segmented and saved: /content/drive/MyDrive/CCMT dataset(grab_cut)/Cashew/anthracnose/anthracnose1307_.jpg\n",
            "Segmented and saved: /content/drive/MyDrive/CCMT dataset(grab_cut)/Cashew/anthracnose/anthracnose49_.jpg\n",
            "Segmented and saved: /content/drive/MyDrive/CCMT dataset(grab_cut)/Cashew/anthracnose/anthracnose42_.jpg\n",
            "Segmented and saved: /content/drive/MyDrive/CCMT dataset(grab_cut)/Cashew/anthracnose/anthracnose898_.jpg\n",
            "Segmented and saved: /content/drive/MyDrive/CCMT dataset(grab_cut)/Cashew/anthracnose/anthracnose686_.jpg\n",
            "Segmented and saved: /content/drive/MyDrive/CCMT dataset(grab_cut)/Cashew/anthracnose/anthracnose127_.jpg\n",
            "Segmented and saved: /content/drive/MyDrive/CCMT dataset(grab_cut)/Cashew/anthracnose/anthracnose451_.jpg\n",
            "Segmented and saved: /content/drive/MyDrive/CCMT dataset(grab_cut)/Cashew/anthracnose/anthracnose1465_.jpg\n",
            "Segmented and saved: /content/drive/MyDrive/CCMT dataset(grab_cut)/Cashew/anthracnose/anthracnose695_.jpg\n",
            "Segmented and saved: /content/drive/MyDrive/CCMT dataset(grab_cut)/Cashew/anthracnose/anthracnose979_.jpg\n",
            "Segmented and saved: /content/drive/MyDrive/CCMT dataset(grab_cut)/Cashew/anthracnose/anthracnose994_.jpg\n",
            "Segmented and saved: /content/drive/MyDrive/CCMT dataset(grab_cut)/Cashew/anthracnose/anthracnose1282_.jpg\n",
            "Segmented and saved: /content/drive/MyDrive/CCMT dataset(grab_cut)/Cashew/anthracnose/anthracnose764_.jpg\n",
            "Segmented and saved: /content/drive/MyDrive/CCMT dataset(grab_cut)/Cashew/anthracnose/anthracnose632_.jpg\n",
            "Segmented and saved: /content/drive/MyDrive/CCMT dataset(grab_cut)/Cashew/anthracnose/anthracnose1675_.jpg\n",
            "Segmented and saved: /content/drive/MyDrive/CCMT dataset(grab_cut)/Cashew/anthracnose/anthracnose885_.jpg\n",
            "Segmented and saved: /content/drive/MyDrive/CCMT dataset(grab_cut)/Cashew/anthracnose/anthracnose918_.jpg\n",
            "Segmented and saved: /content/drive/MyDrive/CCMT dataset(grab_cut)/Cashew/anthracnose/anthracnose1323_.jpg\n",
            "Segmented and saved: /content/drive/MyDrive/CCMT dataset(grab_cut)/Cashew/anthracnose/anthracnose60_.jpg\n",
            "Segmented and saved: /content/drive/MyDrive/CCMT dataset(grab_cut)/Cashew/anthracnose/anthracnose423_.jpg\n",
            "Segmented and saved: /content/drive/MyDrive/CCMT dataset(grab_cut)/Cashew/anthracnose/anthracnose906_.jpg\n",
            "Segmented and saved: /content/drive/MyDrive/CCMT dataset(grab_cut)/Cashew/anthracnose/anthracnose1033_.jpg\n",
            "Segmented and saved: /content/drive/MyDrive/CCMT dataset(grab_cut)/Cashew/anthracnose/anthracnose958_.jpg\n",
            "Segmented and saved: /content/drive/MyDrive/CCMT dataset(grab_cut)/Cashew/anthracnose/anthracnose669_.jpg\n",
            "Segmented and saved: /content/drive/MyDrive/CCMT dataset(grab_cut)/Cashew/anthracnose/anthracnose729_.jpg\n",
            "Segmented and saved: /content/drive/MyDrive/CCMT dataset(grab_cut)/Cashew/anthracnose/anthracnose220_.jpg\n",
            "Segmented and saved: /content/drive/MyDrive/CCMT dataset(grab_cut)/Cashew/anthracnose/anthracnose921_.jpg\n",
            "Segmented and saved: /content/drive/MyDrive/CCMT dataset(grab_cut)/Cashew/anthracnose/anthracnose351_.jpg\n",
            "Segmented and saved: /content/drive/MyDrive/CCMT dataset(grab_cut)/Cashew/anthracnose/anthracnose1633_.jpg\n",
            "Segmented and saved: /content/drive/MyDrive/CCMT dataset(grab_cut)/Cashew/anthracnose/anthracnose484_.jpg\n",
            "Segmented and saved: /content/drive/MyDrive/CCMT dataset(grab_cut)/Cashew/anthracnose/anthracnose634_.jpg\n",
            "Segmented and saved: /content/drive/MyDrive/CCMT dataset(grab_cut)/Cashew/anthracnose/anthracnose344_.jpg\n",
            "Segmented and saved: /content/drive/MyDrive/CCMT dataset(grab_cut)/Cashew/anthracnose/anthracnose363_.jpg\n",
            "Segmented and saved: /content/drive/MyDrive/CCMT dataset(grab_cut)/Cashew/anthracnose/anthracnose1436_.jpg\n",
            "Segmented and saved: /content/drive/MyDrive/CCMT dataset(grab_cut)/Cashew/anthracnose/anthracnose1390_.jpg\n",
            "Segmented and saved: /content/drive/MyDrive/CCMT dataset(grab_cut)/Cashew/anthracnose/anthracnose641_.jpg\n",
            "Segmented and saved: /content/drive/MyDrive/CCMT dataset(grab_cut)/Cashew/anthracnose/anthracnose725_.jpg\n",
            "Segmented and saved: /content/drive/MyDrive/CCMT dataset(grab_cut)/Cashew/anthracnose/anthracnose353_.jpg\n",
            "Segmented and saved: /content/drive/MyDrive/CCMT dataset(grab_cut)/Cashew/anthracnose/anthracnose1709_.jpg\n",
            "Segmented and saved: /content/drive/MyDrive/CCMT dataset(grab_cut)/Cashew/anthracnose/anthracnose1520_.jpg\n",
            "Segmented and saved: /content/drive/MyDrive/CCMT dataset(grab_cut)/Cashew/anthracnose/anthracnose557_.jpg\n",
            "Segmented and saved: /content/drive/MyDrive/CCMT dataset(grab_cut)/Cashew/anthracnose/anthracnose415_.jpg\n",
            "Segmented and saved: /content/drive/MyDrive/CCMT dataset(grab_cut)/Cashew/anthracnose/anthracnose15_.jpg\n",
            "Segmented and saved: /content/drive/MyDrive/CCMT dataset(grab_cut)/Cashew/anthracnose/anthracnose309_.jpg\n",
            "Segmented and saved: /content/drive/MyDrive/CCMT dataset(grab_cut)/Cashew/anthracnose/anthracnose588_.jpg\n",
            "Segmented and saved: /content/drive/MyDrive/CCMT dataset(grab_cut)/Cashew/anthracnose/anthracnose1160_.jpg\n",
            "Segmented and saved: /content/drive/MyDrive/CCMT dataset(grab_cut)/Cashew/anthracnose/anthracnose51_.jpg\n",
            "Segmented and saved: /content/drive/MyDrive/CCMT dataset(grab_cut)/Cashew/anthracnose/anthracnose72_.jpg\n",
            "Segmented and saved: /content/drive/MyDrive/CCMT dataset(grab_cut)/Cashew/anthracnose/anthracnose1472_.jpg\n",
            "Segmented and saved: /content/drive/MyDrive/CCMT dataset(grab_cut)/Cashew/anthracnose/anthracnose1494_.jpg\n",
            "Segmented and saved: /content/drive/MyDrive/CCMT dataset(grab_cut)/Cashew/anthracnose/anthracnose302_.jpg\n",
            "Segmented and saved: /content/drive/MyDrive/CCMT dataset(grab_cut)/Cashew/anthracnose/anthracnose1207_.jpg\n",
            "Segmented and saved: /content/drive/MyDrive/CCMT dataset(grab_cut)/Cashew/anthracnose/anthracnose462_.jpg\n",
            "Segmented and saved: /content/drive/MyDrive/CCMT dataset(grab_cut)/Cashew/anthracnose/anthracnose872_.jpg\n",
            "Segmented and saved: /content/drive/MyDrive/CCMT dataset(grab_cut)/Cashew/anthracnose/anthracnose1290_.jpg\n",
            "Segmentation process complete.\n"
          ]
        }
      ],
      "source": [
        "input_folder = \"/content/CCMT Dataset/Cashew/anthracnose\"\n",
        "output_folder = \"/content/drive/MyDrive/CCMT dataset(grab_cut)/Cashew/anthracnose\"\n",
        "\n",
        "# Create the output folder if it doesn't exist\n",
        "if not os.path.exists(output_folder):\n",
        "    os.makedirs(output_folder)\n",
        "\n",
        "for filename in os.listdir(input_folder):\n",
        "    # if filename.endswith((\".jpg\", \".jpeg\", \".png\")):\n",
        "        # Read the image\n",
        "        image_path = os.path.join(input_folder, filename)\n",
        "        image = cv2.imread(image_path)\n",
        "        if image is not None:\n",
        "          # Define the initial rectangle for GrabCut (you may need to adjust this)\n",
        "          # rect = (0, 0, image.shape[1], image.shape[0])\n",
        "          roi_rect = (50, 50, 300, 400)\n",
        "          # Apply GrabCut segmentation\n",
        "          segmented_image = grabcut_segmentation(image, roi_rect)\n",
        "\n",
        "          # Save the segmented image in the output folder with the same filename\n",
        "          output_filename = os.path.join(output_folder, filename)\n",
        "          cv2.imwrite(output_filename, segmented_image)\n",
        "\n",
        "          print(f\"Segmented and saved: {output_filename}\")\n",
        "        else:\n",
        "          print(f\"Skipping file: {image_path}\")\n",
        "\n",
        "print(\"Segmentation process complete.\")"
      ]
    },
    {
      "cell_type": "code",
      "execution_count": null,
      "metadata": {
        "colab": {
          "base_uri": "https://localhost:8080/"
        },
        "id": "T-Epg9i6KoaL",
        "outputId": "e059ab8e-916e-4e71-f261-95ab1746d7a6"
      },
      "outputs": [
        {
          "name": "stdout",
          "output_type": "stream",
          "text": [
            "Total images in the folder: 1729\n"
          ]
        }
      ],
      "source": [
        "# Path to the folder containing images\n",
        "folder_path = \"/content/drive/MyDrive/CCMT dataset(grab_cut)/Cashew/anthracnose\"\n",
        "\n",
        "# Initialize a counter variable\n",
        "image_count = 0\n",
        "\n",
        "# Iterate over each file in the folder\n",
        "for file_name in os.listdir(folder_path):\n",
        "    file_path = os.path.join(folder_path, file_name)\n",
        "\n",
        "    # Check if the file is an image\n",
        "    if file_name.endswith((\".jpg\", \".jpeg\", \".png\", \".gif\")):\n",
        "        # Increment the counter\n",
        "        image_count += 1\n",
        "\n",
        "# Print the total number of images\n",
        "print(f\"Total images in the folder: {image_count}\")"
      ]
    },
    {
      "cell_type": "code",
      "execution_count": null,
      "metadata": {
        "colab": {
          "base_uri": "https://localhost:8080/"
        },
        "id": "68DNwE3gX4ZQ",
        "outputId": "23bae4fe-e198-41c9-d870-898cd35748c9"
      },
      "outputs": [
        {
          "name": "stderr",
          "output_type": "stream",
          "text": [
            "Processing:   0%|          | 1/392 [00:03<22:33,  3.46s/it]"
          ]
        },
        {
          "name": "stdout",
          "output_type": "stream",
          "text": [
            "Segmented and saved: /content/drive/MyDrive/CCMT dataset(grab_cut)/Cashew/gumosis/gumosis351_.jpg\n"
          ]
        },
        {
          "name": "stderr",
          "output_type": "stream",
          "text": [
            "\rProcessing:   1%|          | 2/392 [00:05<16:48,  2.59s/it]"
          ]
        },
        {
          "name": "stdout",
          "output_type": "stream",
          "text": [
            "Segmented and saved: /content/drive/MyDrive/CCMT dataset(grab_cut)/Cashew/gumosis/gumosis57_.jpg\n"
          ]
        },
        {
          "name": "stderr",
          "output_type": "stream",
          "text": [
            "\rProcessing:   1%|          | 3/392 [00:11<25:41,  3.96s/it]"
          ]
        },
        {
          "name": "stdout",
          "output_type": "stream",
          "text": [
            "Segmented and saved: /content/drive/MyDrive/CCMT dataset(grab_cut)/Cashew/gumosis/gumosis22_.jpg\n"
          ]
        },
        {
          "name": "stderr",
          "output_type": "stream",
          "text": [
            "\rProcessing:   1%|          | 4/392 [00:14<23:40,  3.66s/it]"
          ]
        },
        {
          "name": "stdout",
          "output_type": "stream",
          "text": [
            "Segmented and saved: /content/drive/MyDrive/CCMT dataset(grab_cut)/Cashew/gumosis/gumosis228_.jpg\n"
          ]
        },
        {
          "name": "stderr",
          "output_type": "stream",
          "text": [
            "\rProcessing:   1%|▏         | 5/392 [00:15<18:46,  2.91s/it]"
          ]
        },
        {
          "name": "stdout",
          "output_type": "stream",
          "text": [
            "Segmented and saved: /content/drive/MyDrive/CCMT dataset(grab_cut)/Cashew/gumosis/gumosis115_.jpg\n"
          ]
        },
        {
          "name": "stderr",
          "output_type": "stream",
          "text": [
            "\rProcessing:   2%|▏         | 6/392 [00:18<17:15,  2.68s/it]"
          ]
        },
        {
          "name": "stdout",
          "output_type": "stream",
          "text": [
            "Segmented and saved: /content/drive/MyDrive/CCMT dataset(grab_cut)/Cashew/gumosis/gumosis169_.jpg\n"
          ]
        },
        {
          "name": "stderr",
          "output_type": "stream",
          "text": [
            "\rProcessing:   2%|▏         | 7/392 [00:22<21:41,  3.38s/it]"
          ]
        },
        {
          "name": "stdout",
          "output_type": "stream",
          "text": [
            "Segmented and saved: /content/drive/MyDrive/CCMT dataset(grab_cut)/Cashew/gumosis/gumosis380_.jpg\n"
          ]
        },
        {
          "name": "stderr",
          "output_type": "stream",
          "text": [
            "\rProcessing:   2%|▏         | 8/392 [00:25<20:17,  3.17s/it]"
          ]
        },
        {
          "name": "stdout",
          "output_type": "stream",
          "text": [
            "Segmented and saved: /content/drive/MyDrive/CCMT dataset(grab_cut)/Cashew/gumosis/gumosis19_.jpg\n"
          ]
        },
        {
          "name": "stderr",
          "output_type": "stream",
          "text": [
            "\rProcessing:   2%|▏         | 9/392 [00:30<24:35,  3.85s/it]"
          ]
        },
        {
          "name": "stdout",
          "output_type": "stream",
          "text": [
            "Segmented and saved: /content/drive/MyDrive/CCMT dataset(grab_cut)/Cashew/gumosis/gumosis256_.jpg\n"
          ]
        },
        {
          "name": "stderr",
          "output_type": "stream",
          "text": [
            "\rProcessing:   3%|▎         | 10/392 [00:32<20:10,  3.17s/it]"
          ]
        },
        {
          "name": "stdout",
          "output_type": "stream",
          "text": [
            "Segmented and saved: /content/drive/MyDrive/CCMT dataset(grab_cut)/Cashew/gumosis/gumosis10_.jpg\n"
          ]
        },
        {
          "name": "stderr",
          "output_type": "stream",
          "text": [
            "\rProcessing:   3%|▎         | 11/392 [00:35<18:42,  2.95s/it]"
          ]
        },
        {
          "name": "stdout",
          "output_type": "stream",
          "text": [
            "Segmented and saved: /content/drive/MyDrive/CCMT dataset(grab_cut)/Cashew/gumosis/gumosis227_.jpg\n"
          ]
        },
        {
          "name": "stderr",
          "output_type": "stream",
          "text": [
            "\rProcessing:   3%|▎         | 12/392 [00:37<18:18,  2.89s/it]"
          ]
        },
        {
          "name": "stdout",
          "output_type": "stream",
          "text": [
            "Segmented and saved: /content/drive/MyDrive/CCMT dataset(grab_cut)/Cashew/gumosis/gumosis191_.jpg\n"
          ]
        },
        {
          "name": "stderr",
          "output_type": "stream",
          "text": [
            "\rProcessing:   3%|▎         | 13/392 [00:40<18:04,  2.86s/it]"
          ]
        },
        {
          "name": "stdout",
          "output_type": "stream",
          "text": [
            "Segmented and saved: /content/drive/MyDrive/CCMT dataset(grab_cut)/Cashew/gumosis/gumosis167_.jpg\n"
          ]
        },
        {
          "name": "stderr",
          "output_type": "stream",
          "text": [
            "\rProcessing:   4%|▎         | 14/392 [00:43<17:45,  2.82s/it]"
          ]
        },
        {
          "name": "stdout",
          "output_type": "stream",
          "text": [
            "Segmented and saved: /content/drive/MyDrive/CCMT dataset(grab_cut)/Cashew/gumosis/gumosis307_.jpg\n"
          ]
        },
        {
          "name": "stderr",
          "output_type": "stream",
          "text": [
            "\rProcessing:   4%|▍         | 15/392 [00:48<22:01,  3.51s/it]"
          ]
        },
        {
          "name": "stdout",
          "output_type": "stream",
          "text": [
            "Segmented and saved: /content/drive/MyDrive/CCMT dataset(grab_cut)/Cashew/gumosis/gumosis62_.jpg\n"
          ]
        },
        {
          "name": "stderr",
          "output_type": "stream",
          "text": [
            "\rProcessing:   4%|▍         | 16/392 [00:55<29:41,  4.74s/it]"
          ]
        },
        {
          "name": "stdout",
          "output_type": "stream",
          "text": [
            "Segmented and saved: /content/drive/MyDrive/CCMT dataset(grab_cut)/Cashew/gumosis/gumosis203_.jpg\n"
          ]
        },
        {
          "name": "stderr",
          "output_type": "stream",
          "text": [
            "\rProcessing:   4%|▍         | 17/392 [01:01<30:18,  4.85s/it]"
          ]
        },
        {
          "name": "stdout",
          "output_type": "stream",
          "text": [
            "Segmented and saved: /content/drive/MyDrive/CCMT dataset(grab_cut)/Cashew/gumosis/gumosis190_.jpg\n"
          ]
        },
        {
          "name": "stderr",
          "output_type": "stream",
          "text": [
            "\rProcessing:   5%|▍         | 18/392 [01:02<24:32,  3.94s/it]"
          ]
        },
        {
          "name": "stdout",
          "output_type": "stream",
          "text": [
            "Segmented and saved: /content/drive/MyDrive/CCMT dataset(grab_cut)/Cashew/gumosis/gumosis172_.jpg\n"
          ]
        },
        {
          "name": "stderr",
          "output_type": "stream",
          "text": [
            "\rProcessing:   5%|▍         | 19/392 [01:06<23:23,  3.76s/it]"
          ]
        },
        {
          "name": "stdout",
          "output_type": "stream",
          "text": [
            "Segmented and saved: /content/drive/MyDrive/CCMT dataset(grab_cut)/Cashew/gumosis/gumosis275_.jpg\n"
          ]
        },
        {
          "name": "stderr",
          "output_type": "stream",
          "text": [
            "\rProcessing:   5%|▌         | 20/392 [01:08<20:05,  3.24s/it]"
          ]
        },
        {
          "name": "stdout",
          "output_type": "stream",
          "text": [
            "Segmented and saved: /content/drive/MyDrive/CCMT dataset(grab_cut)/Cashew/gumosis/gumosis86_.jpg\n"
          ]
        },
        {
          "name": "stderr",
          "output_type": "stream",
          "text": [
            "\rProcessing:   5%|▌         | 21/392 [01:10<17:12,  2.78s/it]"
          ]
        },
        {
          "name": "stdout",
          "output_type": "stream",
          "text": [
            "Segmented and saved: /content/drive/MyDrive/CCMT dataset(grab_cut)/Cashew/gumosis/gumosis357_.jpg\n"
          ]
        },
        {
          "name": "stderr",
          "output_type": "stream",
          "text": [
            "\rProcessing:   6%|▌         | 22/392 [01:11<15:09,  2.46s/it]"
          ]
        },
        {
          "name": "stdout",
          "output_type": "stream",
          "text": [
            "Segmented and saved: /content/drive/MyDrive/CCMT dataset(grab_cut)/Cashew/gumosis/gumosis225_.jpg\n"
          ]
        },
        {
          "name": "stderr",
          "output_type": "stream",
          "text": [
            "\rProcessing:   6%|▌         | 23/392 [01:14<15:20,  2.49s/it]"
          ]
        },
        {
          "name": "stdout",
          "output_type": "stream",
          "text": [
            "Segmented and saved: /content/drive/MyDrive/CCMT dataset(grab_cut)/Cashew/gumosis/gumosis318_.jpg\n"
          ]
        },
        {
          "name": "stderr",
          "output_type": "stream",
          "text": [
            "\rProcessing:   6%|▌         | 24/392 [01:17<16:19,  2.66s/it]"
          ]
        },
        {
          "name": "stdout",
          "output_type": "stream",
          "text": [
            "Segmented and saved: /content/drive/MyDrive/CCMT dataset(grab_cut)/Cashew/gumosis/gumosis12_.jpg\n"
          ]
        },
        {
          "name": "stderr",
          "output_type": "stream",
          "text": [
            "\rProcessing:   6%|▋         | 25/392 [01:22<21:06,  3.45s/it]"
          ]
        },
        {
          "name": "stdout",
          "output_type": "stream",
          "text": [
            "Segmented and saved: /content/drive/MyDrive/CCMT dataset(grab_cut)/Cashew/gumosis/gumosis243_.jpg\n"
          ]
        },
        {
          "name": "stderr",
          "output_type": "stream",
          "text": [
            "\rProcessing:   7%|▋         | 26/392 [01:25<20:02,  3.29s/it]"
          ]
        },
        {
          "name": "stdout",
          "output_type": "stream",
          "text": [
            "Segmented and saved: /content/drive/MyDrive/CCMT dataset(grab_cut)/Cashew/gumosis/gumosis72_.jpg\n"
          ]
        },
        {
          "name": "stderr",
          "output_type": "stream",
          "text": [
            "\rProcessing:   7%|▋         | 27/392 [01:27<18:21,  3.02s/it]"
          ]
        },
        {
          "name": "stdout",
          "output_type": "stream",
          "text": [
            "Segmented and saved: /content/drive/MyDrive/CCMT dataset(grab_cut)/Cashew/gumosis/gumosis337_.jpg\n"
          ]
        },
        {
          "name": "stderr",
          "output_type": "stream",
          "text": [
            "\rProcessing:   7%|▋         | 28/392 [01:32<22:01,  3.63s/it]"
          ]
        },
        {
          "name": "stdout",
          "output_type": "stream",
          "text": [
            "Segmented and saved: /content/drive/MyDrive/CCMT dataset(grab_cut)/Cashew/gumosis/gumosis38_.jpg\n"
          ]
        },
        {
          "name": "stderr",
          "output_type": "stream",
          "text": [
            "\rProcessing:   7%|▋         | 29/392 [01:34<17:31,  2.90s/it]"
          ]
        },
        {
          "name": "stdout",
          "output_type": "stream",
          "text": [
            "Segmented and saved: /content/drive/MyDrive/CCMT dataset(grab_cut)/Cashew/gumosis/gumosis344_.jpg\n"
          ]
        },
        {
          "name": "stderr",
          "output_type": "stream",
          "text": [
            "\rProcessing:   8%|▊         | 30/392 [01:35<14:53,  2.47s/it]"
          ]
        },
        {
          "name": "stdout",
          "output_type": "stream",
          "text": [
            "Segmented and saved: /content/drive/MyDrive/CCMT dataset(grab_cut)/Cashew/gumosis/gumosis120_.jpg\n"
          ]
        },
        {
          "name": "stderr",
          "output_type": "stream",
          "text": [
            "\rProcessing:   8%|▊         | 31/392 [01:40<19:48,  3.29s/it]"
          ]
        },
        {
          "name": "stdout",
          "output_type": "stream",
          "text": [
            "Segmented and saved: /content/drive/MyDrive/CCMT dataset(grab_cut)/Cashew/gumosis/gumosis313_.jpg\n"
          ]
        },
        {
          "name": "stderr",
          "output_type": "stream",
          "text": [
            "\rProcessing:   8%|▊         | 32/392 [01:42<17:20,  2.89s/it]"
          ]
        },
        {
          "name": "stdout",
          "output_type": "stream",
          "text": [
            "Segmented and saved: /content/drive/MyDrive/CCMT dataset(grab_cut)/Cashew/gumosis/gumosis90_.jpg\n"
          ]
        },
        {
          "name": "stderr",
          "output_type": "stream",
          "text": [
            "\rProcessing:   8%|▊         | 33/392 [01:47<21:09,  3.54s/it]"
          ]
        },
        {
          "name": "stdout",
          "output_type": "stream",
          "text": [
            "Segmented and saved: /content/drive/MyDrive/CCMT dataset(grab_cut)/Cashew/gumosis/gumosis301_.jpg\n"
          ]
        },
        {
          "name": "stderr",
          "output_type": "stream",
          "text": [
            "\rProcessing:   9%|▊         | 34/392 [01:51<20:44,  3.48s/it]"
          ]
        },
        {
          "name": "stdout",
          "output_type": "stream",
          "text": [
            "Segmented and saved: /content/drive/MyDrive/CCMT dataset(grab_cut)/Cashew/gumosis/gumosis126_.jpg\n"
          ]
        },
        {
          "name": "stderr",
          "output_type": "stream",
          "text": [
            "\rProcessing:   9%|▉         | 35/392 [01:54<21:02,  3.54s/it]"
          ]
        },
        {
          "name": "stdout",
          "output_type": "stream",
          "text": [
            "Segmented and saved: /content/drive/MyDrive/CCMT dataset(grab_cut)/Cashew/gumosis/gumosis285_.jpg\n"
          ]
        },
        {
          "name": "stderr",
          "output_type": "stream",
          "text": [
            "\rProcessing:   9%|▉         | 36/392 [01:57<20:06,  3.39s/it]"
          ]
        },
        {
          "name": "stdout",
          "output_type": "stream",
          "text": [
            "Segmented and saved: /content/drive/MyDrive/CCMT dataset(grab_cut)/Cashew/gumosis/gumosis389_.jpg\n"
          ]
        },
        {
          "name": "stderr",
          "output_type": "stream",
          "text": [
            "\rProcessing:   9%|▉         | 37/392 [02:00<19:18,  3.26s/it]"
          ]
        },
        {
          "name": "stdout",
          "output_type": "stream",
          "text": [
            "Segmented and saved: /content/drive/MyDrive/CCMT dataset(grab_cut)/Cashew/gumosis/gumosis18_.jpg\n"
          ]
        },
        {
          "name": "stderr",
          "output_type": "stream",
          "text": [
            "\rProcessing:  10%|▉         | 38/392 [02:02<16:39,  2.82s/it]"
          ]
        },
        {
          "name": "stdout",
          "output_type": "stream",
          "text": [
            "Segmented and saved: /content/drive/MyDrive/CCMT dataset(grab_cut)/Cashew/gumosis/gumosis84_.jpg\n"
          ]
        },
        {
          "name": "stderr",
          "output_type": "stream",
          "text": [
            "\rProcessing:  10%|▉         | 39/392 [02:12<28:40,  4.87s/it]"
          ]
        },
        {
          "name": "stdout",
          "output_type": "stream",
          "text": [
            "Segmented and saved: /content/drive/MyDrive/CCMT dataset(grab_cut)/Cashew/gumosis/gumosis171_.jpg\n"
          ]
        },
        {
          "name": "stderr",
          "output_type": "stream",
          "text": [
            "\rProcessing:  10%|█         | 40/392 [02:17<29:45,  5.07s/it]"
          ]
        },
        {
          "name": "stdout",
          "output_type": "stream",
          "text": [
            "Segmented and saved: /content/drive/MyDrive/CCMT dataset(grab_cut)/Cashew/gumosis/gumosis267_.jpg\n"
          ]
        },
        {
          "name": "stderr",
          "output_type": "stream",
          "text": [
            "\rProcessing:  10%|█         | 41/392 [02:31<45:11,  7.72s/it]"
          ]
        },
        {
          "name": "stdout",
          "output_type": "stream",
          "text": [
            "Segmented and saved: /content/drive/MyDrive/CCMT dataset(grab_cut)/Cashew/gumosis/gumosis108_.jpg\n"
          ]
        },
        {
          "name": "stderr",
          "output_type": "stream",
          "text": [
            "\rProcessing:  11%|█         | 42/392 [02:34<35:34,  6.10s/it]"
          ]
        },
        {
          "name": "stdout",
          "output_type": "stream",
          "text": [
            "Segmented and saved: /content/drive/MyDrive/CCMT dataset(grab_cut)/Cashew/gumosis/gumosis139_.jpg\n"
          ]
        },
        {
          "name": "stderr",
          "output_type": "stream",
          "text": [
            "\rProcessing:  11%|█         | 43/392 [02:36<29:50,  5.13s/it]"
          ]
        },
        {
          "name": "stdout",
          "output_type": "stream",
          "text": [
            "Segmented and saved: /content/drive/MyDrive/CCMT dataset(grab_cut)/Cashew/gumosis/gumosis45_.jpg\n"
          ]
        },
        {
          "name": "stderr",
          "output_type": "stream",
          "text": [
            "\rProcessing:  11%|█         | 44/392 [02:41<29:18,  5.05s/it]"
          ]
        },
        {
          "name": "stdout",
          "output_type": "stream",
          "text": [
            "Segmented and saved: /content/drive/MyDrive/CCMT dataset(grab_cut)/Cashew/gumosis/gumosis382_.jpg\n"
          ]
        },
        {
          "name": "stderr",
          "output_type": "stream",
          "text": [
            "\rProcessing:  11%|█▏        | 45/392 [02:46<27:50,  4.81s/it]"
          ]
        },
        {
          "name": "stdout",
          "output_type": "stream",
          "text": [
            "Segmented and saved: /content/drive/MyDrive/CCMT dataset(grab_cut)/Cashew/gumosis/gumosis246_.jpg\n"
          ]
        },
        {
          "name": "stderr",
          "output_type": "stream",
          "text": [
            "\rProcessing:  12%|█▏        | 46/392 [02:48<23:10,  4.02s/it]"
          ]
        },
        {
          "name": "stdout",
          "output_type": "stream",
          "text": [
            "Segmented and saved: /content/drive/MyDrive/CCMT dataset(grab_cut)/Cashew/gumosis/gumosis305_.jpg\n"
          ]
        },
        {
          "name": "stderr",
          "output_type": "stream",
          "text": [
            "\rProcessing:  12%|█▏        | 47/392 [02:51<20:55,  3.64s/it]"
          ]
        },
        {
          "name": "stdout",
          "output_type": "stream",
          "text": [
            "Segmented and saved: /content/drive/MyDrive/CCMT dataset(grab_cut)/Cashew/gumosis/gumosis65_.jpg\n"
          ]
        },
        {
          "name": "stderr",
          "output_type": "stream",
          "text": [
            "\rProcessing:  12%|█▏        | 48/392 [02:52<18:01,  3.14s/it]"
          ]
        },
        {
          "name": "stdout",
          "output_type": "stream",
          "text": [
            "Segmented and saved: /content/drive/MyDrive/CCMT dataset(grab_cut)/Cashew/gumosis/gumosis328_.jpg\n"
          ]
        },
        {
          "name": "stderr",
          "output_type": "stream",
          "text": [
            "\rProcessing:  12%|█▎        | 49/392 [02:54<15:35,  2.73s/it]"
          ]
        },
        {
          "name": "stdout",
          "output_type": "stream",
          "text": [
            "Segmented and saved: /content/drive/MyDrive/CCMT dataset(grab_cut)/Cashew/gumosis/gumosis163_.jpg\n"
          ]
        },
        {
          "name": "stderr",
          "output_type": "stream",
          "text": [
            "\rProcessing:  13%|█▎        | 50/392 [02:58<17:44,  3.11s/it]"
          ]
        },
        {
          "name": "stdout",
          "output_type": "stream",
          "text": [
            "Segmented and saved: /content/drive/MyDrive/CCMT dataset(grab_cut)/Cashew/gumosis/gumosis7_.jpg\n"
          ]
        },
        {
          "name": "stderr",
          "output_type": "stream",
          "text": [
            "\rProcessing:  13%|█▎        | 51/392 [03:07<26:33,  4.67s/it]"
          ]
        },
        {
          "name": "stdout",
          "output_type": "stream",
          "text": [
            "Segmented and saved: /content/drive/MyDrive/CCMT dataset(grab_cut)/Cashew/gumosis/gumosis365_.jpg\n"
          ]
        },
        {
          "name": "stderr",
          "output_type": "stream",
          "text": [
            "\rProcessing:  13%|█▎        | 52/392 [03:09<22:33,  3.98s/it]"
          ]
        },
        {
          "name": "stdout",
          "output_type": "stream",
          "text": [
            "Segmented and saved: /content/drive/MyDrive/CCMT dataset(grab_cut)/Cashew/gumosis/gumosis138_.jpg\n"
          ]
        },
        {
          "name": "stderr",
          "output_type": "stream",
          "text": [
            "\rProcessing:  14%|█▎        | 53/392 [03:15<25:22,  4.49s/it]"
          ]
        },
        {
          "name": "stdout",
          "output_type": "stream",
          "text": [
            "Segmented and saved: /content/drive/MyDrive/CCMT dataset(grab_cut)/Cashew/gumosis/gumosis27_.jpg\n"
          ]
        },
        {
          "name": "stderr",
          "output_type": "stream",
          "text": [
            "\rProcessing:  14%|█▍        | 54/392 [03:18<24:09,  4.29s/it]"
          ]
        },
        {
          "name": "stdout",
          "output_type": "stream",
          "text": [
            "Segmented and saved: /content/drive/MyDrive/CCMT dataset(grab_cut)/Cashew/gumosis/gumosis40_.jpg\n"
          ]
        },
        {
          "name": "stderr",
          "output_type": "stream",
          "text": [
            "\rProcessing:  14%|█▍        | 55/392 [03:21<20:28,  3.65s/it]"
          ]
        },
        {
          "name": "stdout",
          "output_type": "stream",
          "text": [
            "Segmented and saved: /content/drive/MyDrive/CCMT dataset(grab_cut)/Cashew/gumosis/gumosis213_.jpg\n"
          ]
        },
        {
          "name": "stderr",
          "output_type": "stream",
          "text": [
            "\rProcessing:  14%|█▍        | 56/392 [03:23<17:47,  3.18s/it]"
          ]
        },
        {
          "name": "stdout",
          "output_type": "stream",
          "text": [
            "Segmented and saved: /content/drive/MyDrive/CCMT dataset(grab_cut)/Cashew/gumosis/gumosis393_.jpg\n"
          ]
        },
        {
          "name": "stderr",
          "output_type": "stream",
          "text": [
            "\rProcessing:  15%|█▍        | 57/392 [03:25<16:18,  2.92s/it]"
          ]
        },
        {
          "name": "stdout",
          "output_type": "stream",
          "text": [
            "Segmented and saved: /content/drive/MyDrive/CCMT dataset(grab_cut)/Cashew/gumosis/gumosis355_.jpg\n"
          ]
        },
        {
          "name": "stderr",
          "output_type": "stream",
          "text": [
            "\rProcessing:  15%|█▍        | 58/392 [03:30<19:47,  3.55s/it]"
          ]
        },
        {
          "name": "stdout",
          "output_type": "stream",
          "text": [
            "Segmented and saved: /content/drive/MyDrive/CCMT dataset(grab_cut)/Cashew/gumosis/gumosis144_.jpg\n"
          ]
        },
        {
          "name": "stderr",
          "output_type": "stream",
          "text": [
            "\rProcessing:  15%|█▌        | 59/392 [03:33<19:20,  3.49s/it]"
          ]
        },
        {
          "name": "stdout",
          "output_type": "stream",
          "text": [
            "Segmented and saved: /content/drive/MyDrive/CCMT dataset(grab_cut)/Cashew/gumosis/gumosis233_.jpg\n"
          ]
        },
        {
          "name": "stderr",
          "output_type": "stream",
          "text": [
            "\rProcessing:  15%|█▌        | 60/392 [03:38<21:49,  3.94s/it]"
          ]
        },
        {
          "name": "stdout",
          "output_type": "stream",
          "text": [
            "Segmented and saved: /content/drive/MyDrive/CCMT dataset(grab_cut)/Cashew/gumosis/gumosis370_.jpg\n"
          ]
        },
        {
          "name": "stderr",
          "output_type": "stream",
          "text": [
            "\rProcessing:  16%|█▌        | 61/392 [03:41<19:55,  3.61s/it]"
          ]
        },
        {
          "name": "stdout",
          "output_type": "stream",
          "text": [
            "Segmented and saved: /content/drive/MyDrive/CCMT dataset(grab_cut)/Cashew/gumosis/gumosis249_.jpg\n"
          ]
        },
        {
          "name": "stderr",
          "output_type": "stream",
          "text": [
            "\rProcessing:  16%|█▌        | 62/392 [03:45<19:26,  3.53s/it]"
          ]
        },
        {
          "name": "stdout",
          "output_type": "stream",
          "text": [
            "Segmented and saved: /content/drive/MyDrive/CCMT dataset(grab_cut)/Cashew/gumosis/gumosis324_.jpg\n"
          ]
        },
        {
          "name": "stderr",
          "output_type": "stream",
          "text": [
            "\rProcessing:  16%|█▌        | 63/392 [03:56<31:49,  5.81s/it]"
          ]
        },
        {
          "name": "stdout",
          "output_type": "stream",
          "text": [
            "Segmented and saved: /content/drive/MyDrive/CCMT dataset(grab_cut)/Cashew/gumosis/gumosis347_.jpg\n"
          ]
        },
        {
          "name": "stderr",
          "output_type": "stream",
          "text": [
            "\rProcessing:  16%|█▋        | 64/392 [03:59<27:31,  5.04s/it]"
          ]
        },
        {
          "name": "stdout",
          "output_type": "stream",
          "text": [
            "Segmented and saved: /content/drive/MyDrive/CCMT dataset(grab_cut)/Cashew/gumosis/gumosis61_.jpg\n"
          ]
        },
        {
          "name": "stderr",
          "output_type": "stream",
          "text": [
            "\rProcessing:  17%|█▋        | 65/392 [04:02<23:32,  4.32s/it]"
          ]
        },
        {
          "name": "stdout",
          "output_type": "stream",
          "text": [
            "Segmented and saved: /content/drive/MyDrive/CCMT dataset(grab_cut)/Cashew/gumosis/gumosis290_.jpg\n"
          ]
        },
        {
          "name": "stderr",
          "output_type": "stream",
          "text": [
            "\rProcessing:  17%|█▋        | 66/392 [04:07<25:51,  4.76s/it]"
          ]
        },
        {
          "name": "stdout",
          "output_type": "stream",
          "text": [
            "Segmented and saved: /content/drive/MyDrive/CCMT dataset(grab_cut)/Cashew/gumosis/gumosis201_.jpg\n"
          ]
        },
        {
          "name": "stderr",
          "output_type": "stream",
          "text": [
            "\rProcessing:  17%|█▋        | 67/392 [04:10<22:25,  4.14s/it]"
          ]
        },
        {
          "name": "stdout",
          "output_type": "stream",
          "text": [
            "Segmented and saved: /content/drive/MyDrive/CCMT dataset(grab_cut)/Cashew/gumosis/gumosis136_.jpg\n"
          ]
        },
        {
          "name": "stderr",
          "output_type": "stream",
          "text": [
            "\rProcessing:  17%|█▋        | 68/392 [04:13<21:04,  3.90s/it]"
          ]
        },
        {
          "name": "stdout",
          "output_type": "stream",
          "text": [
            "Segmented and saved: /content/drive/MyDrive/CCMT dataset(grab_cut)/Cashew/gumosis/gumosis149_.jpg\n"
          ]
        },
        {
          "name": "stderr",
          "output_type": "stream",
          "text": [
            "\rProcessing:  18%|█▊        | 69/392 [04:16<18:31,  3.44s/it]"
          ]
        },
        {
          "name": "stdout",
          "output_type": "stream",
          "text": [
            "Segmented and saved: /content/drive/MyDrive/CCMT dataset(grab_cut)/Cashew/gumosis/gumosis325_.jpg\n"
          ]
        },
        {
          "name": "stderr",
          "output_type": "stream",
          "text": [
            "\rProcessing:  18%|█▊        | 70/392 [04:17<15:37,  2.91s/it]"
          ]
        },
        {
          "name": "stdout",
          "output_type": "stream",
          "text": [
            "Segmented and saved: /content/drive/MyDrive/CCMT dataset(grab_cut)/Cashew/gumosis/gumosis93_.jpg\n"
          ]
        },
        {
          "name": "stderr",
          "output_type": "stream",
          "text": [
            "\rProcessing:  18%|█▊        | 71/392 [04:20<14:15,  2.66s/it]"
          ]
        },
        {
          "name": "stdout",
          "output_type": "stream",
          "text": [
            "Segmented and saved: /content/drive/MyDrive/CCMT dataset(grab_cut)/Cashew/gumosis/gumosis289_.jpg\n"
          ]
        },
        {
          "name": "stderr",
          "output_type": "stream",
          "text": [
            "\rProcessing:  18%|█▊        | 72/392 [04:22<13:47,  2.59s/it]"
          ]
        },
        {
          "name": "stdout",
          "output_type": "stream",
          "text": [
            "Segmented and saved: /content/drive/MyDrive/CCMT dataset(grab_cut)/Cashew/gumosis/gumosis366_.jpg\n"
          ]
        },
        {
          "name": "stderr",
          "output_type": "stream",
          "text": [
            "\rProcessing:  19%|█▊        | 73/392 [04:25<13:46,  2.59s/it]"
          ]
        },
        {
          "name": "stdout",
          "output_type": "stream",
          "text": [
            "Segmented and saved: /content/drive/MyDrive/CCMT dataset(grab_cut)/Cashew/gumosis/gumosis127_.jpg\n"
          ]
        },
        {
          "name": "stderr",
          "output_type": "stream",
          "text": [
            "\rProcessing:  19%|█▉        | 74/392 [04:27<14:01,  2.65s/it]"
          ]
        },
        {
          "name": "stdout",
          "output_type": "stream",
          "text": [
            "Segmented and saved: /content/drive/MyDrive/CCMT dataset(grab_cut)/Cashew/gumosis/gumosis184_.jpg\n"
          ]
        },
        {
          "name": "stderr",
          "output_type": "stream",
          "text": [
            "\rProcessing:  19%|█▉        | 75/392 [04:30<14:41,  2.78s/it]"
          ]
        },
        {
          "name": "stdout",
          "output_type": "stream",
          "text": [
            "Segmented and saved: /content/drive/MyDrive/CCMT dataset(grab_cut)/Cashew/gumosis/gumosis33_.jpg\n"
          ]
        },
        {
          "name": "stderr",
          "output_type": "stream",
          "text": [
            "\rProcessing:  19%|█▉        | 76/392 [04:32<12:34,  2.39s/it]"
          ]
        },
        {
          "name": "stdout",
          "output_type": "stream",
          "text": [
            "Segmented and saved: /content/drive/MyDrive/CCMT dataset(grab_cut)/Cashew/gumosis/gumosis371_.jpg\n"
          ]
        },
        {
          "name": "stderr",
          "output_type": "stream",
          "text": [
            "\rProcessing:  20%|█▉        | 77/392 [04:39<20:39,  3.94s/it]"
          ]
        },
        {
          "name": "stdout",
          "output_type": "stream",
          "text": [
            "Segmented and saved: /content/drive/MyDrive/CCMT dataset(grab_cut)/Cashew/gumosis/gumosis25_.jpg\n"
          ]
        },
        {
          "name": "stderr",
          "output_type": "stream",
          "text": [
            "\rProcessing:  20%|█▉        | 78/392 [04:42<19:01,  3.64s/it]"
          ]
        },
        {
          "name": "stdout",
          "output_type": "stream",
          "text": [
            "Segmented and saved: /content/drive/MyDrive/CCMT dataset(grab_cut)/Cashew/gumosis/gumosis123_.jpg\n"
          ]
        },
        {
          "name": "stderr",
          "output_type": "stream",
          "text": [
            "\rProcessing:  20%|██        | 79/392 [04:49<23:26,  4.49s/it]"
          ]
        },
        {
          "name": "stdout",
          "output_type": "stream",
          "text": [
            "Segmented and saved: /content/drive/MyDrive/CCMT dataset(grab_cut)/Cashew/gumosis/gumosis208_.jpg\n"
          ]
        },
        {
          "name": "stderr",
          "output_type": "stream",
          "text": [
            "\rProcessing:  20%|██        | 80/392 [04:55<26:38,  5.12s/it]"
          ]
        },
        {
          "name": "stdout",
          "output_type": "stream",
          "text": [
            "Segmented and saved: /content/drive/MyDrive/CCMT dataset(grab_cut)/Cashew/gumosis/gumosis239_.jpg\n"
          ]
        },
        {
          "name": "stderr",
          "output_type": "stream",
          "text": [
            "\rProcessing:  21%|██        | 81/392 [04:59<24:33,  4.74s/it]"
          ]
        },
        {
          "name": "stdout",
          "output_type": "stream",
          "text": [
            "Segmented and saved: /content/drive/MyDrive/CCMT dataset(grab_cut)/Cashew/gumosis/gumosis378_.jpg\n"
          ]
        },
        {
          "name": "stderr",
          "output_type": "stream",
          "text": [
            "\rProcessing:  21%|██        | 82/392 [05:01<19:11,  3.71s/it]"
          ]
        },
        {
          "name": "stdout",
          "output_type": "stream",
          "text": [
            "Segmented and saved: /content/drive/MyDrive/CCMT dataset(grab_cut)/Cashew/gumosis/gumosis78_.jpg\n"
          ]
        },
        {
          "name": "stderr",
          "output_type": "stream",
          "text": [
            "\rProcessing:  21%|██        | 83/392 [05:04<18:12,  3.54s/it]"
          ]
        },
        {
          "name": "stdout",
          "output_type": "stream",
          "text": [
            "Segmented and saved: /content/drive/MyDrive/CCMT dataset(grab_cut)/Cashew/gumosis/gumosis258_.jpg\n"
          ]
        },
        {
          "name": "stderr",
          "output_type": "stream",
          "text": [
            "\rProcessing:  21%|██▏       | 84/392 [05:07<17:43,  3.45s/it]"
          ]
        },
        {
          "name": "stdout",
          "output_type": "stream",
          "text": [
            "Segmented and saved: /content/drive/MyDrive/CCMT dataset(grab_cut)/Cashew/gumosis/gumosis298_.jpg\n"
          ]
        },
        {
          "name": "stderr",
          "output_type": "stream",
          "text": [
            "\rProcessing:  22%|██▏       | 85/392 [05:10<16:27,  3.22s/it]"
          ]
        },
        {
          "name": "stdout",
          "output_type": "stream",
          "text": [
            "Segmented and saved: /content/drive/MyDrive/CCMT dataset(grab_cut)/Cashew/gumosis/gumosis236_.jpg\n"
          ]
        },
        {
          "name": "stderr",
          "output_type": "stream",
          "text": [
            "\rProcessing:  22%|██▏       | 86/392 [05:12<15:37,  3.07s/it]"
          ]
        },
        {
          "name": "stdout",
          "output_type": "stream",
          "text": [
            "Segmented and saved: /content/drive/MyDrive/CCMT dataset(grab_cut)/Cashew/gumosis/gumosis56_.jpg\n"
          ]
        },
        {
          "name": "stderr",
          "output_type": "stream",
          "text": [
            "\rProcessing:  22%|██▏       | 87/392 [05:14<12:44,  2.51s/it]"
          ]
        },
        {
          "name": "stdout",
          "output_type": "stream",
          "text": [
            "Segmented and saved: /content/drive/MyDrive/CCMT dataset(grab_cut)/Cashew/gumosis/gumosis360_.jpg\n"
          ]
        },
        {
          "name": "stderr",
          "output_type": "stream",
          "text": [
            "\rProcessing:  22%|██▏       | 88/392 [05:16<13:15,  2.62s/it]"
          ]
        },
        {
          "name": "stdout",
          "output_type": "stream",
          "text": [
            "Segmented and saved: /content/drive/MyDrive/CCMT dataset(grab_cut)/Cashew/gumosis/gumosis241_.jpg\n"
          ]
        },
        {
          "name": "stderr",
          "output_type": "stream",
          "text": [
            "\rProcessing:  23%|██▎       | 89/392 [05:18<11:34,  2.29s/it]"
          ]
        },
        {
          "name": "stdout",
          "output_type": "stream",
          "text": [
            "Segmented and saved: /content/drive/MyDrive/CCMT dataset(grab_cut)/Cashew/gumosis/gumosis304_.jpg\n"
          ]
        },
        {
          "name": "stderr",
          "output_type": "stream",
          "text": [
            "\rProcessing:  23%|██▎       | 90/392 [05:26<19:33,  3.88s/it]"
          ]
        },
        {
          "name": "stdout",
          "output_type": "stream",
          "text": [
            "Segmented and saved: /content/drive/MyDrive/CCMT dataset(grab_cut)/Cashew/gumosis/gumosis248_.jpg\n"
          ]
        },
        {
          "name": "stderr",
          "output_type": "stream",
          "text": [
            "\rProcessing:  23%|██▎       | 91/392 [05:31<21:49,  4.35s/it]"
          ]
        },
        {
          "name": "stdout",
          "output_type": "stream",
          "text": [
            "Segmented and saved: /content/drive/MyDrive/CCMT dataset(grab_cut)/Cashew/gumosis/gumosis342_.jpg\n"
          ]
        },
        {
          "name": "stderr",
          "output_type": "stream",
          "text": [
            "\rProcessing:  23%|██▎       | 92/392 [05:33<18:11,  3.64s/it]"
          ]
        },
        {
          "name": "stdout",
          "output_type": "stream",
          "text": [
            "Segmented and saved: /content/drive/MyDrive/CCMT dataset(grab_cut)/Cashew/gumosis/gumosis114_.jpg\n"
          ]
        },
        {
          "name": "stderr",
          "output_type": "stream",
          "text": [
            "\rProcessing:  24%|██▎       | 93/392 [05:36<16:30,  3.31s/it]"
          ]
        },
        {
          "name": "stdout",
          "output_type": "stream",
          "text": [
            "Segmented and saved: /content/drive/MyDrive/CCMT dataset(grab_cut)/Cashew/gumosis/gumosis24_.jpg\n"
          ]
        },
        {
          "name": "stderr",
          "output_type": "stream",
          "text": [
            "\rProcessing:  24%|██▍       | 94/392 [05:37<13:22,  2.69s/it]"
          ]
        },
        {
          "name": "stdout",
          "output_type": "stream",
          "text": [
            "Segmented and saved: /content/drive/MyDrive/CCMT dataset(grab_cut)/Cashew/gumosis/gumosis312_.jpg\n"
          ]
        },
        {
          "name": "stderr",
          "output_type": "stream",
          "text": [
            "\rProcessing:  24%|██▍       | 95/392 [05:39<12:19,  2.49s/it]"
          ]
        },
        {
          "name": "stdout",
          "output_type": "stream",
          "text": [
            "Segmented and saved: /content/drive/MyDrive/CCMT dataset(grab_cut)/Cashew/gumosis/gumosis273_.jpg\n"
          ]
        },
        {
          "name": "stderr",
          "output_type": "stream",
          "text": [
            "\rProcessing:  24%|██▍       | 96/392 [05:42<13:23,  2.72s/it]"
          ]
        },
        {
          "name": "stdout",
          "output_type": "stream",
          "text": [
            "Segmented and saved: /content/drive/MyDrive/CCMT dataset(grab_cut)/Cashew/gumosis/gumosis276_.jpg\n"
          ]
        },
        {
          "name": "stderr",
          "output_type": "stream",
          "text": [
            "\rProcessing:  25%|██▍       | 97/392 [05:44<12:05,  2.46s/it]"
          ]
        },
        {
          "name": "stdout",
          "output_type": "stream",
          "text": [
            "Segmented and saved: /content/drive/MyDrive/CCMT dataset(grab_cut)/Cashew/gumosis/gumosis98_.jpg\n"
          ]
        },
        {
          "name": "stderr",
          "output_type": "stream",
          "text": [
            "\rProcessing:  25%|██▌       | 98/392 [05:47<12:28,  2.55s/it]"
          ]
        },
        {
          "name": "stdout",
          "output_type": "stream",
          "text": [
            "Segmented and saved: /content/drive/MyDrive/CCMT dataset(grab_cut)/Cashew/gumosis/gumosis251_.jpg\n"
          ]
        },
        {
          "name": "stderr",
          "output_type": "stream",
          "text": [
            "\rProcessing:  25%|██▌       | 99/392 [05:51<15:04,  3.09s/it]"
          ]
        },
        {
          "name": "stdout",
          "output_type": "stream",
          "text": [
            "Segmented and saved: /content/drive/MyDrive/CCMT dataset(grab_cut)/Cashew/gumosis/gumosis346_.jpg\n"
          ]
        },
        {
          "name": "stderr",
          "output_type": "stream",
          "text": [
            "\rProcessing:  26%|██▌       | 100/392 [05:55<16:29,  3.39s/it]"
          ]
        },
        {
          "name": "stdout",
          "output_type": "stream",
          "text": [
            "Segmented and saved: /content/drive/MyDrive/CCMT dataset(grab_cut)/Cashew/gumosis/gumosis288_.jpg\n"
          ]
        },
        {
          "name": "stderr",
          "output_type": "stream",
          "text": [
            "\rProcessing:  26%|██▌       | 101/392 [05:56<13:18,  2.74s/it]"
          ]
        },
        {
          "name": "stdout",
          "output_type": "stream",
          "text": [
            "Segmented and saved: /content/drive/MyDrive/CCMT dataset(grab_cut)/Cashew/gumosis/gumosis147_.jpg\n"
          ]
        },
        {
          "name": "stderr",
          "output_type": "stream",
          "text": [
            "\rProcessing:  26%|██▌       | 102/392 [06:01<16:36,  3.44s/it]"
          ]
        },
        {
          "name": "stdout",
          "output_type": "stream",
          "text": [
            "Segmented and saved: /content/drive/MyDrive/CCMT dataset(grab_cut)/Cashew/gumosis/gumosis142_.jpg\n"
          ]
        },
        {
          "name": "stderr",
          "output_type": "stream",
          "text": [
            "\rProcessing:  26%|██▋       | 103/392 [06:04<15:36,  3.24s/it]"
          ]
        },
        {
          "name": "stdout",
          "output_type": "stream",
          "text": [
            "Segmented and saved: /content/drive/MyDrive/CCMT dataset(grab_cut)/Cashew/gumosis/gumosis97_.jpg\n"
          ]
        },
        {
          "name": "stderr",
          "output_type": "stream",
          "text": [
            "\rProcessing:  27%|██▋       | 104/392 [06:08<16:16,  3.39s/it]"
          ]
        },
        {
          "name": "stdout",
          "output_type": "stream",
          "text": [
            "Segmented and saved: /content/drive/MyDrive/CCMT dataset(grab_cut)/Cashew/gumosis/gumosis336_.jpg\n"
          ]
        },
        {
          "name": "stderr",
          "output_type": "stream",
          "text": [
            "\rProcessing:  27%|██▋       | 105/392 [06:13<18:31,  3.87s/it]"
          ]
        },
        {
          "name": "stdout",
          "output_type": "stream",
          "text": [
            "Segmented and saved: /content/drive/MyDrive/CCMT dataset(grab_cut)/Cashew/gumosis/gumosis164_.jpg\n"
          ]
        },
        {
          "name": "stderr",
          "output_type": "stream",
          "text": [
            "\rProcessing:  27%|██▋       | 106/392 [06:15<15:16,  3.21s/it]"
          ]
        },
        {
          "name": "stdout",
          "output_type": "stream",
          "text": [
            "Segmented and saved: /content/drive/MyDrive/CCMT dataset(grab_cut)/Cashew/gumosis/gumosis63_.jpg\n"
          ]
        },
        {
          "name": "stderr",
          "output_type": "stream",
          "text": [
            "\rProcessing:  27%|██▋       | 107/392 [06:16<12:58,  2.73s/it]"
          ]
        },
        {
          "name": "stdout",
          "output_type": "stream",
          "text": [
            "Segmented and saved: /content/drive/MyDrive/CCMT dataset(grab_cut)/Cashew/gumosis/gumosis105_.jpg\n"
          ]
        },
        {
          "name": "stderr",
          "output_type": "stream",
          "text": [
            "\rProcessing:  28%|██▊       | 108/392 [06:26<23:05,  4.88s/it]"
          ]
        },
        {
          "name": "stdout",
          "output_type": "stream",
          "text": [
            "Segmented and saved: /content/drive/MyDrive/CCMT dataset(grab_cut)/Cashew/gumosis/gumosis262_.jpg\n"
          ]
        },
        {
          "name": "stderr",
          "output_type": "stream",
          "text": [
            "\rProcessing:  28%|██▊       | 109/392 [06:29<20:00,  4.24s/it]"
          ]
        },
        {
          "name": "stdout",
          "output_type": "stream",
          "text": [
            "Segmented and saved: /content/drive/MyDrive/CCMT dataset(grab_cut)/Cashew/gumosis/gumosis32_.jpg\n"
          ]
        },
        {
          "name": "stderr",
          "output_type": "stream",
          "text": [
            "\rProcessing:  28%|██▊       | 110/392 [06:33<20:16,  4.31s/it]"
          ]
        },
        {
          "name": "stdout",
          "output_type": "stream",
          "text": [
            "Segmented and saved: /content/drive/MyDrive/CCMT dataset(grab_cut)/Cashew/gumosis/gumosis363_.jpg\n"
          ]
        },
        {
          "name": "stderr",
          "output_type": "stream",
          "text": [
            "\rProcessing:  28%|██▊       | 111/392 [06:38<20:25,  4.36s/it]"
          ]
        },
        {
          "name": "stdout",
          "output_type": "stream",
          "text": [
            "Segmented and saved: /content/drive/MyDrive/CCMT dataset(grab_cut)/Cashew/gumosis/gumosis310_.jpg\n"
          ]
        },
        {
          "name": "stderr",
          "output_type": "stream",
          "text": [
            "\rProcessing:  29%|██▊       | 112/392 [06:43<20:59,  4.50s/it]"
          ]
        },
        {
          "name": "stdout",
          "output_type": "stream",
          "text": [
            "Segmented and saved: /content/drive/MyDrive/CCMT dataset(grab_cut)/Cashew/gumosis/gumosis141_.jpg\n"
          ]
        },
        {
          "name": "stderr",
          "output_type": "stream",
          "text": [
            "\rProcessing:  29%|██▉       | 113/392 [06:47<20:18,  4.37s/it]"
          ]
        },
        {
          "name": "stdout",
          "output_type": "stream",
          "text": [
            "Segmented and saved: /content/drive/MyDrive/CCMT dataset(grab_cut)/Cashew/gumosis/gumosis2_.jpg\n"
          ]
        },
        {
          "name": "stderr",
          "output_type": "stream",
          "text": [
            "\rProcessing:  29%|██▉       | 114/392 [06:48<16:40,  3.60s/it]"
          ]
        },
        {
          "name": "stdout",
          "output_type": "stream",
          "text": [
            "Segmented and saved: /content/drive/MyDrive/CCMT dataset(grab_cut)/Cashew/gumosis/gumosis255_.jpg\n"
          ]
        },
        {
          "name": "stderr",
          "output_type": "stream",
          "text": [
            "\rProcessing:  29%|██▉       | 115/392 [06:53<17:39,  3.82s/it]"
          ]
        },
        {
          "name": "stdout",
          "output_type": "stream",
          "text": [
            "Segmented and saved: /content/drive/MyDrive/CCMT dataset(grab_cut)/Cashew/gumosis/gumosis100_.jpg\n"
          ]
        },
        {
          "name": "stderr",
          "output_type": "stream",
          "text": [
            "\rProcessing:  30%|██▉       | 116/392 [06:54<14:15,  3.10s/it]"
          ]
        },
        {
          "name": "stdout",
          "output_type": "stream",
          "text": [
            "Segmented and saved: /content/drive/MyDrive/CCMT dataset(grab_cut)/Cashew/gumosis/gumosis386_.jpg\n"
          ]
        },
        {
          "name": "stderr",
          "output_type": "stream",
          "text": [
            "\rProcessing:  30%|██▉       | 117/392 [06:56<13:02,  2.84s/it]"
          ]
        },
        {
          "name": "stdout",
          "output_type": "stream",
          "text": [
            "Segmented and saved: /content/drive/MyDrive/CCMT dataset(grab_cut)/Cashew/gumosis/gumosis353_.jpg\n"
          ]
        },
        {
          "name": "stderr",
          "output_type": "stream",
          "text": [
            "\rProcessing:  30%|███       | 118/392 [06:59<12:23,  2.71s/it]"
          ]
        },
        {
          "name": "stdout",
          "output_type": "stream",
          "text": [
            "Segmented and saved: /content/drive/MyDrive/CCMT dataset(grab_cut)/Cashew/gumosis/gumosis383_.jpg\n"
          ]
        },
        {
          "name": "stderr",
          "output_type": "stream",
          "text": [
            "\rProcessing:  30%|███       | 119/392 [07:03<14:48,  3.26s/it]"
          ]
        },
        {
          "name": "stdout",
          "output_type": "stream",
          "text": [
            "Segmented and saved: /content/drive/MyDrive/CCMT dataset(grab_cut)/Cashew/gumosis/gumosis234_.jpg\n"
          ]
        },
        {
          "name": "stderr",
          "output_type": "stream",
          "text": [
            "\rProcessing:  31%|███       | 120/392 [07:06<13:34,  2.99s/it]"
          ]
        },
        {
          "name": "stdout",
          "output_type": "stream",
          "text": [
            "Segmented and saved: /content/drive/MyDrive/CCMT dataset(grab_cut)/Cashew/gumosis/gumosis158_.jpg\n"
          ]
        },
        {
          "name": "stderr",
          "output_type": "stream",
          "text": [
            "\rProcessing:  31%|███       | 121/392 [07:09<13:13,  2.93s/it]"
          ]
        },
        {
          "name": "stdout",
          "output_type": "stream",
          "text": [
            "Segmented and saved: /content/drive/MyDrive/CCMT dataset(grab_cut)/Cashew/gumosis/gumosis390_.jpg\n"
          ]
        },
        {
          "name": "stderr",
          "output_type": "stream",
          "text": [
            "\rProcessing:  31%|███       | 122/392 [07:12<14:27,  3.21s/it]"
          ]
        },
        {
          "name": "stdout",
          "output_type": "stream",
          "text": [
            "Segmented and saved: /content/drive/MyDrive/CCMT dataset(grab_cut)/Cashew/gumosis/gumosis55_.jpg\n"
          ]
        },
        {
          "name": "stderr",
          "output_type": "stream",
          "text": [
            "\rProcessing:  31%|███▏      | 123/392 [07:19<19:03,  4.25s/it]"
          ]
        },
        {
          "name": "stdout",
          "output_type": "stream",
          "text": [
            "Segmented and saved: /content/drive/MyDrive/CCMT dataset(grab_cut)/Cashew/gumosis/gumosis49_.jpg\n"
          ]
        },
        {
          "name": "stderr",
          "output_type": "stream",
          "text": [
            "\rProcessing:  32%|███▏      | 124/392 [07:21<16:13,  3.63s/it]"
          ]
        },
        {
          "name": "stdout",
          "output_type": "stream",
          "text": [
            "Segmented and saved: /content/drive/MyDrive/CCMT dataset(grab_cut)/Cashew/gumosis/gumosis51_.jpg\n"
          ]
        },
        {
          "name": "stderr",
          "output_type": "stream",
          "text": [
            "\rProcessing:  32%|███▏      | 125/392 [07:22<12:40,  2.85s/it]"
          ]
        },
        {
          "name": "stdout",
          "output_type": "stream",
          "text": [
            "Segmented and saved: /content/drive/MyDrive/CCMT dataset(grab_cut)/Cashew/gumosis/gumosis238_.jpg\n"
          ]
        },
        {
          "name": "stderr",
          "output_type": "stream",
          "text": [
            "\rProcessing:  32%|███▏      | 126/392 [07:26<14:20,  3.24s/it]"
          ]
        },
        {
          "name": "stdout",
          "output_type": "stream",
          "text": [
            "Segmented and saved: /content/drive/MyDrive/CCMT dataset(grab_cut)/Cashew/gumosis/gumosis286_.jpg\n"
          ]
        },
        {
          "name": "stderr",
          "output_type": "stream",
          "text": [
            "\rProcessing:  32%|███▏      | 127/392 [07:30<14:46,  3.34s/it]"
          ]
        },
        {
          "name": "stdout",
          "output_type": "stream",
          "text": [
            "Segmented and saved: /content/drive/MyDrive/CCMT dataset(grab_cut)/Cashew/gumosis/gumosis320_.jpg\n"
          ]
        },
        {
          "name": "stderr",
          "output_type": "stream",
          "text": [
            "\rProcessing:  33%|███▎      | 128/392 [07:40<24:05,  5.47s/it]"
          ]
        },
        {
          "name": "stdout",
          "output_type": "stream",
          "text": [
            "Segmented and saved: /content/drive/MyDrive/CCMT dataset(grab_cut)/Cashew/gumosis/gumosis348_.jpg\n"
          ]
        },
        {
          "name": "stderr",
          "output_type": "stream",
          "text": [
            "\rProcessing:  33%|███▎      | 129/392 [07:44<21:19,  4.87s/it]"
          ]
        },
        {
          "name": "stdout",
          "output_type": "stream",
          "text": [
            "Segmented and saved: /content/drive/MyDrive/CCMT dataset(grab_cut)/Cashew/gumosis/gumosis314_.jpg\n"
          ]
        },
        {
          "name": "stderr",
          "output_type": "stream",
          "text": [
            "\rProcessing:  33%|███▎      | 130/392 [07:49<21:51,  5.00s/it]"
          ]
        },
        {
          "name": "stdout",
          "output_type": "stream",
          "text": [
            "Segmented and saved: /content/drive/MyDrive/CCMT dataset(grab_cut)/Cashew/gumosis/gumosis3_.jpg\n"
          ]
        },
        {
          "name": "stderr",
          "output_type": "stream",
          "text": [
            "\rProcessing:  33%|███▎      | 131/392 [07:53<19:51,  4.57s/it]"
          ]
        },
        {
          "name": "stdout",
          "output_type": "stream",
          "text": [
            "Segmented and saved: /content/drive/MyDrive/CCMT dataset(grab_cut)/Cashew/gumosis/gumosis232_.jpg\n"
          ]
        },
        {
          "name": "stderr",
          "output_type": "stream",
          "text": [
            "\rProcessing:  34%|███▎      | 132/392 [07:55<16:58,  3.92s/it]"
          ]
        },
        {
          "name": "stdout",
          "output_type": "stream",
          "text": [
            "Segmented and saved: /content/drive/MyDrive/CCMT dataset(grab_cut)/Cashew/gumosis/gumosis199_.jpg\n"
          ]
        },
        {
          "name": "stderr",
          "output_type": "stream",
          "text": [
            "\rProcessing:  34%|███▍      | 133/392 [08:02<20:13,  4.69s/it]"
          ]
        },
        {
          "name": "stdout",
          "output_type": "stream",
          "text": [
            "Segmented and saved: /content/drive/MyDrive/CCMT dataset(grab_cut)/Cashew/gumosis/gumosis30_.jpg\n"
          ]
        },
        {
          "name": "stderr",
          "output_type": "stream",
          "text": [
            "\rProcessing:  34%|███▍      | 134/392 [08:05<18:03,  4.20s/it]"
          ]
        },
        {
          "name": "stdout",
          "output_type": "stream",
          "text": [
            "Segmented and saved: /content/drive/MyDrive/CCMT dataset(grab_cut)/Cashew/gumosis/gumosis150_.jpg\n"
          ]
        },
        {
          "name": "stderr",
          "output_type": "stream",
          "text": [
            "\rProcessing:  34%|███▍      | 135/392 [08:06<13:56,  3.26s/it]"
          ]
        },
        {
          "name": "stdout",
          "output_type": "stream",
          "text": [
            "Segmented and saved: /content/drive/MyDrive/CCMT dataset(grab_cut)/Cashew/gumosis/gumosis96_.jpg\n"
          ]
        },
        {
          "name": "stderr",
          "output_type": "stream",
          "text": [
            "\rProcessing:  35%|███▍      | 136/392 [08:08<12:53,  3.02s/it]"
          ]
        },
        {
          "name": "stdout",
          "output_type": "stream",
          "text": [
            "Segmented and saved: /content/drive/MyDrive/CCMT dataset(grab_cut)/Cashew/gumosis/gumosis47_.jpg\n"
          ]
        },
        {
          "name": "stderr",
          "output_type": "stream",
          "text": [
            "\rProcessing:  35%|███▍      | 137/392 [08:13<14:39,  3.45s/it]"
          ]
        },
        {
          "name": "stdout",
          "output_type": "stream",
          "text": [
            "Segmented and saved: /content/drive/MyDrive/CCMT dataset(grab_cut)/Cashew/gumosis/gumosis128_.jpg\n"
          ]
        },
        {
          "name": "stderr",
          "output_type": "stream",
          "text": [
            "\rProcessing:  35%|███▌      | 138/392 [08:19<18:11,  4.30s/it]"
          ]
        },
        {
          "name": "stdout",
          "output_type": "stream",
          "text": [
            "Segmented and saved: /content/drive/MyDrive/CCMT dataset(grab_cut)/Cashew/gumosis/gumosis14_.jpg\n"
          ]
        },
        {
          "name": "stderr",
          "output_type": "stream",
          "text": [
            "\rProcessing:  35%|███▌      | 139/392 [08:24<18:53,  4.48s/it]"
          ]
        },
        {
          "name": "stdout",
          "output_type": "stream",
          "text": [
            "Segmented and saved: /content/drive/MyDrive/CCMT dataset(grab_cut)/Cashew/gumosis/gumosis188_.jpg\n"
          ]
        },
        {
          "name": "stderr",
          "output_type": "stream",
          "text": [
            "\rProcessing:  36%|███▌      | 140/392 [08:26<15:37,  3.72s/it]"
          ]
        },
        {
          "name": "stdout",
          "output_type": "stream",
          "text": [
            "Segmented and saved: /content/drive/MyDrive/CCMT dataset(grab_cut)/Cashew/gumosis/gumosis358_.jpg\n"
          ]
        },
        {
          "name": "stderr",
          "output_type": "stream",
          "text": [
            "\rProcessing:  36%|███▌      | 141/392 [08:29<15:02,  3.60s/it]"
          ]
        },
        {
          "name": "stdout",
          "output_type": "stream",
          "text": [
            "Segmented and saved: /content/drive/MyDrive/CCMT dataset(grab_cut)/Cashew/gumosis/gumosis8_.jpg\n"
          ]
        },
        {
          "name": "stderr",
          "output_type": "stream",
          "text": [
            "\rProcessing:  36%|███▌      | 142/392 [08:33<15:13,  3.65s/it]"
          ]
        },
        {
          "name": "stdout",
          "output_type": "stream",
          "text": [
            "Segmented and saved: /content/drive/MyDrive/CCMT dataset(grab_cut)/Cashew/gumosis/gumosis309_.jpg\n"
          ]
        },
        {
          "name": "stderr",
          "output_type": "stream",
          "text": [
            "\rProcessing:  36%|███▋      | 143/392 [08:36<14:16,  3.44s/it]"
          ]
        },
        {
          "name": "stdout",
          "output_type": "stream",
          "text": [
            "Segmented and saved: /content/drive/MyDrive/CCMT dataset(grab_cut)/Cashew/gumosis/gumosis195_.jpg\n"
          ]
        },
        {
          "name": "stderr",
          "output_type": "stream",
          "text": [
            "\rProcessing:  37%|███▋      | 144/392 [08:40<14:42,  3.56s/it]"
          ]
        },
        {
          "name": "stdout",
          "output_type": "stream",
          "text": [
            "Segmented and saved: /content/drive/MyDrive/CCMT dataset(grab_cut)/Cashew/gumosis/gumosis70_.jpg\n"
          ]
        },
        {
          "name": "stderr",
          "output_type": "stream",
          "text": [
            "\rProcessing:  37%|███▋      | 145/392 [08:42<12:32,  3.05s/it]"
          ]
        },
        {
          "name": "stdout",
          "output_type": "stream",
          "text": [
            "Segmented and saved: /content/drive/MyDrive/CCMT dataset(grab_cut)/Cashew/gumosis/gumosis17_.jpg\n"
          ]
        },
        {
          "name": "stderr",
          "output_type": "stream",
          "text": [
            "\rProcessing:  37%|███▋      | 146/392 [08:44<11:29,  2.80s/it]"
          ]
        },
        {
          "name": "stdout",
          "output_type": "stream",
          "text": [
            "Segmented and saved: /content/drive/MyDrive/CCMT dataset(grab_cut)/Cashew/gumosis/gumosis202_.jpg\n"
          ]
        },
        {
          "name": "stderr",
          "output_type": "stream",
          "text": [
            "\rProcessing:  38%|███▊      | 147/392 [08:46<10:12,  2.50s/it]"
          ]
        },
        {
          "name": "stdout",
          "output_type": "stream",
          "text": [
            "Segmented and saved: /content/drive/MyDrive/CCMT dataset(grab_cut)/Cashew/gumosis/gumosis60_.jpg\n"
          ]
        },
        {
          "name": "stderr",
          "output_type": "stream",
          "text": [
            "\rProcessing:  38%|███▊      | 148/392 [08:50<12:30,  3.07s/it]"
          ]
        },
        {
          "name": "stdout",
          "output_type": "stream",
          "text": [
            "Segmented and saved: /content/drive/MyDrive/CCMT dataset(grab_cut)/Cashew/gumosis/gumosis308_.jpg\n"
          ]
        },
        {
          "name": "stderr",
          "output_type": "stream",
          "text": [
            "\rProcessing:  38%|███▊      | 149/392 [08:56<15:49,  3.91s/it]"
          ]
        },
        {
          "name": "stdout",
          "output_type": "stream",
          "text": [
            "Segmented and saved: /content/drive/MyDrive/CCMT dataset(grab_cut)/Cashew/gumosis/gumosis374_.jpg\n"
          ]
        },
        {
          "name": "stderr",
          "output_type": "stream",
          "text": [
            "\rProcessing:  38%|███▊      | 150/392 [09:00<16:10,  4.01s/it]"
          ]
        },
        {
          "name": "stdout",
          "output_type": "stream",
          "text": [
            "Segmented and saved: /content/drive/MyDrive/CCMT dataset(grab_cut)/Cashew/gumosis/gumosis162_.jpg\n"
          ]
        },
        {
          "name": "stderr",
          "output_type": "stream",
          "text": [
            "\rProcessing:  39%|███▊      | 151/392 [09:02<13:38,  3.40s/it]"
          ]
        },
        {
          "name": "stdout",
          "output_type": "stream",
          "text": [
            "Segmented and saved: /content/drive/MyDrive/CCMT dataset(grab_cut)/Cashew/gumosis/gumosis42_.jpg\n"
          ]
        },
        {
          "name": "stderr",
          "output_type": "stream",
          "text": [
            "\rProcessing:  39%|███▉      | 152/392 [09:06<14:47,  3.70s/it]"
          ]
        },
        {
          "name": "stdout",
          "output_type": "stream",
          "text": [
            "Segmented and saved: /content/drive/MyDrive/CCMT dataset(grab_cut)/Cashew/gumosis/gumosis326_.jpg\n"
          ]
        },
        {
          "name": "stderr",
          "output_type": "stream",
          "text": [
            "\rProcessing:  39%|███▉      | 153/392 [09:09<12:56,  3.25s/it]"
          ]
        },
        {
          "name": "stdout",
          "output_type": "stream",
          "text": [
            "Segmented and saved: /content/drive/MyDrive/CCMT dataset(grab_cut)/Cashew/gumosis/gumosis300_.jpg\n"
          ]
        },
        {
          "name": "stderr",
          "output_type": "stream",
          "text": [
            "\rProcessing:  39%|███▉      | 154/392 [09:13<14:38,  3.69s/it]"
          ]
        },
        {
          "name": "stdout",
          "output_type": "stream",
          "text": [
            "Segmented and saved: /content/drive/MyDrive/CCMT dataset(grab_cut)/Cashew/gumosis/gumosis381_.jpg\n"
          ]
        },
        {
          "name": "stderr",
          "output_type": "stream",
          "text": [
            "\rProcessing:  40%|███▉      | 155/392 [09:17<14:10,  3.59s/it]"
          ]
        },
        {
          "name": "stdout",
          "output_type": "stream",
          "text": [
            "Segmented and saved: /content/drive/MyDrive/CCMT dataset(grab_cut)/Cashew/gumosis/gumosis75_.jpg\n"
          ]
        },
        {
          "name": "stderr",
          "output_type": "stream",
          "text": [
            "\rProcessing:  40%|███▉      | 156/392 [09:19<12:16,  3.12s/it]"
          ]
        },
        {
          "name": "stdout",
          "output_type": "stream",
          "text": [
            "Segmented and saved: /content/drive/MyDrive/CCMT dataset(grab_cut)/Cashew/gumosis/gumosis59_.jpg\n"
          ]
        },
        {
          "name": "stderr",
          "output_type": "stream",
          "text": [
            "\rProcessing:  40%|████      | 157/392 [09:22<12:29,  3.19s/it]"
          ]
        },
        {
          "name": "stdout",
          "output_type": "stream",
          "text": [
            "Segmented and saved: /content/drive/MyDrive/CCMT dataset(grab_cut)/Cashew/gumosis/gumosis80_.jpg\n"
          ]
        },
        {
          "name": "stderr",
          "output_type": "stream",
          "text": [
            "\rProcessing:  40%|████      | 158/392 [09:29<16:18,  4.18s/it]"
          ]
        },
        {
          "name": "stdout",
          "output_type": "stream",
          "text": [
            "Segmented and saved: /content/drive/MyDrive/CCMT dataset(grab_cut)/Cashew/gumosis/gumosis277_.jpg\n"
          ]
        },
        {
          "name": "stderr",
          "output_type": "stream",
          "text": [
            "\rProcessing:  41%|████      | 159/392 [09:33<15:55,  4.10s/it]"
          ]
        },
        {
          "name": "stdout",
          "output_type": "stream",
          "text": [
            "Segmented and saved: /content/drive/MyDrive/CCMT dataset(grab_cut)/Cashew/gumosis/gumosis175_.jpg\n"
          ]
        },
        {
          "name": "stderr",
          "output_type": "stream",
          "text": [
            "\rProcessing:  41%|████      | 160/392 [09:37<16:00,  4.14s/it]"
          ]
        },
        {
          "name": "stdout",
          "output_type": "stream",
          "text": [
            "Segmented and saved: /content/drive/MyDrive/CCMT dataset(grab_cut)/Cashew/gumosis/gumosis21_.jpg\n"
          ]
        },
        {
          "name": "stderr",
          "output_type": "stream",
          "text": [
            "\rProcessing:  41%|████      | 161/392 [09:43<18:23,  4.78s/it]"
          ]
        },
        {
          "name": "stdout",
          "output_type": "stream",
          "text": [
            "Segmented and saved: /content/drive/MyDrive/CCMT dataset(grab_cut)/Cashew/gumosis/gumosis205_.jpg\n"
          ]
        },
        {
          "name": "stderr",
          "output_type": "stream",
          "text": [
            "\rProcessing:  41%|████▏     | 162/392 [09:44<13:57,  3.64s/it]"
          ]
        },
        {
          "name": "stdout",
          "output_type": "stream",
          "text": [
            "Segmented and saved: /content/drive/MyDrive/CCMT dataset(grab_cut)/Cashew/gumosis/gumosis143_.jpg\n"
          ]
        },
        {
          "name": "stderr",
          "output_type": "stream",
          "text": [
            "\rProcessing:  42%|████▏     | 163/392 [09:47<13:01,  3.41s/it]"
          ]
        },
        {
          "name": "stdout",
          "output_type": "stream",
          "text": [
            "Segmented and saved: /content/drive/MyDrive/CCMT dataset(grab_cut)/Cashew/gumosis/gumosis145_.jpg\n"
          ]
        },
        {
          "name": "stderr",
          "output_type": "stream",
          "text": [
            "\rProcessing:  42%|████▏     | 164/392 [09:51<13:39,  3.59s/it]"
          ]
        },
        {
          "name": "stdout",
          "output_type": "stream",
          "text": [
            "Segmented and saved: /content/drive/MyDrive/CCMT dataset(grab_cut)/Cashew/gumosis/gumosis177_.jpg\n"
          ]
        },
        {
          "name": "stderr",
          "output_type": "stream",
          "text": [
            "\rProcessing:  42%|████▏     | 165/392 [09:54<12:36,  3.33s/it]"
          ]
        },
        {
          "name": "stdout",
          "output_type": "stream",
          "text": [
            "Segmented and saved: /content/drive/MyDrive/CCMT dataset(grab_cut)/Cashew/gumosis/gumosis278_.jpg\n"
          ]
        },
        {
          "name": "stderr",
          "output_type": "stream",
          "text": [
            "\rProcessing:  42%|████▏     | 166/392 [09:55<10:44,  2.85s/it]"
          ]
        },
        {
          "name": "stdout",
          "output_type": "stream",
          "text": [
            "Segmented and saved: /content/drive/MyDrive/CCMT dataset(grab_cut)/Cashew/gumosis/gumosis270_.jpg\n"
          ]
        },
        {
          "name": "stderr",
          "output_type": "stream",
          "text": [
            "\rProcessing:  43%|████▎     | 167/392 [09:57<09:38,  2.57s/it]"
          ]
        },
        {
          "name": "stdout",
          "output_type": "stream",
          "text": [
            "Segmented and saved: /content/drive/MyDrive/CCMT dataset(grab_cut)/Cashew/gumosis/gumosis214_.jpg\n"
          ]
        },
        {
          "name": "stderr",
          "output_type": "stream",
          "text": [
            "\rProcessing:  43%|████▎     | 168/392 [10:00<10:16,  2.75s/it]"
          ]
        },
        {
          "name": "stdout",
          "output_type": "stream",
          "text": [
            "Segmented and saved: /content/drive/MyDrive/CCMT dataset(grab_cut)/Cashew/gumosis/gumosis166_.jpg\n"
          ]
        },
        {
          "name": "stderr",
          "output_type": "stream",
          "text": [
            "\rProcessing:  43%|████▎     | 169/392 [10:11<19:07,  5.15s/it]"
          ]
        },
        {
          "name": "stdout",
          "output_type": "stream",
          "text": [
            "Segmented and saved: /content/drive/MyDrive/CCMT dataset(grab_cut)/Cashew/gumosis/gumosis39_.jpg\n"
          ]
        },
        {
          "name": "stderr",
          "output_type": "stream",
          "text": [
            "\rProcessing:  43%|████▎     | 170/392 [10:13<15:02,  4.07s/it]"
          ]
        },
        {
          "name": "stdout",
          "output_type": "stream",
          "text": [
            "Segmented and saved: /content/drive/MyDrive/CCMT dataset(grab_cut)/Cashew/gumosis/gumosis316_.jpg\n"
          ]
        },
        {
          "name": "stderr",
          "output_type": "stream",
          "text": [
            "\rProcessing:  44%|████▎     | 171/392 [10:15<13:09,  3.57s/it]"
          ]
        },
        {
          "name": "stdout",
          "output_type": "stream",
          "text": [
            "Segmented and saved: /content/drive/MyDrive/CCMT dataset(grab_cut)/Cashew/gumosis/gumosis274_.jpg\n"
          ]
        },
        {
          "name": "stderr",
          "output_type": "stream",
          "text": [
            "\rProcessing:  44%|████▍     | 172/392 [10:18<11:44,  3.20s/it]"
          ]
        },
        {
          "name": "stdout",
          "output_type": "stream",
          "text": [
            "Segmented and saved: /content/drive/MyDrive/CCMT dataset(grab_cut)/Cashew/gumosis/gumosis375_.jpg\n"
          ]
        },
        {
          "name": "stderr",
          "output_type": "stream",
          "text": [
            "\rProcessing:  44%|████▍     | 173/392 [10:20<11:03,  3.03s/it]"
          ]
        },
        {
          "name": "stdout",
          "output_type": "stream",
          "text": [
            "Segmented and saved: /content/drive/MyDrive/CCMT dataset(grab_cut)/Cashew/gumosis/gumosis302_.jpg\n"
          ]
        },
        {
          "name": "stderr",
          "output_type": "stream",
          "text": [
            "\rProcessing:  44%|████▍     | 174/392 [10:21<09:08,  2.51s/it]"
          ]
        },
        {
          "name": "stdout",
          "output_type": "stream",
          "text": [
            "Segmented and saved: /content/drive/MyDrive/CCMT dataset(grab_cut)/Cashew/gumosis/gumosis170_.jpg\n"
          ]
        },
        {
          "name": "stderr",
          "output_type": "stream",
          "text": [
            "\rProcessing:  45%|████▍     | 175/392 [10:25<09:45,  2.70s/it]"
          ]
        },
        {
          "name": "stdout",
          "output_type": "stream",
          "text": [
            "Segmented and saved: /content/drive/MyDrive/CCMT dataset(grab_cut)/Cashew/gumosis/gumosis135_.jpg\n"
          ]
        },
        {
          "name": "stderr",
          "output_type": "stream",
          "text": [
            "\rProcessing:  45%|████▍     | 176/392 [10:27<09:13,  2.56s/it]"
          ]
        },
        {
          "name": "stdout",
          "output_type": "stream",
          "text": [
            "Segmented and saved: /content/drive/MyDrive/CCMT dataset(grab_cut)/Cashew/gumosis/gumosis211_.jpg\n"
          ]
        },
        {
          "name": "stderr",
          "output_type": "stream",
          "text": [
            "\rProcessing:  45%|████▌     | 177/392 [10:31<10:34,  2.95s/it]"
          ]
        },
        {
          "name": "stdout",
          "output_type": "stream",
          "text": [
            "Segmented and saved: /content/drive/MyDrive/CCMT dataset(grab_cut)/Cashew/gumosis/gumosis261_.jpg\n"
          ]
        },
        {
          "name": "stderr",
          "output_type": "stream",
          "text": [
            "\rProcessing:  45%|████▌     | 178/392 [10:33<10:20,  2.90s/it]"
          ]
        },
        {
          "name": "stdout",
          "output_type": "stream",
          "text": [
            "Segmented and saved: /content/drive/MyDrive/CCMT dataset(grab_cut)/Cashew/gumosis/gumosis157_.jpg\n"
          ]
        },
        {
          "name": "stderr",
          "output_type": "stream",
          "text": [
            "\rProcessing:  46%|████▌     | 179/392 [10:38<12:03,  3.40s/it]"
          ]
        },
        {
          "name": "stdout",
          "output_type": "stream",
          "text": [
            "Segmented and saved: /content/drive/MyDrive/CCMT dataset(grab_cut)/Cashew/gumosis/gumosis200_.jpg\n"
          ]
        },
        {
          "name": "stderr",
          "output_type": "stream",
          "text": [
            "\rProcessing:  46%|████▌     | 180/392 [10:46<17:22,  4.92s/it]"
          ]
        },
        {
          "name": "stdout",
          "output_type": "stream",
          "text": [
            "Segmented and saved: /content/drive/MyDrive/CCMT dataset(grab_cut)/Cashew/gumosis/gumosis293_.jpg\n"
          ]
        },
        {
          "name": "stderr",
          "output_type": "stream",
          "text": [
            "\rProcessing:  46%|████▌     | 181/392 [10:48<13:48,  3.93s/it]"
          ]
        },
        {
          "name": "stdout",
          "output_type": "stream",
          "text": [
            "Segmented and saved: /content/drive/MyDrive/CCMT dataset(grab_cut)/Cashew/gumosis/gumosis311_.jpg\n"
          ]
        },
        {
          "name": "stderr",
          "output_type": "stream",
          "text": [
            "\rProcessing:  46%|████▋     | 182/392 [10:52<14:00,  4.00s/it]"
          ]
        },
        {
          "name": "stdout",
          "output_type": "stream",
          "text": [
            "Segmented and saved: /content/drive/MyDrive/CCMT dataset(grab_cut)/Cashew/gumosis/gumosis26_.jpg\n"
          ]
        },
        {
          "name": "stderr",
          "output_type": "stream",
          "text": [
            "\rProcessing:  47%|████▋     | 183/392 [10:55<13:02,  3.74s/it]"
          ]
        },
        {
          "name": "stdout",
          "output_type": "stream",
          "text": [
            "Segmented and saved: /content/drive/MyDrive/CCMT dataset(grab_cut)/Cashew/gumosis/gumosis372_.jpg\n"
          ]
        },
        {
          "name": "stderr",
          "output_type": "stream",
          "text": [
            "\rProcessing:  47%|████▋     | 184/392 [10:57<11:02,  3.18s/it]"
          ]
        },
        {
          "name": "stdout",
          "output_type": "stream",
          "text": [
            "Segmented and saved: /content/drive/MyDrive/CCMT dataset(grab_cut)/Cashew/gumosis/gumosis99_.jpg\n"
          ]
        },
        {
          "name": "stderr",
          "output_type": "stream",
          "text": [
            "\rProcessing:  47%|████▋     | 185/392 [11:00<10:13,  2.97s/it]"
          ]
        },
        {
          "name": "stdout",
          "output_type": "stream",
          "text": [
            "Segmented and saved: /content/drive/MyDrive/CCMT dataset(grab_cut)/Cashew/gumosis/gumosis340_.jpg\n"
          ]
        },
        {
          "name": "stderr",
          "output_type": "stream",
          "text": [
            "\rProcessing:  47%|████▋     | 186/392 [11:04<11:19,  3.30s/it]"
          ]
        },
        {
          "name": "stdout",
          "output_type": "stream",
          "text": [
            "Segmented and saved: /content/drive/MyDrive/CCMT dataset(grab_cut)/Cashew/gumosis/gumosis303_.jpg\n"
          ]
        },
        {
          "name": "stderr",
          "output_type": "stream",
          "text": [
            "\rProcessing:  48%|████▊     | 187/392 [11:06<10:03,  2.95s/it]"
          ]
        },
        {
          "name": "stdout",
          "output_type": "stream",
          "text": [
            "Segmented and saved: /content/drive/MyDrive/CCMT dataset(grab_cut)/Cashew/gumosis/gumosis265_.jpg\n"
          ]
        },
        {
          "name": "stderr",
          "output_type": "stream",
          "text": [
            "\rProcessing:  48%|████▊     | 188/392 [11:12<13:14,  3.89s/it]"
          ]
        },
        {
          "name": "stdout",
          "output_type": "stream",
          "text": [
            "Segmented and saved: /content/drive/MyDrive/CCMT dataset(grab_cut)/Cashew/gumosis/gumosis186_.jpg\n"
          ]
        },
        {
          "name": "stderr",
          "output_type": "stream",
          "text": [
            "\rProcessing:  48%|████▊     | 189/392 [11:15<12:22,  3.66s/it]"
          ]
        },
        {
          "name": "stdout",
          "output_type": "stream",
          "text": [
            "Segmented and saved: /content/drive/MyDrive/CCMT dataset(grab_cut)/Cashew/gumosis/gumosis204_.jpg\n"
          ]
        },
        {
          "name": "stderr",
          "output_type": "stream",
          "text": [
            "\rProcessing:  48%|████▊     | 190/392 [11:18<11:35,  3.44s/it]"
          ]
        },
        {
          "name": "stdout",
          "output_type": "stream",
          "text": [
            "Segmented and saved: /content/drive/MyDrive/CCMT dataset(grab_cut)/Cashew/gumosis/gumosis113_.jpg\n"
          ]
        },
        {
          "name": "stderr",
          "output_type": "stream",
          "text": [
            "\rProcessing:  49%|████▊     | 191/392 [11:20<09:53,  2.95s/it]"
          ]
        },
        {
          "name": "stdout",
          "output_type": "stream",
          "text": [
            "Segmented and saved: /content/drive/MyDrive/CCMT dataset(grab_cut)/Cashew/gumosis/gumosis101_.jpg\n"
          ]
        },
        {
          "name": "stderr",
          "output_type": "stream",
          "text": [
            "\rProcessing:  49%|████▉     | 192/392 [11:27<13:53,  4.17s/it]"
          ]
        },
        {
          "name": "stdout",
          "output_type": "stream",
          "text": [
            "Segmented and saved: /content/drive/MyDrive/CCMT dataset(grab_cut)/Cashew/gumosis/gumosis224_.jpg\n"
          ]
        },
        {
          "name": "stderr",
          "output_type": "stream",
          "text": [
            "\rProcessing:  49%|████▉     | 193/392 [11:30<12:26,  3.75s/it]"
          ]
        },
        {
          "name": "stdout",
          "output_type": "stream",
          "text": [
            "Segmented and saved: /content/drive/MyDrive/CCMT dataset(grab_cut)/Cashew/gumosis/gumosis209_.jpg\n"
          ]
        },
        {
          "name": "stderr",
          "output_type": "stream",
          "text": [
            "\rProcessing:  49%|████▉     | 194/392 [11:33<12:16,  3.72s/it]"
          ]
        },
        {
          "name": "stdout",
          "output_type": "stream",
          "text": [
            "Segmented and saved: /content/drive/MyDrive/CCMT dataset(grab_cut)/Cashew/gumosis/gumosis384_.jpg\n"
          ]
        },
        {
          "name": "stderr",
          "output_type": "stream",
          "text": [
            "\rProcessing:  50%|████▉     | 195/392 [11:35<10:22,  3.16s/it]"
          ]
        },
        {
          "name": "stdout",
          "output_type": "stream",
          "text": [
            "Segmented and saved: /content/drive/MyDrive/CCMT dataset(grab_cut)/Cashew/gumosis/gumosis385_.jpg\n"
          ]
        },
        {
          "name": "stderr",
          "output_type": "stream",
          "text": [
            "\rProcessing:  50%|█████     | 196/392 [11:38<10:07,  3.10s/it]"
          ]
        },
        {
          "name": "stdout",
          "output_type": "stream",
          "text": [
            "Segmented and saved: /content/drive/MyDrive/CCMT dataset(grab_cut)/Cashew/gumosis/gumosis217_.jpg\n"
          ]
        },
        {
          "name": "stderr",
          "output_type": "stream",
          "text": [
            "\rProcessing:  50%|█████     | 197/392 [11:40<09:00,  2.77s/it]"
          ]
        },
        {
          "name": "stdout",
          "output_type": "stream",
          "text": [
            "Segmented and saved: /content/drive/MyDrive/CCMT dataset(grab_cut)/Cashew/gumosis/gumosis67_.jpg\n"
          ]
        },
        {
          "name": "stderr",
          "output_type": "stream",
          "text": [
            "\rProcessing:  51%|█████     | 198/392 [11:44<10:11,  3.15s/it]"
          ]
        },
        {
          "name": "stdout",
          "output_type": "stream",
          "text": [
            "Segmented and saved: /content/drive/MyDrive/CCMT dataset(grab_cut)/Cashew/gumosis/gumosis263_.jpg\n"
          ]
        },
        {
          "name": "stderr",
          "output_type": "stream",
          "text": [
            "\rProcessing:  51%|█████     | 199/392 [11:47<09:23,  2.92s/it]"
          ]
        },
        {
          "name": "stdout",
          "output_type": "stream",
          "text": [
            "Segmented and saved: /content/drive/MyDrive/CCMT dataset(grab_cut)/Cashew/gumosis/gumosis210_.jpg\n"
          ]
        },
        {
          "name": "stderr",
          "output_type": "stream",
          "text": [
            "\rProcessing:  51%|█████     | 200/392 [11:54<14:06,  4.41s/it]"
          ]
        },
        {
          "name": "stdout",
          "output_type": "stream",
          "text": [
            "Segmented and saved: /content/drive/MyDrive/CCMT dataset(grab_cut)/Cashew/gumosis/gumosis296_.jpg\n"
          ]
        },
        {
          "name": "stderr",
          "output_type": "stream",
          "text": [
            "\rProcessing:  51%|█████▏    | 201/392 [11:57<12:21,  3.88s/it]"
          ]
        },
        {
          "name": "stdout",
          "output_type": "stream",
          "text": [
            "Segmented and saved: /content/drive/MyDrive/CCMT dataset(grab_cut)/Cashew/gumosis/gumosis89_.jpg\n"
          ]
        },
        {
          "name": "stderr",
          "output_type": "stream",
          "text": [
            "\rProcessing:  52%|█████▏    | 202/392 [12:04<15:19,  4.84s/it]"
          ]
        },
        {
          "name": "stdout",
          "output_type": "stream",
          "text": [
            "Segmented and saved: /content/drive/MyDrive/CCMT dataset(grab_cut)/Cashew/gumosis/gumosis240_.jpg\n"
          ]
        },
        {
          "name": "stderr",
          "output_type": "stream",
          "text": [
            "\rProcessing:  52%|█████▏    | 203/392 [12:07<13:38,  4.33s/it]"
          ]
        },
        {
          "name": "stdout",
          "output_type": "stream",
          "text": [
            "Segmented and saved: /content/drive/MyDrive/CCMT dataset(grab_cut)/Cashew/gumosis/gumosis29_.jpg\n"
          ]
        },
        {
          "name": "stderr",
          "output_type": "stream",
          "text": [
            "\rProcessing:  52%|█████▏    | 204/392 [12:09<10:48,  3.45s/it]"
          ]
        },
        {
          "name": "stdout",
          "output_type": "stream",
          "text": [
            "Segmented and saved: /content/drive/MyDrive/CCMT dataset(grab_cut)/Cashew/gumosis/gumosis333_.jpg\n"
          ]
        },
        {
          "name": "stderr",
          "output_type": "stream",
          "text": [
            "\rProcessing:  52%|█████▏    | 205/392 [12:13<11:42,  3.76s/it]"
          ]
        },
        {
          "name": "stdout",
          "output_type": "stream",
          "text": [
            "Segmented and saved: /content/drive/MyDrive/CCMT dataset(grab_cut)/Cashew/gumosis/gumosis338_.jpg\n"
          ]
        },
        {
          "name": "stderr",
          "output_type": "stream",
          "text": [
            "\rProcessing:  53%|█████▎    | 206/392 [12:16<10:25,  3.36s/it]"
          ]
        },
        {
          "name": "stdout",
          "output_type": "stream",
          "text": [
            "Segmented and saved: /content/drive/MyDrive/CCMT dataset(grab_cut)/Cashew/gumosis/gumosis297_.jpg\n"
          ]
        },
        {
          "name": "stderr",
          "output_type": "stream",
          "text": [
            "\rProcessing:  53%|█████▎    | 207/392 [12:17<08:27,  2.74s/it]"
          ]
        },
        {
          "name": "stdout",
          "output_type": "stream",
          "text": [
            "Segmented and saved: /content/drive/MyDrive/CCMT dataset(grab_cut)/Cashew/gumosis/gumosis64_.jpg\n"
          ]
        },
        {
          "name": "stderr",
          "output_type": "stream",
          "text": [
            "\rProcessing:  53%|█████▎    | 208/392 [12:21<09:38,  3.15s/it]"
          ]
        },
        {
          "name": "stdout",
          "output_type": "stream",
          "text": [
            "Segmented and saved: /content/drive/MyDrive/CCMT dataset(grab_cut)/Cashew/gumosis/gumosis218_.jpg\n"
          ]
        },
        {
          "name": "stderr",
          "output_type": "stream",
          "text": [
            "\rProcessing:  53%|█████▎    | 209/392 [12:25<10:34,  3.47s/it]"
          ]
        },
        {
          "name": "stdout",
          "output_type": "stream",
          "text": [
            "Segmented and saved: /content/drive/MyDrive/CCMT dataset(grab_cut)/Cashew/gumosis/gumosis292_.jpg\n"
          ]
        },
        {
          "name": "stderr",
          "output_type": "stream",
          "text": [
            "\rProcessing:  54%|█████▎    | 210/392 [12:28<10:18,  3.40s/it]"
          ]
        },
        {
          "name": "stdout",
          "output_type": "stream",
          "text": [
            "Segmented and saved: /content/drive/MyDrive/CCMT dataset(grab_cut)/Cashew/gumosis/gumosis253_.jpg\n"
          ]
        },
        {
          "name": "stderr",
          "output_type": "stream",
          "text": [
            "\rProcessing:  54%|█████▍    | 211/392 [12:31<09:41,  3.21s/it]"
          ]
        },
        {
          "name": "stdout",
          "output_type": "stream",
          "text": [
            "Segmented and saved: /content/drive/MyDrive/CCMT dataset(grab_cut)/Cashew/gumosis/gumosis119_.jpg\n"
          ]
        },
        {
          "name": "stderr",
          "output_type": "stream",
          "text": [
            "\rProcessing:  54%|█████▍    | 212/392 [12:40<14:52,  4.96s/it]"
          ]
        },
        {
          "name": "stdout",
          "output_type": "stream",
          "text": [
            "Segmented and saved: /content/drive/MyDrive/CCMT dataset(grab_cut)/Cashew/gumosis/gumosis156_.jpg\n"
          ]
        },
        {
          "name": "stderr",
          "output_type": "stream",
          "text": [
            "\rProcessing:  54%|█████▍    | 213/392 [12:42<11:49,  3.96s/it]"
          ]
        },
        {
          "name": "stdout",
          "output_type": "stream",
          "text": [
            "Segmented and saved: /content/drive/MyDrive/CCMT dataset(grab_cut)/Cashew/gumosis/gumosis103_.jpg\n"
          ]
        },
        {
          "name": "stderr",
          "output_type": "stream",
          "text": [
            "\rProcessing:  55%|█████▍    | 214/392 [12:43<09:32,  3.22s/it]"
          ]
        },
        {
          "name": "stdout",
          "output_type": "stream",
          "text": [
            "Segmented and saved: /content/drive/MyDrive/CCMT dataset(grab_cut)/Cashew/gumosis/gumosis106_.jpg\n"
          ]
        },
        {
          "name": "stderr",
          "output_type": "stream",
          "text": [
            "\rProcessing:  55%|█████▍    | 215/392 [12:46<08:53,  3.02s/it]"
          ]
        },
        {
          "name": "stdout",
          "output_type": "stream",
          "text": [
            "Segmented and saved: /content/drive/MyDrive/CCMT dataset(grab_cut)/Cashew/gumosis/gumosis87_.jpg\n"
          ]
        },
        {
          "name": "stderr",
          "output_type": "stream",
          "text": [
            "\rProcessing:  55%|█████▌    | 216/392 [12:50<09:28,  3.23s/it]"
          ]
        },
        {
          "name": "stdout",
          "output_type": "stream",
          "text": [
            "Segmented and saved: /content/drive/MyDrive/CCMT dataset(grab_cut)/Cashew/gumosis/gumosis132_.jpg\n"
          ]
        },
        {
          "name": "stderr",
          "output_type": "stream",
          "text": [
            "\rProcessing:  55%|█████▌    | 217/392 [12:52<08:27,  2.90s/it]"
          ]
        },
        {
          "name": "stdout",
          "output_type": "stream",
          "text": [
            "Segmented and saved: /content/drive/MyDrive/CCMT dataset(grab_cut)/Cashew/gumosis/gumosis35_.jpg\n"
          ]
        },
        {
          "name": "stderr",
          "output_type": "stream",
          "text": [
            "\rProcessing:  56%|█████▌    | 218/392 [12:56<09:21,  3.23s/it]"
          ]
        },
        {
          "name": "stdout",
          "output_type": "stream",
          "text": [
            "Segmented and saved: /content/drive/MyDrive/CCMT dataset(grab_cut)/Cashew/gumosis/gumosis284_.jpg\n"
          ]
        },
        {
          "name": "stderr",
          "output_type": "stream",
          "text": [
            "\rProcessing:  56%|█████▌    | 219/392 [12:57<07:41,  2.67s/it]"
          ]
        },
        {
          "name": "stdout",
          "output_type": "stream",
          "text": [
            "Segmented and saved: /content/drive/MyDrive/CCMT dataset(grab_cut)/Cashew/gumosis/gumosis134_.jpg\n"
          ]
        },
        {
          "name": "stderr",
          "output_type": "stream",
          "text": [
            "\rProcessing:  56%|█████▌    | 220/392 [12:58<06:21,  2.22s/it]"
          ]
        },
        {
          "name": "stdout",
          "output_type": "stream",
          "text": [
            "Segmented and saved: /content/drive/MyDrive/CCMT dataset(grab_cut)/Cashew/gumosis/gumosis319_.jpg\n"
          ]
        },
        {
          "name": "stderr",
          "output_type": "stream",
          "text": [
            "\rProcessing:  56%|█████▋    | 221/392 [13:01<06:51,  2.41s/it]"
          ]
        },
        {
          "name": "stdout",
          "output_type": "stream",
          "text": [
            "Segmented and saved: /content/drive/MyDrive/CCMT dataset(grab_cut)/Cashew/gumosis/gumosis85_.jpg\n"
          ]
        },
        {
          "name": "stderr",
          "output_type": "stream",
          "text": [
            "\rProcessing:  57%|█████▋    | 222/392 [13:04<07:27,  2.63s/it]"
          ]
        },
        {
          "name": "stdout",
          "output_type": "stream",
          "text": [
            "Segmented and saved: /content/drive/MyDrive/CCMT dataset(grab_cut)/Cashew/gumosis/gumosis180_.jpg\n"
          ]
        },
        {
          "name": "stderr",
          "output_type": "stream",
          "text": [
            "\rProcessing:  57%|█████▋    | 223/392 [13:13<12:42,  4.51s/it]"
          ]
        },
        {
          "name": "stdout",
          "output_type": "stream",
          "text": [
            "Segmented and saved: /content/drive/MyDrive/CCMT dataset(grab_cut)/Cashew/gumosis/gumosis37_.jpg\n"
          ]
        },
        {
          "name": "stderr",
          "output_type": "stream",
          "text": [
            "\rProcessing:  57%|█████▋    | 224/392 [13:20<14:10,  5.06s/it]"
          ]
        },
        {
          "name": "stdout",
          "output_type": "stream",
          "text": [
            "Segmented and saved: /content/drive/MyDrive/CCMT dataset(grab_cut)/Cashew/gumosis/gumosis179_.jpg\n"
          ]
        },
        {
          "name": "stderr",
          "output_type": "stream",
          "text": [
            "\rProcessing:  57%|█████▋    | 225/392 [13:25<14:11,  5.10s/it]"
          ]
        },
        {
          "name": "stdout",
          "output_type": "stream",
          "text": [
            "Segmented and saved: /content/drive/MyDrive/CCMT dataset(grab_cut)/Cashew/gumosis/gumosis245_.jpg\n"
          ]
        },
        {
          "name": "stderr",
          "output_type": "stream",
          "text": [
            "\rProcessing:  58%|█████▊    | 226/392 [13:29<13:39,  4.94s/it]"
          ]
        },
        {
          "name": "stdout",
          "output_type": "stream",
          "text": [
            "Segmented and saved: /content/drive/MyDrive/CCMT dataset(grab_cut)/Cashew/gumosis/gumosis161_.jpg\n"
          ]
        },
        {
          "name": "stderr",
          "output_type": "stream",
          "text": [
            "\rProcessing:  58%|█████▊    | 227/392 [13:32<11:44,  4.27s/it]"
          ]
        },
        {
          "name": "stdout",
          "output_type": "stream",
          "text": [
            "Segmented and saved: /content/drive/MyDrive/CCMT dataset(grab_cut)/Cashew/gumosis/gumosis391_.jpg\n"
          ]
        },
        {
          "name": "stderr",
          "output_type": "stream",
          "text": [
            "\rProcessing:  58%|█████▊    | 228/392 [13:41<15:10,  5.55s/it]"
          ]
        },
        {
          "name": "stdout",
          "output_type": "stream",
          "text": [
            "Segmented and saved: /content/drive/MyDrive/CCMT dataset(grab_cut)/Cashew/gumosis/gumosis349_.jpg\n"
          ]
        },
        {
          "name": "stderr",
          "output_type": "stream",
          "text": [
            "\rProcessing:  58%|█████▊    | 229/392 [13:45<13:54,  5.12s/it]"
          ]
        },
        {
          "name": "stdout",
          "output_type": "stream",
          "text": [
            "Segmented and saved: /content/drive/MyDrive/CCMT dataset(grab_cut)/Cashew/gumosis/gumosis133_.jpg\n"
          ]
        },
        {
          "name": "stderr",
          "output_type": "stream",
          "text": [
            "\rProcessing:  59%|█████▊    | 230/392 [13:50<14:05,  5.22s/it]"
          ]
        },
        {
          "name": "stdout",
          "output_type": "stream",
          "text": [
            "Segmented and saved: /content/drive/MyDrive/CCMT dataset(grab_cut)/Cashew/gumosis/gumosis198_.jpg\n"
          ]
        },
        {
          "name": "stderr",
          "output_type": "stream",
          "text": [
            "\rProcessing:  59%|█████▉    | 231/392 [13:52<10:59,  4.10s/it]"
          ]
        },
        {
          "name": "stdout",
          "output_type": "stream",
          "text": [
            "Segmented and saved: /content/drive/MyDrive/CCMT dataset(grab_cut)/Cashew/gumosis/gumosis137_.jpg\n"
          ]
        },
        {
          "name": "stderr",
          "output_type": "stream",
          "text": [
            "\rProcessing:  59%|█████▉    | 232/392 [13:58<12:31,  4.70s/it]"
          ]
        },
        {
          "name": "stdout",
          "output_type": "stream",
          "text": [
            "Segmented and saved: /content/drive/MyDrive/CCMT dataset(grab_cut)/Cashew/gumosis/gumosis268_.jpg\n"
          ]
        },
        {
          "name": "stderr",
          "output_type": "stream",
          "text": [
            "\rProcessing:  59%|█████▉    | 233/392 [14:01<11:06,  4.19s/it]"
          ]
        },
        {
          "name": "stdout",
          "output_type": "stream",
          "text": [
            "Segmented and saved: /content/drive/MyDrive/CCMT dataset(grab_cut)/Cashew/gumosis/gumosis362_.jpg\n"
          ]
        },
        {
          "name": "stderr",
          "output_type": "stream",
          "text": [
            "\rProcessing:  60%|█████▉    | 234/392 [14:04<10:35,  4.02s/it]"
          ]
        },
        {
          "name": "stdout",
          "output_type": "stream",
          "text": [
            "Segmented and saved: /content/drive/MyDrive/CCMT dataset(grab_cut)/Cashew/gumosis/gumosis377_.jpg\n"
          ]
        },
        {
          "name": "stderr",
          "output_type": "stream",
          "text": [
            "\rProcessing:  60%|█████▉    | 235/392 [14:07<09:43,  3.71s/it]"
          ]
        },
        {
          "name": "stdout",
          "output_type": "stream",
          "text": [
            "Segmented and saved: /content/drive/MyDrive/CCMT dataset(grab_cut)/Cashew/gumosis/gumosis231_.jpg\n"
          ]
        },
        {
          "name": "stderr",
          "output_type": "stream",
          "text": [
            "\rProcessing:  60%|██████    | 236/392 [14:10<09:01,  3.47s/it]"
          ]
        },
        {
          "name": "stdout",
          "output_type": "stream",
          "text": [
            "Segmented and saved: /content/drive/MyDrive/CCMT dataset(grab_cut)/Cashew/gumosis/gumosis66_.jpg\n"
          ]
        },
        {
          "name": "stderr",
          "output_type": "stream",
          "text": [
            "\rProcessing:  60%|██████    | 237/392 [14:14<09:21,  3.62s/it]"
          ]
        },
        {
          "name": "stdout",
          "output_type": "stream",
          "text": [
            "Segmented and saved: /content/drive/MyDrive/CCMT dataset(grab_cut)/Cashew/gumosis/gumosis252_.jpg\n"
          ]
        },
        {
          "name": "stderr",
          "output_type": "stream",
          "text": [
            "\rProcessing:  61%|██████    | 238/392 [14:20<10:40,  4.16s/it]"
          ]
        },
        {
          "name": "stdout",
          "output_type": "stream",
          "text": [
            "Segmented and saved: /content/drive/MyDrive/CCMT dataset(grab_cut)/Cashew/gumosis/gumosis364_.jpg\n"
          ]
        },
        {
          "name": "stderr",
          "output_type": "stream",
          "text": [
            "\rProcessing:  61%|██████    | 239/392 [14:23<10:19,  4.05s/it]"
          ]
        },
        {
          "name": "stdout",
          "output_type": "stream",
          "text": [
            "Segmented and saved: /content/drive/MyDrive/CCMT dataset(grab_cut)/Cashew/gumosis/gumosis5_.jpg\n"
          ]
        },
        {
          "name": "stderr",
          "output_type": "stream",
          "text": [
            "\rProcessing:  61%|██████    | 240/392 [14:31<12:44,  5.03s/it]"
          ]
        },
        {
          "name": "stdout",
          "output_type": "stream",
          "text": [
            "Segmented and saved: /content/drive/MyDrive/CCMT dataset(grab_cut)/Cashew/gumosis/gumosis335_.jpg\n"
          ]
        },
        {
          "name": "stderr",
          "output_type": "stream",
          "text": [
            "\rProcessing:  61%|██████▏   | 241/392 [14:35<11:51,  4.71s/it]"
          ]
        },
        {
          "name": "stdout",
          "output_type": "stream",
          "text": [
            "Segmented and saved: /content/drive/MyDrive/CCMT dataset(grab_cut)/Cashew/gumosis/gumosis331_.jpg\n"
          ]
        },
        {
          "name": "stderr",
          "output_type": "stream",
          "text": [
            "\rProcessing:  62%|██████▏   | 242/392 [14:36<09:25,  3.77s/it]"
          ]
        },
        {
          "name": "stdout",
          "output_type": "stream",
          "text": [
            "Segmented and saved: /content/drive/MyDrive/CCMT dataset(grab_cut)/Cashew/gumosis/gumosis88_.jpg\n"
          ]
        },
        {
          "name": "stderr",
          "output_type": "stream",
          "text": [
            "\rProcessing:  62%|██████▏   | 243/392 [14:42<10:53,  4.38s/it]"
          ]
        },
        {
          "name": "stdout",
          "output_type": "stream",
          "text": [
            "Segmented and saved: /content/drive/MyDrive/CCMT dataset(grab_cut)/Cashew/gumosis/gumosis356_.jpg\n"
          ]
        },
        {
          "name": "stderr",
          "output_type": "stream",
          "text": [
            "\rProcessing:  62%|██████▏   | 244/392 [14:44<08:43,  3.54s/it]"
          ]
        },
        {
          "name": "stdout",
          "output_type": "stream",
          "text": [
            "Segmented and saved: /content/drive/MyDrive/CCMT dataset(grab_cut)/Cashew/gumosis/gumosis117_.jpg\n"
          ]
        },
        {
          "name": "stderr",
          "output_type": "stream",
          "text": [
            "\rProcessing:  62%|██████▎   | 245/392 [14:45<07:22,  3.01s/it]"
          ]
        },
        {
          "name": "stdout",
          "output_type": "stream",
          "text": [
            "Segmented and saved: /content/drive/MyDrive/CCMT dataset(grab_cut)/Cashew/gumosis/gumosis185_.jpg\n"
          ]
        },
        {
          "name": "stderr",
          "output_type": "stream",
          "text": [
            "\rProcessing:  63%|██████▎   | 246/392 [14:47<06:27,  2.65s/it]"
          ]
        },
        {
          "name": "stdout",
          "output_type": "stream",
          "text": [
            "Segmented and saved: /content/drive/MyDrive/CCMT dataset(grab_cut)/Cashew/gumosis/gumosis92_.jpg\n"
          ]
        },
        {
          "name": "stderr",
          "output_type": "stream",
          "text": [
            "\rProcessing:  63%|██████▎   | 247/392 [14:54<09:21,  3.87s/it]"
          ]
        },
        {
          "name": "stdout",
          "output_type": "stream",
          "text": [
            "Segmented and saved: /content/drive/MyDrive/CCMT dataset(grab_cut)/Cashew/gumosis/gumosis215_.jpg\n"
          ]
        },
        {
          "name": "stderr",
          "output_type": "stream",
          "text": [
            "\rProcessing:  63%|██████▎   | 248/392 [14:57<08:32,  3.56s/it]"
          ]
        },
        {
          "name": "stdout",
          "output_type": "stream",
          "text": [
            "Segmented and saved: /content/drive/MyDrive/CCMT dataset(grab_cut)/Cashew/gumosis/gumosis6_.jpg\n"
          ]
        },
        {
          "name": "stderr",
          "output_type": "stream",
          "text": [
            "\rProcessing:  64%|██████▎   | 249/392 [14:59<07:22,  3.09s/it]"
          ]
        },
        {
          "name": "stdout",
          "output_type": "stream",
          "text": [
            "Segmented and saved: /content/drive/MyDrive/CCMT dataset(grab_cut)/Cashew/gumosis/gumosis155_.jpg\n"
          ]
        },
        {
          "name": "stderr",
          "output_type": "stream",
          "text": [
            "\rProcessing:  64%|██████▍   | 250/392 [15:02<07:25,  3.14s/it]"
          ]
        },
        {
          "name": "stdout",
          "output_type": "stream",
          "text": [
            "Segmented and saved: /content/drive/MyDrive/CCMT dataset(grab_cut)/Cashew/gumosis/gumosis235_.jpg\n"
          ]
        },
        {
          "name": "stderr",
          "output_type": "stream",
          "text": [
            "\rProcessing:  64%|██████▍   | 251/392 [15:04<06:19,  2.69s/it]"
          ]
        },
        {
          "name": "stdout",
          "output_type": "stream",
          "text": [
            "Segmented and saved: /content/drive/MyDrive/CCMT dataset(grab_cut)/Cashew/gumosis/gumosis129_.jpg\n"
          ]
        },
        {
          "name": "stderr",
          "output_type": "stream",
          "text": [
            "\rProcessing:  64%|██████▍   | 252/392 [15:10<08:31,  3.66s/it]"
          ]
        },
        {
          "name": "stdout",
          "output_type": "stream",
          "text": [
            "Segmented and saved: /content/drive/MyDrive/CCMT dataset(grab_cut)/Cashew/gumosis/gumosis343_.jpg\n"
          ]
        },
        {
          "name": "stderr",
          "output_type": "stream",
          "text": [
            "\rProcessing:  65%|██████▍   | 253/392 [15:17<11:16,  4.87s/it]"
          ]
        },
        {
          "name": "stdout",
          "output_type": "stream",
          "text": [
            "Segmented and saved: /content/drive/MyDrive/CCMT dataset(grab_cut)/Cashew/gumosis/gumosis392_.jpg\n"
          ]
        },
        {
          "name": "stderr",
          "output_type": "stream",
          "text": [
            "\rProcessing:  65%|██████▍   | 254/392 [15:21<10:12,  4.44s/it]"
          ]
        },
        {
          "name": "stdout",
          "output_type": "stream",
          "text": [
            "Segmented and saved: /content/drive/MyDrive/CCMT dataset(grab_cut)/Cashew/gumosis/gumosis264_.jpg\n"
          ]
        },
        {
          "name": "stderr",
          "output_type": "stream",
          "text": [
            "\rProcessing:  65%|██████▌   | 255/392 [15:24<09:02,  3.96s/it]"
          ]
        },
        {
          "name": "stdout",
          "output_type": "stream",
          "text": [
            "Segmented and saved: /content/drive/MyDrive/CCMT dataset(grab_cut)/Cashew/gumosis/gumosis41_.jpg\n"
          ]
        },
        {
          "name": "stderr",
          "output_type": "stream",
          "text": [
            "\rProcessing:  65%|██████▌   | 256/392 [15:27<08:39,  3.82s/it]"
          ]
        },
        {
          "name": "stdout",
          "output_type": "stream",
          "text": [
            "Segmented and saved: /content/drive/MyDrive/CCMT dataset(grab_cut)/Cashew/gumosis/gumosis140_.jpg\n"
          ]
        },
        {
          "name": "stderr",
          "output_type": "stream",
          "text": [
            "\rProcessing:  66%|██████▌   | 257/392 [15:29<07:05,  3.15s/it]"
          ]
        },
        {
          "name": "stdout",
          "output_type": "stream",
          "text": [
            "Segmented and saved: /content/drive/MyDrive/CCMT dataset(grab_cut)/Cashew/gumosis/gumosis69_.jpg\n"
          ]
        },
        {
          "name": "stderr",
          "output_type": "stream",
          "text": [
            "\rProcessing:  66%|██████▌   | 258/392 [15:33<07:43,  3.46s/it]"
          ]
        },
        {
          "name": "stdout",
          "output_type": "stream",
          "text": [
            "Segmented and saved: /content/drive/MyDrive/CCMT dataset(grab_cut)/Cashew/gumosis/gumosis146_.jpg\n"
          ]
        },
        {
          "name": "stderr",
          "output_type": "stream",
          "text": [
            "\rProcessing:  66%|██████▌   | 259/392 [15:37<07:51,  3.54s/it]"
          ]
        },
        {
          "name": "stdout",
          "output_type": "stream",
          "text": [
            "Segmented and saved: /content/drive/MyDrive/CCMT dataset(grab_cut)/Cashew/gumosis/gumosis279_.jpg\n"
          ]
        },
        {
          "name": "stderr",
          "output_type": "stream",
          "text": [
            "\rProcessing:  66%|██████▋   | 260/392 [15:42<08:53,  4.04s/it]"
          ]
        },
        {
          "name": "stdout",
          "output_type": "stream",
          "text": [
            "Segmented and saved: /content/drive/MyDrive/CCMT dataset(grab_cut)/Cashew/gumosis/gumosis294_.jpg\n"
          ]
        },
        {
          "name": "stderr",
          "output_type": "stream",
          "text": [
            "\rProcessing:  67%|██████▋   | 261/392 [15:44<07:31,  3.45s/it]"
          ]
        },
        {
          "name": "stdout",
          "output_type": "stream",
          "text": [
            "Segmented and saved: /content/drive/MyDrive/CCMT dataset(grab_cut)/Cashew/gumosis/gumosis79_.jpg\n"
          ]
        },
        {
          "name": "stderr",
          "output_type": "stream",
          "text": [
            "\rProcessing:  67%|██████▋   | 262/392 [15:48<08:11,  3.78s/it]"
          ]
        },
        {
          "name": "stdout",
          "output_type": "stream",
          "text": [
            "Segmented and saved: /content/drive/MyDrive/CCMT dataset(grab_cut)/Cashew/gumosis/gumosis28_.jpg\n"
          ]
        },
        {
          "name": "stderr",
          "output_type": "stream",
          "text": [
            "\rProcessing:  67%|██████▋   | 263/392 [15:52<08:15,  3.84s/it]"
          ]
        },
        {
          "name": "stdout",
          "output_type": "stream",
          "text": [
            "Segmented and saved: /content/drive/MyDrive/CCMT dataset(grab_cut)/Cashew/gumosis/gumosis259_.jpg\n"
          ]
        },
        {
          "name": "stderr",
          "output_type": "stream",
          "text": [
            "\rProcessing:  67%|██████▋   | 264/392 [15:55<07:33,  3.54s/it]"
          ]
        },
        {
          "name": "stdout",
          "output_type": "stream",
          "text": [
            "Segmented and saved: /content/drive/MyDrive/CCMT dataset(grab_cut)/Cashew/gumosis/gumosis168_.jpg\n"
          ]
        },
        {
          "name": "stderr",
          "output_type": "stream",
          "text": [
            "\rProcessing:  68%|██████▊   | 265/392 [15:57<06:19,  2.99s/it]"
          ]
        },
        {
          "name": "stdout",
          "output_type": "stream",
          "text": [
            "Segmented and saved: /content/drive/MyDrive/CCMT dataset(grab_cut)/Cashew/gumosis/gumosis91_.jpg\n"
          ]
        },
        {
          "name": "stderr",
          "output_type": "stream",
          "text": [
            "\rProcessing:  68%|██████▊   | 266/392 [16:01<06:53,  3.29s/it]"
          ]
        },
        {
          "name": "stdout",
          "output_type": "stream",
          "text": [
            "Segmented and saved: /content/drive/MyDrive/CCMT dataset(grab_cut)/Cashew/gumosis/gumosis48_.jpg\n"
          ]
        },
        {
          "name": "stderr",
          "output_type": "stream",
          "text": [
            "\rProcessing:  68%|██████▊   | 267/392 [16:03<05:58,  2.87s/it]"
          ]
        },
        {
          "name": "stdout",
          "output_type": "stream",
          "text": [
            "Segmented and saved: /content/drive/MyDrive/CCMT dataset(grab_cut)/Cashew/gumosis/gumosis182_.jpg\n"
          ]
        },
        {
          "name": "stderr",
          "output_type": "stream",
          "text": [
            "\rProcessing:  68%|██████▊   | 268/392 [16:08<07:24,  3.59s/it]"
          ]
        },
        {
          "name": "stdout",
          "output_type": "stream",
          "text": [
            "Segmented and saved: /content/drive/MyDrive/CCMT dataset(grab_cut)/Cashew/gumosis/gumosis369_.jpg\n"
          ]
        },
        {
          "name": "stderr",
          "output_type": "stream",
          "text": [
            "\rProcessing:  69%|██████▊   | 269/392 [16:13<08:08,  3.98s/it]"
          ]
        },
        {
          "name": "stdout",
          "output_type": "stream",
          "text": [
            "Segmented and saved: /content/drive/MyDrive/CCMT dataset(grab_cut)/Cashew/gumosis/gumosis317_.jpg\n"
          ]
        },
        {
          "name": "stderr",
          "output_type": "stream",
          "text": [
            "\rProcessing:  69%|██████▉   | 270/392 [16:17<08:06,  3.99s/it]"
          ]
        },
        {
          "name": "stdout",
          "output_type": "stream",
          "text": [
            "Segmented and saved: /content/drive/MyDrive/CCMT dataset(grab_cut)/Cashew/gumosis/gumosis359_.jpg\n"
          ]
        },
        {
          "name": "stderr",
          "output_type": "stream",
          "text": [
            "\rProcessing:  69%|██████▉   | 271/392 [16:21<07:59,  3.96s/it]"
          ]
        },
        {
          "name": "stdout",
          "output_type": "stream",
          "text": [
            "Segmented and saved: /content/drive/MyDrive/CCMT dataset(grab_cut)/Cashew/gumosis/gumosis332_.jpg\n"
          ]
        },
        {
          "name": "stderr",
          "output_type": "stream",
          "text": [
            "\rProcessing:  69%|██████▉   | 272/392 [16:23<06:55,  3.46s/it]"
          ]
        },
        {
          "name": "stdout",
          "output_type": "stream",
          "text": [
            "Segmented and saved: /content/drive/MyDrive/CCMT dataset(grab_cut)/Cashew/gumosis/gumosis9_.jpg\n"
          ]
        },
        {
          "name": "stderr",
          "output_type": "stream",
          "text": [
            "\rProcessing:  70%|██████▉   | 273/392 [16:28<07:41,  3.88s/it]"
          ]
        },
        {
          "name": "stdout",
          "output_type": "stream",
          "text": [
            "Segmented and saved: /content/drive/MyDrive/CCMT dataset(grab_cut)/Cashew/gumosis/gumosis341_.jpg\n"
          ]
        },
        {
          "name": "stderr",
          "output_type": "stream",
          "text": [
            "\rProcessing:  70%|██████▉   | 274/392 [16:32<07:37,  3.88s/it]"
          ]
        },
        {
          "name": "stdout",
          "output_type": "stream",
          "text": [
            "Segmented and saved: /content/drive/MyDrive/CCMT dataset(grab_cut)/Cashew/gumosis/gumosis159_.jpg\n"
          ]
        },
        {
          "name": "stderr",
          "output_type": "stream",
          "text": [
            "\rProcessing:  70%|███████   | 275/392 [16:35<07:15,  3.72s/it]"
          ]
        },
        {
          "name": "stdout",
          "output_type": "stream",
          "text": [
            "Segmented and saved: /content/drive/MyDrive/CCMT dataset(grab_cut)/Cashew/gumosis/gumosis207_.jpg\n"
          ]
        },
        {
          "name": "stderr",
          "output_type": "stream",
          "text": [
            "\rProcessing:  70%|███████   | 276/392 [16:39<07:28,  3.87s/it]"
          ]
        },
        {
          "name": "stdout",
          "output_type": "stream",
          "text": [
            "Segmented and saved: /content/drive/MyDrive/CCMT dataset(grab_cut)/Cashew/gumosis/gumosis269_.jpg\n"
          ]
        },
        {
          "name": "stderr",
          "output_type": "stream",
          "text": [
            "\rProcessing:  71%|███████   | 277/392 [16:43<07:04,  3.69s/it]"
          ]
        },
        {
          "name": "stdout",
          "output_type": "stream",
          "text": [
            "Segmented and saved: /content/drive/MyDrive/CCMT dataset(grab_cut)/Cashew/gumosis/gumosis187_.jpg\n"
          ]
        },
        {
          "name": "stderr",
          "output_type": "stream",
          "text": [
            "\rProcessing:  71%|███████   | 278/392 [16:46<06:39,  3.50s/it]"
          ]
        },
        {
          "name": "stdout",
          "output_type": "stream",
          "text": [
            "Segmented and saved: /content/drive/MyDrive/CCMT dataset(grab_cut)/Cashew/gumosis/gumosis109_.jpg\n"
          ]
        },
        {
          "name": "stderr",
          "output_type": "stream",
          "text": [
            "\rProcessing:  71%|███████   | 279/392 [16:49<06:10,  3.28s/it]"
          ]
        },
        {
          "name": "stdout",
          "output_type": "stream",
          "text": [
            "Segmented and saved: /content/drive/MyDrive/CCMT dataset(grab_cut)/Cashew/gumosis/gumosis73_.jpg\n"
          ]
        },
        {
          "name": "stderr",
          "output_type": "stream",
          "text": [
            "\rProcessing:  71%|███████▏  | 280/392 [16:52<06:19,  3.39s/it]"
          ]
        },
        {
          "name": "stdout",
          "output_type": "stream",
          "text": [
            "Segmented and saved: /content/drive/MyDrive/CCMT dataset(grab_cut)/Cashew/gumosis/gumosis329_.jpg\n"
          ]
        },
        {
          "name": "stderr",
          "output_type": "stream",
          "text": [
            "\rProcessing:  72%|███████▏  | 281/392 [16:54<05:38,  3.05s/it]"
          ]
        },
        {
          "name": "stdout",
          "output_type": "stream",
          "text": [
            "Segmented and saved: /content/drive/MyDrive/CCMT dataset(grab_cut)/Cashew/gumosis/gumosis247_.jpg\n"
          ]
        },
        {
          "name": "stderr",
          "output_type": "stream",
          "text": [
            "\rProcessing:  72%|███████▏  | 282/392 [16:58<05:39,  3.09s/it]"
          ]
        },
        {
          "name": "stdout",
          "output_type": "stream",
          "text": [
            "Segmented and saved: /content/drive/MyDrive/CCMT dataset(grab_cut)/Cashew/gumosis/gumosis287_.jpg\n"
          ]
        },
        {
          "name": "stderr",
          "output_type": "stream",
          "text": [
            "\rProcessing:  72%|███████▏  | 283/392 [17:03<06:41,  3.68s/it]"
          ]
        },
        {
          "name": "stdout",
          "output_type": "stream",
          "text": [
            "Segmented and saved: /content/drive/MyDrive/CCMT dataset(grab_cut)/Cashew/gumosis/gumosis160_.jpg\n"
          ]
        },
        {
          "name": "stderr",
          "output_type": "stream",
          "text": [
            "\rProcessing:  72%|███████▏  | 284/392 [17:04<05:26,  3.02s/it]"
          ]
        },
        {
          "name": "stdout",
          "output_type": "stream",
          "text": [
            "Segmented and saved: /content/drive/MyDrive/CCMT dataset(grab_cut)/Cashew/gumosis/gumosis81_.jpg\n"
          ]
        },
        {
          "name": "stderr",
          "output_type": "stream",
          "text": [
            "\rProcessing:  73%|███████▎  | 285/392 [17:07<05:17,  2.97s/it]"
          ]
        },
        {
          "name": "stdout",
          "output_type": "stream",
          "text": [
            "Segmented and saved: /content/drive/MyDrive/CCMT dataset(grab_cut)/Cashew/gumosis/gumosis74_.jpg\n"
          ]
        },
        {
          "name": "stderr",
          "output_type": "stream",
          "text": [
            "\rProcessing:  73%|███████▎  | 286/392 [17:09<04:57,  2.81s/it]"
          ]
        },
        {
          "name": "stdout",
          "output_type": "stream",
          "text": [
            "Segmented and saved: /content/drive/MyDrive/CCMT dataset(grab_cut)/Cashew/gumosis/gumosis352_.jpg\n"
          ]
        },
        {
          "name": "stderr",
          "output_type": "stream",
          "text": [
            "\rProcessing:  73%|███████▎  | 287/392 [17:14<05:50,  3.34s/it]"
          ]
        },
        {
          "name": "stdout",
          "output_type": "stream",
          "text": [
            "Segmented and saved: /content/drive/MyDrive/CCMT dataset(grab_cut)/Cashew/gumosis/gumosis196_.jpg\n"
          ]
        },
        {
          "name": "stderr",
          "output_type": "stream",
          "text": [
            "\rProcessing:  73%|███████▎  | 288/392 [17:16<05:07,  2.96s/it]"
          ]
        },
        {
          "name": "stdout",
          "output_type": "stream",
          "text": [
            "Segmented and saved: /content/drive/MyDrive/CCMT dataset(grab_cut)/Cashew/gumosis/gumosis34_.jpg\n"
          ]
        },
        {
          "name": "stderr",
          "output_type": "stream",
          "text": [
            "\rProcessing:  74%|███████▎  | 289/392 [17:18<04:42,  2.74s/it]"
          ]
        },
        {
          "name": "stdout",
          "output_type": "stream",
          "text": [
            "Segmented and saved: /content/drive/MyDrive/CCMT dataset(grab_cut)/Cashew/gumosis/gumosis53_.jpg\n"
          ]
        },
        {
          "name": "stderr",
          "output_type": "stream",
          "text": [
            "\rProcessing:  74%|███████▍  | 290/392 [17:22<05:10,  3.05s/it]"
          ]
        },
        {
          "name": "stdout",
          "output_type": "stream",
          "text": [
            "Segmented and saved: /content/drive/MyDrive/CCMT dataset(grab_cut)/Cashew/gumosis/gumosis379_.jpg\n"
          ]
        },
        {
          "name": "stderr",
          "output_type": "stream",
          "text": [
            "\rProcessing:  74%|███████▍  | 291/392 [17:24<04:28,  2.66s/it]"
          ]
        },
        {
          "name": "stdout",
          "output_type": "stream",
          "text": [
            "Segmented and saved: /content/drive/MyDrive/CCMT dataset(grab_cut)/Cashew/gumosis/gumosis111_.jpg\n"
          ]
        },
        {
          "name": "stderr",
          "output_type": "stream",
          "text": [
            "\rProcessing:  74%|███████▍  | 292/392 [17:26<03:57,  2.37s/it]"
          ]
        },
        {
          "name": "stdout",
          "output_type": "stream",
          "text": [
            "Segmented and saved: /content/drive/MyDrive/CCMT dataset(grab_cut)/Cashew/gumosis/gumosis183_.jpg\n"
          ]
        },
        {
          "name": "stderr",
          "output_type": "stream",
          "text": [
            "\rProcessing:  75%|███████▍  | 293/392 [17:29<04:28,  2.71s/it]"
          ]
        },
        {
          "name": "stdout",
          "output_type": "stream",
          "text": [
            "Segmented and saved: /content/drive/MyDrive/CCMT dataset(grab_cut)/Cashew/gumosis/gumosis388_.jpg\n"
          ]
        },
        {
          "name": "stderr",
          "output_type": "stream",
          "text": [
            "\rProcessing:  75%|███████▌  | 294/392 [17:33<04:48,  2.94s/it]"
          ]
        },
        {
          "name": "stdout",
          "output_type": "stream",
          "text": [
            "Segmented and saved: /content/drive/MyDrive/CCMT dataset(grab_cut)/Cashew/gumosis/gumosis95_.jpg\n"
          ]
        },
        {
          "name": "stderr",
          "output_type": "stream",
          "text": [
            "\rProcessing:  75%|███████▌  | 295/392 [17:36<04:48,  2.98s/it]"
          ]
        },
        {
          "name": "stdout",
          "output_type": "stream",
          "text": [
            "Segmented and saved: /content/drive/MyDrive/CCMT dataset(grab_cut)/Cashew/gumosis/gumosis110_.jpg\n"
          ]
        },
        {
          "name": "stderr",
          "output_type": "stream",
          "text": [
            "\rProcessing:  76%|███████▌  | 296/392 [17:38<04:21,  2.73s/it]"
          ]
        },
        {
          "name": "stdout",
          "output_type": "stream",
          "text": [
            "Segmented and saved: /content/drive/MyDrive/CCMT dataset(grab_cut)/Cashew/gumosis/gumosis306_.jpg\n"
          ]
        },
        {
          "name": "stderr",
          "output_type": "stream",
          "text": [
            "\rProcessing:  76%|███████▌  | 297/392 [17:40<03:55,  2.48s/it]"
          ]
        },
        {
          "name": "stdout",
          "output_type": "stream",
          "text": [
            "Segmented and saved: /content/drive/MyDrive/CCMT dataset(grab_cut)/Cashew/gumosis/gumosis165_.jpg\n"
          ]
        },
        {
          "name": "stderr",
          "output_type": "stream",
          "text": [
            "\rProcessing:  76%|███████▌  | 298/392 [17:43<04:06,  2.62s/it]"
          ]
        },
        {
          "name": "stdout",
          "output_type": "stream",
          "text": [
            "Segmented and saved: /content/drive/MyDrive/CCMT dataset(grab_cut)/Cashew/gumosis/gumosis272_.jpg\n"
          ]
        },
        {
          "name": "stderr",
          "output_type": "stream",
          "text": [
            "\rProcessing:  76%|███████▋  | 299/392 [17:47<05:01,  3.25s/it]"
          ]
        },
        {
          "name": "stdout",
          "output_type": "stream",
          "text": [
            "Segmented and saved: /content/drive/MyDrive/CCMT dataset(grab_cut)/Cashew/gumosis/gumosis376_.jpg\n"
          ]
        },
        {
          "name": "stderr",
          "output_type": "stream",
          "text": [
            "\rProcessing:  77%|███████▋  | 300/392 [17:53<05:59,  3.91s/it]"
          ]
        },
        {
          "name": "stdout",
          "output_type": "stream",
          "text": [
            "Segmented and saved: /content/drive/MyDrive/CCMT dataset(grab_cut)/Cashew/gumosis/gumosis178_.jpg\n"
          ]
        },
        {
          "name": "stderr",
          "output_type": "stream",
          "text": [
            "\rProcessing:  77%|███████▋  | 301/392 [17:55<05:04,  3.35s/it]"
          ]
        },
        {
          "name": "stdout",
          "output_type": "stream",
          "text": [
            "Segmented and saved: /content/drive/MyDrive/CCMT dataset(grab_cut)/Cashew/gumosis/gumosis50_.jpg\n"
          ]
        },
        {
          "name": "stderr",
          "output_type": "stream",
          "text": [
            "\rProcessing:  77%|███████▋  | 302/392 [17:59<05:36,  3.74s/it]"
          ]
        },
        {
          "name": "stdout",
          "output_type": "stream",
          "text": [
            "Segmented and saved: /content/drive/MyDrive/CCMT dataset(grab_cut)/Cashew/gumosis/gumosis54_.jpg\n"
          ]
        },
        {
          "name": "stderr",
          "output_type": "stream",
          "text": [
            "\rProcessing:  77%|███████▋  | 303/392 [18:01<04:44,  3.19s/it]"
          ]
        },
        {
          "name": "stdout",
          "output_type": "stream",
          "text": [
            "Segmented and saved: /content/drive/MyDrive/CCMT dataset(grab_cut)/Cashew/gumosis/gumosis295_.jpg\n"
          ]
        },
        {
          "name": "stderr",
          "output_type": "stream",
          "text": [
            "\rProcessing:  78%|███████▊  | 304/392 [18:03<04:10,  2.85s/it]"
          ]
        },
        {
          "name": "stdout",
          "output_type": "stream",
          "text": [
            "Segmented and saved: /content/drive/MyDrive/CCMT dataset(grab_cut)/Cashew/gumosis/gumosis291_.jpg\n"
          ]
        },
        {
          "name": "stderr",
          "output_type": "stream",
          "text": [
            "\rProcessing:  78%|███████▊  | 305/392 [18:06<04:11,  2.89s/it]"
          ]
        },
        {
          "name": "stdout",
          "output_type": "stream",
          "text": [
            "Segmented and saved: /content/drive/MyDrive/CCMT dataset(grab_cut)/Cashew/gumosis/gumosis222_.jpg\n"
          ]
        },
        {
          "name": "stderr",
          "output_type": "stream",
          "text": [
            "\rProcessing:  78%|███████▊  | 306/392 [18:12<05:07,  3.57s/it]"
          ]
        },
        {
          "name": "stdout",
          "output_type": "stream",
          "text": [
            "Segmented and saved: /content/drive/MyDrive/CCMT dataset(grab_cut)/Cashew/gumosis/gumosis216_.jpg\n"
          ]
        },
        {
          "name": "stderr",
          "output_type": "stream",
          "text": [
            "\rProcessing:  78%|███████▊  | 307/392 [18:16<05:31,  3.90s/it]"
          ]
        },
        {
          "name": "stdout",
          "output_type": "stream",
          "text": [
            "Segmented and saved: /content/drive/MyDrive/CCMT dataset(grab_cut)/Cashew/gumosis/gumosis244_.jpg\n"
          ]
        },
        {
          "name": "stderr",
          "output_type": "stream",
          "text": [
            "\rProcessing:  79%|███████▊  | 308/392 [18:19<05:03,  3.61s/it]"
          ]
        },
        {
          "name": "stdout",
          "output_type": "stream",
          "text": [
            "Segmented and saved: /content/drive/MyDrive/CCMT dataset(grab_cut)/Cashew/gumosis/gumosis76_.jpg\n"
          ]
        },
        {
          "name": "stderr",
          "output_type": "stream",
          "text": [
            "\rProcessing:  79%|███████▉  | 309/392 [18:21<04:04,  2.95s/it]"
          ]
        },
        {
          "name": "stdout",
          "output_type": "stream",
          "text": [
            "Segmented and saved: /content/drive/MyDrive/CCMT dataset(grab_cut)/Cashew/gumosis/gumosis189_.jpg\n"
          ]
        },
        {
          "name": "stderr",
          "output_type": "stream",
          "text": [
            "\rProcessing:  79%|███████▉  | 310/392 [18:23<03:55,  2.87s/it]"
          ]
        },
        {
          "name": "stdout",
          "output_type": "stream",
          "text": [
            "Segmented and saved: /content/drive/MyDrive/CCMT dataset(grab_cut)/Cashew/gumosis/gumosis174_.jpg\n"
          ]
        },
        {
          "name": "stderr",
          "output_type": "stream",
          "text": [
            "\rProcessing:  79%|███████▉  | 311/392 [18:25<03:12,  2.38s/it]"
          ]
        },
        {
          "name": "stdout",
          "output_type": "stream",
          "text": [
            "Segmented and saved: /content/drive/MyDrive/CCMT dataset(grab_cut)/Cashew/gumosis/gumosis112_.jpg\n"
          ]
        },
        {
          "name": "stderr",
          "output_type": "stream",
          "text": [
            "\rProcessing:  80%|███████▉  | 312/392 [18:27<03:13,  2.42s/it]"
          ]
        },
        {
          "name": "stdout",
          "output_type": "stream",
          "text": [
            "Segmented and saved: /content/drive/MyDrive/CCMT dataset(grab_cut)/Cashew/gumosis/gumosis230_.jpg\n"
          ]
        },
        {
          "name": "stderr",
          "output_type": "stream",
          "text": [
            "\rProcessing:  80%|███████▉  | 313/392 [18:31<03:35,  2.73s/it]"
          ]
        },
        {
          "name": "stdout",
          "output_type": "stream",
          "text": [
            "Segmented and saved: /content/drive/MyDrive/CCMT dataset(grab_cut)/Cashew/gumosis/gumosis124_.jpg\n"
          ]
        },
        {
          "name": "stderr",
          "output_type": "stream",
          "text": [
            "\rProcessing:  80%|████████  | 314/392 [18:32<03:09,  2.42s/it]"
          ]
        },
        {
          "name": "stdout",
          "output_type": "stream",
          "text": [
            "Segmented and saved: /content/drive/MyDrive/CCMT dataset(grab_cut)/Cashew/gumosis/gumosis58_.jpg\n"
          ]
        },
        {
          "name": "stderr",
          "output_type": "stream",
          "text": [
            "\rProcessing:  80%|████████  | 315/392 [18:36<03:38,  2.84s/it]"
          ]
        },
        {
          "name": "stdout",
          "output_type": "stream",
          "text": [
            "Segmented and saved: /content/drive/MyDrive/CCMT dataset(grab_cut)/Cashew/gumosis/gumosis52_.jpg\n"
          ]
        },
        {
          "name": "stderr",
          "output_type": "stream",
          "text": [
            "\rProcessing:  81%|████████  | 316/392 [18:38<03:11,  2.52s/it]"
          ]
        },
        {
          "name": "stdout",
          "output_type": "stream",
          "text": [
            "Segmented and saved: /content/drive/MyDrive/CCMT dataset(grab_cut)/Cashew/gumosis/gumosis153_.jpg\n"
          ]
        },
        {
          "name": "stderr",
          "output_type": "stream",
          "text": [
            "\rProcessing:  81%|████████  | 317/392 [18:41<03:21,  2.69s/it]"
          ]
        },
        {
          "name": "stdout",
          "output_type": "stream",
          "text": [
            "Segmented and saved: /content/drive/MyDrive/CCMT dataset(grab_cut)/Cashew/gumosis/gumosis125_.jpg\n"
          ]
        },
        {
          "name": "stderr",
          "output_type": "stream",
          "text": [
            "\rProcessing:  81%|████████  | 318/392 [18:44<03:29,  2.83s/it]"
          ]
        },
        {
          "name": "stdout",
          "output_type": "stream",
          "text": [
            "Segmented and saved: /content/drive/MyDrive/CCMT dataset(grab_cut)/Cashew/gumosis/gumosis181_.jpg\n"
          ]
        },
        {
          "name": "stderr",
          "output_type": "stream",
          "text": [
            "\rProcessing:  81%|████████▏ | 319/392 [18:47<03:39,  3.01s/it]"
          ]
        },
        {
          "name": "stdout",
          "output_type": "stream",
          "text": [
            "Segmented and saved: /content/drive/MyDrive/CCMT dataset(grab_cut)/Cashew/gumosis/gumosis350_.jpg\n"
          ]
        },
        {
          "name": "stderr",
          "output_type": "stream",
          "text": [
            "\rProcessing:  82%|████████▏ | 320/392 [18:52<04:11,  3.49s/it]"
          ]
        },
        {
          "name": "stdout",
          "output_type": "stream",
          "text": [
            "Segmented and saved: /content/drive/MyDrive/CCMT dataset(grab_cut)/Cashew/gumosis/gumosis339_.jpg\n"
          ]
        },
        {
          "name": "stderr",
          "output_type": "stream",
          "text": [
            "\rProcessing:  82%|████████▏ | 321/392 [18:56<04:07,  3.48s/it]"
          ]
        },
        {
          "name": "stdout",
          "output_type": "stream",
          "text": [
            "Segmented and saved: /content/drive/MyDrive/CCMT dataset(grab_cut)/Cashew/gumosis/gumosis122_.jpg\n"
          ]
        },
        {
          "name": "stderr",
          "output_type": "stream",
          "text": [
            "\rProcessing:  82%|████████▏ | 322/392 [18:58<03:47,  3.25s/it]"
          ]
        },
        {
          "name": "stdout",
          "output_type": "stream",
          "text": [
            "Segmented and saved: /content/drive/MyDrive/CCMT dataset(grab_cut)/Cashew/gumosis/gumosis107_.jpg\n"
          ]
        },
        {
          "name": "stderr",
          "output_type": "stream",
          "text": [
            "\rProcessing:  82%|████████▏ | 323/392 [19:01<03:25,  2.98s/it]"
          ]
        },
        {
          "name": "stdout",
          "output_type": "stream",
          "text": [
            "Segmented and saved: /content/drive/MyDrive/CCMT dataset(grab_cut)/Cashew/gumosis/gumosis82_.jpg\n"
          ]
        },
        {
          "name": "stderr",
          "output_type": "stream",
          "text": [
            "\rProcessing:  83%|████████▎ | 324/392 [19:06<04:07,  3.63s/it]"
          ]
        },
        {
          "name": "stdout",
          "output_type": "stream",
          "text": [
            "Segmented and saved: /content/drive/MyDrive/CCMT dataset(grab_cut)/Cashew/gumosis/gumosis104_.jpg\n"
          ]
        },
        {
          "name": "stderr",
          "output_type": "stream",
          "text": [
            "\rProcessing:  83%|████████▎ | 325/392 [19:08<03:42,  3.32s/it]"
          ]
        },
        {
          "name": "stdout",
          "output_type": "stream",
          "text": [
            "Segmented and saved: /content/drive/MyDrive/CCMT dataset(grab_cut)/Cashew/gumosis/gumosis250_.jpg\n"
          ]
        },
        {
          "name": "stderr",
          "output_type": "stream",
          "text": [
            "\rProcessing:  83%|████████▎ | 326/392 [19:12<03:45,  3.41s/it]"
          ]
        },
        {
          "name": "stdout",
          "output_type": "stream",
          "text": [
            "Segmented and saved: /content/drive/MyDrive/CCMT dataset(grab_cut)/Cashew/gumosis/gumosis266_.jpg\n"
          ]
        },
        {
          "name": "stderr",
          "output_type": "stream",
          "text": [
            "\rProcessing:  83%|████████▎ | 327/392 [19:18<04:26,  4.10s/it]"
          ]
        },
        {
          "name": "stdout",
          "output_type": "stream",
          "text": [
            "Segmented and saved: /content/drive/MyDrive/CCMT dataset(grab_cut)/Cashew/gumosis/gumosis242_.jpg\n"
          ]
        },
        {
          "name": "stderr",
          "output_type": "stream",
          "text": [
            "\rProcessing:  84%|████████▎ | 328/392 [19:20<03:38,  3.42s/it]"
          ]
        },
        {
          "name": "stdout",
          "output_type": "stream",
          "text": [
            "Segmented and saved: /content/drive/MyDrive/CCMT dataset(grab_cut)/Cashew/gumosis/gumosis229_.jpg\n"
          ]
        },
        {
          "name": "stderr",
          "output_type": "stream",
          "text": [
            "\rProcessing:  84%|████████▍ | 329/392 [19:23<03:46,  3.59s/it]"
          ]
        },
        {
          "name": "stdout",
          "output_type": "stream",
          "text": [
            "Segmented and saved: /content/drive/MyDrive/CCMT dataset(grab_cut)/Cashew/gumosis/gumosis280_.jpg\n"
          ]
        },
        {
          "name": "stderr",
          "output_type": "stream",
          "text": [
            "\rProcessing:  84%|████████▍ | 330/392 [19:26<03:16,  3.16s/it]"
          ]
        },
        {
          "name": "stdout",
          "output_type": "stream",
          "text": [
            "Segmented and saved: /content/drive/MyDrive/CCMT dataset(grab_cut)/Cashew/gumosis/gumosis36_.jpg\n"
          ]
        },
        {
          "name": "stderr",
          "output_type": "stream",
          "text": [
            "\rProcessing:  84%|████████▍ | 331/392 [19:28<03:00,  2.96s/it]"
          ]
        },
        {
          "name": "stdout",
          "output_type": "stream",
          "text": [
            "Segmented and saved: /content/drive/MyDrive/CCMT dataset(grab_cut)/Cashew/gumosis/gumosis68_.jpg\n"
          ]
        },
        {
          "name": "stderr",
          "output_type": "stream",
          "text": [
            "\rProcessing:  85%|████████▍ | 332/392 [19:29<02:25,  2.42s/it]"
          ]
        },
        {
          "name": "stdout",
          "output_type": "stream",
          "text": [
            "Segmented and saved: /content/drive/MyDrive/CCMT dataset(grab_cut)/Cashew/gumosis/gumosis206_.jpg\n"
          ]
        },
        {
          "name": "stderr",
          "output_type": "stream",
          "text": [
            "\rProcessing:  85%|████████▍ | 333/392 [19:31<02:04,  2.11s/it]"
          ]
        },
        {
          "name": "stdout",
          "output_type": "stream",
          "text": [
            "Segmented and saved: /content/drive/MyDrive/CCMT dataset(grab_cut)/Cashew/gumosis/gumosis15_.jpg\n"
          ]
        },
        {
          "name": "stderr",
          "output_type": "stream",
          "text": [
            "\rProcessing:  85%|████████▌ | 334/392 [19:33<02:07,  2.20s/it]"
          ]
        },
        {
          "name": "stdout",
          "output_type": "stream",
          "text": [
            "Segmented and saved: /content/drive/MyDrive/CCMT dataset(grab_cut)/Cashew/gumosis/gumosis282_.jpg\n"
          ]
        },
        {
          "name": "stderr",
          "output_type": "stream",
          "text": [
            "\rProcessing:  85%|████████▌ | 335/392 [19:35<02:08,  2.25s/it]"
          ]
        },
        {
          "name": "stdout",
          "output_type": "stream",
          "text": [
            "Segmented and saved: /content/drive/MyDrive/CCMT dataset(grab_cut)/Cashew/gumosis/gumosis31_.jpg\n"
          ]
        },
        {
          "name": "stderr",
          "output_type": "stream",
          "text": [
            "\rProcessing:  86%|████████▌ | 336/392 [19:40<02:41,  2.88s/it]"
          ]
        },
        {
          "name": "stdout",
          "output_type": "stream",
          "text": [
            "Segmented and saved: /content/drive/MyDrive/CCMT dataset(grab_cut)/Cashew/gumosis/gumosis44_.jpg\n"
          ]
        },
        {
          "name": "stderr",
          "output_type": "stream",
          "text": [
            "\rProcessing:  86%|████████▌ | 337/392 [19:42<02:26,  2.67s/it]"
          ]
        },
        {
          "name": "stdout",
          "output_type": "stream",
          "text": [
            "Segmented and saved: /content/drive/MyDrive/CCMT dataset(grab_cut)/Cashew/gumosis/gumosis220_.jpg\n"
          ]
        },
        {
          "name": "stderr",
          "output_type": "stream",
          "text": [
            "\rProcessing:  86%|████████▌ | 338/392 [19:48<03:17,  3.65s/it]"
          ]
        },
        {
          "name": "stdout",
          "output_type": "stream",
          "text": [
            "Segmented and saved: /content/drive/MyDrive/CCMT dataset(grab_cut)/Cashew/gumosis/gumosis260_.jpg\n"
          ]
        },
        {
          "name": "stderr",
          "output_type": "stream",
          "text": [
            "\rProcessing:  86%|████████▋ | 339/392 [19:53<03:36,  4.08s/it]"
          ]
        },
        {
          "name": "stdout",
          "output_type": "stream",
          "text": [
            "Segmented and saved: /content/drive/MyDrive/CCMT dataset(grab_cut)/Cashew/gumosis/gumosis221_.jpg\n"
          ]
        },
        {
          "name": "stderr",
          "output_type": "stream",
          "text": [
            "\rProcessing:  87%|████████▋ | 340/392 [19:54<02:49,  3.26s/it]"
          ]
        },
        {
          "name": "stdout",
          "output_type": "stream",
          "text": [
            "Segmented and saved: /content/drive/MyDrive/CCMT dataset(grab_cut)/Cashew/gumosis/gumosis237_.jpg\n"
          ]
        },
        {
          "name": "stderr",
          "output_type": "stream",
          "text": [
            "\rProcessing:  87%|████████▋ | 341/392 [19:56<02:19,  2.74s/it]"
          ]
        },
        {
          "name": "stdout",
          "output_type": "stream",
          "text": [
            "Segmented and saved: /content/drive/MyDrive/CCMT dataset(grab_cut)/Cashew/gumosis/gumosis148_.jpg\n"
          ]
        },
        {
          "name": "stderr",
          "output_type": "stream",
          "text": [
            "\rProcessing:  87%|████████▋ | 342/392 [19:59<02:18,  2.77s/it]"
          ]
        },
        {
          "name": "stdout",
          "output_type": "stream",
          "text": [
            "Segmented and saved: /content/drive/MyDrive/CCMT dataset(grab_cut)/Cashew/gumosis/gumosis194_.jpg\n"
          ]
        },
        {
          "name": "stderr",
          "output_type": "stream",
          "text": [
            "\rProcessing:  88%|████████▊ | 343/392 [20:00<01:59,  2.45s/it]"
          ]
        },
        {
          "name": "stdout",
          "output_type": "stream",
          "text": [
            "Segmented and saved: /content/drive/MyDrive/CCMT dataset(grab_cut)/Cashew/gumosis/gumosis323_.jpg\n"
          ]
        },
        {
          "name": "stderr",
          "output_type": "stream",
          "text": [
            "\rProcessing:  88%|████████▊ | 344/392 [20:04<02:19,  2.90s/it]"
          ]
        },
        {
          "name": "stdout",
          "output_type": "stream",
          "text": [
            "Segmented and saved: /content/drive/MyDrive/CCMT dataset(grab_cut)/Cashew/gumosis/gumosis219_.jpg\n"
          ]
        },
        {
          "name": "stderr",
          "output_type": "stream",
          "text": [
            "\rProcessing:  88%|████████▊ | 345/392 [20:06<01:58,  2.53s/it]"
          ]
        },
        {
          "name": "stdout",
          "output_type": "stream",
          "text": [
            "Segmented and saved: /content/drive/MyDrive/CCMT dataset(grab_cut)/Cashew/gumosis/gumosis254_.jpg\n"
          ]
        },
        {
          "name": "stderr",
          "output_type": "stream",
          "text": [
            "\rProcessing:  88%|████████▊ | 346/392 [20:11<02:27,  3.21s/it]"
          ]
        },
        {
          "name": "stdout",
          "output_type": "stream",
          "text": [
            "Segmented and saved: /content/drive/MyDrive/CCMT dataset(grab_cut)/Cashew/gumosis/gumosis154_.jpg\n"
          ]
        },
        {
          "name": "stderr",
          "output_type": "stream",
          "text": [
            "\rProcessing:  89%|████████▊ | 347/392 [20:16<02:53,  3.85s/it]"
          ]
        },
        {
          "name": "stdout",
          "output_type": "stream",
          "text": [
            "Segmented and saved: /content/drive/MyDrive/CCMT dataset(grab_cut)/Cashew/gumosis/gumosis11_.jpg\n"
          ]
        },
        {
          "name": "stderr",
          "output_type": "stream",
          "text": [
            "\rProcessing:  89%|████████▉ | 348/392 [20:19<02:29,  3.39s/it]"
          ]
        },
        {
          "name": "stdout",
          "output_type": "stream",
          "text": [
            "Segmented and saved: /content/drive/MyDrive/CCMT dataset(grab_cut)/Cashew/gumosis/gumosis77_.jpg\n"
          ]
        },
        {
          "name": "stderr",
          "output_type": "stream",
          "text": [
            "\rProcessing:  89%|████████▉ | 349/392 [20:22<02:26,  3.41s/it]"
          ]
        },
        {
          "name": "stdout",
          "output_type": "stream",
          "text": [
            "Segmented and saved: /content/drive/MyDrive/CCMT dataset(grab_cut)/Cashew/gumosis/gumosis152_.jpg\n"
          ]
        },
        {
          "name": "stderr",
          "output_type": "stream",
          "text": [
            "\rProcessing:  89%|████████▉ | 350/392 [20:25<02:21,  3.37s/it]"
          ]
        },
        {
          "name": "stdout",
          "output_type": "stream",
          "text": [
            "Segmented and saved: /content/drive/MyDrive/CCMT dataset(grab_cut)/Cashew/gumosis/gumosis368_.jpg\n"
          ]
        },
        {
          "name": "stderr",
          "output_type": "stream",
          "text": [
            "\rProcessing:  90%|████████▉ | 351/392 [20:27<01:53,  2.76s/it]"
          ]
        },
        {
          "name": "stdout",
          "output_type": "stream",
          "text": [
            "Segmented and saved: /content/drive/MyDrive/CCMT dataset(grab_cut)/Cashew/gumosis/gumosis387_.jpg\n"
          ]
        },
        {
          "name": "stderr",
          "output_type": "stream",
          "text": [
            "\rProcessing:  90%|████████▉ | 352/392 [20:30<01:57,  2.94s/it]"
          ]
        },
        {
          "name": "stdout",
          "output_type": "stream",
          "text": [
            "Segmented and saved: /content/drive/MyDrive/CCMT dataset(grab_cut)/Cashew/gumosis/gumosis16_.jpg\n"
          ]
        },
        {
          "name": "stderr",
          "output_type": "stream",
          "text": [
            "\rProcessing:  90%|█████████ | 353/392 [20:33<01:53,  2.91s/it]"
          ]
        },
        {
          "name": "stdout",
          "output_type": "stream",
          "text": [
            "Segmented and saved: /content/drive/MyDrive/CCMT dataset(grab_cut)/Cashew/gumosis/gumosis46_.jpg\n"
          ]
        },
        {
          "name": "stderr",
          "output_type": "stream",
          "text": [
            "\rProcessing:  90%|█████████ | 354/392 [20:36<01:52,  2.96s/it]"
          ]
        },
        {
          "name": "stdout",
          "output_type": "stream",
          "text": [
            "Segmented and saved: /content/drive/MyDrive/CCMT dataset(grab_cut)/Cashew/gumosis/gumosis327_.jpg\n"
          ]
        },
        {
          "name": "stderr",
          "output_type": "stream",
          "text": [
            "\rProcessing:  91%|█████████ | 355/392 [20:42<02:21,  3.82s/it]"
          ]
        },
        {
          "name": "stdout",
          "output_type": "stream",
          "text": [
            "Segmented and saved: /content/drive/MyDrive/CCMT dataset(grab_cut)/Cashew/gumosis/gumosis354_.jpg\n"
          ]
        },
        {
          "name": "stderr",
          "output_type": "stream",
          "text": [
            "\rProcessing:  91%|█████████ | 356/392 [20:44<02:05,  3.48s/it]"
          ]
        },
        {
          "name": "stdout",
          "output_type": "stream",
          "text": [
            "Segmented and saved: /content/drive/MyDrive/CCMT dataset(grab_cut)/Cashew/gumosis/gumosis71_.jpg\n"
          ]
        },
        {
          "name": "stderr",
          "output_type": "stream",
          "text": [
            "\rProcessing:  91%|█████████ | 357/392 [20:48<02:02,  3.51s/it]"
          ]
        },
        {
          "name": "stdout",
          "output_type": "stream",
          "text": [
            "Segmented and saved: /content/drive/MyDrive/CCMT dataset(grab_cut)/Cashew/gumosis/gumosis226_.jpg\n"
          ]
        },
        {
          "name": "stderr",
          "output_type": "stream",
          "text": [
            "\rProcessing:  91%|█████████▏| 358/392 [21:02<03:51,  6.79s/it]"
          ]
        },
        {
          "name": "stdout",
          "output_type": "stream",
          "text": [
            "Segmented and saved: /content/drive/MyDrive/CCMT dataset(grab_cut)/Cashew/gumosis/gumosis257_.jpg\n"
          ]
        },
        {
          "name": "stderr",
          "output_type": "stream",
          "text": [
            "\rProcessing:  92%|█████████▏| 359/392 [21:08<03:34,  6.49s/it]"
          ]
        },
        {
          "name": "stdout",
          "output_type": "stream",
          "text": [
            "Segmented and saved: /content/drive/MyDrive/CCMT dataset(grab_cut)/Cashew/gumosis/gumosis345_.jpg\n"
          ]
        },
        {
          "name": "stderr",
          "output_type": "stream",
          "text": [
            "\rProcessing:  92%|█████████▏| 360/392 [21:10<02:42,  5.07s/it]"
          ]
        },
        {
          "name": "stdout",
          "output_type": "stream",
          "text": [
            "Segmented and saved: /content/drive/MyDrive/CCMT dataset(grab_cut)/Cashew/gumosis/gumosis367_.jpg\n"
          ]
        },
        {
          "name": "stderr",
          "output_type": "stream",
          "text": [
            "\rProcessing:  92%|█████████▏| 361/392 [21:13<02:22,  4.61s/it]"
          ]
        },
        {
          "name": "stdout",
          "output_type": "stream",
          "text": [
            "Segmented and saved: /content/drive/MyDrive/CCMT dataset(grab_cut)/Cashew/gumosis/gumosis173_.jpg\n"
          ]
        },
        {
          "name": "stderr",
          "output_type": "stream",
          "text": [
            "\rProcessing:  92%|█████████▏| 362/392 [21:15<01:51,  3.70s/it]"
          ]
        },
        {
          "name": "stdout",
          "output_type": "stream",
          "text": [
            "Segmented and saved: /content/drive/MyDrive/CCMT dataset(grab_cut)/Cashew/gumosis/gumosis20_.jpg\n"
          ]
        },
        {
          "name": "stderr",
          "output_type": "stream",
          "text": [
            "\rProcessing:  93%|█████████▎| 363/392 [21:18<01:39,  3.43s/it]"
          ]
        },
        {
          "name": "stdout",
          "output_type": "stream",
          "text": [
            "Segmented and saved: /content/drive/MyDrive/CCMT dataset(grab_cut)/Cashew/gumosis/gumosis43_.jpg\n"
          ]
        },
        {
          "name": "stderr",
          "output_type": "stream",
          "text": [
            "\rProcessing:  93%|█████████▎| 364/392 [21:25<02:09,  4.63s/it]"
          ]
        },
        {
          "name": "stdout",
          "output_type": "stream",
          "text": [
            "Segmented and saved: /content/drive/MyDrive/CCMT dataset(grab_cut)/Cashew/gumosis/gumosis321_.jpg\n"
          ]
        },
        {
          "name": "stderr",
          "output_type": "stream",
          "text": [
            "\rProcessing:  93%|█████████▎| 365/392 [21:30<02:06,  4.67s/it]"
          ]
        },
        {
          "name": "stdout",
          "output_type": "stream",
          "text": [
            "Segmented and saved: /content/drive/MyDrive/CCMT dataset(grab_cut)/Cashew/gumosis/gumosis330_.jpg\n"
          ]
        },
        {
          "name": "stderr",
          "output_type": "stream",
          "text": [
            "\rProcessing:  93%|█████████▎| 366/392 [21:32<01:38,  3.78s/it]"
          ]
        },
        {
          "name": "stdout",
          "output_type": "stream",
          "text": [
            "Segmented and saved: /content/drive/MyDrive/CCMT dataset(grab_cut)/Cashew/gumosis/gumosis13_.jpg\n"
          ]
        },
        {
          "name": "stderr",
          "output_type": "stream",
          "text": [
            "\rProcessing:  94%|█████████▎| 367/392 [21:35<01:31,  3.65s/it]"
          ]
        },
        {
          "name": "stdout",
          "output_type": "stream",
          "text": [
            "Segmented and saved: /content/drive/MyDrive/CCMT dataset(grab_cut)/Cashew/gumosis/gumosis283_.jpg\n"
          ]
        },
        {
          "name": "stderr",
          "output_type": "stream",
          "text": [
            "\rProcessing:  94%|█████████▍| 368/392 [21:37<01:13,  3.05s/it]"
          ]
        },
        {
          "name": "stdout",
          "output_type": "stream",
          "text": [
            "Segmented and saved: /content/drive/MyDrive/CCMT dataset(grab_cut)/Cashew/gumosis/gumosis23_.jpg\n"
          ]
        },
        {
          "name": "stderr",
          "output_type": "stream",
          "text": [
            "\rProcessing:  94%|█████████▍| 369/392 [21:41<01:21,  3.53s/it]"
          ]
        },
        {
          "name": "stdout",
          "output_type": "stream",
          "text": [
            "Segmented and saved: /content/drive/MyDrive/CCMT dataset(grab_cut)/Cashew/gumosis/gumosis223_.jpg\n"
          ]
        },
        {
          "name": "stderr",
          "output_type": "stream",
          "text": [
            "\rProcessing:  94%|█████████▍| 370/392 [21:46<01:21,  3.72s/it]"
          ]
        },
        {
          "name": "stdout",
          "output_type": "stream",
          "text": [
            "Segmented and saved: /content/drive/MyDrive/CCMT dataset(grab_cut)/Cashew/gumosis/gumosis4_.jpg\n"
          ]
        },
        {
          "name": "stderr",
          "output_type": "stream",
          "text": [
            "\rProcessing:  95%|█████████▍| 371/392 [21:49<01:16,  3.63s/it]"
          ]
        },
        {
          "name": "stdout",
          "output_type": "stream",
          "text": [
            "Segmented and saved: /content/drive/MyDrive/CCMT dataset(grab_cut)/Cashew/gumosis/gumosis299_.jpg\n"
          ]
        },
        {
          "name": "stderr",
          "output_type": "stream",
          "text": [
            "\rProcessing:  95%|█████████▍| 372/392 [21:56<01:31,  4.58s/it]"
          ]
        },
        {
          "name": "stdout",
          "output_type": "stream",
          "text": [
            "Segmented and saved: /content/drive/MyDrive/CCMT dataset(grab_cut)/Cashew/gumosis/gumosis192_.jpg\n"
          ]
        },
        {
          "name": "stderr",
          "output_type": "stream",
          "text": [
            "\rProcessing:  95%|█████████▌| 373/392 [21:59<01:19,  4.18s/it]"
          ]
        },
        {
          "name": "stdout",
          "output_type": "stream",
          "text": [
            "Segmented and saved: /content/drive/MyDrive/CCMT dataset(grab_cut)/Cashew/gumosis/gumosis94_.jpg\n"
          ]
        },
        {
          "name": "stderr",
          "output_type": "stream",
          "text": [
            "\rProcessing:  95%|█████████▌| 374/392 [22:05<01:27,  4.86s/it]"
          ]
        },
        {
          "name": "stdout",
          "output_type": "stream",
          "text": [
            "Segmented and saved: /content/drive/MyDrive/CCMT dataset(grab_cut)/Cashew/gumosis/gumosis197_.jpg\n"
          ]
        },
        {
          "name": "stderr",
          "output_type": "stream",
          "text": [
            "\rProcessing:  96%|█████████▌| 375/392 [22:11<01:24,  5.00s/it]"
          ]
        },
        {
          "name": "stdout",
          "output_type": "stream",
          "text": [
            "Segmented and saved: /content/drive/MyDrive/CCMT dataset(grab_cut)/Cashew/gumosis/gumosis361_.jpg\n"
          ]
        },
        {
          "name": "stderr",
          "output_type": "stream",
          "text": [
            "\rProcessing:  96%|█████████▌| 376/392 [22:15<01:16,  4.80s/it]"
          ]
        },
        {
          "name": "stdout",
          "output_type": "stream",
          "text": [
            "Segmented and saved: /content/drive/MyDrive/CCMT dataset(grab_cut)/Cashew/gumosis/gumosis193_.jpg\n"
          ]
        },
        {
          "name": "stderr",
          "output_type": "stream",
          "text": [
            "\rProcessing:  96%|█████████▌| 377/392 [22:18<01:02,  4.20s/it]"
          ]
        },
        {
          "name": "stdout",
          "output_type": "stream",
          "text": [
            "Segmented and saved: /content/drive/MyDrive/CCMT dataset(grab_cut)/Cashew/gumosis/gumosis131_.jpg\n"
          ]
        },
        {
          "name": "stderr",
          "output_type": "stream",
          "text": [
            "\rProcessing:  96%|█████████▋| 378/392 [22:19<00:46,  3.30s/it]"
          ]
        },
        {
          "name": "stdout",
          "output_type": "stream",
          "text": [
            "Segmented and saved: /content/drive/MyDrive/CCMT dataset(grab_cut)/Cashew/gumosis/gumosis83_.jpg\n"
          ]
        },
        {
          "name": "stderr",
          "output_type": "stream",
          "text": [
            "\rProcessing:  97%|█████████▋| 379/392 [22:20<00:34,  2.67s/it]"
          ]
        },
        {
          "name": "stdout",
          "output_type": "stream",
          "text": [
            "Segmented and saved: /content/drive/MyDrive/CCMT dataset(grab_cut)/Cashew/gumosis/gumosis315_.jpg\n"
          ]
        },
        {
          "name": "stderr",
          "output_type": "stream",
          "text": [
            "\rProcessing:  97%|█████████▋| 380/392 [22:23<00:31,  2.61s/it]"
          ]
        },
        {
          "name": "stdout",
          "output_type": "stream",
          "text": [
            "Segmented and saved: /content/drive/MyDrive/CCMT dataset(grab_cut)/Cashew/gumosis/gumosis118_.jpg\n"
          ]
        },
        {
          "name": "stderr",
          "output_type": "stream",
          "text": [
            "\rProcessing:  97%|█████████▋| 381/392 [22:25<00:26,  2.39s/it]"
          ]
        },
        {
          "name": "stdout",
          "output_type": "stream",
          "text": [
            "Segmented and saved: /content/drive/MyDrive/CCMT dataset(grab_cut)/Cashew/gumosis/gumosis116_.jpg\n"
          ]
        },
        {
          "name": "stderr",
          "output_type": "stream",
          "text": [
            "\rProcessing:  97%|█████████▋| 382/392 [22:26<00:21,  2.11s/it]"
          ]
        },
        {
          "name": "stdout",
          "output_type": "stream",
          "text": [
            "Segmented and saved: /content/drive/MyDrive/CCMT dataset(grab_cut)/Cashew/gumosis/gumosis102_.jpg\n"
          ]
        },
        {
          "name": "stderr",
          "output_type": "stream",
          "text": [
            "\rProcessing:  98%|█████████▊| 383/392 [22:28<00:18,  2.07s/it]"
          ]
        },
        {
          "name": "stdout",
          "output_type": "stream",
          "text": [
            "Segmented and saved: /content/drive/MyDrive/CCMT dataset(grab_cut)/Cashew/gumosis/gumosis151_.jpg\n"
          ]
        },
        {
          "name": "stderr",
          "output_type": "stream",
          "text": [
            "\rProcessing:  98%|█████████▊| 384/392 [22:31<00:17,  2.24s/it]"
          ]
        },
        {
          "name": "stdout",
          "output_type": "stream",
          "text": [
            "Segmented and saved: /content/drive/MyDrive/CCMT dataset(grab_cut)/Cashew/gumosis/gumosis271_.jpg\n"
          ]
        },
        {
          "name": "stderr",
          "output_type": "stream",
          "text": [
            "\rProcessing:  98%|█████████▊| 385/392 [22:33<00:16,  2.36s/it]"
          ]
        },
        {
          "name": "stdout",
          "output_type": "stream",
          "text": [
            "Segmented and saved: /content/drive/MyDrive/CCMT dataset(grab_cut)/Cashew/gumosis/gumosis121_.jpg\n"
          ]
        },
        {
          "name": "stderr",
          "output_type": "stream",
          "text": [
            "\rProcessing:  98%|█████████▊| 386/392 [22:39<00:20,  3.35s/it]"
          ]
        },
        {
          "name": "stdout",
          "output_type": "stream",
          "text": [
            "Segmented and saved: /content/drive/MyDrive/CCMT dataset(grab_cut)/Cashew/gumosis/gumosis373_.jpg\n"
          ]
        },
        {
          "name": "stderr",
          "output_type": "stream",
          "text": [
            "\rProcessing:  99%|█████████▊| 387/392 [22:40<00:13,  2.77s/it]"
          ]
        },
        {
          "name": "stdout",
          "output_type": "stream",
          "text": [
            "Segmented and saved: /content/drive/MyDrive/CCMT dataset(grab_cut)/Cashew/gumosis/gumosis322_.jpg\n"
          ]
        },
        {
          "name": "stderr",
          "output_type": "stream",
          "text": [
            "\rProcessing:  99%|█████████▉| 388/392 [22:43<00:10,  2.55s/it]"
          ]
        },
        {
          "name": "stdout",
          "output_type": "stream",
          "text": [
            "Segmented and saved: /content/drive/MyDrive/CCMT dataset(grab_cut)/Cashew/gumosis/gumosis176_.jpg\n"
          ]
        },
        {
          "name": "stderr",
          "output_type": "stream",
          "text": [
            "\rProcessing:  99%|█████████▉| 389/392 [22:45<00:07,  2.40s/it]"
          ]
        },
        {
          "name": "stdout",
          "output_type": "stream",
          "text": [
            "Segmented and saved: /content/drive/MyDrive/CCMT dataset(grab_cut)/Cashew/gumosis/gumosis334_.jpg\n"
          ]
        },
        {
          "name": "stderr",
          "output_type": "stream",
          "text": [
            "\rProcessing:  99%|█████████▉| 390/392 [22:48<00:05,  2.70s/it]"
          ]
        },
        {
          "name": "stdout",
          "output_type": "stream",
          "text": [
            "Segmented and saved: /content/drive/MyDrive/CCMT dataset(grab_cut)/Cashew/gumosis/gumosis212_.jpg\n"
          ]
        },
        {
          "name": "stderr",
          "output_type": "stream",
          "text": [
            "\rProcessing: 100%|█████████▉| 391/392 [22:55<00:03,  3.97s/it]"
          ]
        },
        {
          "name": "stdout",
          "output_type": "stream",
          "text": [
            "Segmented and saved: /content/drive/MyDrive/CCMT dataset(grab_cut)/Cashew/gumosis/gumosis130_.jpg\n"
          ]
        },
        {
          "name": "stderr",
          "output_type": "stream",
          "text": [
            "Processing: 100%|██████████| 392/392 [22:57<00:00,  3.51s/it]"
          ]
        },
        {
          "name": "stdout",
          "output_type": "stream",
          "text": [
            "Segmented and saved: /content/drive/MyDrive/CCMT dataset(grab_cut)/Cashew/gumosis/gumosis281_.jpg\n",
            "Segmentation process complete.\n"
          ]
        },
        {
          "name": "stderr",
          "output_type": "stream",
          "text": [
            "\n"
          ]
        }
      ],
      "source": [
        "input_folder = \"/content/CCMT Dataset/Cashew/gumosis\"\n",
        "output_folder = \"/content/drive/MyDrive/CCMT dataset(grab_cut)/Cashew/gumosis\"\n",
        "\n",
        "# Create the output folder if it doesn't exist\n",
        "if not os.path.exists(output_folder):\n",
        "    os.makedirs(output_folder)\n",
        "\n",
        "for filename in tqdm(os.listdir(input_folder), desc=\"Processing\"):\n",
        "    # if filename.endswith((\".jpg\", \".jpeg\", \".png\")):\n",
        "        # Read the image\n",
        "        image_path = os.path.join(input_folder, filename)\n",
        "        image = cv2.imread(image_path)\n",
        "        if image is not None:\n",
        "          # Define the initial rectangle for GrabCut (you may need to adjust this)\n",
        "          # rect = (0, 0, image.shape[1], image.shape[0])\n",
        "          roi_rect = (50, 50, 300, 400)\n",
        "          # Apply GrabCut segmentation\n",
        "          segmented_image = grabcut_segmentation(image, roi_rect)\n",
        "\n",
        "          # Save the segmented image in the output folder with the same filename\n",
        "          output_filename = os.path.join(output_folder, filename)\n",
        "          cv2.imwrite(output_filename, segmented_image)\n",
        "\n",
        "          # print(f\"Segmented and saved: {output_filename}\")\n",
        "        else:\n",
        "          print(f\"Skipping file: {image_path}\")\n",
        "\n",
        "print(\"Segmentation process complete.\")"
      ]
    },
    {
      "cell_type": "code",
      "execution_count": null,
      "metadata": {
        "colab": {
          "base_uri": "https://localhost:8080/"
        },
        "id": "3BbfmdgvaVlg",
        "outputId": "2452c916-8db5-4482-b7c3-ff6d443663b2"
      },
      "outputs": [
        {
          "name": "stdout",
          "output_type": "stream",
          "text": [
            "Total images in the folder: 392\n"
          ]
        }
      ],
      "source": [
        "# Path to the folder containing images\n",
        "folder_path = \"/content/drive/MyDrive/CCMT dataset(grab_cut)/Cashew/gumosis\"\n",
        "\n",
        "# Initialize a counter variable\n",
        "image_count = 0\n",
        "\n",
        "# Iterate over each file in the folder\n",
        "for file_name in os.listdir(folder_path):\n",
        "    file_path = os.path.join(folder_path, file_name)\n",
        "\n",
        "    # Check if the file is an image\n",
        "    if file_name.endswith((\".jpg\", \".jpeg\", \".png\", \".gif\")):\n",
        "        # Increment the counter\n",
        "        image_count += 1\n",
        "\n",
        "# Print the total number of images\n",
        "print(f\"Total images in the folder: {image_count}\")"
      ]
    },
    {
      "cell_type": "code",
      "execution_count": null,
      "metadata": {
        "colab": {
          "base_uri": "https://localhost:8080/"
        },
        "id": "srLEpn_ZgII_",
        "outputId": "168578b1-8119-48d5-8f52-1f2a5fa19149"
      },
      "outputs": [
        {
          "name": "stderr",
          "output_type": "stream",
          "text": [
            "Processing: 100%|██████████| 1368/1368 [49:57<00:00,  2.19s/it]"
          ]
        },
        {
          "name": "stdout",
          "output_type": "stream",
          "text": [
            "Segmentation process complete.\n"
          ]
        },
        {
          "name": "stderr",
          "output_type": "stream",
          "text": [
            "\n"
          ]
        }
      ],
      "source": [
        "input_folder = \"/content/CCMT Dataset/Cashew/healthy\"\n",
        "output_folder = \"/content/drive/MyDrive/CCMT dataset(grab_cut)/Cashew/healthy \"\n",
        "\n",
        "# Create the output folder if it doesn't exist\n",
        "if not os.path.exists(output_folder):\n",
        "    os.makedirs(output_folder)\n",
        "\n",
        "for filename in tqdm(os.listdir(input_folder), desc=\"Processing\"):\n",
        "    # if filename.endswith((\".jpg\", \".jpeg\", \".png\")):\n",
        "        # Read the image\n",
        "        image_path = os.path.join(input_folder, filename)\n",
        "        image = cv2.imread(image_path)\n",
        "        if image is not None:\n",
        "          # Define the initial rectangle for GrabCut (you may need to adjust this)\n",
        "          # rect = (0, 0, image.shape[1], image.shape[0])\n",
        "          roi_rect = (50, 50, 300, 400)\n",
        "          # Apply GrabCut segmentation\n",
        "          segmented_image = grabcut_segmentation(image, roi_rect)\n",
        "\n",
        "          # Save the segmented image in the output folder with the same filename\n",
        "          output_filename = os.path.join(output_folder, filename)\n",
        "          cv2.imwrite(output_filename, segmented_image)\n",
        "\n",
        "          # print(f\"Segmented and saved: {output_filename}\")\n",
        "        else:\n",
        "          print(f\"Skipping file: {image_path}\")\n",
        "\n",
        "print(\"Segmentation process complete.\")"
      ]
    },
    {
      "cell_type": "code",
      "execution_count": null,
      "metadata": {
        "colab": {
          "base_uri": "https://localhost:8080/"
        },
        "id": "oAw9r6hfgVUQ",
        "outputId": "d40256da-3963-4282-cf5d-e358ba50ebb3"
      },
      "outputs": [
        {
          "name": "stdout",
          "output_type": "stream",
          "text": [
            "Total images in the folder: 1368\n"
          ]
        }
      ],
      "source": [
        "# Path to the folder containing images\n",
        "folder_path = \"/content/drive/MyDrive/CCMT dataset(grab_cut)/Cashew/healthy \"\n",
        "\n",
        "# Initialize a counter variable\n",
        "image_count = 0\n",
        "\n",
        "# Iterate over each file in the folder\n",
        "for file_name in os.listdir(folder_path):\n",
        "    file_path = os.path.join(folder_path, file_name)\n",
        "\n",
        "    # Check if the file is an image\n",
        "    if file_name.endswith((\".jpg\", \".jpeg\", \".png\", \".gif\")):\n",
        "        # Increment the counter\n",
        "        image_count += 1\n",
        "\n",
        "# Print the total number of images\n",
        "print(f\"Total images in the folder: {image_count}\")"
      ]
    },
    {
      "cell_type": "code",
      "execution_count": null,
      "metadata": {
        "colab": {
          "base_uri": "https://localhost:8080/"
        },
        "id": "yEL_9aSmt3rW",
        "outputId": "59289a38-957a-4b53-e0df-2178e554819e"
      },
      "outputs": [
        {
          "name": "stderr",
          "output_type": "stream",
          "text": [
            "Processing: 100%|██████████| 1378/1378 [1:01:30<00:00,  2.68s/it]"
          ]
        },
        {
          "name": "stdout",
          "output_type": "stream",
          "text": [
            "Segmentation process complete.\n"
          ]
        },
        {
          "name": "stderr",
          "output_type": "stream",
          "text": [
            "\n"
          ]
        }
      ],
      "source": [
        "input_folder = \"/content/CCMT Dataset/Cashew/leaf miner\"\n",
        "output_folder = \"/content/drive/MyDrive/CCMT dataset(grab_cut)/Cashew/leaf miner \"\n",
        "\n",
        "# Create the output folder if it doesn't exist\n",
        "if not os.path.exists(output_folder):\n",
        "    os.makedirs(output_folder)\n",
        "\n",
        "for filename in tqdm(os.listdir(input_folder), desc=\"Processing\"):\n",
        "    # if filename.endswith((\".jpg\", \".jpeg\", \".png\")):\n",
        "        # Read the image\n",
        "        image_path = os.path.join(input_folder, filename)\n",
        "        image = cv2.imread(image_path)\n",
        "        if image is not None:\n",
        "          # Define the initial rectangle for GrabCut (you may need to adjust this)\n",
        "          # rect = (0, 0, image.shape[1], image.shape[0])\n",
        "          roi_rect = (50, 50, 300, 400)\n",
        "          # Apply GrabCut segmentation\n",
        "          segmented_image = grabcut_segmentation(image, roi_rect)\n",
        "\n",
        "          # Save the segmented image in the output folder with the same filename\n",
        "          output_filename = os.path.join(output_folder, filename)\n",
        "          cv2.imwrite(output_filename, segmented_image)\n",
        "\n",
        "          # print(f\"Segmented and saved: {output_filename}\")\n",
        "        else:\n",
        "          print(f\"Skipping file: {image_path}\")\n",
        "\n",
        "print(\"Segmentation process complete.\")"
      ]
    },
    {
      "cell_type": "code",
      "execution_count": null,
      "metadata": {
        "colab": {
          "base_uri": "https://localhost:8080/"
        },
        "id": "_Ip9lN4au4ro",
        "outputId": "9334a6f4-d594-43fc-e516-eb4e35eb9e11"
      },
      "outputs": [
        {
          "name": "stdout",
          "output_type": "stream",
          "text": [
            "Total images in the folder: 1378\n"
          ]
        }
      ],
      "source": [
        "# Path to the folder containing images\n",
        "folder_path = \"/content/drive/MyDrive/CCMT dataset(grab_cut)/Cashew/leaf miner \"\n",
        "\n",
        "# Initialize a counter variable\n",
        "image_count = 0\n",
        "\n",
        "# Iterate over each file in the folder\n",
        "for file_name in os.listdir(folder_path):\n",
        "    file_path = os.path.join(folder_path, file_name)\n",
        "\n",
        "    # Check if the file is an image\n",
        "    if file_name.endswith((\".jpg\", \".jpeg\", \".png\", \".gif\")):\n",
        "        # Increment the counter\n",
        "        image_count += 1\n",
        "\n",
        "# Print the total number of images\n",
        "print(f\"Total images in the folder: {image_count}\")"
      ]
    },
    {
      "cell_type": "code",
      "execution_count": null,
      "metadata": {
        "colab": {
          "base_uri": "https://localhost:8080/",
          "height": 35
        },
        "id": "kFVGoxVqtBp2",
        "outputId": "3d5b02c4-3407-4456-f91d-0089c4fc6b80"
      },
      "outputs": [
        {
          "data": {
            "application/vnd.google.colaboratory.intrinsic+json": {
              "type": "string"
            },
            "text/plain": [
              "'/content/drive/My Drive/new_destination_folder_name'"
            ]
          },
          "execution_count": 15,
          "metadata": {},
          "output_type": "execute_result"
        }
      ],
      "source": [
        "import shutil\n",
        "\n",
        "# Define the source and destination paths\n",
        "source_folder = '/content/CCMT Dataset/Tomato/verticulium wilt'\n",
        "destination_folder = '/content/drive/My Drive/new_destination_folder_name'\n",
        "\n",
        "\n",
        "# Copy the folder and its contents\n",
        "shutil.copytree(source_folder, destination_folder)"
      ]
    },
    {
      "cell_type": "code",
      "execution_count": null,
      "metadata": {
        "colab": {
          "base_uri": "https://localhost:8080/"
        },
        "id": "YO1XiXb1tG05",
        "outputId": "a86bb8b8-a2c7-435b-cbe7-d7d0e060aad3"
      },
      "outputs": [
        {
          "output_type": "stream",
          "name": "stderr",
          "text": [
            "Processing: 100%|██████████| 1682/1682 [1:45:21<00:00,  3.76s/it]"
          ]
        },
        {
          "output_type": "stream",
          "name": "stdout",
          "text": [
            "Segmentation process complete.\n"
          ]
        },
        {
          "output_type": "stream",
          "name": "stderr",
          "text": [
            "\n"
          ]
        }
      ],
      "source": [
        "input_folder = \"/content/CCMT Dataset/Cashew/red rust\"\n",
        "output_folder = \"/content/drive/MyDrive/CCMT dataset(grab_cut)/Cashew/red rust\"\n",
        "\n",
        "# # Create the output folder if it doesn't exist\n",
        "# if not os.path.exists(output_folder):\n",
        "#     os.makedirs(output_folder)\n",
        "\n",
        "for filename in tqdm(os.listdir(input_folder), desc=\"Processing\"):\n",
        "    # if filename.endswith((\".jpg\", \".jpeg\", \".png\")):\n",
        "        # Read the image\n",
        "        image_path = os.path.join(input_folder, filename)\n",
        "        image = cv2.imread(image_path)\n",
        "        if image is not None:\n",
        "          # Define the initial rectangle for GrabCut (you may need to adjust this)\n",
        "          # rect = (0, 0, image.shape[1], image.shape[0])\n",
        "          roi_rect = (50, 50, 300, 400)\n",
        "          # Apply GrabCut segmentation\n",
        "          segmented_image = grabcut_segmentation(image, roi_rect)\n",
        "\n",
        "          # Save the segmented image in the output folder with the same filename\n",
        "          output_filename = os.path.join(output_folder, filename)\n",
        "          cv2.imwrite(output_filename, segmented_image)\n",
        "\n",
        "          # print(f\"Segmented and saved: {output_filename}\")\n",
        "        else:\n",
        "          print(f\"Skipping file: {image_path}\")\n",
        "\n",
        "print(\"Segmentation process complete.\")"
      ]
    },
    {
      "cell_type": "markdown",
      "source": [
        "Tomato"
      ],
      "metadata": {
        "id": "JpUaZ2l4sjVx"
      }
    },
    {
      "cell_type": "code",
      "source": [
        "input_folder = \"/content/CCMT Dataset/Tomato/healthy\"\n",
        "output_folder = \"/content/drive/MyDrive/CCMT dataset(grab_cut)/Tomato/healthy\"\n",
        "\n",
        "# # Create the output folder if it doesn't exist\n",
        "# if not os.path.exists(output_folder):\n",
        "#     os.makedirs(output_folder)\n",
        "\n",
        "for filename in tqdm(os.listdir(input_folder), desc=\"Processing\"):\n",
        "    # if filename.endswith((\".jpg\", \".jpeg\", \".png\")):\n",
        "        # Read the image\n",
        "        image_path = os.path.join(input_folder, filename)\n",
        "        image = cv2.imread(image_path)\n",
        "        if image is not None:\n",
        "          # Define the initial rectangle for GrabCut (you may need to adjust this)\n",
        "          # rect = (0, 0, image.shape[1], image.shape[0])\n",
        "          roi_rect = (50, 50, 300, 400)\n",
        "          # Apply GrabCut segmentation\n",
        "          segmented_image = grabcut_segmentation(image, roi_rect)\n",
        "\n",
        "          # Save the segmented image in the output folder with the same filename\n",
        "          output_filename = os.path.join(output_folder, filename)\n",
        "          cv2.imwrite(output_filename, segmented_image)\n",
        "\n",
        "          # print(f\"Segmented and saved: {output_filename}\")\n",
        "        else:\n",
        "          print(f\"Skipping file: {image_path}\")\n",
        "\n",
        "print(\"Segmentation process complete.\")"
      ],
      "metadata": {
        "colab": {
          "base_uri": "https://localhost:8080/"
        },
        "id": "GqPhtWiSsj_P",
        "outputId": "5762f796-3f0c-451b-9b23-52deb1db7890"
      },
      "execution_count": null,
      "outputs": [
        {
          "output_type": "stream",
          "name": "stderr",
          "text": [
            "Processing:  34%|███▍      | 161/470 [05:16<11:41,  2.27s/it]"
          ]
        },
        {
          "output_type": "stream",
          "name": "stdout",
          "text": [
            "Skipping file: /content/CCMT Dataset/Tomato/healthy/healthy77_.jpg\n"
          ]
        },
        {
          "output_type": "stream",
          "name": "stderr",
          "text": [
            "Processing:  74%|███████▍  | 350/470 [10:49<03:06,  1.56s/it]"
          ]
        },
        {
          "output_type": "stream",
          "name": "stdout",
          "text": [
            "Skipping file: /content/CCMT Dataset/Tomato/healthy/healthy443_.jpg\n"
          ]
        },
        {
          "output_type": "stream",
          "name": "stderr",
          "text": [
            "Processing: 100%|██████████| 470/470 [14:43<00:00,  1.88s/it]"
          ]
        },
        {
          "output_type": "stream",
          "name": "stdout",
          "text": [
            "Segmentation process complete.\n"
          ]
        },
        {
          "output_type": "stream",
          "name": "stderr",
          "text": [
            "\n"
          ]
        }
      ]
    },
    {
      "cell_type": "code",
      "source": [
        "input_folder = \"/content/CCMT Dataset/Tomato/leaf blight\"\n",
        "output_folder = \"/content/drive/MyDrive/CCMT dataset(grab_cut)/Tomato/leaf blight\"\n",
        "\n",
        "# # Create the output folder if it doesn't exist\n",
        "# if not os.path.exists(output_folder):\n",
        "#     os.makedirs(output_folder)\n",
        "\n",
        "for filename in tqdm(os.listdir(input_folder), desc=\"Processing\"):\n",
        "    # if filename.endswith((\".jpg\", \".jpeg\", \".png\")):\n",
        "        # Read the image\n",
        "        image_path = os.path.join(input_folder, filename)\n",
        "        image = cv2.imread(image_path)\n",
        "        if image is not None:\n",
        "          # Define the initial rectangle for GrabCut (you may need to adjust this)\n",
        "          # rect = (0, 0, image.shape[1], image.shape[0])\n",
        "          roi_rect = (50, 50, 300, 400)\n",
        "          # Apply GrabCut segmentation\n",
        "          segmented_image = grabcut_segmentation(image, roi_rect)\n",
        "\n",
        "          # Save the segmented image in the output folder with the same filename\n",
        "          output_filename = os.path.join(output_folder, filename)\n",
        "          cv2.imwrite(output_filename, segmented_image)\n",
        "\n",
        "          # print(f\"Segmented and saved: {output_filename}\")\n",
        "        else:\n",
        "          print(f\"Skipping file: {image_path}\")\n",
        "\n",
        "print(\"Segmentation process complete.\")"
      ],
      "metadata": {
        "colab": {
          "base_uri": "https://localhost:8080/"
        },
        "id": "6B25qxWtwLXw",
        "outputId": "d2424d94-45e2-4db2-aa05-118539a221fe"
      },
      "execution_count": null,
      "outputs": [
        {
          "output_type": "stream",
          "name": "stderr",
          "text": [
            "Processing:  18%|█▊        | 235/1301 [07:39<21:38,  1.22s/it]"
          ]
        },
        {
          "output_type": "stream",
          "name": "stdout",
          "text": [
            "Skipping file: /content/CCMT Dataset/Tomato/leaf blight/leaf blight645_.jpg\n"
          ]
        },
        {
          "output_type": "stream",
          "name": "stderr",
          "text": [
            "Processing:  52%|█████▏    | 678/1301 [22:35<23:04,  2.22s/it]"
          ]
        },
        {
          "output_type": "stream",
          "name": "stdout",
          "text": [
            "Skipping file: /content/CCMT Dataset/Tomato/leaf blight/leaf blight998_.jpg\n"
          ]
        },
        {
          "output_type": "stream",
          "name": "stderr",
          "text": [
            "Processing:  57%|█████▋    | 746/1301 [24:35<15:27,  1.67s/it]"
          ]
        },
        {
          "output_type": "stream",
          "name": "stdout",
          "text": [
            "Skipping file: /content/CCMT Dataset/Tomato/leaf blight/leaf blight72_.jpg\n"
          ]
        },
        {
          "output_type": "stream",
          "name": "stderr",
          "text": [
            "Processing:  58%|█████▊    | 759/1301 [24:57<17:39,  1.95s/it]"
          ]
        },
        {
          "output_type": "stream",
          "name": "stdout",
          "text": [
            "Skipping file: /content/CCMT Dataset/Tomato/leaf blight/leaf blight471_.jpg\n"
          ]
        },
        {
          "output_type": "stream",
          "name": "stderr",
          "text": [
            "Processing:  65%|██████▌   | 852/1301 [27:29<12:20,  1.65s/it]"
          ]
        },
        {
          "output_type": "stream",
          "name": "stdout",
          "text": [
            "Skipping file: /content/CCMT Dataset/Tomato/leaf blight/leaf blight814_.jpg\n"
          ]
        },
        {
          "output_type": "stream",
          "name": "stderr",
          "text": [
            "Processing:  71%|███████   | 919/1301 [29:39<14:15,  2.24s/it]"
          ]
        },
        {
          "output_type": "stream",
          "name": "stdout",
          "text": [
            "Skipping file: /content/CCMT Dataset/Tomato/leaf blight/leaf blight558_.jpg\n"
          ]
        },
        {
          "output_type": "stream",
          "name": "stderr",
          "text": [
            "Processing:  82%|████████▏ | 1066/1301 [34:43<11:57,  3.06s/it]"
          ]
        },
        {
          "output_type": "stream",
          "name": "stdout",
          "text": [
            "Skipping file: /content/CCMT Dataset/Tomato/leaf blight/leaf blight1232_.jpg\n"
          ]
        },
        {
          "output_type": "stream",
          "name": "stderr",
          "text": [
            "Processing: 100%|██████████| 1301/1301 [42:07<00:00,  1.94s/it]"
          ]
        },
        {
          "output_type": "stream",
          "name": "stdout",
          "text": [
            "Segmentation process complete.\n"
          ]
        },
        {
          "output_type": "stream",
          "name": "stderr",
          "text": [
            "\n"
          ]
        }
      ]
    },
    {
      "cell_type": "code",
      "source": [
        "input_folder = \"/content/CCMT Dataset/Tomato/leaf curl\"\n",
        "output_folder = \"/content/drive/MyDrive/CCMT dataset(grab_cut)/Tomato/leaf curl\"\n",
        "\n",
        "# # Create the output folder if it doesn't exist\n",
        "# if not os.path.exists(output_folder):\n",
        "#     os.makedirs(output_folder)\n",
        "\n",
        "for filename in tqdm(os.listdir(input_folder), desc=\"Processing\"):\n",
        "    # if filename.endswith((\".jpg\", \".jpeg\", \".png\")):\n",
        "        # Read the image\n",
        "        image_path = os.path.join(input_folder, filename)\n",
        "        image = cv2.imread(image_path)\n",
        "        if image is not None:\n",
        "          # Define the initial rectangle for GrabCut (you may need to adjust this)\n",
        "          # rect = (0, 0, image.shape[1], image.shape[0])\n",
        "          roi_rect = (50, 50, 300, 400)\n",
        "          # Apply GrabCut segmentation\n",
        "          segmented_image = grabcut_segmentation(image, roi_rect)\n",
        "\n",
        "          # Save the segmented image in the output folder with the same filename\n",
        "          output_filename = os.path.join(output_folder, filename)\n",
        "          cv2.imwrite(output_filename, segmented_image)\n",
        "\n",
        "          # print(f\"Segmented and saved: {output_filename}\")\n",
        "        else:\n",
        "          print(f\"Skipping file: {image_path}\")\n",
        "\n",
        "print(\"Segmentation process complete.\")"
      ],
      "metadata": {
        "colab": {
          "base_uri": "https://localhost:8080/"
        },
        "id": "1CmYj40Sxu-J",
        "outputId": "afb5b493-8229-434b-b3f9-1a271da95c2e"
      },
      "execution_count": null,
      "outputs": [
        {
          "output_type": "stream",
          "name": "stderr",
          "text": [
            "Processing:  11%|█         | 56/518 [02:01<19:21,  2.51s/it]"
          ]
        },
        {
          "output_type": "stream",
          "name": "stdout",
          "text": [
            "Skipping file: /content/CCMT Dataset/Tomato/leaf curl/leaf curl354_.jpg\n"
          ]
        },
        {
          "output_type": "stream",
          "name": "stderr",
          "text": [
            "Processing:  13%|█▎        | 67/518 [02:18<12:36,  1.68s/it]"
          ]
        },
        {
          "output_type": "stream",
          "name": "stdout",
          "text": [
            "Skipping file: /content/CCMT Dataset/Tomato/leaf curl/leaf curl43_.jpg\n"
          ]
        },
        {
          "output_type": "stream",
          "name": "stderr",
          "text": [
            "Processing:  40%|████      | 208/518 [07:30<09:04,  1.76s/it]"
          ]
        },
        {
          "output_type": "stream",
          "name": "stdout",
          "text": [
            "Skipping file: /content/CCMT Dataset/Tomato/leaf curl/leaf curl186_.jpg\n"
          ]
        },
        {
          "output_type": "stream",
          "name": "stderr",
          "text": [
            "Processing:  94%|█████████▍| 487/518 [18:48<01:06,  2.15s/it]"
          ]
        },
        {
          "output_type": "stream",
          "name": "stdout",
          "text": [
            "Skipping file: /content/CCMT Dataset/Tomato/leaf curl/leaf curl271_.jpg\n"
          ]
        },
        {
          "output_type": "stream",
          "name": "stderr",
          "text": [
            "Processing: 100%|██████████| 518/518 [19:49<00:00,  2.30s/it]"
          ]
        },
        {
          "output_type": "stream",
          "name": "stdout",
          "text": [
            "Segmentation process complete.\n"
          ]
        },
        {
          "output_type": "stream",
          "name": "stderr",
          "text": [
            "\n"
          ]
        }
      ]
    },
    {
      "cell_type": "code",
      "source": [
        "input_folder = \"/content/CCMT Dataset/Tomato/septoria leaf spot\"\n",
        "output_folder = \"/content/drive/MyDrive/CCMT dataset(grab_cut)/Tomato/septoria leaf spot\"\n",
        "\n",
        "# # Create the output folder if it doesn't exist\n",
        "# if not os.path.exists(output_folder):\n",
        "#     os.makedirs(output_folder)\n",
        "\n",
        "for filename in tqdm(os.listdir(input_folder), desc=\"Processing\"):\n",
        "    # if filename.endswith((\".jpg\", \".jpeg\", \".png\")):\n",
        "        # Read the image\n",
        "        image_path = os.path.join(input_folder, filename)\n",
        "        image = cv2.imread(image_path)\n",
        "        if image is not None:\n",
        "          # Define the initial rectangle for GrabCut (you may need to adjust this)\n",
        "          # rect = (0, 0, image.shape[1], image.shape[0])\n",
        "          roi_rect = (50, 50, 300, 400)\n",
        "          # Apply GrabCut segmentation\n",
        "          segmented_image = grabcut_segmentation(image, roi_rect)\n",
        "\n",
        "          # Save the segmented image in the output folder with the same filename\n",
        "          output_filename = os.path.join(output_folder, filename)\n",
        "          cv2.imwrite(output_filename, segmented_image)\n",
        "\n",
        "          # print(f\"Segmented and saved: {output_filename}\")\n",
        "        else:\n",
        "          print(f\"Skipping file: {image_path}\")\n",
        "\n",
        "print(\"Segmentation process complete.\")"
      ],
      "metadata": {
        "colab": {
          "base_uri": "https://localhost:8080/"
        },
        "id": "XsXzq1v6x4N4",
        "outputId": "11221213-6b90-4a4f-bde4-23e46da1d6ab"
      },
      "execution_count": null,
      "outputs": [
        {
          "output_type": "stream",
          "name": "stderr",
          "text": [
            "Processing: 100%|██████████| 2743/2743 [1:32:55<00:00,  2.03s/it]"
          ]
        },
        {
          "output_type": "stream",
          "name": "stdout",
          "text": [
            "Segmentation process complete.\n"
          ]
        },
        {
          "output_type": "stream",
          "name": "stderr",
          "text": [
            "\n"
          ]
        }
      ]
    },
    {
      "cell_type": "code",
      "source": [],
      "metadata": {
        "id": "rRuxY1uzx7wo"
      },
      "execution_count": null,
      "outputs": []
    }
  ],
  "metadata": {
    "colab": {
      "provenance": [],
      "mount_file_id": "1EoIPCe1LIFrYHuJ3lUq4nW6P8_RdCd9k",
      "authorship_tag": "ABX9TyMK/BPBi5RDEWKtWjXgejMN",
      "include_colab_link": true
    },
    "kernelspec": {
      "display_name": "Python 3",
      "name": "python3"
    },
    "language_info": {
      "name": "python"
    }
  },
  "nbformat": 4,
  "nbformat_minor": 0
}